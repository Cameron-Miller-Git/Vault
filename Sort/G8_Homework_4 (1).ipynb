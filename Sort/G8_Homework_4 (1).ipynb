{
 "cells": [
  {
   "cell_type": "markdown",
   "id": "f21472e8-bbd8-46d3-958d-83beb3575e60",
   "metadata": {},
   "source": [
    "# Homework 4 Regression"
   ]
  },
  {
   "cell_type": "markdown",
   "id": "3f3ce76c-6f90-463a-ae29-aeec37f848ec",
   "metadata": {},
   "source": [
    "### Derek Anderson, Justin Dygert, Cameron Miller"
   ]
  },
  {
   "cell_type": "markdown",
   "id": "761a89f1-b0d6-4e05-83f4-23f20aec7afd",
   "metadata": {
    "tags": []
   },
   "source": [
    "### Question 1: Linear regression : NYC property sales dataset"
   ]
  },
  {
   "cell_type": "code",
   "execution_count": 2,
   "id": "ddbb774c-29fb-4f9a-b7a4-7b468afffe5e",
   "metadata": {},
   "outputs": [],
   "source": [
    "import numpy as np\n",
    "import pandas as pd\n",
    "import matplotlib.pyplot as plt\n",
    "import seaborn as sns\n",
    "from sklearn.linear_model import LinearRegression  # (For machine learning approach we use sklearn package)\n",
    "import statsmodels.api as sm # (For econometrics approach we use statsmodels package)\n",
    "\n",
    "sns.set()"
   ]
  },
  {
   "cell_type": "code",
   "execution_count": 3,
   "id": "9d98e8ca-9da6-4e97-be2c-7c820f805b61",
   "metadata": {},
   "outputs": [],
   "source": [
    "rand_state= 1000"
   ]
  },
  {
   "cell_type": "markdown",
   "id": "7b25c412-fdbe-423a-85a1-99f0ed5962c3",
   "metadata": {},
   "source": [
    "1. Change the type of the feature variables as you see fit! You can use my answer key for HW2 as a reference. "
   ]
  },
  {
   "cell_type": "code",
   "execution_count": 4,
   "id": "c0224899-8b4c-47e2-a792-028787d5795c",
   "metadata": {},
   "outputs": [
    {
     "data": {
      "text/html": [
       "<div>\n",
       "<style scoped>\n",
       "    .dataframe tbody tr th:only-of-type {\n",
       "        vertical-align: middle;\n",
       "    }\n",
       "\n",
       "    .dataframe tbody tr th {\n",
       "        vertical-align: top;\n",
       "    }\n",
       "\n",
       "    .dataframe thead th {\n",
       "        text-align: right;\n",
       "    }\n",
       "</style>\n",
       "<table border=\"1\" class=\"dataframe\">\n",
       "  <thead>\n",
       "    <tr style=\"text-align: right;\">\n",
       "      <th></th>\n",
       "      <th>BOROUGH</th>\n",
       "      <th>NEIGHBORHOOD</th>\n",
       "      <th>BUILDING CLASS CATEGORY</th>\n",
       "      <th>TAX CLASS AT PRESENT</th>\n",
       "      <th>BUILDING CLASS AT PRESENT</th>\n",
       "      <th>ZIP CODE</th>\n",
       "      <th>RESIDENTIAL UNITS</th>\n",
       "      <th>COMMERCIAL UNITS</th>\n",
       "      <th>TOTAL UNITS</th>\n",
       "      <th>LAND SQUARE FEET</th>\n",
       "      <th>GROSS SQUARE FEET</th>\n",
       "      <th>YEAR BUILT</th>\n",
       "      <th>TAX CLASS AT TIME OF SALE</th>\n",
       "      <th>BUILDING CLASS AT TIME OF SALE</th>\n",
       "      <th>SALE PRICE</th>\n",
       "      <th>SALE DATE</th>\n",
       "      <th>sale_year</th>\n",
       "      <th>sale_month</th>\n",
       "    </tr>\n",
       "  </thead>\n",
       "  <tbody>\n",
       "    <tr>\n",
       "      <th>0</th>\n",
       "      <td>Manhattan</td>\n",
       "      <td>ALPHABET CITY</td>\n",
       "      <td>07 RENTALS - WALKUP APARTMENTS</td>\n",
       "      <td>2B</td>\n",
       "      <td>C4</td>\n",
       "      <td>10009</td>\n",
       "      <td>10</td>\n",
       "      <td>0</td>\n",
       "      <td>10</td>\n",
       "      <td>2272.0</td>\n",
       "      <td>6794.0</td>\n",
       "      <td>1913</td>\n",
       "      <td>2</td>\n",
       "      <td>C4</td>\n",
       "      <td>3936272.0</td>\n",
       "      <td>2016-09-23</td>\n",
       "      <td>2016</td>\n",
       "      <td>9</td>\n",
       "    </tr>\n",
       "    <tr>\n",
       "      <th>1</th>\n",
       "      <td>Manhattan</td>\n",
       "      <td>ALPHABET CITY</td>\n",
       "      <td>07 RENTALS - WALKUP APARTMENTS</td>\n",
       "      <td>2B</td>\n",
       "      <td>C4</td>\n",
       "      <td>10009</td>\n",
       "      <td>8</td>\n",
       "      <td>0</td>\n",
       "      <td>8</td>\n",
       "      <td>1750.0</td>\n",
       "      <td>4226.0</td>\n",
       "      <td>1920</td>\n",
       "      <td>2</td>\n",
       "      <td>C4</td>\n",
       "      <td>3192840.0</td>\n",
       "      <td>2016-09-23</td>\n",
       "      <td>2016</td>\n",
       "      <td>9</td>\n",
       "    </tr>\n",
       "    <tr>\n",
       "      <th>2</th>\n",
       "      <td>Manhattan</td>\n",
       "      <td>ALPHABET CITY</td>\n",
       "      <td>14 RENTALS - 4-10 UNIT</td>\n",
       "      <td>2A</td>\n",
       "      <td>S3</td>\n",
       "      <td>10009</td>\n",
       "      <td>3</td>\n",
       "      <td>1</td>\n",
       "      <td>4</td>\n",
       "      <td>1520.0</td>\n",
       "      <td>3360.0</td>\n",
       "      <td>1910</td>\n",
       "      <td>2</td>\n",
       "      <td>S3</td>\n",
       "      <td>3300000.0</td>\n",
       "      <td>2016-11-15</td>\n",
       "      <td>2016</td>\n",
       "      <td>11</td>\n",
       "    </tr>\n",
       "    <tr>\n",
       "      <th>3</th>\n",
       "      <td>Manhattan</td>\n",
       "      <td>ALPHABET CITY</td>\n",
       "      <td>22 STORE BUILDINGS</td>\n",
       "      <td>4</td>\n",
       "      <td>K4</td>\n",
       "      <td>10009</td>\n",
       "      <td>0</td>\n",
       "      <td>1</td>\n",
       "      <td>1</td>\n",
       "      <td>1218.0</td>\n",
       "      <td>3586.0</td>\n",
       "      <td>1899</td>\n",
       "      <td>4</td>\n",
       "      <td>K4</td>\n",
       "      <td>3700000.0</td>\n",
       "      <td>2016-09-28</td>\n",
       "      <td>2016</td>\n",
       "      <td>9</td>\n",
       "    </tr>\n",
       "    <tr>\n",
       "      <th>4</th>\n",
       "      <td>Manhattan</td>\n",
       "      <td>CHELSEA</td>\n",
       "      <td>07 RENTALS - WALKUP APARTMENTS</td>\n",
       "      <td>2B</td>\n",
       "      <td>C4</td>\n",
       "      <td>10011</td>\n",
       "      <td>9</td>\n",
       "      <td>0</td>\n",
       "      <td>9</td>\n",
       "      <td>1566.0</td>\n",
       "      <td>6330.0</td>\n",
       "      <td>1901</td>\n",
       "      <td>2</td>\n",
       "      <td>C4</td>\n",
       "      <td>1583840.0</td>\n",
       "      <td>2017-08-31</td>\n",
       "      <td>2017</td>\n",
       "      <td>8</td>\n",
       "    </tr>\n",
       "  </tbody>\n",
       "</table>\n",
       "</div>"
      ],
      "text/plain": [
       "     BOROUGH   NEIGHBORHOOD                      BUILDING CLASS CATEGORY  \\\n",
       "0  Manhattan  ALPHABET CITY  07 RENTALS - WALKUP APARTMENTS                \n",
       "1  Manhattan  ALPHABET CITY  07 RENTALS - WALKUP APARTMENTS                \n",
       "2  Manhattan  ALPHABET CITY  14 RENTALS - 4-10 UNIT                        \n",
       "3  Manhattan  ALPHABET CITY  22 STORE BUILDINGS                            \n",
       "4  Manhattan        CHELSEA  07 RENTALS - WALKUP APARTMENTS                \n",
       "\n",
       "  TAX CLASS AT PRESENT BUILDING CLASS AT PRESENT  ZIP CODE  RESIDENTIAL UNITS  \\\n",
       "0                   2B                        C4     10009                 10   \n",
       "1                   2B                        C4     10009                  8   \n",
       "2                   2A                        S3     10009                  3   \n",
       "3                    4                        K4     10009                  0   \n",
       "4                   2B                        C4     10011                  9   \n",
       "\n",
       "   COMMERCIAL UNITS  TOTAL UNITS  LAND SQUARE FEET  GROSS SQUARE FEET  \\\n",
       "0                 0           10            2272.0             6794.0   \n",
       "1                 0            8            1750.0             4226.0   \n",
       "2                 1            4            1520.0             3360.0   \n",
       "3                 1            1            1218.0             3586.0   \n",
       "4                 0            9            1566.0             6330.0   \n",
       "\n",
       "   YEAR BUILT  TAX CLASS AT TIME OF SALE BUILDING CLASS AT TIME OF SALE  \\\n",
       "0        1913                          2                             C4   \n",
       "1        1920                          2                             C4   \n",
       "2        1910                          2                             S3   \n",
       "3        1899                          4                             K4   \n",
       "4        1901                          2                             C4   \n",
       "\n",
       "   SALE PRICE   SALE DATE  sale_year  sale_month  \n",
       "0   3936272.0  2016-09-23       2016           9  \n",
       "1   3192840.0  2016-09-23       2016           9  \n",
       "2   3300000.0  2016-11-15       2016          11  \n",
       "3   3700000.0  2016-09-28       2016           9  \n",
       "4   1583840.0  2017-08-31       2017           8  "
      ]
     },
     "execution_count": 4,
     "metadata": {},
     "output_type": "execute_result"
    }
   ],
   "source": [
    "df = pd.read_csv('nyc-rolling-sales_clean.csv')\n",
    "df_raw = df\n",
    "df.head()"
   ]
  },
  {
   "cell_type": "code",
   "execution_count": 5,
   "id": "e13280c1-c51d-466d-9009-a8b6b93c811c",
   "metadata": {},
   "outputs": [
    {
     "name": "stdout",
     "output_type": "stream",
     "text": [
      "<class 'pandas.core.frame.DataFrame'>\n",
      "RangeIndex: 30236 entries, 0 to 30235\n",
      "Data columns (total 18 columns):\n",
      " #   Column                          Non-Null Count  Dtype  \n",
      "---  ------                          --------------  -----  \n",
      " 0   BOROUGH                         30236 non-null  object \n",
      " 1   NEIGHBORHOOD                    30236 non-null  object \n",
      " 2   BUILDING CLASS CATEGORY         30236 non-null  object \n",
      " 3   TAX CLASS AT PRESENT            30236 non-null  object \n",
      " 4   BUILDING CLASS AT PRESENT       30236 non-null  object \n",
      " 5   ZIP CODE                        30236 non-null  int64  \n",
      " 6   RESIDENTIAL UNITS               30236 non-null  int64  \n",
      " 7   COMMERCIAL UNITS                30236 non-null  int64  \n",
      " 8   TOTAL UNITS                     30236 non-null  int64  \n",
      " 9   LAND SQUARE FEET                30236 non-null  float64\n",
      " 10  GROSS SQUARE FEET               30236 non-null  float64\n",
      " 11  YEAR BUILT                      30236 non-null  int64  \n",
      " 12  TAX CLASS AT TIME OF SALE       30236 non-null  int64  \n",
      " 13  BUILDING CLASS AT TIME OF SALE  30236 non-null  object \n",
      " 14  SALE PRICE                      30236 non-null  float64\n",
      " 15  SALE DATE                       30236 non-null  object \n",
      " 16  sale_year                       30236 non-null  int64  \n",
      " 17  sale_month                      30236 non-null  int64  \n",
      "dtypes: float64(3), int64(8), object(7)\n",
      "memory usage: 4.2+ MB\n"
     ]
    }
   ],
   "source": [
    "df.info()"
   ]
  },
  {
   "cell_type": "markdown",
   "id": "5a86a708-95f5-4ad9-ab6b-ed1727406482",
   "metadata": {},
   "source": [
    "It looks like the variables have gone back to their original types. We'll use HW2 as a reference to switch their types back."
   ]
  },
  {
   "cell_type": "code",
   "execution_count": 6,
   "id": "2647210a-6049-4cdc-83d9-8760e6d9f57e",
   "metadata": {},
   "outputs": [],
   "source": [
    "numeric = [\"RESIDENTIAL UNITS\",\"COMMERCIAL UNITS\",\"TOTAL UNITS\", \"LAND SQUARE FEET\" , \"GROSS SQUARE FEET\",\n",
    "           \"SALE PRICE\" ]\n",
    "\n",
    "for col in numeric: \n",
    "    df[col] = pd.to_numeric(df[col], errors='coerce')\n",
    "\n",
    "categorical = [\"BOROUGH\",\"NEIGHBORHOOD\",'BUILDING CLASS CATEGORY', 'TAX CLASS AT PRESENT', \n",
    "               'BUILDING CLASS AT PRESENT','ZIP CODE', 'YEAR BUILT', 'BUILDING CLASS AT TIME OF SALE', \n",
    "               'TAX CLASS AT TIME OF SALE', 'sale_year', 'sale_month']\n",
    "\n",
    "for col in categorical: \n",
    "    df[col] = df[col].astype(\"category\")\n",
    "    \n",
    "df['SALE DATE']= pd.to_datetime(df['SALE DATE'], errors='coerce')"
   ]
  },
  {
   "cell_type": "code",
   "execution_count": 7,
   "id": "1de3acc0-a60f-46d3-a2aa-38054fcf62a9",
   "metadata": {},
   "outputs": [
    {
     "name": "stdout",
     "output_type": "stream",
     "text": [
      "<class 'pandas.core.frame.DataFrame'>\n",
      "RangeIndex: 30236 entries, 0 to 30235\n",
      "Data columns (total 18 columns):\n",
      " #   Column                          Non-Null Count  Dtype         \n",
      "---  ------                          --------------  -----         \n",
      " 0   BOROUGH                         30236 non-null  category      \n",
      " 1   NEIGHBORHOOD                    30236 non-null  category      \n",
      " 2   BUILDING CLASS CATEGORY         30236 non-null  category      \n",
      " 3   TAX CLASS AT PRESENT            30236 non-null  category      \n",
      " 4   BUILDING CLASS AT PRESENT       30236 non-null  category      \n",
      " 5   ZIP CODE                        30236 non-null  category      \n",
      " 6   RESIDENTIAL UNITS               30236 non-null  int64         \n",
      " 7   COMMERCIAL UNITS                30236 non-null  int64         \n",
      " 8   TOTAL UNITS                     30236 non-null  int64         \n",
      " 9   LAND SQUARE FEET                30236 non-null  float64       \n",
      " 10  GROSS SQUARE FEET               30236 non-null  float64       \n",
      " 11  YEAR BUILT                      30236 non-null  category      \n",
      " 12  TAX CLASS AT TIME OF SALE       30236 non-null  category      \n",
      " 13  BUILDING CLASS AT TIME OF SALE  30236 non-null  category      \n",
      " 14  SALE PRICE                      30236 non-null  float64       \n",
      " 15  SALE DATE                       30236 non-null  datetime64[ns]\n",
      " 16  sale_year                       30236 non-null  category      \n",
      " 17  sale_month                      30236 non-null  category      \n",
      "dtypes: category(11), datetime64[ns](1), float64(3), int64(3)\n",
      "memory usage: 2.1 MB\n"
     ]
    }
   ],
   "source": [
    "df.info()"
   ]
  },
  {
   "cell_type": "markdown",
   "id": "cac4bb11-dc1e-4a7f-a286-dbbf3fd9e664",
   "metadata": {},
   "source": [
    "Thats better!"
   ]
  },
  {
   "cell_type": "markdown",
   "id": "774278ae-ab6c-45f1-9f14-52248d8a2bf4",
   "metadata": {},
   "source": [
    "2. Define your target variable as target= log(SALE PRICE) and add it to your data frame. Explain why this transformation would boost the performance of your linear model? "
   ]
  },
  {
   "cell_type": "code",
   "execution_count": 8,
   "id": "9c8286e9-2b0e-43d5-a6ec-76d4a35c1a16",
   "metadata": {},
   "outputs": [
    {
     "data": {
      "image/png": "[encoded data removed]",
      "text/plain": [
       "<Figure size 360x360 with 1 Axes>"
      ]
     },
     "metadata": {},
     "output_type": "display_data"
    },
    {
     "data": {
      "image/png": "[encoded data removed]",
      "text/plain": [
       "<Figure size 360x360 with 1 Axes>"
      ]
     },
     "metadata": {},
     "output_type": "display_data"
    }
   ],
   "source": [
    "target = np.log(df['SALE PRICE']) \n",
    "df['TARGET'] = target\n",
    "\n",
    "# distribution plot of sale price\n",
    "sns.displot(df['SALE PRICE'], kde=True, bins=50, rug=True)\n",
    "plt.show()\n",
    "\n",
    "# distribution plot of the log of sale price\n",
    "sns.displot(df['TARGET'], kde=True, bins=50, rug=True)\n",
    "plt.show()"
   ]
  },
  {
   "cell_type": "markdown",
   "id": "e55271cd-8921-4c3b-9995-5634dceeff17",
   "metadata": {},
   "source": [
    "One of the critical assumptions for OLS regression is for the errors to be normal. The histogram of Sale Price without the transformation is clearly right skewed, which is a problem because it violates a critical assumption. The distribution plot for TARGET, which is the log transformed sale price, is a lot more normal and can be used."
   ]
  },
  {
   "cell_type": "markdown",
   "id": "8009e3fd-d5e9-4cf0-9c52-7d437e6f3cf2",
   "metadata": {},
   "source": [
    "3. Define your feature space (X). You can pick as many features as possible! it's your call!"
   ]
  },
  {
   "cell_type": "markdown",
   "id": "4e5b3137-3e15-483e-a1ed-07e7abbd67c1",
   "metadata": {},
   "source": [
    "We chose to keep Zip Code, Total Units, Land Square Feet, Gross Square Feet, Year Built, and Building Class at Time of Sale. We dont want to keep redundant variables in the model, variables like Borough and Neighborhood both represent geography in a way, zip code covers that fine. All the property types describe basically the same thing, and we only care what the property was when it was sold. Year Built uses age which is good. Total units is the total commercial and residential so if we include all three we would get multicollinearity which is no good, so we chose to just keep total units. Also, square feet is jsut a real good indicator."
   ]
  },
  {
   "cell_type": "code",
   "execution_count": 9,
   "id": "0e809c1f-1ce6-416c-b8c2-23613e63d0ef",
   "metadata": {},
   "outputs": [],
   "source": [
    "feature = df.drop(columns = ['SALE PRICE', 'TARGET', 'BOROUGH', 'NEIGHBORHOOD', 'BUILDING CLASS CATEGORY', 'TAX CLASS AT PRESENT', \n",
    "               'BUILDING CLASS AT PRESENT', 'TAX CLASS AT TIME OF SALE', \n",
    "                   'sale_year', 'sale_month', 'RESIDENTIAL UNITS', 'COMMERCIAL UNITS', 'SALE DATE'], axis=1)"
   ]
  },
  {
   "cell_type": "code",
   "execution_count": 10,
   "id": "9641a807-0308-421f-878d-2e306282487b",
   "metadata": {},
   "outputs": [
    {
     "data": {
      "text/html": [
       "<div>\n",
       "<style scoped>\n",
       "    .dataframe tbody tr th:only-of-type {\n",
       "        vertical-align: middle;\n",
       "    }\n",
       "\n",
       "    .dataframe tbody tr th {\n",
       "        vertical-align: top;\n",
       "    }\n",
       "\n",
       "    .dataframe thead th {\n",
       "        text-align: right;\n",
       "    }\n",
       "</style>\n",
       "<table border=\"1\" class=\"dataframe\">\n",
       "  <thead>\n",
       "    <tr style=\"text-align: right;\">\n",
       "      <th></th>\n",
       "      <th>ZIP CODE</th>\n",
       "      <th>TOTAL UNITS</th>\n",
       "      <th>LAND SQUARE FEET</th>\n",
       "      <th>GROSS SQUARE FEET</th>\n",
       "      <th>YEAR BUILT</th>\n",
       "      <th>BUILDING CLASS AT TIME OF SALE</th>\n",
       "    </tr>\n",
       "  </thead>\n",
       "  <tbody>\n",
       "    <tr>\n",
       "      <th>0</th>\n",
       "      <td>10009</td>\n",
       "      <td>10</td>\n",
       "      <td>2272.0</td>\n",
       "      <td>6794.0</td>\n",
       "      <td>1913</td>\n",
       "      <td>C4</td>\n",
       "    </tr>\n",
       "    <tr>\n",
       "      <th>1</th>\n",
       "      <td>10009</td>\n",
       "      <td>8</td>\n",
       "      <td>1750.0</td>\n",
       "      <td>4226.0</td>\n",
       "      <td>1920</td>\n",
       "      <td>C4</td>\n",
       "    </tr>\n",
       "    <tr>\n",
       "      <th>2</th>\n",
       "      <td>10009</td>\n",
       "      <td>4</td>\n",
       "      <td>1520.0</td>\n",
       "      <td>3360.0</td>\n",
       "      <td>1910</td>\n",
       "      <td>S3</td>\n",
       "    </tr>\n",
       "    <tr>\n",
       "      <th>3</th>\n",
       "      <td>10009</td>\n",
       "      <td>1</td>\n",
       "      <td>1218.0</td>\n",
       "      <td>3586.0</td>\n",
       "      <td>1899</td>\n",
       "      <td>K4</td>\n",
       "    </tr>\n",
       "    <tr>\n",
       "      <th>4</th>\n",
       "      <td>10011</td>\n",
       "      <td>9</td>\n",
       "      <td>1566.0</td>\n",
       "      <td>6330.0</td>\n",
       "      <td>1901</td>\n",
       "      <td>C4</td>\n",
       "    </tr>\n",
       "  </tbody>\n",
       "</table>\n",
       "</div>"
      ],
      "text/plain": [
       "  ZIP CODE  TOTAL UNITS  LAND SQUARE FEET  GROSS SQUARE FEET YEAR BUILT  \\\n",
       "0    10009           10            2272.0             6794.0       1913   \n",
       "1    10009            8            1750.0             4226.0       1920   \n",
       "2    10009            4            1520.0             3360.0       1910   \n",
       "3    10009            1            1218.0             3586.0       1899   \n",
       "4    10011            9            1566.0             6330.0       1901   \n",
       "\n",
       "  BUILDING CLASS AT TIME OF SALE  \n",
       "0                             C4  \n",
       "1                             C4  \n",
       "2                             S3  \n",
       "3                             K4  \n",
       "4                             C4  "
      ]
     },
     "execution_count": 10,
     "metadata": {},
     "output_type": "execute_result"
    }
   ],
   "source": [
    "feature.head()"
   ]
  },
  {
   "cell_type": "markdown",
   "id": "82d06cbc-3f75-47cd-956b-dac6a51bcee1",
   "metadata": {},
   "source": [
    "We now only have 6 features."
   ]
  },
  {
   "cell_type": "markdown",
   "id": "4e779f5f-5128-47a6-829b-8a82f1c7965e",
   "metadata": {},
   "source": [
    "4. Use get_dummies( drop_first=True ) function from pandas package to make the categorical variables into dummy variables. How many features you have now? wow! welcome to Machine Learning. "
   ]
  },
  {
   "cell_type": "code",
   "execution_count": 11,
   "id": "d70104ab-492a-4cb2-86b2-cc14d476710d",
   "metadata": {},
   "outputs": [
    {
     "data": {
      "text/html": [
       "<div>\n",
       "<style scoped>\n",
       "    .dataframe tbody tr th:only-of-type {\n",
       "        vertical-align: middle;\n",
       "    }\n",
       "\n",
       "    .dataframe tbody tr th {\n",
       "        vertical-align: top;\n",
       "    }\n",
       "\n",
       "    .dataframe thead th {\n",
       "        text-align: right;\n",
       "    }\n",
       "</style>\n",
       "<table border=\"1\" class=\"dataframe\">\n",
       "  <thead>\n",
       "    <tr style=\"text-align: right;\">\n",
       "      <th></th>\n",
       "      <th>TOTAL UNITS</th>\n",
       "      <th>LAND SQUARE FEET</th>\n",
       "      <th>GROSS SQUARE FEET</th>\n",
       "      <th>ZIP CODE_10001</th>\n",
       "      <th>ZIP CODE_10002</th>\n",
       "      <th>ZIP CODE_10003</th>\n",
       "      <th>ZIP CODE_10005</th>\n",
       "      <th>ZIP CODE_10009</th>\n",
       "      <th>ZIP CODE_10010</th>\n",
       "      <th>ZIP CODE_10011</th>\n",
       "      <th>...</th>\n",
       "      <th>BUILDING CLASS AT TIME OF SALE_S9</th>\n",
       "      <th>BUILDING CLASS AT TIME OF SALE_V0</th>\n",
       "      <th>BUILDING CLASS AT TIME OF SALE_V1</th>\n",
       "      <th>BUILDING CLASS AT TIME OF SALE_W2</th>\n",
       "      <th>BUILDING CLASS AT TIME OF SALE_W3</th>\n",
       "      <th>BUILDING CLASS AT TIME OF SALE_W4</th>\n",
       "      <th>BUILDING CLASS AT TIME OF SALE_W8</th>\n",
       "      <th>BUILDING CLASS AT TIME OF SALE_W9</th>\n",
       "      <th>BUILDING CLASS AT TIME OF SALE_Z0</th>\n",
       "      <th>BUILDING CLASS AT TIME OF SALE_Z9</th>\n",
       "    </tr>\n",
       "  </thead>\n",
       "  <tbody>\n",
       "    <tr>\n",
       "      <th>0</th>\n",
       "      <td>10</td>\n",
       "      <td>2272.0</td>\n",
       "      <td>6794.0</td>\n",
       "      <td>0</td>\n",
       "      <td>0</td>\n",
       "      <td>0</td>\n",
       "      <td>0</td>\n",
       "      <td>1</td>\n",
       "      <td>0</td>\n",
       "      <td>0</td>\n",
       "      <td>...</td>\n",
       "      <td>0</td>\n",
       "      <td>0</td>\n",
       "      <td>0</td>\n",
       "      <td>0</td>\n",
       "      <td>0</td>\n",
       "      <td>0</td>\n",
       "      <td>0</td>\n",
       "      <td>0</td>\n",
       "      <td>0</td>\n",
       "      <td>0</td>\n",
       "    </tr>\n",
       "    <tr>\n",
       "      <th>1</th>\n",
       "      <td>8</td>\n",
       "      <td>1750.0</td>\n",
       "      <td>4226.0</td>\n",
       "      <td>0</td>\n",
       "      <td>0</td>\n",
       "      <td>0</td>\n",
       "      <td>0</td>\n",
       "      <td>1</td>\n",
       "      <td>0</td>\n",
       "      <td>0</td>\n",
       "      <td>...</td>\n",
       "      <td>0</td>\n",
       "      <td>0</td>\n",
       "      <td>0</td>\n",
       "      <td>0</td>\n",
       "      <td>0</td>\n",
       "      <td>0</td>\n",
       "      <td>0</td>\n",
       "      <td>0</td>\n",
       "      <td>0</td>\n",
       "      <td>0</td>\n",
       "    </tr>\n",
       "    <tr>\n",
       "      <th>2</th>\n",
       "      <td>4</td>\n",
       "      <td>1520.0</td>\n",
       "      <td>3360.0</td>\n",
       "      <td>0</td>\n",
       "      <td>0</td>\n",
       "      <td>0</td>\n",
       "      <td>0</td>\n",
       "      <td>1</td>\n",
       "      <td>0</td>\n",
       "      <td>0</td>\n",
       "      <td>...</td>\n",
       "      <td>0</td>\n",
       "      <td>0</td>\n",
       "      <td>0</td>\n",
       "      <td>0</td>\n",
       "      <td>0</td>\n",
       "      <td>0</td>\n",
       "      <td>0</td>\n",
       "      <td>0</td>\n",
       "      <td>0</td>\n",
       "      <td>0</td>\n",
       "    </tr>\n",
       "    <tr>\n",
       "      <th>3</th>\n",
       "      <td>1</td>\n",
       "      <td>1218.0</td>\n",
       "      <td>3586.0</td>\n",
       "      <td>0</td>\n",
       "      <td>0</td>\n",
       "      <td>0</td>\n",
       "      <td>0</td>\n",
       "      <td>1</td>\n",
       "      <td>0</td>\n",
       "      <td>0</td>\n",
       "      <td>...</td>\n",
       "      <td>0</td>\n",
       "      <td>0</td>\n",
       "      <td>0</td>\n",
       "      <td>0</td>\n",
       "      <td>0</td>\n",
       "      <td>0</td>\n",
       "      <td>0</td>\n",
       "      <td>0</td>\n",
       "      <td>0</td>\n",
       "      <td>0</td>\n",
       "    </tr>\n",
       "    <tr>\n",
       "      <th>4</th>\n",
       "      <td>9</td>\n",
       "      <td>1566.0</td>\n",
       "      <td>6330.0</td>\n",
       "      <td>0</td>\n",
       "      <td>0</td>\n",
       "      <td>0</td>\n",
       "      <td>0</td>\n",
       "      <td>0</td>\n",
       "      <td>0</td>\n",
       "      <td>1</td>\n",
       "      <td>...</td>\n",
       "      <td>0</td>\n",
       "      <td>0</td>\n",
       "      <td>0</td>\n",
       "      <td>0</td>\n",
       "      <td>0</td>\n",
       "      <td>0</td>\n",
       "      <td>0</td>\n",
       "      <td>0</td>\n",
       "      <td>0</td>\n",
       "      <td>0</td>\n",
       "    </tr>\n",
       "  </tbody>\n",
       "</table>\n",
       "<p>5 rows × 423 columns</p>\n",
       "</div>"
      ],
      "text/plain": [
       "   TOTAL UNITS  LAND SQUARE FEET  GROSS SQUARE FEET  ZIP CODE_10001  \\\n",
       "0           10            2272.0             6794.0               0   \n",
       "1            8            1750.0             4226.0               0   \n",
       "2            4            1520.0             3360.0               0   \n",
       "3            1            1218.0             3586.0               0   \n",
       "4            9            1566.0             6330.0               0   \n",
       "\n",
       "   ZIP CODE_10002  ZIP CODE_10003  ZIP CODE_10005  ZIP CODE_10009  \\\n",
       "0               0               0               0               1   \n",
       "1               0               0               0               1   \n",
       "2               0               0               0               1   \n",
       "3               0               0               0               1   \n",
       "4               0               0               0               0   \n",
       "\n",
       "   ZIP CODE_10010  ZIP CODE_10011  ...  BUILDING CLASS AT TIME OF SALE_S9  \\\n",
       "0               0               0  ...                                  0   \n",
       "1               0               0  ...                                  0   \n",
       "2               0               0  ...                                  0   \n",
       "3               0               0  ...                                  0   \n",
       "4               0               1  ...                                  0   \n",
       "\n",
       "   BUILDING CLASS AT TIME OF SALE_V0  BUILDING CLASS AT TIME OF SALE_V1  \\\n",
       "0                                  0                                  0   \n",
       "1                                  0                                  0   \n",
       "2                                  0                                  0   \n",
       "3                                  0                                  0   \n",
       "4                                  0                                  0   \n",
       "\n",
       "   BUILDING CLASS AT TIME OF SALE_W2  BUILDING CLASS AT TIME OF SALE_W3  \\\n",
       "0                                  0                                  0   \n",
       "1                                  0                                  0   \n",
       "2                                  0                                  0   \n",
       "3                                  0                                  0   \n",
       "4                                  0                                  0   \n",
       "\n",
       "   BUILDING CLASS AT TIME OF SALE_W4  BUILDING CLASS AT TIME OF SALE_W8  \\\n",
       "0                                  0                                  0   \n",
       "1                                  0                                  0   \n",
       "2                                  0                                  0   \n",
       "3                                  0                                  0   \n",
       "4                                  0                                  0   \n",
       "\n",
       "   BUILDING CLASS AT TIME OF SALE_W9  BUILDING CLASS AT TIME OF SALE_Z0  \\\n",
       "0                                  0                                  0   \n",
       "1                                  0                                  0   \n",
       "2                                  0                                  0   \n",
       "3                                  0                                  0   \n",
       "4                                  0                                  0   \n",
       "\n",
       "   BUILDING CLASS AT TIME OF SALE_Z9  \n",
       "0                                  0  \n",
       "1                                  0  \n",
       "2                                  0  \n",
       "3                                  0  \n",
       "4                                  0  \n",
       "\n",
       "[5 rows x 423 columns]"
      ]
     },
     "execution_count": 11,
     "metadata": {},
     "output_type": "execute_result"
    }
   ],
   "source": [
    "feature = pd.get_dummies(feature, drop_first = True)\n",
    "feature.head()"
   ]
  },
  {
   "cell_type": "markdown",
   "id": "062d8aac-43c8-437b-a8f1-164845a2336d",
   "metadata": {},
   "source": [
    "WOW, we have 423 features now! Thats insane."
   ]
  },
  {
   "cell_type": "markdown",
   "id": "5ba391d1-3d34-45dd-afe4-256200b2a3f3",
   "metadata": {},
   "source": [
    "5. Split the data into test (30%) and train set (70%)"
   ]
  },
  {
   "cell_type": "code",
   "execution_count": 12,
   "id": "cfb12ead-4052-4bb3-bffa-617cce76760b",
   "metadata": {},
   "outputs": [
    {
     "data": {
      "text/plain": [
       "0.8"
      ]
     },
     "execution_count": 12,
     "metadata": {},
     "output_type": "execute_result"
    }
   ],
   "source": [
    "y = df['TARGET']\n",
    "X = feature # be careful inplace= False\n",
    "\n",
    "# This is what we used to split it.\n",
    "from sklearn.model_selection import train_test_split\n",
    "X_train, X_test, y_train, y_test = train_test_split(X, y, test_size=0.2, random_state=rand_state)\n",
    "\n",
    "# checking the percentage of training set!\n",
    "np.round(len(X_train)/len(X),3)"
   ]
  },
  {
   "cell_type": "markdown",
   "id": "9f100812-0b96-4a73-a929-2710432206f3",
   "metadata": {},
   "source": [
    "This is just verifying it was split correctly."
   ]
  },
  {
   "cell_type": "code",
   "execution_count": 13,
   "id": "6fdb3a82-ee11-4e71-a5ae-d19ce141fe50",
   "metadata": {},
   "outputs": [
    {
     "data": {
      "text/html": [
       "<div>\n",
       "<style scoped>\n",
       "    .dataframe tbody tr th:only-of-type {\n",
       "        vertical-align: middle;\n",
       "    }\n",
       "\n",
       "    .dataframe tbody tr th {\n",
       "        vertical-align: top;\n",
       "    }\n",
       "\n",
       "    .dataframe thead th {\n",
       "        text-align: right;\n",
       "    }\n",
       "</style>\n",
       "<table border=\"1\" class=\"dataframe\">\n",
       "  <thead>\n",
       "    <tr style=\"text-align: right;\">\n",
       "      <th></th>\n",
       "      <th>TOTAL UNITS</th>\n",
       "      <th>LAND SQUARE FEET</th>\n",
       "      <th>GROSS SQUARE FEET</th>\n",
       "      <th>ZIP CODE_10001</th>\n",
       "      <th>ZIP CODE_10002</th>\n",
       "      <th>ZIP CODE_10003</th>\n",
       "      <th>ZIP CODE_10005</th>\n",
       "      <th>ZIP CODE_10009</th>\n",
       "      <th>ZIP CODE_10010</th>\n",
       "      <th>ZIP CODE_10011</th>\n",
       "      <th>...</th>\n",
       "      <th>BUILDING CLASS AT TIME OF SALE_S9</th>\n",
       "      <th>BUILDING CLASS AT TIME OF SALE_V0</th>\n",
       "      <th>BUILDING CLASS AT TIME OF SALE_V1</th>\n",
       "      <th>BUILDING CLASS AT TIME OF SALE_W2</th>\n",
       "      <th>BUILDING CLASS AT TIME OF SALE_W3</th>\n",
       "      <th>BUILDING CLASS AT TIME OF SALE_W4</th>\n",
       "      <th>BUILDING CLASS AT TIME OF SALE_W8</th>\n",
       "      <th>BUILDING CLASS AT TIME OF SALE_W9</th>\n",
       "      <th>BUILDING CLASS AT TIME OF SALE_Z0</th>\n",
       "      <th>BUILDING CLASS AT TIME OF SALE_Z9</th>\n",
       "    </tr>\n",
       "  </thead>\n",
       "  <tbody>\n",
       "    <tr>\n",
       "      <th>15308</th>\n",
       "      <td>2</td>\n",
       "      <td>2500.0</td>\n",
       "      <td>1024.0</td>\n",
       "      <td>0</td>\n",
       "      <td>0</td>\n",
       "      <td>0</td>\n",
       "      <td>0</td>\n",
       "      <td>0</td>\n",
       "      <td>0</td>\n",
       "      <td>0</td>\n",
       "      <td>...</td>\n",
       "      <td>0</td>\n",
       "      <td>0</td>\n",
       "      <td>0</td>\n",
       "      <td>0</td>\n",
       "      <td>0</td>\n",
       "      <td>0</td>\n",
       "      <td>0</td>\n",
       "      <td>0</td>\n",
       "      <td>0</td>\n",
       "      <td>0</td>\n",
       "    </tr>\n",
       "    <tr>\n",
       "      <th>30014</th>\n",
       "      <td>2</td>\n",
       "      <td>4800.0</td>\n",
       "      <td>2268.0</td>\n",
       "      <td>0</td>\n",
       "      <td>0</td>\n",
       "      <td>0</td>\n",
       "      <td>0</td>\n",
       "      <td>0</td>\n",
       "      <td>0</td>\n",
       "      <td>0</td>\n",
       "      <td>...</td>\n",
       "      <td>0</td>\n",
       "      <td>0</td>\n",
       "      <td>0</td>\n",
       "      <td>0</td>\n",
       "      <td>0</td>\n",
       "      <td>0</td>\n",
       "      <td>0</td>\n",
       "      <td>0</td>\n",
       "      <td>0</td>\n",
       "      <td>0</td>\n",
       "    </tr>\n",
       "    <tr>\n",
       "      <th>22437</th>\n",
       "      <td>3</td>\n",
       "      <td>4000.0</td>\n",
       "      <td>2075.0</td>\n",
       "      <td>0</td>\n",
       "      <td>0</td>\n",
       "      <td>0</td>\n",
       "      <td>0</td>\n",
       "      <td>0</td>\n",
       "      <td>0</td>\n",
       "      <td>0</td>\n",
       "      <td>...</td>\n",
       "      <td>0</td>\n",
       "      <td>0</td>\n",
       "      <td>0</td>\n",
       "      <td>0</td>\n",
       "      <td>0</td>\n",
       "      <td>0</td>\n",
       "      <td>0</td>\n",
       "      <td>0</td>\n",
       "      <td>0</td>\n",
       "      <td>0</td>\n",
       "    </tr>\n",
       "    <tr>\n",
       "      <th>14045</th>\n",
       "      <td>2</td>\n",
       "      <td>1310.0</td>\n",
       "      <td>1500.0</td>\n",
       "      <td>0</td>\n",
       "      <td>0</td>\n",
       "      <td>0</td>\n",
       "      <td>0</td>\n",
       "      <td>0</td>\n",
       "      <td>0</td>\n",
       "      <td>0</td>\n",
       "      <td>...</td>\n",
       "      <td>0</td>\n",
       "      <td>0</td>\n",
       "      <td>0</td>\n",
       "      <td>0</td>\n",
       "      <td>0</td>\n",
       "      <td>0</td>\n",
       "      <td>0</td>\n",
       "      <td>0</td>\n",
       "      <td>0</td>\n",
       "      <td>0</td>\n",
       "    </tr>\n",
       "    <tr>\n",
       "      <th>29096</th>\n",
       "      <td>1</td>\n",
       "      <td>2821.0</td>\n",
       "      <td>920.0</td>\n",
       "      <td>0</td>\n",
       "      <td>0</td>\n",
       "      <td>0</td>\n",
       "      <td>0</td>\n",
       "      <td>0</td>\n",
       "      <td>0</td>\n",
       "      <td>0</td>\n",
       "      <td>...</td>\n",
       "      <td>0</td>\n",
       "      <td>0</td>\n",
       "      <td>0</td>\n",
       "      <td>0</td>\n",
       "      <td>0</td>\n",
       "      <td>0</td>\n",
       "      <td>0</td>\n",
       "      <td>0</td>\n",
       "      <td>0</td>\n",
       "      <td>0</td>\n",
       "    </tr>\n",
       "  </tbody>\n",
       "</table>\n",
       "<p>5 rows × 423 columns</p>\n",
       "</div>"
      ],
      "text/plain": [
       "       TOTAL UNITS  LAND SQUARE FEET  GROSS SQUARE FEET  ZIP CODE_10001  \\\n",
       "15308            2            2500.0             1024.0               0   \n",
       "30014            2            4800.0             2268.0               0   \n",
       "22437            3            4000.0             2075.0               0   \n",
       "14045            2            1310.0             1500.0               0   \n",
       "29096            1            2821.0              920.0               0   \n",
       "\n",
       "       ZIP CODE_10002  ZIP CODE_10003  ZIP CODE_10005  ZIP CODE_10009  \\\n",
       "15308               0               0               0               0   \n",
       "30014               0               0               0               0   \n",
       "22437               0               0               0               0   \n",
       "14045               0               0               0               0   \n",
       "29096               0               0               0               0   \n",
       "\n",
       "       ZIP CODE_10010  ZIP CODE_10011  ...  BUILDING CLASS AT TIME OF SALE_S9  \\\n",
       "15308               0               0  ...                                  0   \n",
       "30014               0               0  ...                                  0   \n",
       "22437               0               0  ...                                  0   \n",
       "14045               0               0  ...                                  0   \n",
       "29096               0               0  ...                                  0   \n",
       "\n",
       "       BUILDING CLASS AT TIME OF SALE_V0  BUILDING CLASS AT TIME OF SALE_V1  \\\n",
       "15308                                  0                                  0   \n",
       "30014                                  0                                  0   \n",
       "22437                                  0                                  0   \n",
       "14045                                  0                                  0   \n",
       "29096                                  0                                  0   \n",
       "\n",
       "       BUILDING CLASS AT TIME OF SALE_W2  BUILDING CLASS AT TIME OF SALE_W3  \\\n",
       "15308                                  0                                  0   \n",
       "30014                                  0                                  0   \n",
       "22437                                  0                                  0   \n",
       "14045                                  0                                  0   \n",
       "29096                                  0                                  0   \n",
       "\n",
       "       BUILDING CLASS AT TIME OF SALE_W4  BUILDING CLASS AT TIME OF SALE_W8  \\\n",
       "15308                                  0                                  0   \n",
       "30014                                  0                                  0   \n",
       "22437                                  0                                  0   \n",
       "14045                                  0                                  0   \n",
       "29096                                  0                                  0   \n",
       "\n",
       "       BUILDING CLASS AT TIME OF SALE_W9  BUILDING CLASS AT TIME OF SALE_Z0  \\\n",
       "15308                                  0                                  0   \n",
       "30014                                  0                                  0   \n",
       "22437                                  0                                  0   \n",
       "14045                                  0                                  0   \n",
       "29096                                  0                                  0   \n",
       "\n",
       "       BUILDING CLASS AT TIME OF SALE_Z9  \n",
       "15308                                  0  \n",
       "30014                                  0  \n",
       "22437                                  0  \n",
       "14045                                  0  \n",
       "29096                                  0  \n",
       "\n",
       "[5 rows x 423 columns]"
      ]
     },
     "execution_count": 13,
     "metadata": {},
     "output_type": "execute_result"
    }
   ],
   "source": [
    "X_train.head()"
   ]
  },
  {
   "cell_type": "markdown",
   "id": "5f9edac7-56c6-4e91-8ec4-5425be918c62",
   "metadata": {},
   "source": [
    "All our features are still there!"
   ]
  },
  {
   "cell_type": "markdown",
   "id": "1fff3196-5400-41a3-b3d2-9e4adc6c1af2",
   "metadata": {},
   "source": [
    "6. Use LinearRegression() model from Sklearn package to train the model. Do the followings:"
   ]
  },
  {
   "cell_type": "code",
   "execution_count": 14,
   "id": "d03a9690-4b8a-4fcb-9325-0a77be280725",
   "metadata": {},
   "outputs": [
    {
     "data": {
      "text/plain": [
       "LinearRegression()"
      ]
     },
     "execution_count": 14,
     "metadata": {},
     "output_type": "execute_result"
    }
   ],
   "source": [
    "reg_model = LinearRegression( )\n",
    "reg_model.fit(X_train, y_train)"
   ]
  },
  {
   "cell_type": "markdown",
   "id": "1e33a6ed-a6af-44c4-b3e7-cde5759f2b22",
   "metadata": {},
   "source": [
    "6.1. Save the predicted values for the test set in y_hat_test. "
   ]
  },
  {
   "cell_type": "code",
   "execution_count": 15,
   "id": "d8eb7174-87fa-40ca-bfee-3085d69f066a",
   "metadata": {},
   "outputs": [],
   "source": [
    "y_hat_test = reg_model.predict(X_test)"
   ]
  },
  {
   "cell_type": "markdown",
   "id": "086ddf1d-84de-46c9-bce1-4eb940ca23c7",
   "metadata": {},
   "source": [
    "6.2. Construct a data frame named log_predictions which has 3 columns. y_test, y_hat_test , resid."
   ]
  },
  {
   "cell_type": "code",
   "execution_count": 16,
   "id": "68650af9-b39c-43dd-971b-eadc68bf0237",
   "metadata": {},
   "outputs": [
    {
     "data": {
      "text/html": [
       "<div>\n",
       "<style scoped>\n",
       "    .dataframe tbody tr th:only-of-type {\n",
       "        vertical-align: middle;\n",
       "    }\n",
       "\n",
       "    .dataframe tbody tr th {\n",
       "        vertical-align: top;\n",
       "    }\n",
       "\n",
       "    .dataframe thead th {\n",
       "        text-align: right;\n",
       "    }\n",
       "</style>\n",
       "<table border=\"1\" class=\"dataframe\">\n",
       "  <thead>\n",
       "    <tr style=\"text-align: right;\">\n",
       "      <th></th>\n",
       "      <th>y_test</th>\n",
       "      <th>y_hat_test</th>\n",
       "      <th>resid</th>\n",
       "    </tr>\n",
       "  </thead>\n",
       "  <tbody>\n",
       "    <tr>\n",
       "      <th>3767</th>\n",
       "      <td>14.077875</td>\n",
       "      <td>13.800656</td>\n",
       "      <td>0.277219</td>\n",
       "    </tr>\n",
       "    <tr>\n",
       "      <th>24270</th>\n",
       "      <td>13.199324</td>\n",
       "      <td>13.047025</td>\n",
       "      <td>0.152300</td>\n",
       "    </tr>\n",
       "    <tr>\n",
       "      <th>27718</th>\n",
       "      <td>13.384728</td>\n",
       "      <td>13.308004</td>\n",
       "      <td>0.076724</td>\n",
       "    </tr>\n",
       "    <tr>\n",
       "      <th>6232</th>\n",
       "      <td>12.873902</td>\n",
       "      <td>13.202548</td>\n",
       "      <td>-0.328646</td>\n",
       "    </tr>\n",
       "    <tr>\n",
       "      <th>11161</th>\n",
       "      <td>13.710150</td>\n",
       "      <td>13.878461</td>\n",
       "      <td>-0.168311</td>\n",
       "    </tr>\n",
       "  </tbody>\n",
       "</table>\n",
       "</div>"
      ],
      "text/plain": [
       "          y_test  y_hat_test     resid\n",
       "3767   14.077875   13.800656  0.277219\n",
       "24270  13.199324   13.047025  0.152300\n",
       "27718  13.384728   13.308004  0.076724\n",
       "6232   12.873902   13.202548 -0.328646\n",
       "11161  13.710150   13.878461 -0.168311"
      ]
     },
     "execution_count": 16,
     "metadata": {},
     "output_type": "execute_result"
    }
   ],
   "source": [
    "log_predictions = pd.DataFrame({'y_test':y_test, 'y_hat_test':y_hat_test, 'resid': y_test - y_hat_test})\n",
    "log_predictions.head()"
   ]
  },
  {
   "cell_type": "markdown",
   "id": "03317e74-0561-4059-b6cf-533488399ee0",
   "metadata": {},
   "source": [
    "6.3. Report the RMSE_test (RMSE in the test set)  "
   ]
  },
  {
   "cell_type": "code",
   "execution_count": 21,
   "id": "149ccf2c-7883-4388-b928-aef1a0e1ef47",
   "metadata": {},
   "outputs": [
    {
     "data": {
      "text/plain": [
       "0.55"
      ]
     },
     "execution_count": 21,
     "metadata": {},
     "output_type": "execute_result"
    }
   ],
   "source": [
    "MSE_test = np.mean(np.square(log_predictions['resid']))\n",
    "np.round(MSE_test,3)\n",
    "RMSE_test = np.sqrt(MSE_test)\n",
    "np.round(RMSE_test,3)"
   ]
  },
  {
   "cell_type": "markdown",
   "id": "2c425983-6672-4f81-9074-54cdee902dfe",
   "metadata": {},
   "source": [
    "We got an RMSE of .55. Thats pretty good!"
   ]
  },
  {
   "cell_type": "markdown",
   "id": "65098cc3-531b-4fd5-8eb3-a34339cfd1dd",
   "metadata": {},
   "source": [
    "7. Estimate the RMSE_test using K-Fold Cross Validation technique (try K=5 and K=10) and name them as RMSE_CV5 and RMSE_CV10. "
   ]
  },
  {
   "cell_type": "code",
   "execution_count": 18,
   "id": "d6cbac89-837e-448c-ab98-4d8a6c2f87e5",
   "metadata": {},
   "outputs": [],
   "source": [
    "from sklearn.model_selection import cross_val_score\n",
    "import sklearn.metrics"
   ]
  },
  {
   "cell_type": "code",
   "execution_count": 19,
   "id": "dfaa5365-8c98-45e1-bff4-2fbacd735f81",
   "metadata": {},
   "outputs": [],
   "source": [
    "my_estimator = LinearRegression()\n",
    "\n",
    "MSE_ten = -cross_val_score(estimator=my_estimator, X=X_train, y=y_train, cv=10, scoring=\"neg_mean_squared_error\")\n",
    "MSE_five = -cross_val_score(estimator=my_estimator, X=X_train, y=y_train, cv=5, scoring=\"neg_mean_squared_error\")\n",
    "\n",
    "RMSE_ten = np.sqrt(MSE_ten)\n",
    "RMSE_five = np.sqrt(MSE_five)"
   ]
  },
  {
   "cell_type": "markdown",
   "id": "f375cbb2-e305-4067-9614-45e380b5d0ac",
   "metadata": {},
   "source": [
    "This is the 10 fold RMSE:"
   ]
  },
  {
   "cell_type": "code",
   "execution_count": 20,
   "id": "4fd994de-e62b-49c5-87db-ce1a85430e23",
   "metadata": {
    "tags": []
   },
   "outputs": [
    {
     "data": {
      "text/plain": [
       "0.563"
      ]
     },
     "execution_count": 20,
     "metadata": {},
     "output_type": "execute_result"
    }
   ],
   "source": [
    "RMSE_CV10 = np.mean(RMSE_ten)\n",
    "np.round(RMSE_CV10,3)"
   ]
  },
  {
   "cell_type": "markdown",
   "id": "cf4ff1f3-171f-42e8-ba1a-8a89db621f9c",
   "metadata": {},
   "source": [
    "This is the 5 fold RMSE:"
   ]
  },
  {
   "cell_type": "code",
   "execution_count": 21,
   "id": "3544b6ee-bc6f-40a3-83c7-2d174232cddd",
   "metadata": {},
   "outputs": [
    {
     "data": {
      "text/plain": [
       "0.582"
      ]
     },
     "execution_count": 21,
     "metadata": {},
     "output_type": "execute_result"
    }
   ],
   "source": [
    "RMSE_CV5 = np.mean(RMSE_five)\n",
    "np.round(RMSE_CV5,3)"
   ]
  },
  {
   "cell_type": "markdown",
   "id": "e78cd8d8-c3e7-4cb7-a835-dfad6256778c",
   "metadata": {},
   "source": [
    "8. Compare RMSE_CV with  RMSE_test from part 3 and explain your observation?"
   ]
  },
  {
   "cell_type": "markdown",
   "id": "74a38b03-04e6-47c6-b6da-2e9d344896bc",
   "metadata": {},
   "source": [
    "RMSE_test is a little smaller than both RMSE_CV5 and RMSE_CV10. This makes sense, with how we calculate RMSE_test we usually get some overfitting and an over optomistic RMSE value, this is because we are only predicting on one new test set. With the cross validation methods, the overfitting is taken care of becuase we are predicting on multiple \"unseen\" test sets. "
   ]
  },
  {
   "cell_type": "markdown",
   "id": "3ebd07da-6825-40ae-bacd-904d73396730",
   "metadata": {},
   "source": [
    "### Question 2: Polynomial regression: Boston dataset"
   ]
  },
  {
   "cell_type": "markdown",
   "id": "34daa7c0-efa6-4b87-bef9-ef3b74325a33",
   "metadata": {},
   "source": [
    "1. Define x= np.array(df_poly['LSTAT']) and  y= np.array(df_poly['price']). Draw a scatter plot for price vs LSTAT using x and y."
   ]
  },
  {
   "cell_type": "code",
   "execution_count": 23,
   "id": "edc8731e-412e-48e9-b57b-cd9da4bc2b31",
   "metadata": {},
   "outputs": [
    {
     "data": {
      "image/png": "[encoded data removed]",
      "text/plain": [
       "<Figure size 432x288 with 1 Axes>"
      ]
     },
     "metadata": {},
     "output_type": "display_data"
    }
   ],
   "source": [
    "df2 = pd.read_csv('boston_polynomial.csv')\n",
    "df2_raw = df2\n",
    "df2.head()\n",
    "\n",
    "x = np.array(df2['LSTAT'])\n",
    "y = np.array(df2['price'])\n",
    "\n",
    "plt.scatter(x, y)\n",
    "plt.xlabel('LSTAT')\n",
    "plt.ylabel('price')\n",
    "plt.show()"
   ]
  },
  {
   "cell_type": "markdown",
   "id": "f06a5d7f-f4f2-4b7d-a424-3418c23ee203",
   "metadata": {},
   "source": [
    "It looks like the data does not follow a linear pattern, there appears to be a curve, so it likely follows a polynomial pattern."
   ]
  },
  {
   "cell_type": "markdown",
   "id": "1c7c9d61-616f-4786-911c-b4a82926155b",
   "metadata": {},
   "source": [
    "2. Import PolynomialFeatures class from sklearn.preprocessing. Now fit_transform your x and call it X_poly. Set polynomial degree = 5.  "
   ]
  },
  {
   "cell_type": "code",
   "execution_count": 24,
   "id": "ee83e674-44fe-44f4-9763-737e59764ad1",
   "metadata": {},
   "outputs": [
    {
     "data": {
      "text/html": [
       "<div>\n",
       "<style scoped>\n",
       "    .dataframe tbody tr th:only-of-type {\n",
       "        vertical-align: middle;\n",
       "    }\n",
       "\n",
       "    .dataframe tbody tr th {\n",
       "        vertical-align: top;\n",
       "    }\n",
       "\n",
       "    .dataframe thead th {\n",
       "        text-align: right;\n",
       "    }\n",
       "</style>\n",
       "<table border=\"1\" class=\"dataframe\">\n",
       "  <thead>\n",
       "    <tr style=\"text-align: right;\">\n",
       "      <th></th>\n",
       "      <th>0</th>\n",
       "      <th>1</th>\n",
       "      <th>2</th>\n",
       "      <th>3</th>\n",
       "      <th>4</th>\n",
       "      <th>5</th>\n",
       "    </tr>\n",
       "  </thead>\n",
       "  <tbody>\n",
       "    <tr>\n",
       "      <th>0</th>\n",
       "      <td>1.0</td>\n",
       "      <td>4.98</td>\n",
       "      <td>24.8004</td>\n",
       "      <td>123.505992</td>\n",
       "      <td>615.059840</td>\n",
       "      <td>3062.998004</td>\n",
       "    </tr>\n",
       "    <tr>\n",
       "      <th>1</th>\n",
       "      <td>1.0</td>\n",
       "      <td>9.14</td>\n",
       "      <td>83.5396</td>\n",
       "      <td>763.551944</td>\n",
       "      <td>6978.864768</td>\n",
       "      <td>63786.823981</td>\n",
       "    </tr>\n",
       "    <tr>\n",
       "      <th>2</th>\n",
       "      <td>1.0</td>\n",
       "      <td>4.03</td>\n",
       "      <td>16.2409</td>\n",
       "      <td>65.450827</td>\n",
       "      <td>263.766833</td>\n",
       "      <td>1062.980336</td>\n",
       "    </tr>\n",
       "    <tr>\n",
       "      <th>3</th>\n",
       "      <td>1.0</td>\n",
       "      <td>2.94</td>\n",
       "      <td>8.6436</td>\n",
       "      <td>25.412184</td>\n",
       "      <td>74.711821</td>\n",
       "      <td>219.652754</td>\n",
       "    </tr>\n",
       "    <tr>\n",
       "      <th>4</th>\n",
       "      <td>1.0</td>\n",
       "      <td>5.33</td>\n",
       "      <td>28.4089</td>\n",
       "      <td>151.419437</td>\n",
       "      <td>807.065599</td>\n",
       "      <td>4301.659644</td>\n",
       "    </tr>\n",
       "  </tbody>\n",
       "</table>\n",
       "</div>"
      ],
      "text/plain": [
       "     0     1        2           3            4             5\n",
       "0  1.0  4.98  24.8004  123.505992   615.059840   3062.998004\n",
       "1  1.0  9.14  83.5396  763.551944  6978.864768  63786.823981\n",
       "2  1.0  4.03  16.2409   65.450827   263.766833   1062.980336\n",
       "3  1.0  2.94   8.6436   25.412184    74.711821    219.652754\n",
       "4  1.0  5.33  28.4089  151.419437   807.065599   4301.659644"
      ]
     },
     "execution_count": 24,
     "metadata": {},
     "output_type": "execute_result"
    }
   ],
   "source": [
    "from sklearn.preprocessing import PolynomialFeatures\n",
    "\n",
    "poly = PolynomialFeatures(degree = 5)\n",
    "X_poly= pd.DataFrame(poly.fit_transform(x.reshape(-1,1)))\n",
    "X_poly.head()"
   ]
  },
  {
   "cell_type": "markdown",
   "id": "a2928cf2-54ff-4f39-bbda-050181279c93",
   "metadata": {},
   "source": [
    "3. Split the data into test (30%) and train set (70%) "
   ]
  },
  {
   "cell_type": "code",
   "execution_count": 25,
   "id": "803b8cbc-eb6f-4fa3-8ea2-9b572c944153",
   "metadata": {},
   "outputs": [],
   "source": [
    "X_train, X_test, y_train, y_test = train_test_split(X_poly, y, test_size=0.2, random_state=rand_state)"
   ]
  },
  {
   "cell_type": "markdown",
   "id": "913ad573-7c90-45b2-82dc-7000e5a9a740",
   "metadata": {},
   "source": [
    "4. Use LinearRegression() model from Sklearn package to train the model. Do the followings: "
   ]
  },
  {
   "cell_type": "code",
   "execution_count": 26,
   "id": "89e4ec56-7026-478b-b075-fd6b998626cc",
   "metadata": {},
   "outputs": [
    {
     "data": {
      "text/plain": [
       "LinearRegression()"
      ]
     },
     "execution_count": 26,
     "metadata": {},
     "output_type": "execute_result"
    }
   ],
   "source": [
    "reg_model = LinearRegression( )\n",
    "reg_model.fit(X_train, y_train)"
   ]
  },
  {
   "cell_type": "markdown",
   "id": "d3be6186-7b99-45cc-8579-439737c7f4ec",
   "metadata": {},
   "source": [
    "4.1. Save the predicted values for the test set in y_hat_test.  "
   ]
  },
  {
   "cell_type": "code",
   "execution_count": 27,
   "id": "f8e8813e-a7ea-46a3-9af5-9640ca098886",
   "metadata": {},
   "outputs": [],
   "source": [
    "y_hat_test = reg_model.predict(X_test)"
   ]
  },
  {
   "cell_type": "markdown",
   "id": "ad94add6-ac2d-4310-811b-87f4249e804e",
   "metadata": {},
   "source": [
    "4.2. Construct a data frame named predictions which has 3 columns. y_test, y_hat_test , resid."
   ]
  },
  {
   "cell_type": "code",
   "execution_count": 28,
   "id": "ddacb1d6-a033-4dc9-952a-5acf3b3e0c73",
   "metadata": {},
   "outputs": [
    {
     "data": {
      "text/html": [
       "<div>\n",
       "<style scoped>\n",
       "    .dataframe tbody tr th:only-of-type {\n",
       "        vertical-align: middle;\n",
       "    }\n",
       "\n",
       "    .dataframe tbody tr th {\n",
       "        vertical-align: top;\n",
       "    }\n",
       "\n",
       "    .dataframe thead th {\n",
       "        text-align: right;\n",
       "    }\n",
       "</style>\n",
       "<table border=\"1\" class=\"dataframe\">\n",
       "  <thead>\n",
       "    <tr style=\"text-align: right;\">\n",
       "      <th></th>\n",
       "      <th>y_test</th>\n",
       "      <th>y_hat_test</th>\n",
       "      <th>resid</th>\n",
       "    </tr>\n",
       "  </thead>\n",
       "  <tbody>\n",
       "    <tr>\n",
       "      <th>0</th>\n",
       "      <td>21.8</td>\n",
       "      <td>21.893772</td>\n",
       "      <td>-0.093772</td>\n",
       "    </tr>\n",
       "    <tr>\n",
       "      <th>1</th>\n",
       "      <td>10.2</td>\n",
       "      <td>18.407885</td>\n",
       "      <td>-8.207885</td>\n",
       "    </tr>\n",
       "    <tr>\n",
       "      <th>2</th>\n",
       "      <td>15.2</td>\n",
       "      <td>16.240695</td>\n",
       "      <td>-1.040695</td>\n",
       "    </tr>\n",
       "    <tr>\n",
       "      <th>3</th>\n",
       "      <td>43.5</td>\n",
       "      <td>40.659722</td>\n",
       "      <td>2.840278</td>\n",
       "    </tr>\n",
       "    <tr>\n",
       "      <th>4</th>\n",
       "      <td>50.0</td>\n",
       "      <td>22.721723</td>\n",
       "      <td>27.278277</td>\n",
       "    </tr>\n",
       "  </tbody>\n",
       "</table>\n",
       "</div>"
      ],
      "text/plain": [
       "   y_test  y_hat_test      resid\n",
       "0    21.8   21.893772  -0.093772\n",
       "1    10.2   18.407885  -8.207885\n",
       "2    15.2   16.240695  -1.040695\n",
       "3    43.5   40.659722   2.840278\n",
       "4    50.0   22.721723  27.278277"
      ]
     },
     "execution_count": 28,
     "metadata": {},
     "output_type": "execute_result"
    }
   ],
   "source": [
    "predictions = pd.DataFrame({'y_test':y_test, 'y_hat_test':y_hat_test, 'resid': y_test - y_hat_test})\n",
    "predictions.head()"
   ]
  },
  {
   "cell_type": "markdown",
   "id": "e45ff951-8047-4a2d-8e86-60ccecfc38ec",
   "metadata": {},
   "source": [
    "4.3. Report the RMSE_test (RMSE in the test set)  "
   ]
  },
  {
   "cell_type": "code",
   "execution_count": 29,
   "id": "9cf3eafa-3b3e-49d2-b640-2b67878a47fe",
   "metadata": {},
   "outputs": [
    {
     "data": {
      "text/plain": [
       "5.007"
      ]
     },
     "execution_count": 29,
     "metadata": {},
     "output_type": "execute_result"
    }
   ],
   "source": [
    "MSE_test = np.mean(np.square(predictions['resid']))\n",
    "np.round(MSE_test,3)\n",
    "RMSE_test = np.sqrt(MSE_test)\n",
    "np.round(RMSE_test,3)"
   ]
  },
  {
   "cell_type": "markdown",
   "id": "01eccf25-47fb-4e2b-b867-e2f8e8b0b51e",
   "metadata": {},
   "source": [
    "5. Estimate the RMSE_test using K-Fold Cross Validation technique (K=5 only) and name it as RMSE_CV5. "
   ]
  },
  {
   "cell_type": "code",
   "execution_count": 30,
   "id": "67f0e107-1cc9-4b21-a91a-39393d1b7368",
   "metadata": {},
   "outputs": [
    {
     "data": {
      "text/plain": [
       "5.288"
      ]
     },
     "execution_count": 30,
     "metadata": {},
     "output_type": "execute_result"
    }
   ],
   "source": [
    "my_estimator = LinearRegression()\n",
    "\n",
    "MSE_five = -cross_val_score(estimator=my_estimator, X=X_train, y=y_train, cv=5, scoring=\"neg_mean_squared_error\")\n",
    "\n",
    "RMSE_five = np.sqrt(MSE_five)\n",
    "\n",
    "RMSE_CV5 = np.mean(RMSE_five)\n",
    "np.round(RMSE_CV5,3)"
   ]
  },
  {
   "cell_type": "markdown",
   "id": "495e8caa-b83c-447f-a315-3d3d5eccfb79",
   "metadata": {},
   "source": [
    "6. Use my_polynomial_regression() function from the notebook for class 7. With that function, construct a table with 3 columns: Degree (going from 1 to 10), RMSE_train and RMSE_test.   "
   ]
  },
  {
   "cell_type": "code",
   "execution_count": 31,
   "id": "433a3b02-80e4-4614-aac5-6b7284377f57",
   "metadata": {},
   "outputs": [],
   "source": [
    "def my_polynomial_regression(poly_degree, X, y, test_size=0.3, rand_state=100):\n",
    "    \n",
    "    poly_features= PolynomialFeatures(degree=poly_degree)\n",
    "    \n",
    "    # transforms the existing features to higher degree features.\n",
    "    X_poly = pd.DataFrame(poly_features.fit_transform(X.reshape(-1,1)))   \n",
    "    \n",
    "    X_train, X_test, y_train, y_test = train_test_split(X_poly, y, test_size=test_size, random_state=rand_state)\n",
    "\n",
    "    # fit the transformed features to Linear Regression\n",
    "    poly_model = LinearRegression()\n",
    "    poly_model.fit(X_train, y_train)\n",
    "    \n",
    "  \n",
    "    # predicting on training data-set\n",
    "    y_train_predicted = poly_model.predict(X_train)\n",
    "  \n",
    "    # predicting on test data-set\n",
    "    y_test_predicted = poly_model.predict(X_test)\n",
    "  \n",
    "   # evaluating the model on training dataset\n",
    "    MSE_train = round(np.mean(np.square(y_train - y_train_predicted)),2)\n",
    "    RMSE_train = round(np.sqrt(MSE_train),2)\n",
    "\n",
    "  \n",
    "    # evaluating the model on test dataset\n",
    "    MSE_test = round(np.mean(np.square(y_test - y_test_predicted)),2)\n",
    "    RMSE_test = round(np.sqrt(MSE_test),2)\n",
    "\n",
    "\n",
    "  \n",
    "#     print(\"Traning model fit\")\n",
    "#     print(\"R2_train = {}\".format(R2_train))\n",
    "\n",
    "#     print(\"-------------------------------------------\")\n",
    "#     print(\"MSE_train = {}\".format(MSE_train))\n",
    "#     print(\"RMSE_train = {}\".format(RMSE_train))\n",
    "\n",
    "#     print(\"-------------------------------------------\")\n",
    "#     print(\"MSE_test = {}\".format(MSE_test))\n",
    "#     print(\"RMSE_test = {}\".format(RMSE_test))\n",
    "    \n",
    "    return poly_degree, RMSE_train, RMSE_test"
   ]
  },
  {
   "cell_type": "code",
   "execution_count": 33,
   "id": "d326e494-1c29-45f8-a538-abdd68ccbc1b",
   "metadata": {},
   "outputs": [
    {
     "data": {
      "text/html": [
       "<div>\n",
       "<style scoped>\n",
       "    .dataframe tbody tr th:only-of-type {\n",
       "        vertical-align: middle;\n",
       "    }\n",
       "\n",
       "    .dataframe tbody tr th {\n",
       "        vertical-align: top;\n",
       "    }\n",
       "\n",
       "    .dataframe thead th {\n",
       "        text-align: right;\n",
       "    }\n",
       "</style>\n",
       "<table border=\"1\" class=\"dataframe\">\n",
       "  <thead>\n",
       "    <tr style=\"text-align: right;\">\n",
       "      <th></th>\n",
       "      <th>Degree</th>\n",
       "      <th>RMSE_train</th>\n",
       "      <th>RMSE_test</th>\n",
       "    </tr>\n",
       "  </thead>\n",
       "  <tbody>\n",
       "    <tr>\n",
       "      <th>0</th>\n",
       "      <td>1</td>\n",
       "      <td>5.92</td>\n",
       "      <td>6.88</td>\n",
       "    </tr>\n",
       "    <tr>\n",
       "      <th>1</th>\n",
       "      <td>2</td>\n",
       "      <td>5.13</td>\n",
       "      <td>6.32</td>\n",
       "    </tr>\n",
       "    <tr>\n",
       "      <th>2</th>\n",
       "      <td>3</td>\n",
       "      <td>4.95</td>\n",
       "      <td>6.26</td>\n",
       "    </tr>\n",
       "    <tr>\n",
       "      <th>3</th>\n",
       "      <td>4</td>\n",
       "      <td>4.82</td>\n",
       "      <td>6.16</td>\n",
       "    </tr>\n",
       "    <tr>\n",
       "      <th>4</th>\n",
       "      <td>5</td>\n",
       "      <td>4.72</td>\n",
       "      <td>6.15</td>\n",
       "    </tr>\n",
       "    <tr>\n",
       "      <th>5</th>\n",
       "      <td>6</td>\n",
       "      <td>4.70</td>\n",
       "      <td>6.17</td>\n",
       "    </tr>\n",
       "    <tr>\n",
       "      <th>6</th>\n",
       "      <td>7</td>\n",
       "      <td>4.69</td>\n",
       "      <td>6.17</td>\n",
       "    </tr>\n",
       "    <tr>\n",
       "      <th>7</th>\n",
       "      <td>8</td>\n",
       "      <td>4.69</td>\n",
       "      <td>6.16</td>\n",
       "    </tr>\n",
       "    <tr>\n",
       "      <th>8</th>\n",
       "      <td>9</td>\n",
       "      <td>4.69</td>\n",
       "      <td>6.15</td>\n",
       "    </tr>\n",
       "    <tr>\n",
       "      <th>9</th>\n",
       "      <td>10</td>\n",
       "      <td>4.69</td>\n",
       "      <td>6.15</td>\n",
       "    </tr>\n",
       "  </tbody>\n",
       "</table>\n",
       "</div>"
      ],
      "text/plain": [
       "   Degree  RMSE_train  RMSE_test\n",
       "0       1        5.92       6.88\n",
       "1       2        5.13       6.32\n",
       "2       3        4.95       6.26\n",
       "3       4        4.82       6.16\n",
       "4       5        4.72       6.15\n",
       "5       6        4.70       6.17\n",
       "6       7        4.69       6.17\n",
       "7       8        4.69       6.16\n",
       "8       9        4.69       6.15\n",
       "9      10        4.69       6.15"
      ]
     },
     "execution_count": 33,
     "metadata": {},
     "output_type": "execute_result"
    }
   ],
   "source": [
    "returns= []\n",
    "for i in range(1,11):\n",
    "    returns.append(my_polynomial_regression(poly_degree=i, X=x,y=y))\n",
    "    \n",
    "output = pd.DataFrame(returns, columns=['Degree', 'RMSE_train', 'RMSE_test'])\n",
    "output"
   ]
  },
  {
   "cell_type": "markdown",
   "id": "654db29e-0fcf-483d-b66c-6a3b1784f925",
   "metadata": {},
   "source": [
    "7. Use the table from part 6 and plot the RMSE_test and RMSE_train against the Degree on the horizontal axis. "
   ]
  },
  {
   "cell_type": "code",
   "execution_count": 34,
   "id": "9467ba73-ce14-4f29-be1d-1a82601b9e68",
   "metadata": {},
   "outputs": [
    {
     "data": {
      "image/png": "[encoded data removed]",
      "text/plain": [
       "<Figure size 432x288 with 1 Axes>"
      ]
     },
     "metadata": {},
     "output_type": "display_data"
    }
   ],
   "source": [
    "output.set_index('Degree').plot()\n",
    "plt.show()"
   ]
  },
  {
   "cell_type": "markdown",
   "id": "ee1d17a9-6687-4353-966a-25dd9506d4aa",
   "metadata": {},
   "source": [
    "This chart is showing what happens to the RMSE in the test and training set when we add another degree to the polynomial."
   ]
  },
  {
   "cell_type": "markdown",
   "id": "6033a4bc-6c2c-4c5d-bf28-5b318878ad59",
   "metadata": {},
   "source": [
    "8. What is the optimal polynomial degree based on your observations from the above table and chart in part 6 and 7 respectively. Explain your answer "
   ]
  },
  {
   "cell_type": "markdown",
   "id": "18e76531-dd47-4fbe-845c-e57b429e6d42",
   "metadata": {},
   "source": [
    "We would say 4 is the optimal polynomial degree. We picked 4 because it is the lowest RMSE found from the test set. The table shows that the values after 4 are similar, 9 and 10 are exactly the same, but 4 is more simple and should be picked. We picked 4 from the test RMSE because the training RMSE is going to be very overfit and \"cheating\". "
   ]
  }
 ],
 "metadata": {
  "kernelspec": {
   "display_name": "Python 3 (ipykernel)",
   "language": "python",
   "name": "python3"
  },
  "language_info": {
   "codemirror_mode": {
    "name": "ipython",
    "version": 3
   },
   "file_extension": ".py",
   "mimetype": "text/x-python",
   "name": "python",
   "nbconvert_exporter": "python",
   "pygments_lexer": "ipython3",
   "version": "3.9.7"
  }
 },
 "nbformat": 4,
 "nbformat_minor": 5
}
