{
 "cells": [
  {
   "cell_type": "markdown",
   "metadata": {},
   "source": [
    "# Final Project\n"
   ]
  },
  {
   "cell_type": "markdown",
   "metadata": {},
   "source": [
    "## Miller, et al\n",
    "\n"
   ]
  },
  {
   "cell_type": "markdown",
   "metadata": {},
   "source": [
    "### The purpose of this analysis is to see if we can accurately predict Total "
   ]
  },
  {
   "cell_type": "code",
   "execution_count": 265,
   "metadata": {},
   "outputs": [
    {
     "data": {
      "text/html": [
       "<div>\n",
       "<style scoped>\n",
       "    .dataframe tbody tr th:only-of-type {\n",
       "        vertical-align: middle;\n",
       "    }\n",
       "\n",
       "    .dataframe tbody tr th {\n",
       "        vertical-align: top;\n",
       "    }\n",
       "\n",
       "    .dataframe thead th {\n",
       "        text-align: right;\n",
       "    }\n",
       "</style>\n",
       "<table border=\"1\" class=\"dataframe\">\n",
       "  <thead>\n",
       "    <tr style=\"text-align: right;\">\n",
       "      <th></th>\n",
       "      <th>Invoice ID</th>\n",
       "      <th>Branch</th>\n",
       "      <th>City</th>\n",
       "      <th>Customer type</th>\n",
       "      <th>Gender</th>\n",
       "      <th>Product line</th>\n",
       "      <th>Unit price</th>\n",
       "      <th>Quantity</th>\n",
       "      <th>Tax 5%</th>\n",
       "      <th>Total</th>\n",
       "      <th>Date</th>\n",
       "      <th>Time</th>\n",
       "      <th>Payment</th>\n",
       "      <th>cogs</th>\n",
       "      <th>gross margin percentage</th>\n",
       "      <th>gross income</th>\n",
       "      <th>Rating</th>\n",
       "    </tr>\n",
       "  </thead>\n",
       "  <tbody>\n",
       "    <tr>\n",
       "      <th>0</th>\n",
       "      <td>750-67-8428</td>\n",
       "      <td>A</td>\n",
       "      <td>Yangon</td>\n",
       "      <td>Member</td>\n",
       "      <td>Female</td>\n",
       "      <td>Health and beauty</td>\n",
       "      <td>74.69</td>\n",
       "      <td>7</td>\n",
       "      <td>26.1415</td>\n",
       "      <td>548.9715</td>\n",
       "      <td>1/5/2019</td>\n",
       "      <td>13:08</td>\n",
       "      <td>Ewallet</td>\n",
       "      <td>522.83</td>\n",
       "      <td>4.761905</td>\n",
       "      <td>26.1415</td>\n",
       "      <td>9.1</td>\n",
       "    </tr>\n",
       "    <tr>\n",
       "      <th>1</th>\n",
       "      <td>226-31-3081</td>\n",
       "      <td>C</td>\n",
       "      <td>Naypyitaw</td>\n",
       "      <td>Normal</td>\n",
       "      <td>Female</td>\n",
       "      <td>Electronic accessories</td>\n",
       "      <td>15.28</td>\n",
       "      <td>5</td>\n",
       "      <td>3.8200</td>\n",
       "      <td>80.2200</td>\n",
       "      <td>3/8/2019</td>\n",
       "      <td>10:29</td>\n",
       "      <td>Cash</td>\n",
       "      <td>76.40</td>\n",
       "      <td>4.761905</td>\n",
       "      <td>3.8200</td>\n",
       "      <td>9.6</td>\n",
       "    </tr>\n",
       "    <tr>\n",
       "      <th>2</th>\n",
       "      <td>631-41-3108</td>\n",
       "      <td>A</td>\n",
       "      <td>Yangon</td>\n",
       "      <td>Normal</td>\n",
       "      <td>Male</td>\n",
       "      <td>Home and lifestyle</td>\n",
       "      <td>46.33</td>\n",
       "      <td>7</td>\n",
       "      <td>16.2155</td>\n",
       "      <td>340.5255</td>\n",
       "      <td>3/3/2019</td>\n",
       "      <td>13:23</td>\n",
       "      <td>Credit card</td>\n",
       "      <td>324.31</td>\n",
       "      <td>4.761905</td>\n",
       "      <td>16.2155</td>\n",
       "      <td>7.4</td>\n",
       "    </tr>\n",
       "    <tr>\n",
       "      <th>3</th>\n",
       "      <td>123-19-1176</td>\n",
       "      <td>A</td>\n",
       "      <td>Yangon</td>\n",
       "      <td>Member</td>\n",
       "      <td>Male</td>\n",
       "      <td>Health and beauty</td>\n",
       "      <td>58.22</td>\n",
       "      <td>8</td>\n",
       "      <td>23.2880</td>\n",
       "      <td>489.0480</td>\n",
       "      <td>1/27/2019</td>\n",
       "      <td>20:33</td>\n",
       "      <td>Ewallet</td>\n",
       "      <td>465.76</td>\n",
       "      <td>4.761905</td>\n",
       "      <td>23.2880</td>\n",
       "      <td>8.4</td>\n",
       "    </tr>\n",
       "    <tr>\n",
       "      <th>4</th>\n",
       "      <td>373-73-7910</td>\n",
       "      <td>A</td>\n",
       "      <td>Yangon</td>\n",
       "      <td>Normal</td>\n",
       "      <td>Male</td>\n",
       "      <td>Sports and travel</td>\n",
       "      <td>86.31</td>\n",
       "      <td>7</td>\n",
       "      <td>30.2085</td>\n",
       "      <td>634.3785</td>\n",
       "      <td>2/8/2019</td>\n",
       "      <td>10:37</td>\n",
       "      <td>Ewallet</td>\n",
       "      <td>604.17</td>\n",
       "      <td>4.761905</td>\n",
       "      <td>30.2085</td>\n",
       "      <td>5.3</td>\n",
       "    </tr>\n",
       "  </tbody>\n",
       "</table>\n",
       "</div>"
      ],
      "text/plain": [
       "    Invoice ID Branch       City Customer type  Gender  \\\n",
       "0  750-67-8428      A     Yangon        Member  Female   \n",
       "1  226-31-3081      C  Naypyitaw        Normal  Female   \n",
       "2  631-41-3108      A     Yangon        Normal    Male   \n",
       "3  123-19-1176      A     Yangon        Member    Male   \n",
       "4  373-73-7910      A     Yangon        Normal    Male   \n",
       "\n",
       "             Product line  Unit price  Quantity   Tax 5%     Total       Date  \\\n",
       "0       Health and beauty       74.69         7  26.1415  548.9715   1/5/2019   \n",
       "1  Electronic accessories       15.28         5   3.8200   80.2200   3/8/2019   \n",
       "2      Home and lifestyle       46.33         7  16.2155  340.5255   3/3/2019   \n",
       "3       Health and beauty       58.22         8  23.2880  489.0480  1/27/2019   \n",
       "4       Sports and travel       86.31         7  30.2085  634.3785   2/8/2019   \n",
       "\n",
       "    Time      Payment    cogs  gross margin percentage  gross income  Rating  \n",
       "0  13:08      Ewallet  522.83                 4.761905       26.1415     9.1  \n",
       "1  10:29         Cash   76.40                 4.761905        3.8200     9.6  \n",
       "2  13:23  Credit card  324.31                 4.761905       16.2155     7.4  \n",
       "3  20:33      Ewallet  465.76                 4.761905       23.2880     8.4  \n",
       "4  10:37      Ewallet  604.17                 4.761905       30.2085     5.3  "
      ]
     },
     "execution_count": 265,
     "metadata": {},
     "output_type": "execute_result"
    }
   ],
   "source": [
    "import numpy as np\n",
    "import pandas as pd\n",
    "import matplotlib.pyplot as plt\n",
    "import seaborn as sns\n",
    "import datetime\n",
    "\n",
    "# Set seaborn themes for use with matplotlib functions\n",
    "sns.set()\n",
    "\n",
    "# Ignore warnings\n",
    "import warnings\n",
    "warnings.filterwarnings('ignore')\n",
    "\n",
    "# Initialize random state for generating random numbers in a consistent way\n",
    "rand_state = 1000\n",
    "\n",
    "# Read csv file into a pandas dataframe\n",
    "df = pd.read_csv(\"supermarket_sales - Sheet1.csv\")\n",
    "\n",
    "# Print first 5 rows of data from dataframe\n",
    "df.head()"
   ]
  },
  {
   "cell_type": "markdown",
   "metadata": {},
   "source": [
    "## Data preprocessing\n"
   ]
  },
  {
   "cell_type": "code",
   "execution_count": 266,
   "metadata": {},
   "outputs": [],
   "source": [
    "# Replace '-' with 0 in the 'Invoice ID' column\n",
    "df['Invoice ID'] = df['Invoice ID'].apply(lambda x: x.replace('-', '0'))"
   ]
  },
  {
   "cell_type": "code",
   "execution_count": 267,
   "metadata": {},
   "outputs": [],
   "source": [
    "# Convert date strings to integers representing the number of seconds since the Unix epoch\n",
    "df['Date'] = df['Date'].apply(lambda x: datetime.datetime.strptime(x, \"%m/%d/%Y\").timestamp())"
   ]
  },
  {
   "cell_type": "code",
   "execution_count": 268,
   "metadata": {},
   "outputs": [],
   "source": [
    "# Convert time strings to strings in the form of 'abcd'\n",
    "df['Time'] = df['Time'].apply(lambda x: datetime.datetime.strptime(x, \"%H:%M\").strftime(\"%H%M\"))\n",
    "# Convert the column to integer type\n",
    "df['Time'] = pd.to_numeric(df['Time'])"
   ]
  },
  {
   "cell_type": "code",
   "execution_count": 269,
   "metadata": {},
   "outputs": [
    {
     "data": {
      "text/plain": [
       "count    1000.000000\n",
       "mean     1521.098000\n",
       "std       318.704265\n",
       "min      1000.000000\n",
       "25%      1243.000000\n",
       "50%      1519.000000\n",
       "75%      1815.000000\n",
       "max      2059.000000\n",
       "Name: Time, dtype: float64"
      ]
     },
     "execution_count": 269,
     "metadata": {},
     "output_type": "execute_result"
    }
   ],
   "source": [
    "df['Time'].describe()"
   ]
  },
  {
   "cell_type": "code",
   "execution_count": 270,
   "metadata": {},
   "outputs": [
    {
     "data": {
      "text/html": [
       "<div>\n",
       "<style scoped>\n",
       "    .dataframe tbody tr th:only-of-type {\n",
       "        vertical-align: middle;\n",
       "    }\n",
       "\n",
       "    .dataframe tbody tr th {\n",
       "        vertical-align: top;\n",
       "    }\n",
       "\n",
       "    .dataframe thead th {\n",
       "        text-align: right;\n",
       "    }\n",
       "</style>\n",
       "<table border=\"1\" class=\"dataframe\">\n",
       "  <thead>\n",
       "    <tr style=\"text-align: right;\">\n",
       "      <th></th>\n",
       "      <th>Invoice ID</th>\n",
       "      <th>Branch</th>\n",
       "      <th>City</th>\n",
       "      <th>Customer type</th>\n",
       "      <th>Gender</th>\n",
       "      <th>Product line</th>\n",
       "      <th>Unit price</th>\n",
       "      <th>Quantity</th>\n",
       "      <th>Tax 5%</th>\n",
       "      <th>Total</th>\n",
       "      <th>Date</th>\n",
       "      <th>Time</th>\n",
       "      <th>Payment</th>\n",
       "      <th>cogs</th>\n",
       "      <th>gross margin percentage</th>\n",
       "      <th>gross income</th>\n",
       "      <th>Rating</th>\n",
       "    </tr>\n",
       "  </thead>\n",
       "  <tbody>\n",
       "    <tr>\n",
       "      <th>0</th>\n",
       "      <td>75006708428</td>\n",
       "      <td>A</td>\n",
       "      <td>Yangon</td>\n",
       "      <td>Member</td>\n",
       "      <td>Female</td>\n",
       "      <td>Health and beauty</td>\n",
       "      <td>74.69</td>\n",
       "      <td>7</td>\n",
       "      <td>26.1415</td>\n",
       "      <td>548.9715</td>\n",
       "      <td>1.546672e+09</td>\n",
       "      <td>1308</td>\n",
       "      <td>Ewallet</td>\n",
       "      <td>522.83</td>\n",
       "      <td>4.761905</td>\n",
       "      <td>26.1415</td>\n",
       "      <td>9.1</td>\n",
       "    </tr>\n",
       "    <tr>\n",
       "      <th>1</th>\n",
       "      <td>22603103081</td>\n",
       "      <td>C</td>\n",
       "      <td>Naypyitaw</td>\n",
       "      <td>Normal</td>\n",
       "      <td>Female</td>\n",
       "      <td>Electronic accessories</td>\n",
       "      <td>15.28</td>\n",
       "      <td>5</td>\n",
       "      <td>3.8200</td>\n",
       "      <td>80.2200</td>\n",
       "      <td>1.552028e+09</td>\n",
       "      <td>1029</td>\n",
       "      <td>Cash</td>\n",
       "      <td>76.40</td>\n",
       "      <td>4.761905</td>\n",
       "      <td>3.8200</td>\n",
       "      <td>9.6</td>\n",
       "    </tr>\n",
       "    <tr>\n",
       "      <th>2</th>\n",
       "      <td>63104103108</td>\n",
       "      <td>A</td>\n",
       "      <td>Yangon</td>\n",
       "      <td>Normal</td>\n",
       "      <td>Male</td>\n",
       "      <td>Home and lifestyle</td>\n",
       "      <td>46.33</td>\n",
       "      <td>7</td>\n",
       "      <td>16.2155</td>\n",
       "      <td>340.5255</td>\n",
       "      <td>1.551596e+09</td>\n",
       "      <td>1323</td>\n",
       "      <td>Credit card</td>\n",
       "      <td>324.31</td>\n",
       "      <td>4.761905</td>\n",
       "      <td>16.2155</td>\n",
       "      <td>7.4</td>\n",
       "    </tr>\n",
       "    <tr>\n",
       "      <th>3</th>\n",
       "      <td>12301901176</td>\n",
       "      <td>A</td>\n",
       "      <td>Yangon</td>\n",
       "      <td>Member</td>\n",
       "      <td>Male</td>\n",
       "      <td>Health and beauty</td>\n",
       "      <td>58.22</td>\n",
       "      <td>8</td>\n",
       "      <td>23.2880</td>\n",
       "      <td>489.0480</td>\n",
       "      <td>1.548572e+09</td>\n",
       "      <td>2033</td>\n",
       "      <td>Ewallet</td>\n",
       "      <td>465.76</td>\n",
       "      <td>4.761905</td>\n",
       "      <td>23.2880</td>\n",
       "      <td>8.4</td>\n",
       "    </tr>\n",
       "    <tr>\n",
       "      <th>4</th>\n",
       "      <td>37307307910</td>\n",
       "      <td>A</td>\n",
       "      <td>Yangon</td>\n",
       "      <td>Normal</td>\n",
       "      <td>Male</td>\n",
       "      <td>Sports and travel</td>\n",
       "      <td>86.31</td>\n",
       "      <td>7</td>\n",
       "      <td>30.2085</td>\n",
       "      <td>634.3785</td>\n",
       "      <td>1.549609e+09</td>\n",
       "      <td>1037</td>\n",
       "      <td>Ewallet</td>\n",
       "      <td>604.17</td>\n",
       "      <td>4.761905</td>\n",
       "      <td>30.2085</td>\n",
       "      <td>5.3</td>\n",
       "    </tr>\n",
       "  </tbody>\n",
       "</table>\n",
       "</div>"
      ],
      "text/plain": [
       "    Invoice ID Branch       City Customer type  Gender  \\\n",
       "0  75006708428      A     Yangon        Member  Female   \n",
       "1  22603103081      C  Naypyitaw        Normal  Female   \n",
       "2  63104103108      A     Yangon        Normal    Male   \n",
       "3  12301901176      A     Yangon        Member    Male   \n",
       "4  37307307910      A     Yangon        Normal    Male   \n",
       "\n",
       "             Product line  Unit price  Quantity   Tax 5%     Total  \\\n",
       "0       Health and beauty       74.69         7  26.1415  548.9715   \n",
       "1  Electronic accessories       15.28         5   3.8200   80.2200   \n",
       "2      Home and lifestyle       46.33         7  16.2155  340.5255   \n",
       "3       Health and beauty       58.22         8  23.2880  489.0480   \n",
       "4       Sports and travel       86.31         7  30.2085  634.3785   \n",
       "\n",
       "           Date  Time      Payment    cogs  gross margin percentage  \\\n",
       "0  1.546672e+09  1308      Ewallet  522.83                 4.761905   \n",
       "1  1.552028e+09  1029         Cash   76.40                 4.761905   \n",
       "2  1.551596e+09  1323  Credit card  324.31                 4.761905   \n",
       "3  1.548572e+09  2033      Ewallet  465.76                 4.761905   \n",
       "4  1.549609e+09  1037      Ewallet  604.17                 4.761905   \n",
       "\n",
       "   gross income  Rating  \n",
       "0       26.1415     9.1  \n",
       "1        3.8200     9.6  \n",
       "2       16.2155     7.4  \n",
       "3       23.2880     8.4  \n",
       "4       30.2085     5.3  "
      ]
     },
     "execution_count": 270,
     "metadata": {},
     "output_type": "execute_result"
    }
   ],
   "source": [
    "df.head()"
   ]
  },
  {
   "cell_type": "code",
   "execution_count": 271,
   "metadata": {},
   "outputs": [
    {
     "name": "stdout",
     "output_type": "stream",
     "text": [
      "<class 'pandas.core.frame.DataFrame'>\n",
      "RangeIndex: 1000 entries, 0 to 999\n",
      "Data columns (total 17 columns):\n",
      " #   Column                   Non-Null Count  Dtype  \n",
      "---  ------                   --------------  -----  \n",
      " 0   Invoice ID               1000 non-null   object \n",
      " 1   Branch                   1000 non-null   object \n",
      " 2   City                     1000 non-null   object \n",
      " 3   Customer type            1000 non-null   object \n",
      " 4   Gender                   1000 non-null   object \n",
      " 5   Product line             1000 non-null   object \n",
      " 6   Unit price               1000 non-null   float64\n",
      " 7   Quantity                 1000 non-null   int64  \n",
      " 8   Tax 5%                   1000 non-null   float64\n",
      " 9   Total                    1000 non-null   float64\n",
      " 10  Date                     1000 non-null   float64\n",
      " 11  Time                     1000 non-null   int64  \n",
      " 12  Payment                  1000 non-null   object \n",
      " 13  cogs                     1000 non-null   float64\n",
      " 14  gross margin percentage  1000 non-null   float64\n",
      " 15  gross income             1000 non-null   float64\n",
      " 16  Rating                   1000 non-null   float64\n",
      "dtypes: float64(8), int64(2), object(7)\n",
      "memory usage: 132.9+ KB\n"
     ]
    }
   ],
   "source": [
    "df.info()"
   ]
  },
  {
   "cell_type": "markdown",
   "metadata": {},
   "source": [
    "We need to change the type of categorical variables first,\n"
   ]
  },
  {
   "cell_type": "code",
   "execution_count": 272,
   "metadata": {},
   "outputs": [
    {
     "data": {
      "text/plain": [
       "Index(['Invoice ID', 'Branch', 'City', 'Customer type', 'Gender',\n",
       "       'Product line', 'Unit price', 'Quantity', 'Tax 5%', 'Total', 'Date',\n",
       "       'Time', 'Payment', 'cogs', 'gross margin percentage', 'gross income',\n",
       "       'Rating'],\n",
       "      dtype='object')"
      ]
     },
     "execution_count": 272,
     "metadata": {},
     "output_type": "execute_result"
    }
   ],
   "source": [
    "df.columns"
   ]
  },
  {
   "cell_type": "code",
   "execution_count": 273,
   "metadata": {},
   "outputs": [],
   "source": [
    "numeric = [\"Invoice ID\", \"Unit price\", \"Quantity\",'Tax 5%','Total','Date','Time','cogs','gross margin percentage','gross income','Rating']\n",
    "\n",
    "for col in numeric: \n",
    "    df[col] = pd.to_numeric(df[col], errors='coerce')\n",
    "\n",
    "categorical = [\"Branch\", \"City\", \"Customer type\", \"Gender\", \n",
    "\"Product line\", \"Payment\"]\n",
    "\n",
    "for col in categorical: \n",
    "    df[col] = df[col].astype(\"category\")"
   ]
  },
  {
   "cell_type": "code",
   "execution_count": 274,
   "metadata": {},
   "outputs": [
    {
     "name": "stdout",
     "output_type": "stream",
     "text": [
      "<class 'pandas.core.frame.DataFrame'>\n",
      "RangeIndex: 1000 entries, 0 to 999\n",
      "Data columns (total 17 columns):\n",
      " #   Column                   Non-Null Count  Dtype   \n",
      "---  ------                   --------------  -----   \n",
      " 0   Invoice ID               1000 non-null   int64   \n",
      " 1   Branch                   1000 non-null   category\n",
      " 2   City                     1000 non-null   category\n",
      " 3   Customer type            1000 non-null   category\n",
      " 4   Gender                   1000 non-null   category\n",
      " 5   Product line             1000 non-null   category\n",
      " 6   Unit price               1000 non-null   float64 \n",
      " 7   Quantity                 1000 non-null   int64   \n",
      " 8   Tax 5%                   1000 non-null   float64 \n",
      " 9   Total                    1000 non-null   float64 \n",
      " 10  Date                     1000 non-null   float64 \n",
      " 11  Time                     1000 non-null   int64   \n",
      " 12  Payment                  1000 non-null   category\n",
      " 13  cogs                     1000 non-null   float64 \n",
      " 14  gross margin percentage  1000 non-null   float64 \n",
      " 15  gross income             1000 non-null   float64 \n",
      " 16  Rating                   1000 non-null   float64 \n",
      "dtypes: category(6), float64(8), int64(3)\n",
      "memory usage: 92.8 KB\n"
     ]
    }
   ],
   "source": [
    "df.info()"
   ]
  },
  {
   "cell_type": "markdown",
   "metadata": {},
   "source": [
    "Next we need to drop the ID variable because it's irrelevant to our analysis."
   ]
  },
  {
   "cell_type": "code",
   "execution_count": 275,
   "metadata": {},
   "outputs": [],
   "source": [
    "df.drop('Invoice ID',axis=1, inplace=True)"
   ]
  },
  {
   "cell_type": "markdown",
   "metadata": {},
   "source": [
    "Next we check if there are any NA's, as can be seen, there are not any."
   ]
  },
  {
   "cell_type": "code",
   "execution_count": 276,
   "metadata": {},
   "outputs": [
    {
     "data": {
      "text/plain": [
       "Branch                     0\n",
       "City                       0\n",
       "Customer type              0\n",
       "Gender                     0\n",
       "Product line               0\n",
       "Unit price                 0\n",
       "Quantity                   0\n",
       "Tax 5%                     0\n",
       "Total                      0\n",
       "Date                       0\n",
       "Time                       0\n",
       "Payment                    0\n",
       "cogs                       0\n",
       "gross margin percentage    0\n",
       "gross income               0\n",
       "Rating                     0\n",
       "dtype: int64"
      ]
     },
     "execution_count": 276,
     "metadata": {},
     "output_type": "execute_result"
    }
   ],
   "source": [
    "df.isna().sum()  "
   ]
  },
  {
   "cell_type": "markdown",
   "metadata": {},
   "source": [
    "We checked the distribution of our target variable Price. As can be seen, there are a few outliers that need to be taken care of. Price is also very right skewed."
   ]
  },
  {
   "cell_type": "code",
   "execution_count": 277,
   "metadata": {},
   "outputs": [
    {
     "data": {
      "image/png": "[encoded data removed]",
      "text/plain": [
       "<Figure size 360x360 with 1 Axes>"
      ]
     },
     "metadata": {},
     "output_type": "display_data"
    },
    {
     "data": {
      "image/png": "[encoded data removed]",
      "text/plain": [
       "<Figure size 360x360 with 1 Axes>"
      ]
     },
     "metadata": {},
     "output_type": "display_data"
    }
   ],
   "source": [
    "target = np.log(df['Total']) \n",
    "df['TARGET'] = target\n",
    "\n",
    "# distribution plot of sale price\n",
    "sns.displot(df['Total'], kde=True, bins=50, rug=True)\n",
    "plt.show()\n",
    "\n",
    "# distribution plot of the log of sale price\n",
    "sns.displot(df['TARGET'], kde=True, bins=50, rug=True)\n",
    "plt.show()"
   ]
  },
  {
   "cell_type": "markdown",
   "metadata": {},
   "source": [
    "We dropped the outliers from Total and did a log transformation to make it more normal. We will use this trasformed variable for our entire anaylsis and drop price from the dataframe. We also dropped the variable Model from the dataframe because its a categorical variable but has a lot of unique observations, making it computationally difficult to use. This isn't a problem for machine learning, however, it is a problem for our laptops."
   ]
  },
  {
   "cell_type": "code",
   "execution_count": 278,
   "metadata": {},
   "outputs": [
    {
     "data": {
      "image/png": "[encoded data removed]",
      "text/plain": [
       "<Figure size 360x360 with 1 Axes>"
      ]
     },
     "metadata": {},
     "output_type": "display_data"
    },
    {
     "data": {
      "image/png": "[encoded data removed]",
      "text/plain": [
       "<Figure size 360x360 with 1 Axes>"
      ]
     },
     "metadata": {},
     "output_type": "display_data"
    }
   ],
   "source": [
    "target = np.log(df['Total']) \n",
    "df['TARGET'] = target\n",
    "\n",
    "# distribution plot of sale price\n",
    "sns.displot(df['Total'], kde=True, bins=50, rug=True)\n",
    "plt.show()\n",
    "\n",
    "# distribution plot of the log of sale price\n",
    "sns.displot(df['TARGET'], kde=True, bins=50, rug=True)\n",
    "plt.show()"
   ]
  },
  {
   "cell_type": "markdown",
   "metadata": {},
   "source": [
    "### EDA"
   ]
  },
  {
   "cell_type": "code",
   "execution_count": 279,
   "metadata": {},
   "outputs": [
    {
     "data": {
      "image/png": "[encoded data removed]",
      "text/plain": [
       "<Figure size 720x432 with 2 Axes>"
      ]
     },
     "metadata": {},
     "output_type": "display_data"
    }
   ],
   "source": [
    "plt.figure(figsize=(10,6))\n",
    "sns.heatmap(df.corr(), cmap='coolwarm',annot=True)\n",
    "plt.show()"
   ]
  },
  {
   "cell_type": "markdown",
   "metadata": {},
   "source": [
    "There is perfect colinearity. Variables  gross income, total, cogs ,and tax% need be droppped. "
   ]
  },
  {
   "cell_type": "code",
   "execution_count": 280,
   "metadata": {},
   "outputs": [],
   "source": [
    "df.drop(['Tax 5%','gross income','cogs','gross margin percentage'],axis=1, inplace=True)"
   ]
  },
  {
   "cell_type": "code",
   "execution_count": 281,
   "metadata": {},
   "outputs": [
    {
     "data": {
      "image/png": "[encoded data removed]",
      "text/plain": [
       "<Figure size 720x432 with 2 Axes>"
      ]
     },
     "metadata": {},
     "output_type": "display_data"
    }
   ],
   "source": [
    "plt.figure(figsize=(10,6))\n",
    "sns.heatmap(df.corr(), cmap='coolwarm',annot=True)\n",
    "plt.show()"
   ]
  },
  {
   "cell_type": "code",
   "execution_count": 282,
   "metadata": {},
   "outputs": [
    {
     "data": {
      "image/png": "[encoded data removed]",
      "text/plain": [
       "<Figure size 432x288 with 1 Axes>"
      ]
     },
     "metadata": {},
     "output_type": "display_data"
    }
   ],
   "source": [
    "plt.scatter(x='Total', y = 'Quantity', data = df)\n",
    "plt.title('Total vs. Quantity')\n",
    "plt.show()"
   ]
  },
  {
   "cell_type": "code",
   "execution_count": 283,
   "metadata": {},
   "outputs": [
    {
     "data": {
      "text/plain": [
       "<AxesSubplot:>"
      ]
     },
     "execution_count": 283,
     "metadata": {},
     "output_type": "execute_result"
    },
    {
     "data": {
      "image/png": "[encoded data removed]",
      "text/plain": [
       "<Figure size 432x288 with 1 Axes>"
      ]
     },
     "metadata": {},
     "output_type": "display_data"
    }
   ],
   "source": [
    "df['Time'].value_counts(bins=24,sort=False).head(24).plot.bar()"
   ]
  },
  {
   "cell_type": "code",
   "execution_count": 284,
   "metadata": {},
   "outputs": [
    {
     "data": {
      "text/plain": [
       "<AxesSubplot:>"
      ]
     },
     "execution_count": 284,
     "metadata": {},
     "output_type": "execute_result"
    },
    {
     "data": {
      "image/png": "[encoded data removed]",
      "text/plain": [
       "<Figure size 432x288 with 1 Axes>"
      ]
     },
     "metadata": {},
     "output_type": "display_data"
    }
   ],
   "source": [
    "df['Rating'].value_counts(sort=False,bins=20).head(20).plot.bar()"
   ]
  },
  {
   "cell_type": "code",
   "execution_count": 285,
   "metadata": {},
   "outputs": [
    {
     "data": {
      "image/png": "[encoded data removed]",
      "text/plain": [
       "<Figure size 1080x360 with 1 Axes>"
      ]
     },
     "metadata": {},
     "output_type": "display_data"
    }
   ],
   "source": [
    "plt.figure(figsize = (15,5))\n",
    "\n",
    "ax = sns.boxplot(x = 'Total', y = 'Branch', data = df)\n",
    "ax.set_xlabel('Total')\n",
    "ax.set_ylabel('Branch')\n",
    "plt.title('Total at each branch')\n",
    "plt.show()"
   ]
  },
  {
   "cell_type": "markdown",
   "metadata": {},
   "source": [
    "The above 2 plots show the variable category. This cariable represents the type of car for each observation. As can be seen, most of the observations are sedans, jeeps, and hatchbacks. The boxplots show the same thing we see before, all are rightskewed. Most of the higher priced vars are Jeeps, coupes, and Sedans."
   ]
  },
  {
   "cell_type": "markdown",
   "metadata": {},
   "source": [
    "### Last Cleaning"
   ]
  },
  {
   "cell_type": "markdown",
   "metadata": {},
   "source": [
    "The following lines make a new dataframe to use for our tree based methods, drop price, and makes the categorical variables dummies."
   ]
  },
  {
   "cell_type": "code",
   "execution_count": 286,
   "metadata": {},
   "outputs": [],
   "source": [
    "df_tree = df"
   ]
  },
  {
   "cell_type": "code",
   "execution_count": 287,
   "metadata": {},
   "outputs": [
    {
     "data": {
      "text/html": [
       "<div>\n",
       "<style scoped>\n",
       "    .dataframe tbody tr th:only-of-type {\n",
       "        vertical-align: middle;\n",
       "    }\n",
       "\n",
       "    .dataframe tbody tr th {\n",
       "        vertical-align: top;\n",
       "    }\n",
       "\n",
       "    .dataframe thead th {\n",
       "        text-align: right;\n",
       "    }\n",
       "</style>\n",
       "<table border=\"1\" class=\"dataframe\">\n",
       "  <thead>\n",
       "    <tr style=\"text-align: right;\">\n",
       "      <th></th>\n",
       "      <th>Branch</th>\n",
       "      <th>City</th>\n",
       "      <th>Customer type</th>\n",
       "      <th>Gender</th>\n",
       "      <th>Product line</th>\n",
       "      <th>Unit price</th>\n",
       "      <th>Quantity</th>\n",
       "      <th>Date</th>\n",
       "      <th>Time</th>\n",
       "      <th>Payment</th>\n",
       "      <th>Rating</th>\n",
       "      <th>TARGET</th>\n",
       "    </tr>\n",
       "  </thead>\n",
       "  <tbody>\n",
       "    <tr>\n",
       "      <th>0</th>\n",
       "      <td>A</td>\n",
       "      <td>Yangon</td>\n",
       "      <td>Member</td>\n",
       "      <td>Female</td>\n",
       "      <td>Health and beauty</td>\n",
       "      <td>74.69</td>\n",
       "      <td>7</td>\n",
       "      <td>1.546672e+09</td>\n",
       "      <td>1308</td>\n",
       "      <td>Ewallet</td>\n",
       "      <td>9.1</td>\n",
       "      <td>6.308047</td>\n",
       "    </tr>\n",
       "    <tr>\n",
       "      <th>1</th>\n",
       "      <td>C</td>\n",
       "      <td>Naypyitaw</td>\n",
       "      <td>Normal</td>\n",
       "      <td>Female</td>\n",
       "      <td>Electronic accessories</td>\n",
       "      <td>15.28</td>\n",
       "      <td>5</td>\n",
       "      <td>1.552028e+09</td>\n",
       "      <td>1029</td>\n",
       "      <td>Cash</td>\n",
       "      <td>9.6</td>\n",
       "      <td>4.384773</td>\n",
       "    </tr>\n",
       "    <tr>\n",
       "      <th>2</th>\n",
       "      <td>A</td>\n",
       "      <td>Yangon</td>\n",
       "      <td>Normal</td>\n",
       "      <td>Male</td>\n",
       "      <td>Home and lifestyle</td>\n",
       "      <td>46.33</td>\n",
       "      <td>7</td>\n",
       "      <td>1.551596e+09</td>\n",
       "      <td>1323</td>\n",
       "      <td>Credit card</td>\n",
       "      <td>7.4</td>\n",
       "      <td>5.830490</td>\n",
       "    </tr>\n",
       "    <tr>\n",
       "      <th>3</th>\n",
       "      <td>A</td>\n",
       "      <td>Yangon</td>\n",
       "      <td>Member</td>\n",
       "      <td>Male</td>\n",
       "      <td>Health and beauty</td>\n",
       "      <td>58.22</td>\n",
       "      <td>8</td>\n",
       "      <td>1.548572e+09</td>\n",
       "      <td>2033</td>\n",
       "      <td>Ewallet</td>\n",
       "      <td>8.4</td>\n",
       "      <td>6.192461</td>\n",
       "    </tr>\n",
       "    <tr>\n",
       "      <th>4</th>\n",
       "      <td>A</td>\n",
       "      <td>Yangon</td>\n",
       "      <td>Normal</td>\n",
       "      <td>Male</td>\n",
       "      <td>Sports and travel</td>\n",
       "      <td>86.31</td>\n",
       "      <td>7</td>\n",
       "      <td>1.549609e+09</td>\n",
       "      <td>1037</td>\n",
       "      <td>Ewallet</td>\n",
       "      <td>5.3</td>\n",
       "      <td>6.452646</td>\n",
       "    </tr>\n",
       "  </tbody>\n",
       "</table>\n",
       "</div>"
      ],
      "text/plain": [
       "  Branch       City Customer type  Gender            Product line  Unit price  \\\n",
       "0      A     Yangon        Member  Female       Health and beauty       74.69   \n",
       "1      C  Naypyitaw        Normal  Female  Electronic accessories       15.28   \n",
       "2      A     Yangon        Normal    Male      Home and lifestyle       46.33   \n",
       "3      A     Yangon        Member    Male       Health and beauty       58.22   \n",
       "4      A     Yangon        Normal    Male       Sports and travel       86.31   \n",
       "\n",
       "   Quantity          Date  Time      Payment  Rating    TARGET  \n",
       "0         7  1.546672e+09  1308      Ewallet     9.1  6.308047  \n",
       "1         5  1.552028e+09  1029         Cash     9.6  4.384773  \n",
       "2         7  1.551596e+09  1323  Credit card     7.4  5.830490  \n",
       "3         8  1.548572e+09  2033      Ewallet     8.4  6.192461  \n",
       "4         7  1.549609e+09  1037      Ewallet     5.3  6.452646  "
      ]
     },
     "execution_count": 287,
     "metadata": {},
     "output_type": "execute_result"
    }
   ],
   "source": [
    "df_tree.drop('Total',axis=1, inplace=True)\n",
    "df_tree.head()"
   ]
  },
  {
   "cell_type": "code",
   "execution_count": 288,
   "metadata": {},
   "outputs": [
    {
     "data": {
      "text/html": [
       "<div>\n",
       "<style scoped>\n",
       "    .dataframe tbody tr th:only-of-type {\n",
       "        vertical-align: middle;\n",
       "    }\n",
       "\n",
       "    .dataframe tbody tr th {\n",
       "        vertical-align: top;\n",
       "    }\n",
       "\n",
       "    .dataframe thead th {\n",
       "        text-align: right;\n",
       "    }\n",
       "</style>\n",
       "<table border=\"1\" class=\"dataframe\">\n",
       "  <thead>\n",
       "    <tr style=\"text-align: right;\">\n",
       "      <th></th>\n",
       "      <th>Unit price</th>\n",
       "      <th>Quantity</th>\n",
       "      <th>Date</th>\n",
       "      <th>Time</th>\n",
       "      <th>Rating</th>\n",
       "      <th>TARGET</th>\n",
       "      <th>Branch_A</th>\n",
       "      <th>Branch_B</th>\n",
       "      <th>Branch_C</th>\n",
       "      <th>City_Mandalay</th>\n",
       "      <th>...</th>\n",
       "      <th>Gender_Male</th>\n",
       "      <th>Product line_Electronic accessories</th>\n",
       "      <th>Product line_Fashion accessories</th>\n",
       "      <th>Product line_Food and beverages</th>\n",
       "      <th>Product line_Health and beauty</th>\n",
       "      <th>Product line_Home and lifestyle</th>\n",
       "      <th>Product line_Sports and travel</th>\n",
       "      <th>Payment_Cash</th>\n",
       "      <th>Payment_Credit card</th>\n",
       "      <th>Payment_Ewallet</th>\n",
       "    </tr>\n",
       "  </thead>\n",
       "  <tbody>\n",
       "    <tr>\n",
       "      <th>0</th>\n",
       "      <td>74.69</td>\n",
       "      <td>7</td>\n",
       "      <td>1.546672e+09</td>\n",
       "      <td>1308</td>\n",
       "      <td>9.1</td>\n",
       "      <td>6.308047</td>\n",
       "      <td>1</td>\n",
       "      <td>0</td>\n",
       "      <td>0</td>\n",
       "      <td>0</td>\n",
       "      <td>...</td>\n",
       "      <td>0</td>\n",
       "      <td>0</td>\n",
       "      <td>0</td>\n",
       "      <td>0</td>\n",
       "      <td>1</td>\n",
       "      <td>0</td>\n",
       "      <td>0</td>\n",
       "      <td>0</td>\n",
       "      <td>0</td>\n",
       "      <td>1</td>\n",
       "    </tr>\n",
       "    <tr>\n",
       "      <th>1</th>\n",
       "      <td>15.28</td>\n",
       "      <td>5</td>\n",
       "      <td>1.552028e+09</td>\n",
       "      <td>1029</td>\n",
       "      <td>9.6</td>\n",
       "      <td>4.384773</td>\n",
       "      <td>0</td>\n",
       "      <td>0</td>\n",
       "      <td>1</td>\n",
       "      <td>0</td>\n",
       "      <td>...</td>\n",
       "      <td>0</td>\n",
       "      <td>1</td>\n",
       "      <td>0</td>\n",
       "      <td>0</td>\n",
       "      <td>0</td>\n",
       "      <td>0</td>\n",
       "      <td>0</td>\n",
       "      <td>1</td>\n",
       "      <td>0</td>\n",
       "      <td>0</td>\n",
       "    </tr>\n",
       "    <tr>\n",
       "      <th>2</th>\n",
       "      <td>46.33</td>\n",
       "      <td>7</td>\n",
       "      <td>1.551596e+09</td>\n",
       "      <td>1323</td>\n",
       "      <td>7.4</td>\n",
       "      <td>5.830490</td>\n",
       "      <td>1</td>\n",
       "      <td>0</td>\n",
       "      <td>0</td>\n",
       "      <td>0</td>\n",
       "      <td>...</td>\n",
       "      <td>1</td>\n",
       "      <td>0</td>\n",
       "      <td>0</td>\n",
       "      <td>0</td>\n",
       "      <td>0</td>\n",
       "      <td>1</td>\n",
       "      <td>0</td>\n",
       "      <td>0</td>\n",
       "      <td>1</td>\n",
       "      <td>0</td>\n",
       "    </tr>\n",
       "    <tr>\n",
       "      <th>3</th>\n",
       "      <td>58.22</td>\n",
       "      <td>8</td>\n",
       "      <td>1.548572e+09</td>\n",
       "      <td>2033</td>\n",
       "      <td>8.4</td>\n",
       "      <td>6.192461</td>\n",
       "      <td>1</td>\n",
       "      <td>0</td>\n",
       "      <td>0</td>\n",
       "      <td>0</td>\n",
       "      <td>...</td>\n",
       "      <td>1</td>\n",
       "      <td>0</td>\n",
       "      <td>0</td>\n",
       "      <td>0</td>\n",
       "      <td>1</td>\n",
       "      <td>0</td>\n",
       "      <td>0</td>\n",
       "      <td>0</td>\n",
       "      <td>0</td>\n",
       "      <td>1</td>\n",
       "    </tr>\n",
       "    <tr>\n",
       "      <th>4</th>\n",
       "      <td>86.31</td>\n",
       "      <td>7</td>\n",
       "      <td>1.549609e+09</td>\n",
       "      <td>1037</td>\n",
       "      <td>5.3</td>\n",
       "      <td>6.452646</td>\n",
       "      <td>1</td>\n",
       "      <td>0</td>\n",
       "      <td>0</td>\n",
       "      <td>0</td>\n",
       "      <td>...</td>\n",
       "      <td>1</td>\n",
       "      <td>0</td>\n",
       "      <td>0</td>\n",
       "      <td>0</td>\n",
       "      <td>0</td>\n",
       "      <td>0</td>\n",
       "      <td>1</td>\n",
       "      <td>0</td>\n",
       "      <td>0</td>\n",
       "      <td>1</td>\n",
       "    </tr>\n",
       "  </tbody>\n",
       "</table>\n",
       "<p>5 rows × 25 columns</p>\n",
       "</div>"
      ],
      "text/plain": [
       "   Unit price  Quantity          Date  Time  Rating    TARGET  Branch_A  \\\n",
       "0       74.69         7  1.546672e+09  1308     9.1  6.308047         1   \n",
       "1       15.28         5  1.552028e+09  1029     9.6  4.384773         0   \n",
       "2       46.33         7  1.551596e+09  1323     7.4  5.830490         1   \n",
       "3       58.22         8  1.548572e+09  2033     8.4  6.192461         1   \n",
       "4       86.31         7  1.549609e+09  1037     5.3  6.452646         1   \n",
       "\n",
       "   Branch_B  Branch_C  City_Mandalay  ...  Gender_Male  \\\n",
       "0         0         0              0  ...            0   \n",
       "1         0         1              0  ...            0   \n",
       "2         0         0              0  ...            1   \n",
       "3         0         0              0  ...            1   \n",
       "4         0         0              0  ...            1   \n",
       "\n",
       "   Product line_Electronic accessories  Product line_Fashion accessories  \\\n",
       "0                                    0                                 0   \n",
       "1                                    1                                 0   \n",
       "2                                    0                                 0   \n",
       "3                                    0                                 0   \n",
       "4                                    0                                 0   \n",
       "\n",
       "   Product line_Food and beverages  Product line_Health and beauty  \\\n",
       "0                                0                               1   \n",
       "1                                0                               0   \n",
       "2                                0                               0   \n",
       "3                                0                               1   \n",
       "4                                0                               0   \n",
       "\n",
       "   Product line_Home and lifestyle  Product line_Sports and travel  \\\n",
       "0                                0                               0   \n",
       "1                                0                               0   \n",
       "2                                1                               0   \n",
       "3                                0                               0   \n",
       "4                                0                               1   \n",
       "\n",
       "   Payment_Cash  Payment_Credit card  Payment_Ewallet  \n",
       "0             0                    0                1  \n",
       "1             1                    0                0  \n",
       "2             0                    1                0  \n",
       "3             0                    0                1  \n",
       "4             0                    0                1  \n",
       "\n",
       "[5 rows x 25 columns]"
      ]
     },
     "execution_count": 288,
     "metadata": {},
     "output_type": "execute_result"
    }
   ],
   "source": [
    "df = pd.get_dummies(df)\n",
    "df.head()"
   ]
  },
  {
   "cell_type": "markdown",
   "metadata": {},
   "source": [
    "Scaling the Features"
   ]
  },
  {
   "cell_type": "code",
   "execution_count": 289,
   "metadata": {},
   "outputs": [
    {
     "data": {
      "text/html": [
       "<div>\n",
       "<style scoped>\n",
       "    .dataframe tbody tr th:only-of-type {\n",
       "        vertical-align: middle;\n",
       "    }\n",
       "\n",
       "    .dataframe tbody tr th {\n",
       "        vertical-align: top;\n",
       "    }\n",
       "\n",
       "    .dataframe thead th {\n",
       "        text-align: right;\n",
       "    }\n",
       "</style>\n",
       "<table border=\"1\" class=\"dataframe\">\n",
       "  <thead>\n",
       "    <tr style=\"text-align: right;\">\n",
       "      <th></th>\n",
       "      <th>Unit price</th>\n",
       "      <th>Quantity</th>\n",
       "      <th>Date</th>\n",
       "      <th>Time</th>\n",
       "      <th>Rating</th>\n",
       "      <th>TARGET</th>\n",
       "      <th>Branch_A</th>\n",
       "      <th>Branch_B</th>\n",
       "      <th>Branch_C</th>\n",
       "      <th>City_Mandalay</th>\n",
       "      <th>...</th>\n",
       "      <th>Gender_Male</th>\n",
       "      <th>Product line_Electronic accessories</th>\n",
       "      <th>Product line_Fashion accessories</th>\n",
       "      <th>Product line_Food and beverages</th>\n",
       "      <th>Product line_Health and beauty</th>\n",
       "      <th>Product line_Home and lifestyle</th>\n",
       "      <th>Product line_Sports and travel</th>\n",
       "      <th>Payment_Cash</th>\n",
       "      <th>Payment_Credit card</th>\n",
       "      <th>Payment_Ewallet</th>\n",
       "    </tr>\n",
       "  </thead>\n",
       "  <tbody>\n",
       "    <tr>\n",
       "      <th>0</th>\n",
       "      <td>74.69</td>\n",
       "      <td>7</td>\n",
       "      <td>-1.593595</td>\n",
       "      <td>-0.668973</td>\n",
       "      <td>1.238443</td>\n",
       "      <td>6.308047</td>\n",
       "      <td>1</td>\n",
       "      <td>0</td>\n",
       "      <td>0</td>\n",
       "      <td>0</td>\n",
       "      <td>...</td>\n",
       "      <td>0</td>\n",
       "      <td>0</td>\n",
       "      <td>0</td>\n",
       "      <td>0</td>\n",
       "      <td>1</td>\n",
       "      <td>0</td>\n",
       "      <td>0</td>\n",
       "      <td>0</td>\n",
       "      <td>0</td>\n",
       "      <td>1</td>\n",
       "    </tr>\n",
       "    <tr>\n",
       "      <th>1</th>\n",
       "      <td>15.28</td>\n",
       "      <td>5</td>\n",
       "      <td>0.876784</td>\n",
       "      <td>-1.544831</td>\n",
       "      <td>1.529527</td>\n",
       "      <td>4.384773</td>\n",
       "      <td>0</td>\n",
       "      <td>0</td>\n",
       "      <td>1</td>\n",
       "      <td>0</td>\n",
       "      <td>...</td>\n",
       "      <td>0</td>\n",
       "      <td>1</td>\n",
       "      <td>0</td>\n",
       "      <td>0</td>\n",
       "      <td>0</td>\n",
       "      <td>0</td>\n",
       "      <td>0</td>\n",
       "      <td>1</td>\n",
       "      <td>0</td>\n",
       "      <td>0</td>\n",
       "    </tr>\n",
       "    <tr>\n",
       "      <th>2</th>\n",
       "      <td>46.33</td>\n",
       "      <td>7</td>\n",
       "      <td>0.677559</td>\n",
       "      <td>-0.621884</td>\n",
       "      <td>0.248760</td>\n",
       "      <td>5.830490</td>\n",
       "      <td>1</td>\n",
       "      <td>0</td>\n",
       "      <td>0</td>\n",
       "      <td>0</td>\n",
       "      <td>...</td>\n",
       "      <td>1</td>\n",
       "      <td>0</td>\n",
       "      <td>0</td>\n",
       "      <td>0</td>\n",
       "      <td>0</td>\n",
       "      <td>1</td>\n",
       "      <td>0</td>\n",
       "      <td>0</td>\n",
       "      <td>1</td>\n",
       "      <td>0</td>\n",
       "    </tr>\n",
       "    <tr>\n",
       "      <th>3</th>\n",
       "      <td>58.22</td>\n",
       "      <td>8</td>\n",
       "      <td>-0.717009</td>\n",
       "      <td>1.607001</td>\n",
       "      <td>0.830927</td>\n",
       "      <td>6.192461</td>\n",
       "      <td>1</td>\n",
       "      <td>0</td>\n",
       "      <td>0</td>\n",
       "      <td>0</td>\n",
       "      <td>...</td>\n",
       "      <td>1</td>\n",
       "      <td>0</td>\n",
       "      <td>0</td>\n",
       "      <td>0</td>\n",
       "      <td>1</td>\n",
       "      <td>0</td>\n",
       "      <td>0</td>\n",
       "      <td>0</td>\n",
       "      <td>0</td>\n",
       "      <td>1</td>\n",
       "    </tr>\n",
       "    <tr>\n",
       "      <th>4</th>\n",
       "      <td>86.31</td>\n",
       "      <td>7</td>\n",
       "      <td>-0.238871</td>\n",
       "      <td>-1.519717</td>\n",
       "      <td>-0.973790</td>\n",
       "      <td>6.452646</td>\n",
       "      <td>1</td>\n",
       "      <td>0</td>\n",
       "      <td>0</td>\n",
       "      <td>0</td>\n",
       "      <td>...</td>\n",
       "      <td>1</td>\n",
       "      <td>0</td>\n",
       "      <td>0</td>\n",
       "      <td>0</td>\n",
       "      <td>0</td>\n",
       "      <td>0</td>\n",
       "      <td>1</td>\n",
       "      <td>0</td>\n",
       "      <td>0</td>\n",
       "      <td>1</td>\n",
       "    </tr>\n",
       "  </tbody>\n",
       "</table>\n",
       "<p>5 rows × 25 columns</p>\n",
       "</div>"
      ],
      "text/plain": [
       "   Unit price  Quantity      Date      Time    Rating    TARGET  Branch_A  \\\n",
       "0       74.69         7 -1.593595 -0.668973  1.238443  6.308047         1   \n",
       "1       15.28         5  0.876784 -1.544831  1.529527  4.384773         0   \n",
       "2       46.33         7  0.677559 -0.621884  0.248760  5.830490         1   \n",
       "3       58.22         8 -0.717009  1.607001  0.830927  6.192461         1   \n",
       "4       86.31         7 -0.238871 -1.519717 -0.973790  6.452646         1   \n",
       "\n",
       "   Branch_B  Branch_C  City_Mandalay  ...  Gender_Male  \\\n",
       "0         0         0              0  ...            0   \n",
       "1         0         1              0  ...            0   \n",
       "2         0         0              0  ...            1   \n",
       "3         0         0              0  ...            1   \n",
       "4         0         0              0  ...            1   \n",
       "\n",
       "   Product line_Electronic accessories  Product line_Fashion accessories  \\\n",
       "0                                    0                                 0   \n",
       "1                                    1                                 0   \n",
       "2                                    0                                 0   \n",
       "3                                    0                                 0   \n",
       "4                                    0                                 0   \n",
       "\n",
       "   Product line_Food and beverages  Product line_Health and beauty  \\\n",
       "0                                0                               1   \n",
       "1                                0                               0   \n",
       "2                                0                               0   \n",
       "3                                0                               1   \n",
       "4                                0                               0   \n",
       "\n",
       "   Product line_Home and lifestyle  Product line_Sports and travel  \\\n",
       "0                                0                               0   \n",
       "1                                0                               0   \n",
       "2                                1                               0   \n",
       "3                                0                               0   \n",
       "4                                0                               1   \n",
       "\n",
       "   Payment_Cash  Payment_Credit card  Payment_Ewallet  \n",
       "0             0                    0                1  \n",
       "1             1                    0                0  \n",
       "2             0                    1                0  \n",
       "3             0                    0                1  \n",
       "4             0                    0                1  \n",
       "\n",
       "[5 rows x 25 columns]"
      ]
     },
     "execution_count": 289,
     "metadata": {},
     "output_type": "execute_result"
    }
   ],
   "source": [
    "from sklearn.preprocessing import StandardScaler\n",
    "scaler=StandardScaler()\n",
    "df_temp = df[[\"Time\", \"Date\",\"Rating\"]]\n",
    "df_sc = df\n",
    "df_sc_temp = scaler.fit_transform(df_temp)\n",
    "df_sc_temp = pd.DataFrame(df_sc_temp, columns=df_temp.columns)\n",
    "\n",
    "df_sc[\"Time\"] = df_sc_temp[\"Time\"]\n",
    "df_sc[\"Date\"] = df_sc_temp[\"Date\"]\n",
    "df_sc[\"Rating\"] = df_sc_temp[\"Rating\"]\n",
    "\n",
    "df_sc.head()"
   ]
  },
  {
   "cell_type": "code",
   "execution_count": 290,
   "metadata": {},
   "outputs": [],
   "source": [
    "df_sc.isna().sum() \n",
    "df_sc = df_sc.dropna()"
   ]
  },
  {
   "cell_type": "markdown",
   "metadata": {},
   "source": [
    "### Linear Regression"
   ]
  },
  {
   "cell_type": "code",
   "execution_count": 291,
   "metadata": {},
   "outputs": [
    {
     "data": {
      "text/plain": [
       "0.8"
      ]
     },
     "execution_count": 291,
     "metadata": {},
     "output_type": "execute_result"
    }
   ],
   "source": [
    "y = df_sc['TARGET']\n",
    "X = df_sc.drop('TARGET', axis=1) # be careful inplace= False\n",
    "\n",
    "# This is what we used to split it.\n",
    "from sklearn.model_selection import train_test_split\n",
    "X_train, X_test, y_train, y_test = train_test_split(X, y, test_size=0.2, random_state=rand_state)\n",
    "\n",
    "# checking the percentage of training set!\n",
    "np.round(len(X_train)/len(X),3)"
   ]
  },
  {
   "cell_type": "code",
   "execution_count": 292,
   "metadata": {},
   "outputs": [
    {
     "data": {
      "text/plain": [
       "LinearRegression()"
      ]
     },
     "execution_count": 292,
     "metadata": {},
     "output_type": "execute_result"
    }
   ],
   "source": [
    "from sklearn.linear_model import LinearRegression  # (For machine learning approach we use sklearn package)\n",
    "import statsmodels.api as sm # (For econometrics approach we use statsmodels package)\n",
    "\n",
    "reg_model = LinearRegression( )\n",
    "reg_model.fit(X_train, y_train)"
   ]
  },
  {
   "cell_type": "code",
   "execution_count": 293,
   "metadata": {},
   "outputs": [],
   "source": [
    "y_hat_test = reg_model.predict(X_test)"
   ]
  },
  {
   "cell_type": "code",
   "execution_count": 294,
   "metadata": {},
   "outputs": [
    {
     "data": {
      "text/html": [
       "<div>\n",
       "<style scoped>\n",
       "    .dataframe tbody tr th:only-of-type {\n",
       "        vertical-align: middle;\n",
       "    }\n",
       "\n",
       "    .dataframe tbody tr th {\n",
       "        vertical-align: top;\n",
       "    }\n",
       "\n",
       "    .dataframe thead th {\n",
       "        text-align: right;\n",
       "    }\n",
       "</style>\n",
       "<table border=\"1\" class=\"dataframe\">\n",
       "  <thead>\n",
       "    <tr style=\"text-align: right;\">\n",
       "      <th></th>\n",
       "      <th>y_test</th>\n",
       "      <th>y_hat_test</th>\n",
       "      <th>resid</th>\n",
       "    </tr>\n",
       "  </thead>\n",
       "  <tbody>\n",
       "    <tr>\n",
       "      <th>967</th>\n",
       "      <td>5.541975</td>\n",
       "      <td>5.361832</td>\n",
       "      <td>0.180143</td>\n",
       "    </tr>\n",
       "    <tr>\n",
       "      <th>713</th>\n",
       "      <td>4.874300</td>\n",
       "      <td>5.328479</td>\n",
       "      <td>-0.454179</td>\n",
       "    </tr>\n",
       "    <tr>\n",
       "      <th>222</th>\n",
       "      <td>4.127175</td>\n",
       "      <td>4.337441</td>\n",
       "      <td>-0.210266</td>\n",
       "    </tr>\n",
       "    <tr>\n",
       "      <th>321</th>\n",
       "      <td>3.723063</td>\n",
       "      <td>4.030614</td>\n",
       "      <td>-0.307551</td>\n",
       "    </tr>\n",
       "    <tr>\n",
       "      <th>898</th>\n",
       "      <td>6.444386</td>\n",
       "      <td>6.347258</td>\n",
       "      <td>0.097128</td>\n",
       "    </tr>\n",
       "  </tbody>\n",
       "</table>\n",
       "</div>"
      ],
      "text/plain": [
       "       y_test  y_hat_test     resid\n",
       "967  5.541975    5.361832  0.180143\n",
       "713  4.874300    5.328479 -0.454179\n",
       "222  4.127175    4.337441 -0.210266\n",
       "321  3.723063    4.030614 -0.307551\n",
       "898  6.444386    6.347258  0.097128"
      ]
     },
     "execution_count": 294,
     "metadata": {},
     "output_type": "execute_result"
    }
   ],
   "source": [
    "log_predictions = pd.DataFrame({'y_test':y_test, 'y_hat_test':y_hat_test, 'resid': y_test - y_hat_test})\n",
    "log_predictions.head()"
   ]
  },
  {
   "cell_type": "code",
   "execution_count": 295,
   "metadata": {},
   "outputs": [
    {
     "data": {
      "text/plain": [
       "0.293"
      ]
     },
     "execution_count": 295,
     "metadata": {},
     "output_type": "execute_result"
    }
   ],
   "source": [
    "MSE_test = np.mean(np.square(log_predictions['resid']))\n",
    "np.round(MSE_test,3)\n",
    "RMSE_test = np.sqrt(MSE_test)\n",
    "np.round(RMSE_test,3)"
   ]
  },
  {
   "cell_type": "markdown",
   "metadata": {},
   "source": [
    "5-fold Cross Validated RMSE for Linear Regression "
   ]
  },
  {
   "cell_type": "code",
   "execution_count": 296,
   "metadata": {},
   "outputs": [
    {
     "data": {
      "text/plain": [
       "0.273"
      ]
     },
     "execution_count": 296,
     "metadata": {},
     "output_type": "execute_result"
    }
   ],
   "source": [
    "from sklearn.model_selection import cross_val_score\n",
    "import sklearn.metrics\n",
    "\n",
    "my_estimator = LinearRegression()\n",
    "\n",
    "\n",
    "MSE_five = -cross_val_score(estimator=my_estimator, X=X_train, y=y_train, cv=5, scoring=\"neg_mean_squared_error\")\n",
    "RMSE_five = np.sqrt(MSE_five)\n",
    "RMSE_CV5 = np.mean(RMSE_five)\n",
    "np.round(RMSE_CV5,3)\n"
   ]
  },
  {
   "cell_type": "markdown",
   "metadata": {},
   "source": [
    "R-Squared for Linear Regression: .359"
   ]
  },
  {
   "cell_type": "code",
   "execution_count": 297,
   "metadata": {},
   "outputs": [
    {
     "data": {
      "text/html": [
       "<table class=\"simpletable\">\n",
       "<caption>OLS Regression Results</caption>\n",
       "<tr>\n",
       "  <th>Dep. Variable:</th>         <td>TARGET</td>      <th>  R-squared:         </th> <td>   0.922</td>\n",
       "</tr>\n",
       "<tr>\n",
       "  <th>Model:</th>                   <td>OLS</td>       <th>  Adj. R-squared:    </th> <td>   0.915</td>\n",
       "</tr>\n",
       "<tr>\n",
       "  <th>Method:</th>             <td>Least Squares</td>  <th>  F-statistic:       </th> <td>   135.6</td>\n",
       "</tr>\n",
       "<tr>\n",
       "  <th>Date:</th>             <td>Sat, 10 Dec 2022</td> <th>  Prob (F-statistic):</th> <td>2.77e-92</td>\n",
       "</tr>\n",
       "<tr>\n",
       "  <th>Time:</th>                 <td>21:53:29</td>     <th>  Log-Likelihood:    </th> <td> -22.224</td>\n",
       "</tr>\n",
       "<tr>\n",
       "  <th>No. Observations:</th>      <td>   200</td>      <th>  AIC:               </th> <td>   78.45</td>\n",
       "</tr>\n",
       "<tr>\n",
       "  <th>Df Residuals:</th>          <td>   183</td>      <th>  BIC:               </th> <td>   134.5</td>\n",
       "</tr>\n",
       "<tr>\n",
       "  <th>Df Model:</th>              <td>    16</td>      <th>                     </th>     <td> </td>   \n",
       "</tr>\n",
       "<tr>\n",
       "  <th>Covariance Type:</th>      <td>nonrobust</td>    <th>                     </th>     <td> </td>   \n",
       "</tr>\n",
       "</table>\n",
       "<table class=\"simpletable\">\n",
       "<tr>\n",
       "                   <td></td>                      <th>coef</th>     <th>std err</th>      <th>t</th>      <th>P>|t|</th>  <th>[0.025</th>    <th>0.975]</th>  \n",
       "</tr>\n",
       "<tr>\n",
       "  <th>Unit price</th>                          <td>    0.0211</td> <td>    0.001</td> <td>   26.913</td> <td> 0.000</td> <td>    0.020</td> <td>    0.023</td>\n",
       "</tr>\n",
       "<tr>\n",
       "  <th>Quantity</th>                            <td>    0.2387</td> <td>    0.007</td> <td>   34.150</td> <td> 0.000</td> <td>    0.225</td> <td>    0.252</td>\n",
       "</tr>\n",
       "<tr>\n",
       "  <th>Date</th>                                <td>   -0.0026</td> <td>    0.021</td> <td>   -0.121</td> <td> 0.904</td> <td>   -0.045</td> <td>    0.040</td>\n",
       "</tr>\n",
       "<tr>\n",
       "  <th>Time</th>                                <td>    0.0156</td> <td>    0.021</td> <td>    0.735</td> <td> 0.464</td> <td>   -0.026</td> <td>    0.058</td>\n",
       "</tr>\n",
       "<tr>\n",
       "  <th>Rating</th>                              <td>    0.0288</td> <td>    0.022</td> <td>    1.283</td> <td> 0.201</td> <td>   -0.015</td> <td>    0.073</td>\n",
       "</tr>\n",
       "<tr>\n",
       "  <th>Branch_A</th>                            <td>    0.4680</td> <td>    0.017</td> <td>   26.747</td> <td> 0.000</td> <td>    0.433</td> <td>    0.503</td>\n",
       "</tr>\n",
       "<tr>\n",
       "  <th>Branch_B</th>                            <td>    0.4633</td> <td>    0.017</td> <td>   27.083</td> <td> 0.000</td> <td>    0.430</td> <td>    0.497</td>\n",
       "</tr>\n",
       "<tr>\n",
       "  <th>Branch_C</th>                            <td>    0.4236</td> <td>    0.017</td> <td>   24.663</td> <td> 0.000</td> <td>    0.390</td> <td>    0.457</td>\n",
       "</tr>\n",
       "<tr>\n",
       "  <th>City_Mandalay</th>                       <td>    0.4633</td> <td>    0.017</td> <td>   27.083</td> <td> 0.000</td> <td>    0.430</td> <td>    0.497</td>\n",
       "</tr>\n",
       "<tr>\n",
       "  <th>City_Naypyitaw</th>                      <td>    0.4236</td> <td>    0.017</td> <td>   24.663</td> <td> 0.000</td> <td>    0.390</td> <td>    0.457</td>\n",
       "</tr>\n",
       "<tr>\n",
       "  <th>City_Yangon</th>                         <td>    0.4680</td> <td>    0.017</td> <td>   26.747</td> <td> 0.000</td> <td>    0.433</td> <td>    0.503</td>\n",
       "</tr>\n",
       "<tr>\n",
       "  <th>Customer type_Member</th>                <td>    0.7062</td> <td>    0.025</td> <td>   27.770</td> <td> 0.000</td> <td>    0.656</td> <td>    0.756</td>\n",
       "</tr>\n",
       "<tr>\n",
       "  <th>Customer type_Normal</th>                <td>    0.6487</td> <td>    0.025</td> <td>   26.280</td> <td> 0.000</td> <td>    0.600</td> <td>    0.697</td>\n",
       "</tr>\n",
       "<tr>\n",
       "  <th>Gender_Female</th>                       <td>    0.6693</td> <td>    0.026</td> <td>   25.914</td> <td> 0.000</td> <td>    0.618</td> <td>    0.720</td>\n",
       "</tr>\n",
       "<tr>\n",
       "  <th>Gender_Male</th>                         <td>    0.6856</td> <td>    0.024</td> <td>   28.070</td> <td> 0.000</td> <td>    0.637</td> <td>    0.734</td>\n",
       "</tr>\n",
       "<tr>\n",
       "  <th>Product line_Electronic accessories</th> <td>    0.2677</td> <td>    0.047</td> <td>    5.741</td> <td> 0.000</td> <td>    0.176</td> <td>    0.360</td>\n",
       "</tr>\n",
       "<tr>\n",
       "  <th>Product line_Fashion accessories</th>    <td>    0.1070</td> <td>    0.042</td> <td>    2.550</td> <td> 0.012</td> <td>    0.024</td> <td>    0.190</td>\n",
       "</tr>\n",
       "<tr>\n",
       "  <th>Product line_Food and beverages</th>     <td>    0.1904</td> <td>    0.048</td> <td>    3.950</td> <td> 0.000</td> <td>    0.095</td> <td>    0.286</td>\n",
       "</tr>\n",
       "<tr>\n",
       "  <th>Product line_Health and beauty</th>      <td>    0.1810</td> <td>    0.048</td> <td>    3.747</td> <td> 0.000</td> <td>    0.086</td> <td>    0.276</td>\n",
       "</tr>\n",
       "<tr>\n",
       "  <th>Product line_Home and lifestyle</th>     <td>    0.3515</td> <td>    0.048</td> <td>    7.339</td> <td> 0.000</td> <td>    0.257</td> <td>    0.446</td>\n",
       "</tr>\n",
       "<tr>\n",
       "  <th>Product line_Sports and travel</th>      <td>    0.2573</td> <td>    0.049</td> <td>    5.286</td> <td> 0.000</td> <td>    0.161</td> <td>    0.353</td>\n",
       "</tr>\n",
       "<tr>\n",
       "  <th>Payment_Cash</th>                        <td>    0.4660</td> <td>    0.030</td> <td>   15.620</td> <td> 0.000</td> <td>    0.407</td> <td>    0.525</td>\n",
       "</tr>\n",
       "<tr>\n",
       "  <th>Payment_Credit card</th>                 <td>    0.4092</td> <td>    0.032</td> <td>   12.754</td> <td> 0.000</td> <td>    0.346</td> <td>    0.472</td>\n",
       "</tr>\n",
       "<tr>\n",
       "  <th>Payment_Ewallet</th>                     <td>    0.4797</td> <td>    0.030</td> <td>   15.878</td> <td> 0.000</td> <td>    0.420</td> <td>    0.539</td>\n",
       "</tr>\n",
       "</table>\n",
       "<table class=\"simpletable\">\n",
       "<tr>\n",
       "  <th>Omnibus:</th>       <td>14.417</td> <th>  Durbin-Watson:     </th> <td>   2.342</td>\n",
       "</tr>\n",
       "<tr>\n",
       "  <th>Prob(Omnibus):</th> <td> 0.001</td> <th>  Jarque-Bera (JB):  </th> <td>  15.387</td>\n",
       "</tr>\n",
       "<tr>\n",
       "  <th>Skew:</th>          <td>-0.656</td> <th>  Prob(JB):          </th> <td>0.000456</td>\n",
       "</tr>\n",
       "<tr>\n",
       "  <th>Kurtosis:</th>      <td> 3.356</td> <th>  Cond. No.          </th> <td>9.66e+18</td>\n",
       "</tr>\n",
       "</table><br/><br/>Notes:<br/>[1] Standard Errors assume that the covariance matrix of the errors is correctly specified.<br/>[2] The smallest eigenvalue is 7.98e-33. This might indicate that there are<br/>strong multicollinearity problems or that the design matrix is singular."
      ],
      "text/plain": [
       "<class 'statsmodels.iolib.summary.Summary'>\n",
       "\"\"\"\n",
       "                            OLS Regression Results                            \n",
       "==============================================================================\n",
       "Dep. Variable:                 TARGET   R-squared:                       0.922\n",
       "Model:                            OLS   Adj. R-squared:                  0.915\n",
       "Method:                 Least Squares   F-statistic:                     135.6\n",
       "Date:                Sat, 10 Dec 2022   Prob (F-statistic):           2.77e-92\n",
       "Time:                        21:53:29   Log-Likelihood:                -22.224\n",
       "No. Observations:                 200   AIC:                             78.45\n",
       "Df Residuals:                     183   BIC:                             134.5\n",
       "Df Model:                          16                                         \n",
       "Covariance Type:            nonrobust                                         \n",
       "=======================================================================================================\n",
       "                                          coef    std err          t      P>|t|      [0.025      0.975]\n",
       "-------------------------------------------------------------------------------------------------------\n",
       "Unit price                              0.0211      0.001     26.913      0.000       0.020       0.023\n",
       "Quantity                                0.2387      0.007     34.150      0.000       0.225       0.252\n",
       "Date                                   -0.0026      0.021     -0.121      0.904      -0.045       0.040\n",
       "Time                                    0.0156      0.021      0.735      0.464      -0.026       0.058\n",
       "Rating                                  0.0288      0.022      1.283      0.201      -0.015       0.073\n",
       "Branch_A                                0.4680      0.017     26.747      0.000       0.433       0.503\n",
       "Branch_B                                0.4633      0.017     27.083      0.000       0.430       0.497\n",
       "Branch_C                                0.4236      0.017     24.663      0.000       0.390       0.457\n",
       "City_Mandalay                           0.4633      0.017     27.083      0.000       0.430       0.497\n",
       "City_Naypyitaw                          0.4236      0.017     24.663      0.000       0.390       0.457\n",
       "City_Yangon                             0.4680      0.017     26.747      0.000       0.433       0.503\n",
       "Customer type_Member                    0.7062      0.025     27.770      0.000       0.656       0.756\n",
       "Customer type_Normal                    0.6487      0.025     26.280      0.000       0.600       0.697\n",
       "Gender_Female                           0.6693      0.026     25.914      0.000       0.618       0.720\n",
       "Gender_Male                             0.6856      0.024     28.070      0.000       0.637       0.734\n",
       "Product line_Electronic accessories     0.2677      0.047      5.741      0.000       0.176       0.360\n",
       "Product line_Fashion accessories        0.1070      0.042      2.550      0.012       0.024       0.190\n",
       "Product line_Food and beverages         0.1904      0.048      3.950      0.000       0.095       0.286\n",
       "Product line_Health and beauty          0.1810      0.048      3.747      0.000       0.086       0.276\n",
       "Product line_Home and lifestyle         0.3515      0.048      7.339      0.000       0.257       0.446\n",
       "Product line_Sports and travel          0.2573      0.049      5.286      0.000       0.161       0.353\n",
       "Payment_Cash                            0.4660      0.030     15.620      0.000       0.407       0.525\n",
       "Payment_Credit card                     0.4092      0.032     12.754      0.000       0.346       0.472\n",
       "Payment_Ewallet                         0.4797      0.030     15.878      0.000       0.420       0.539\n",
       "==============================================================================\n",
       "Omnibus:                       14.417   Durbin-Watson:                   2.342\n",
       "Prob(Omnibus):                  0.001   Jarque-Bera (JB):               15.387\n",
       "Skew:                          -0.656   Prob(JB):                     0.000456\n",
       "Kurtosis:                       3.356   Cond. No.                     9.66e+18\n",
       "==============================================================================\n",
       "\n",
       "Notes:\n",
       "[1] Standard Errors assume that the covariance matrix of the errors is correctly specified.\n",
       "[2] The smallest eigenvalue is 7.98e-33. This might indicate that there are\n",
       "strong multicollinearity problems or that the design matrix is singular.\n",
       "\"\"\""
      ]
     },
     "execution_count": 297,
     "metadata": {},
     "output_type": "execute_result"
    }
   ],
   "source": [
    "reg_model = LinearRegression()\n",
    "reg_model.fit(X_train, y_train)\n",
    "\n",
    "X_train_wc = sm.add_constant(X_train)\n",
    "X_test_wc = sm.add_constant(X_test)\n",
    "\n",
    "sm.OLS(y_test, X_test).fit().summary()"
   ]
  },
  {
   "cell_type": "markdown",
   "metadata": {},
   "source": [
    "Regularization\n"
   ]
  },
  {
   "cell_type": "markdown",
   "metadata": {},
   "source": [
    "We need to find the optimal alphas for each method. The following code does that, and the lines after show the optimal alphas."
   ]
  },
  {
   "cell_type": "code",
   "execution_count": 298,
   "metadata": {},
   "outputs": [],
   "source": [
    "from sklearn.linear_model import LinearRegression, Ridge,RidgeCV, Lasso, LassoCV, ElasticNet, ElasticNetCV\n",
    "\n",
    "alpha_ridge = 10**np.linspace(-4,2,100)\n",
    "ridgecv = RidgeCV(alphas=alpha_ridge)\n",
    "ridgecv.fit(X_train, y_train)\n",
    "alpha_ridge_opt = ridgecv.alpha_\n",
    "\n",
    "# Optimal Lasso\n",
    "alpha_lasso = 10**np.linspace(-4,2,100)\n",
    "lassocv = LassoCV()\n",
    "lassocv.fit(X_train, y_train)\n",
    "alpha_lasso_opt = lassocv.alpha_\n",
    "\n",
    "# Optimal Elastic Net\n",
    "alpha_elasticnet = 10**np.linspace(-4,2,100)\n",
    "elasticnetcv = ElasticNetCV()\n",
    "elasticnetcv.fit(X_train, y_train)\n",
    "alpha_elasticnet_opt = elasticnetcv.alpha_"
   ]
  },
  {
   "cell_type": "code",
   "execution_count": 299,
   "metadata": {},
   "outputs": [
    {
     "data": {
      "text/plain": [
       "0.04271450971416137"
      ]
     },
     "execution_count": 299,
     "metadata": {},
     "output_type": "execute_result"
    }
   ],
   "source": [
    "alpha_elasticnet_opt"
   ]
  },
  {
   "cell_type": "code",
   "execution_count": 300,
   "metadata": {},
   "outputs": [
    {
     "data": {
      "text/plain": [
       "0.022900684335368383"
      ]
     },
     "execution_count": 300,
     "metadata": {},
     "output_type": "execute_result"
    }
   ],
   "source": [
    "alpha_lasso_opt"
   ]
  },
  {
   "cell_type": "code",
   "execution_count": 301,
   "metadata": {},
   "outputs": [
    {
     "data": {
      "text/plain": [
       "100.0"
      ]
     },
     "execution_count": 301,
     "metadata": {},
     "output_type": "execute_result"
    }
   ],
   "source": [
    "alpha_ridge_opt"
   ]
  },
  {
   "cell_type": "code",
   "execution_count": 302,
   "metadata": {},
   "outputs": [
    {
     "data": {
      "text/html": [
       "<div>\n",
       "<style scoped>\n",
       "    .dataframe tbody tr th:only-of-type {\n",
       "        vertical-align: middle;\n",
       "    }\n",
       "\n",
       "    .dataframe tbody tr th {\n",
       "        vertical-align: top;\n",
       "    }\n",
       "\n",
       "    .dataframe thead th {\n",
       "        text-align: right;\n",
       "    }\n",
       "</style>\n",
       "<table border=\"1\" class=\"dataframe\">\n",
       "  <thead>\n",
       "    <tr style=\"text-align: right;\">\n",
       "      <th></th>\n",
       "      <th>y_test</th>\n",
       "      <th>y_hat_linear</th>\n",
       "      <th>y_hat_ridge</th>\n",
       "      <th>y_hat_lasso</th>\n",
       "      <th>y_hat_net</th>\n",
       "    </tr>\n",
       "  </thead>\n",
       "  <tbody>\n",
       "    <tr>\n",
       "      <th>967</th>\n",
       "      <td>5.541975</td>\n",
       "      <td>5.361832</td>\n",
       "      <td>5.376856</td>\n",
       "      <td>5.400056</td>\n",
       "      <td>5.401113</td>\n",
       "    </tr>\n",
       "    <tr>\n",
       "      <th>713</th>\n",
       "      <td>4.874300</td>\n",
       "      <td>5.328479</td>\n",
       "      <td>5.312656</td>\n",
       "      <td>5.323486</td>\n",
       "      <td>5.322102</td>\n",
       "    </tr>\n",
       "    <tr>\n",
       "      <th>222</th>\n",
       "      <td>4.127175</td>\n",
       "      <td>4.337441</td>\n",
       "      <td>4.352304</td>\n",
       "      <td>4.376912</td>\n",
       "      <td>4.377079</td>\n",
       "    </tr>\n",
       "    <tr>\n",
       "      <th>321</th>\n",
       "      <td>3.723063</td>\n",
       "      <td>4.030614</td>\n",
       "      <td>4.045938</td>\n",
       "      <td>4.062197</td>\n",
       "      <td>4.063964</td>\n",
       "    </tr>\n",
       "    <tr>\n",
       "      <th>898</th>\n",
       "      <td>6.444386</td>\n",
       "      <td>6.347258</td>\n",
       "      <td>6.351876</td>\n",
       "      <td>6.400972</td>\n",
       "      <td>6.400481</td>\n",
       "    </tr>\n",
       "  </tbody>\n",
       "</table>\n",
       "</div>"
      ],
      "text/plain": [
       "       y_test  y_hat_linear  y_hat_ridge  y_hat_lasso  y_hat_net\n",
       "967  5.541975      5.361832     5.376856     5.400056   5.401113\n",
       "713  4.874300      5.328479     5.312656     5.323486   5.322102\n",
       "222  4.127175      4.337441     4.352304     4.376912   4.377079\n",
       "321  3.723063      4.030614     4.045938     4.062197   4.063964\n",
       "898  6.444386      6.347258     6.351876     6.400972   6.400481"
      ]
     },
     "execution_count": 302,
     "metadata": {},
     "output_type": "execute_result"
    }
   ],
   "source": [
    "model_linear = LinearRegression()\n",
    "model_ridge = Ridge(alpha = alpha_ridge_opt)\n",
    "model_lasso = Lasso(alpha = alpha_lasso_opt)\n",
    "model_net = ElasticNet(alpha = alpha_elasticnet_opt)\n",
    "\n",
    "y_hat_linear= model_linear.fit(X_train, y_train).predict(X_test)\n",
    "y_hat_ridge = model_ridge.fit(X_train, y_train).predict(X_test)\n",
    "y_hat_lasso = model_lasso.fit(X_train, y_train).predict(X_test)\n",
    "y_hat_net   = model_net.fit(X_train, y_train).predict(X_test)\n",
    "\n",
    "df_predictions_optimal = pd.DataFrame({'y_test':y_test,\n",
    "                               'y_hat_linear':y_hat_linear,\n",
    "                               'y_hat_ridge':y_hat_ridge,\n",
    "                               'y_hat_lasso':y_hat_lasso,\n",
    "                               'y_hat_net':y_hat_net})\n",
    "df_predictions_optimal.head()"
   ]
  },
  {
   "cell_type": "markdown",
   "metadata": {},
   "source": [
    "RIDGE RMSE:"
   ]
  },
  {
   "cell_type": "code",
   "execution_count": 303,
   "metadata": {},
   "outputs": [
    {
     "data": {
      "text/plain": [
       "0.29284"
      ]
     },
     "execution_count": 303,
     "metadata": {},
     "output_type": "execute_result"
    }
   ],
   "source": [
    "MSE_test = np.mean(np.square(df_predictions_optimal['y_test'] - df_predictions_optimal['y_hat_ridge']))\n",
    "RMSE_test = np.sqrt(MSE_test)\n",
    "np.round(RMSE_test,5)"
   ]
  },
  {
   "cell_type": "markdown",
   "metadata": {},
   "source": [
    "LASSO RMSE:"
   ]
  },
  {
   "cell_type": "code",
   "execution_count": 304,
   "metadata": {},
   "outputs": [
    {
     "data": {
      "text/plain": [
       "0.291"
      ]
     },
     "execution_count": 304,
     "metadata": {},
     "output_type": "execute_result"
    }
   ],
   "source": [
    "MSE_test = np.mean(np.square(df_predictions_optimal['y_test'] - df_predictions_optimal['y_hat_lasso']))\n",
    "RMSE_test = np.sqrt(MSE_test)\n",
    "np.round(RMSE_test,3)"
   ]
  },
  {
   "cell_type": "markdown",
   "metadata": {},
   "source": [
    "ELASTIC NET RMSE:"
   ]
  },
  {
   "cell_type": "code",
   "execution_count": 305,
   "metadata": {},
   "outputs": [
    {
     "data": {
      "text/plain": [
       "0.291"
      ]
     },
     "execution_count": 305,
     "metadata": {},
     "output_type": "execute_result"
    }
   ],
   "source": [
    "MSE_test = np.mean(np.square(df_predictions_optimal['y_test'] - df_predictions_optimal['y_hat_net']))\n",
    "RMSE_test = np.sqrt(MSE_test)\n",
    "np.round(RMSE_test,3)"
   ]
  },
  {
   "cell_type": "code",
   "execution_count": 306,
   "metadata": {},
   "outputs": [
    {
     "data": {
      "text/plain": [
       "0.9097333660232595"
      ]
     },
     "execution_count": 306,
     "metadata": {},
     "output_type": "execute_result"
    }
   ],
   "source": [
    "model_net.score(X_test, y_test)"
   ]
  },
  {
   "cell_type": "code",
   "execution_count": 307,
   "metadata": {},
   "outputs": [
    {
     "data": {
      "text/plain": [
       "0.9098351269229572"
      ]
     },
     "execution_count": 307,
     "metadata": {},
     "output_type": "execute_result"
    }
   ],
   "source": [
    "model_lasso.score(X_test, y_test)"
   ]
  },
  {
   "cell_type": "code",
   "execution_count": 308,
   "metadata": {},
   "outputs": [
    {
     "data": {
      "text/plain": [
       "0.9087479013330727"
      ]
     },
     "execution_count": 308,
     "metadata": {},
     "output_type": "execute_result"
    }
   ],
   "source": [
    "model_ridge.score(X_test, y_test)"
   ]
  },
  {
   "cell_type": "markdown",
   "metadata": {},
   "source": [
    "All of these models had better RMSE's but worse R-squareds. They didn't take very long to run though which is nice."
   ]
  },
  {
   "cell_type": "markdown",
   "metadata": {},
   "source": [
    "KNN"
   ]
  },
  {
   "cell_type": "code",
   "execution_count": 309,
   "metadata": {},
   "outputs": [
    {
     "data": {
      "text/plain": [
       "KNeighborsRegressor()"
      ]
     },
     "execution_count": 309,
     "metadata": {},
     "output_type": "execute_result"
    }
   ],
   "source": [
    "from sklearn.neighbors import KNeighborsRegressor\n",
    "from sklearn.model_selection import cross_val_score\n",
    "\n",
    "KNN_regression = KNeighborsRegressor()\n",
    "KNN_regression.fit(X_train, y_train)\n"
   ]
  },
  {
   "cell_type": "markdown",
   "metadata": {},
   "source": [
    "R-Squared KNN not optimized"
   ]
  },
  {
   "cell_type": "code",
   "execution_count": 310,
   "metadata": {},
   "outputs": [
    {
     "data": {
      "text/plain": [
       "0.9351744395333844"
      ]
     },
     "execution_count": 310,
     "metadata": {},
     "output_type": "execute_result"
    }
   ],
   "source": [
    "KNN_regression.score(X_test, y_test)"
   ]
  },
  {
   "cell_type": "markdown",
   "metadata": {},
   "source": [
    "Cross Validated KNN RMSE with no optimization"
   ]
  },
  {
   "cell_type": "code",
   "execution_count": 311,
   "metadata": {},
   "outputs": [
    {
     "data": {
      "text/plain": [
       "0.2135"
      ]
     },
     "execution_count": 311,
     "metadata": {},
     "output_type": "execute_result"
    }
   ],
   "source": [
    "\n",
    "NMSE = cross_val_score(estimator = KNN_regression, X = X_train, y = y_train, cv = 5 , scoring=\"neg_mean_squared_error\" )\n",
    "MSE_CV = round(np.mean(-NMSE),4)\n",
    "RMSE_CV = round(np.sqrt(MSE_CV), 4)\n",
    "RMSE_CV"
   ]
  },
  {
   "cell_type": "code",
   "execution_count": 312,
   "metadata": {},
   "outputs": [
    {
     "data": {
      "image/png": "[encoded data removed]",
      "text/plain": [
       "<Figure size 720x360 with 1 Axes>"
      ]
     },
     "metadata": {},
     "output_type": "display_data"
    }
   ],
   "source": [
    "RMSE_CV=[]\n",
    "RMSE_test = []\n",
    "\n",
    "k=40\n",
    "\n",
    "for i in range(1,k):\n",
    "    KNN_i = KNeighborsRegressor(n_neighbors=i)\n",
    "    KNN_i.fit(X_train, y_train)\n",
    "    RMSE_i = np.sqrt(np.mean(-1*cross_val_score(estimator = KNN_i, X = X_train, y = y_train, cv = 5 , scoring=\"neg_mean_squared_error\" )))\n",
    "    RMSE_CV.append(RMSE_i)\n",
    "    \n",
    "    RMSE_test.append(np.sqrt(np.mean(np.square(y_test - KNN_i.predict(X_test)))))\n",
    "    \n",
    "optimal_k = pd.DataFrame({'RMSE_CV': np.round(RMSE_CV,2), 'RMSE_test':np.round(RMSE_test,2), 'K':range(1,k)})\n",
    "\n",
    "plt.figure(figsize=(10,5))\n",
    "sns.lineplot(data=optimal_k.drop('K', axis=1))\n",
    "plt.title('Cross Validated RMSE VS K')\n",
    "plt.xlabel('K')\n",
    "plt.ylabel('RMSE')\n",
    "plt.show()"
   ]
  },
  {
   "cell_type": "markdown",
   "metadata": {},
   "source": [
    "As can be seen, the optimal cross validated number of neighbors is 7."
   ]
  },
  {
   "cell_type": "markdown",
   "metadata": {},
   "source": [
    "Optimal K:"
   ]
  },
  {
   "cell_type": "code",
   "execution_count": 313,
   "metadata": {},
   "outputs": [
    {
     "data": {
      "text/plain": [
       "4"
      ]
     },
     "execution_count": 313,
     "metadata": {},
     "output_type": "execute_result"
    }
   ],
   "source": [
    "optimal_k.loc[np.argmin(optimal_k['RMSE_CV']), 'K']"
   ]
  },
  {
   "cell_type": "markdown",
   "metadata": {},
   "source": [
    "R-Squared for Optimum KNN"
   ]
  },
  {
   "cell_type": "code",
   "execution_count": 314,
   "metadata": {},
   "outputs": [
    {
     "data": {
      "text/plain": [
       "0.9272170945105935"
      ]
     },
     "execution_count": 314,
     "metadata": {},
     "output_type": "execute_result"
    }
   ],
   "source": [
    "KNN_regression = KNeighborsRegressor(n_neighbors=7)\n",
    "KNN_regression.fit(X_train, y_train)\n",
    "\n",
    "KNN_regression.score(X_test, y_test)"
   ]
  },
  {
   "cell_type": "markdown",
   "metadata": {},
   "source": [
    "RMSE for optimal KNN"
   ]
  },
  {
   "cell_type": "code",
   "execution_count": 315,
   "metadata": {},
   "outputs": [
    {
     "data": {
      "text/plain": [
       "0.2124"
      ]
     },
     "execution_count": 315,
     "metadata": {},
     "output_type": "execute_result"
    }
   ],
   "source": [
    "NMSE = cross_val_score(estimator = KNN_regression, X = X_train, y = y_train, cv = 5 , scoring=\"neg_mean_squared_error\" )\n",
    "MSE_CV = round(np.mean(-NMSE),4)\n",
    "RMSE_CV = round(np.sqrt(MSE_CV), 4)\n",
    "RMSE_CV"
   ]
  },
  {
   "cell_type": "markdown",
   "metadata": {},
   "source": [
    "KNN performs about the same as the linear regression model. It took longer to run too."
   ]
  },
  {
   "cell_type": "markdown",
   "metadata": {},
   "source": [
    "SVM\n"
   ]
  },
  {
   "cell_type": "code",
   "execution_count": 316,
   "metadata": {},
   "outputs": [],
   "source": [
    "from sklearn.svm import SVR\n",
    "\n",
    "SVM_regression = SVR()\n",
    "SVM_regression.fit(X_train, y_train)\n",
    "y_hat = SVM_regression.predict(X_test)"
   ]
  },
  {
   "cell_type": "markdown",
   "metadata": {},
   "source": [
    "5 fold CV RMSE for unoptimized SVM"
   ]
  },
  {
   "cell_type": "code",
   "execution_count": 317,
   "metadata": {},
   "outputs": [
    {
     "data": {
      "text/plain": [
       "0.2809"
      ]
     },
     "execution_count": 317,
     "metadata": {},
     "output_type": "execute_result"
    }
   ],
   "source": [
    "NMSE = cross_val_score(estimator = SVR(), X = X_train, y = y_train, cv = 5 , scoring=\"neg_mean_squared_error\" )\n",
    "MSE_CV = round(np.mean(-NMSE),4)\n",
    "RMSE_CV = round(np.sqrt(MSE_CV),4)\n",
    "RMSE_CV"
   ]
  },
  {
   "cell_type": "markdown",
   "metadata": {},
   "source": [
    "R-Squared for unoptimized SVM"
   ]
  },
  {
   "cell_type": "code",
   "execution_count": 318,
   "metadata": {},
   "outputs": [
    {
     "data": {
      "text/plain": [
       "0.8895777867828402"
      ]
     },
     "execution_count": 318,
     "metadata": {},
     "output_type": "execute_result"
    }
   ],
   "source": [
    "SVM_regression.score(X_test, y_test)"
   ]
  },
  {
   "cell_type": "code",
   "execution_count": 319,
   "metadata": {},
   "outputs": [
    {
     "name": "stdout",
     "output_type": "stream",
     "text": [
      "Fitting 5 folds for each of 9 candidates, totalling 45 fits\n",
      "[CV] END ...........................C=1, gamma=1, kernel=rbf; total time=   0.0s\n",
      "[CV] END ...........................C=1, gamma=1, kernel=rbf; total time=   0.0s\n",
      "[CV] END ...........................C=1, gamma=1, kernel=rbf; total time=   0.0s\n",
      "[CV] END ...........................C=1, gamma=1, kernel=rbf; total time=   0.0s\n",
      "[CV] END ...........................C=1, gamma=1, kernel=rbf; total time=   0.0s\n",
      "[CV] END .........................C=1, gamma=0.1, kernel=rbf; total time=   0.0s\n",
      "[CV] END .........................C=1, gamma=0.1, kernel=rbf; total time=   0.0s\n",
      "[CV] END .........................C=1, gamma=0.1, kernel=rbf; total time=   0.0s\n",
      "[CV] END .........................C=1, gamma=0.1, kernel=rbf; total time=   0.0s\n",
      "[CV] END .........................C=1, gamma=0.1, kernel=rbf; total time=   0.0s\n",
      "[CV] END ........................C=1, gamma=0.01, kernel=rbf; total time=   0.0s\n",
      "[CV] END ........................C=1, gamma=0.01, kernel=rbf; total time=   0.0s\n",
      "[CV] END ........................C=1, gamma=0.01, kernel=rbf; total time=   0.0s\n",
      "[CV] END ........................C=1, gamma=0.01, kernel=rbf; total time=   0.0s\n",
      "[CV] END ........................C=1, gamma=0.01, kernel=rbf; total time=   0.0s\n",
      "[CV] END ..........................C=10, gamma=1, kernel=rbf; total time=   0.0s\n",
      "[CV] END ..........................C=10, gamma=1, kernel=rbf; total time=   0.0s\n",
      "[CV] END ..........................C=10, gamma=1, kernel=rbf; total time=   0.0s\n",
      "[CV] END ..........................C=10, gamma=1, kernel=rbf; total time=   0.0s\n",
      "[CV] END ..........................C=10, gamma=1, kernel=rbf; total time=   0.0s\n",
      "[CV] END ........................C=10, gamma=0.1, kernel=rbf; total time=   0.0s\n",
      "[CV] END ........................C=10, gamma=0.1, kernel=rbf; total time=   0.0s\n",
      "[CV] END ........................C=10, gamma=0.1, kernel=rbf; total time=   0.0s\n",
      "[CV] END ........................C=10, gamma=0.1, kernel=rbf; total time=   0.0s\n",
      "[CV] END ........................C=10, gamma=0.1, kernel=rbf; total time=   0.0s\n",
      "[CV] END .......................C=10, gamma=0.01, kernel=rbf; total time=   0.0s\n",
      "[CV] END .......................C=10, gamma=0.01, kernel=rbf; total time=   0.0s\n",
      "[CV] END .......................C=10, gamma=0.01, kernel=rbf; total time=   0.0s\n",
      "[CV] END .......................C=10, gamma=0.01, kernel=rbf; total time=   0.0s\n",
      "[CV] END .......................C=10, gamma=0.01, kernel=rbf; total time=   0.0s\n",
      "[CV] END .........................C=100, gamma=1, kernel=rbf; total time=   0.0s\n",
      "[CV] END .........................C=100, gamma=1, kernel=rbf; total time=   0.0s\n",
      "[CV] END .........................C=100, gamma=1, kernel=rbf; total time=   0.0s\n",
      "[CV] END .........................C=100, gamma=1, kernel=rbf; total time=   0.0s\n",
      "[CV] END .........................C=100, gamma=1, kernel=rbf; total time=   0.0s\n",
      "[CV] END .......................C=100, gamma=0.1, kernel=rbf; total time=   0.0s\n",
      "[CV] END .......................C=100, gamma=0.1, kernel=rbf; total time=   0.0s\n",
      "[CV] END .......................C=100, gamma=0.1, kernel=rbf; total time=   0.0s\n",
      "[CV] END .......................C=100, gamma=0.1, kernel=rbf; total time=   0.0s\n",
      "[CV] END .......................C=100, gamma=0.1, kernel=rbf; total time=   0.0s\n",
      "[CV] END ......................C=100, gamma=0.01, kernel=rbf; total time=   0.0s\n",
      "[CV] END ......................C=100, gamma=0.01, kernel=rbf; total time=   0.0s\n",
      "[CV] END ......................C=100, gamma=0.01, kernel=rbf; total time=   0.0s\n",
      "[CV] END ......................C=100, gamma=0.01, kernel=rbf; total time=   0.0s\n",
      "[CV] END ......................C=100, gamma=0.01, kernel=rbf; total time=   0.0s\n"
     ]
    },
    {
     "data": {
      "text/plain": [
       "GridSearchCV(cv=5, estimator=SVR(),\n",
       "             param_grid={'C': [1, 10, 100], 'gamma': [1, 0.1, 0.01],\n",
       "                         'kernel': ['rbf']},\n",
       "             verbose=2)"
      ]
     },
     "execution_count": 319,
     "metadata": {},
     "output_type": "execute_result"
    }
   ],
   "source": [
    "from sklearn.model_selection import GridSearchCV\n",
    "\n",
    "my_param_grid = {'C': [1,10,100], 'gamma': [1,0.1,0.01], 'kernel': ['rbf']} \n",
    "\n",
    "GridSearchCV(estimator=SVR(),param_grid= my_param_grid, refit = True, verbose=3, cv=5 )\n",
    "\n",
    "grid = GridSearchCV(estimator=SVR(),param_grid= my_param_grid, refit = True, verbose=2, cv=5 , scoring=None)\n",
    "\n",
    "grid.fit(X_train,y_train)"
   ]
  },
  {
   "cell_type": "markdown",
   "metadata": {},
   "source": [
    "This took 2 hours, basically on the dot"
   ]
  },
  {
   "cell_type": "markdown",
   "metadata": {},
   "source": [
    "Optimized SVM hyperparameters"
   ]
  },
  {
   "cell_type": "code",
   "execution_count": 320,
   "metadata": {},
   "outputs": [
    {
     "data": {
      "text/plain": [
       "SVR(C=10, gamma=0.01)"
      ]
     },
     "execution_count": 320,
     "metadata": {},
     "output_type": "execute_result"
    }
   ],
   "source": [
    "grid.best_estimator_"
   ]
  },
  {
   "cell_type": "markdown",
   "metadata": {},
   "source": [
    "R-Squared for optimized SVM"
   ]
  },
  {
   "cell_type": "code",
   "execution_count": 321,
   "metadata": {},
   "outputs": [
    {
     "data": {
      "text/plain": [
       "0.9848999301237974"
      ]
     },
     "execution_count": 321,
     "metadata": {},
     "output_type": "execute_result"
    }
   ],
   "source": [
    "grid.score(X_test, y_test)"
   ]
  },
  {
   "cell_type": "markdown",
   "metadata": {},
   "source": [
    "RMSE for optimized SVM"
   ]
  },
  {
   "cell_type": "code",
   "execution_count": 322,
   "metadata": {},
   "outputs": [
    {
     "data": {
      "text/plain": [
       "0.3103"
      ]
     },
     "execution_count": 322,
     "metadata": {},
     "output_type": "execute_result"
    }
   ],
   "source": [
    "NMSE = cross_val_score(estimator = SVR(C=10, gamma = 0.1), X = X_train, y = y_train, cv = 5 , scoring=\"neg_mean_squared_error\" )\n",
    "MSE_CV = round(np.mean(-NMSE),4)\n",
    "RMSE_CV = round(np.sqrt(MSE_CV),4)\n",
    "RMSE_CV"
   ]
  },
  {
   "cell_type": "markdown",
   "metadata": {},
   "source": [
    "This RMSE took 14 minutes"
   ]
  },
  {
   "cell_type": "markdown",
   "metadata": {},
   "source": [
    "SVM performs better than the linear regression model. The r-squared jumped quite significantly."
   ]
  },
  {
   "cell_type": "markdown",
   "metadata": {},
   "source": [
    "### Decision Trees"
   ]
  },
  {
   "cell_type": "code",
   "execution_count": 325,
   "metadata": {},
   "outputs": [
    {
     "data": {
      "text/html": [
       "<div>\n",
       "<style scoped>\n",
       "    .dataframe tbody tr th:only-of-type {\n",
       "        vertical-align: middle;\n",
       "    }\n",
       "\n",
       "    .dataframe tbody tr th {\n",
       "        vertical-align: top;\n",
       "    }\n",
       "\n",
       "    .dataframe thead th {\n",
       "        text-align: right;\n",
       "    }\n",
       "</style>\n",
       "<table border=\"1\" class=\"dataframe\">\n",
       "  <thead>\n",
       "    <tr style=\"text-align: right;\">\n",
       "      <th></th>\n",
       "      <th>Branch</th>\n",
       "      <th>City</th>\n",
       "      <th>Customer type</th>\n",
       "      <th>Gender</th>\n",
       "      <th>Product line</th>\n",
       "      <th>Unit price</th>\n",
       "      <th>Quantity</th>\n",
       "      <th>Date</th>\n",
       "      <th>Time</th>\n",
       "      <th>Payment</th>\n",
       "      <th>Rating</th>\n",
       "      <th>TARGET</th>\n",
       "    </tr>\n",
       "  </thead>\n",
       "  <tbody>\n",
       "    <tr>\n",
       "      <th>0</th>\n",
       "      <td>A</td>\n",
       "      <td>Yangon</td>\n",
       "      <td>Member</td>\n",
       "      <td>Female</td>\n",
       "      <td>Health and beauty</td>\n",
       "      <td>74.69</td>\n",
       "      <td>7</td>\n",
       "      <td>-1.593595</td>\n",
       "      <td>-0.668973</td>\n",
       "      <td>Ewallet</td>\n",
       "      <td>1.238443</td>\n",
       "      <td>6.308047</td>\n",
       "    </tr>\n",
       "    <tr>\n",
       "      <th>1</th>\n",
       "      <td>C</td>\n",
       "      <td>Naypyitaw</td>\n",
       "      <td>Normal</td>\n",
       "      <td>Female</td>\n",
       "      <td>Electronic accessories</td>\n",
       "      <td>15.28</td>\n",
       "      <td>5</td>\n",
       "      <td>0.876784</td>\n",
       "      <td>-1.544831</td>\n",
       "      <td>Cash</td>\n",
       "      <td>1.529527</td>\n",
       "      <td>4.384773</td>\n",
       "    </tr>\n",
       "    <tr>\n",
       "      <th>2</th>\n",
       "      <td>A</td>\n",
       "      <td>Yangon</td>\n",
       "      <td>Normal</td>\n",
       "      <td>Male</td>\n",
       "      <td>Home and lifestyle</td>\n",
       "      <td>46.33</td>\n",
       "      <td>7</td>\n",
       "      <td>0.677559</td>\n",
       "      <td>-0.621884</td>\n",
       "      <td>Credit card</td>\n",
       "      <td>0.248760</td>\n",
       "      <td>5.830490</td>\n",
       "    </tr>\n",
       "    <tr>\n",
       "      <th>3</th>\n",
       "      <td>A</td>\n",
       "      <td>Yangon</td>\n",
       "      <td>Member</td>\n",
       "      <td>Male</td>\n",
       "      <td>Health and beauty</td>\n",
       "      <td>58.22</td>\n",
       "      <td>8</td>\n",
       "      <td>-0.717009</td>\n",
       "      <td>1.607001</td>\n",
       "      <td>Ewallet</td>\n",
       "      <td>0.830927</td>\n",
       "      <td>6.192461</td>\n",
       "    </tr>\n",
       "    <tr>\n",
       "      <th>4</th>\n",
       "      <td>A</td>\n",
       "      <td>Yangon</td>\n",
       "      <td>Normal</td>\n",
       "      <td>Male</td>\n",
       "      <td>Sports and travel</td>\n",
       "      <td>86.31</td>\n",
       "      <td>7</td>\n",
       "      <td>-0.238871</td>\n",
       "      <td>-1.519717</td>\n",
       "      <td>Ewallet</td>\n",
       "      <td>-0.973790</td>\n",
       "      <td>6.452646</td>\n",
       "    </tr>\n",
       "  </tbody>\n",
       "</table>\n",
       "</div>"
      ],
      "text/plain": [
       "  Branch       City Customer type  Gender            Product line  Unit price  \\\n",
       "0      A     Yangon        Member  Female       Health and beauty       74.69   \n",
       "1      C  Naypyitaw        Normal  Female  Electronic accessories       15.28   \n",
       "2      A     Yangon        Normal    Male      Home and lifestyle       46.33   \n",
       "3      A     Yangon        Member    Male       Health and beauty       58.22   \n",
       "4      A     Yangon        Normal    Male       Sports and travel       86.31   \n",
       "\n",
       "   Quantity      Date      Time      Payment    Rating    TARGET  \n",
       "0         7 -1.593595 -0.668973      Ewallet  1.238443  6.308047  \n",
       "1         5  0.876784 -1.544831         Cash  1.529527  4.384773  \n",
       "2         7  0.677559 -0.621884  Credit card  0.248760  5.830490  \n",
       "3         8 -0.717009  1.607001      Ewallet  0.830927  6.192461  \n",
       "4         7 -0.238871 -1.519717      Ewallet -0.973790  6.452646  "
      ]
     },
     "execution_count": 325,
     "metadata": {},
     "output_type": "execute_result"
    }
   ],
   "source": [
    "from sklearn.preprocessing import StandardScaler\n",
    "df_tree[\"Time\"] = df_sc[\"Time\"]\n",
    "df_tree[\"Date\"] = df_sc[\"Date\"]\n",
    "df_tree[\"Rating\"] = df_sc[\"Rating\"]\n",
    "\n",
    "df_tree.head()"
   ]
  },
  {
   "cell_type": "code",
   "execution_count": 334,
   "metadata": {},
   "outputs": [],
   "source": [
    "from sklearn.preprocessing import OrdinalEncoder\n",
    "\n",
    "ordinal_categorical = [\"City\", \"Branch\", \"Customer type\", \n",
    "\"Gender\", \"Product line\",\"Payment\"]\n",
    "\n",
    "enc = OrdinalEncoder()\n",
    "df_tree[ordinal_categorical]= enc.fit_transform(df_tree[ordinal_categorical])"
   ]
  },
  {
   "cell_type": "code",
   "execution_count": 335,
   "metadata": {},
   "outputs": [
    {
     "data": {
      "text/html": [
       "<div>\n",
       "<style scoped>\n",
       "    .dataframe tbody tr th:only-of-type {\n",
       "        vertical-align: middle;\n",
       "    }\n",
       "\n",
       "    .dataframe tbody tr th {\n",
       "        vertical-align: top;\n",
       "    }\n",
       "\n",
       "    .dataframe thead th {\n",
       "        text-align: right;\n",
       "    }\n",
       "</style>\n",
       "<table border=\"1\" class=\"dataframe\">\n",
       "  <thead>\n",
       "    <tr style=\"text-align: right;\">\n",
       "      <th></th>\n",
       "      <th>Branch</th>\n",
       "      <th>City</th>\n",
       "      <th>Customer type</th>\n",
       "      <th>Gender</th>\n",
       "      <th>Product line</th>\n",
       "      <th>Unit price</th>\n",
       "      <th>Quantity</th>\n",
       "      <th>Date</th>\n",
       "      <th>Time</th>\n",
       "      <th>Payment</th>\n",
       "      <th>Rating</th>\n",
       "      <th>TARGET</th>\n",
       "    </tr>\n",
       "  </thead>\n",
       "  <tbody>\n",
       "    <tr>\n",
       "      <th>0</th>\n",
       "      <td>0.0</td>\n",
       "      <td>2.0</td>\n",
       "      <td>0.0</td>\n",
       "      <td>0.0</td>\n",
       "      <td>3.0</td>\n",
       "      <td>74.69</td>\n",
       "      <td>7</td>\n",
       "      <td>-1.593595</td>\n",
       "      <td>-0.668973</td>\n",
       "      <td>2.0</td>\n",
       "      <td>1.238443</td>\n",
       "      <td>6.308047</td>\n",
       "    </tr>\n",
       "    <tr>\n",
       "      <th>1</th>\n",
       "      <td>2.0</td>\n",
       "      <td>1.0</td>\n",
       "      <td>1.0</td>\n",
       "      <td>0.0</td>\n",
       "      <td>0.0</td>\n",
       "      <td>15.28</td>\n",
       "      <td>5</td>\n",
       "      <td>0.876784</td>\n",
       "      <td>-1.544831</td>\n",
       "      <td>0.0</td>\n",
       "      <td>1.529527</td>\n",
       "      <td>4.384773</td>\n",
       "    </tr>\n",
       "    <tr>\n",
       "      <th>2</th>\n",
       "      <td>0.0</td>\n",
       "      <td>2.0</td>\n",
       "      <td>1.0</td>\n",
       "      <td>1.0</td>\n",
       "      <td>4.0</td>\n",
       "      <td>46.33</td>\n",
       "      <td>7</td>\n",
       "      <td>0.677559</td>\n",
       "      <td>-0.621884</td>\n",
       "      <td>1.0</td>\n",
       "      <td>0.248760</td>\n",
       "      <td>5.830490</td>\n",
       "    </tr>\n",
       "    <tr>\n",
       "      <th>3</th>\n",
       "      <td>0.0</td>\n",
       "      <td>2.0</td>\n",
       "      <td>0.0</td>\n",
       "      <td>1.0</td>\n",
       "      <td>3.0</td>\n",
       "      <td>58.22</td>\n",
       "      <td>8</td>\n",
       "      <td>-0.717009</td>\n",
       "      <td>1.607001</td>\n",
       "      <td>2.0</td>\n",
       "      <td>0.830927</td>\n",
       "      <td>6.192461</td>\n",
       "    </tr>\n",
       "    <tr>\n",
       "      <th>4</th>\n",
       "      <td>0.0</td>\n",
       "      <td>2.0</td>\n",
       "      <td>1.0</td>\n",
       "      <td>1.0</td>\n",
       "      <td>5.0</td>\n",
       "      <td>86.31</td>\n",
       "      <td>7</td>\n",
       "      <td>-0.238871</td>\n",
       "      <td>-1.519717</td>\n",
       "      <td>2.0</td>\n",
       "      <td>-0.973790</td>\n",
       "      <td>6.452646</td>\n",
       "    </tr>\n",
       "  </tbody>\n",
       "</table>\n",
       "</div>"
      ],
      "text/plain": [
       "   Branch  City  Customer type  Gender  Product line  Unit price  Quantity  \\\n",
       "0     0.0   2.0            0.0     0.0           3.0       74.69         7   \n",
       "1     2.0   1.0            1.0     0.0           0.0       15.28         5   \n",
       "2     0.0   2.0            1.0     1.0           4.0       46.33         7   \n",
       "3     0.0   2.0            0.0     1.0           3.0       58.22         8   \n",
       "4     0.0   2.0            1.0     1.0           5.0       86.31         7   \n",
       "\n",
       "       Date      Time  Payment    Rating    TARGET  \n",
       "0 -1.593595 -0.668973      2.0  1.238443  6.308047  \n",
       "1  0.876784 -1.544831      0.0  1.529527  4.384773  \n",
       "2  0.677559 -0.621884      1.0  0.248760  5.830490  \n",
       "3 -0.717009  1.607001      2.0  0.830927  6.192461  \n",
       "4 -0.238871 -1.519717      2.0 -0.973790  6.452646  "
      ]
     },
     "execution_count": 335,
     "metadata": {},
     "output_type": "execute_result"
    }
   ],
   "source": [
    "df_tree = df_tree.dropna()\n",
    "df_tree.head()"
   ]
  },
  {
   "cell_type": "code",
   "execution_count": 336,
   "metadata": {},
   "outputs": [],
   "source": [
    "y = df_tree['TARGET']\n",
    "X = df_tree.drop('TARGET', axis=1) # becareful inplace= False\n",
    "\n",
    "from sklearn.model_selection import train_test_split\n",
    "X_train, X_test, y_train, y_test = train_test_split(X, y, test_size=0.2, random_state=rand_state)"
   ]
  },
  {
   "cell_type": "code",
   "execution_count": 337,
   "metadata": {},
   "outputs": [
    {
     "data": {
      "text/plain": [
       "DecisionTreeRegressor()"
      ]
     },
     "execution_count": 337,
     "metadata": {},
     "output_type": "execute_result"
    }
   ],
   "source": [
    "from sklearn.tree import DecisionTreeRegressor\n",
    "Tree_regressor = DecisionTreeRegressor()\n",
    "Tree_regressor.fit(X_train, y_train)"
   ]
  },
  {
   "cell_type": "code",
   "execution_count": 338,
   "metadata": {},
   "outputs": [],
   "source": [
    "y_hat = Tree_regressor.predict(X_test)"
   ]
  },
  {
   "cell_type": "markdown",
   "metadata": {},
   "source": [
    "RMSE Decision Tree not Optimized"
   ]
  },
  {
   "cell_type": "code",
   "execution_count": 339,
   "metadata": {},
   "outputs": [
    {
     "data": {
      "text/plain": [
       "0.1"
      ]
     },
     "execution_count": 339,
     "metadata": {},
     "output_type": "execute_result"
    }
   ],
   "source": [
    "MSE_test = round(np.mean(np.square(y_test - y_hat)),2)\n",
    "RMSE_test = round(np.sqrt(MSE_test),2)\n",
    "RMSE_test"
   ]
  },
  {
   "cell_type": "code",
   "execution_count": 340,
   "metadata": {},
   "outputs": [
    {
     "data": {
      "text/plain": [
       "0.9938706916612312"
      ]
     },
     "execution_count": 340,
     "metadata": {},
     "output_type": "execute_result"
    }
   ],
   "source": [
    "Tree_regressor.score(X_test, y_test)"
   ]
  },
  {
   "cell_type": "code",
   "execution_count": 341,
   "metadata": {},
   "outputs": [
    {
     "data": {
      "text/html": [
       "<div>\n",
       "<style scoped>\n",
       "    .dataframe tbody tr th:only-of-type {\n",
       "        vertical-align: middle;\n",
       "    }\n",
       "\n",
       "    .dataframe tbody tr th {\n",
       "        vertical-align: top;\n",
       "    }\n",
       "\n",
       "    .dataframe thead th {\n",
       "        text-align: right;\n",
       "    }\n",
       "</style>\n",
       "<table border=\"1\" class=\"dataframe\">\n",
       "  <thead>\n",
       "    <tr style=\"text-align: right;\">\n",
       "      <th></th>\n",
       "      <th>alpha</th>\n",
       "      <th>RMSE_CV</th>\n",
       "    </tr>\n",
       "  </thead>\n",
       "  <tbody>\n",
       "    <tr>\n",
       "      <th>0</th>\n",
       "      <td>0.000000e+00</td>\n",
       "      <td>0.09355</td>\n",
       "    </tr>\n",
       "    <tr>\n",
       "      <th>1</th>\n",
       "      <td>8.997483e-12</td>\n",
       "      <td>0.09355</td>\n",
       "    </tr>\n",
       "    <tr>\n",
       "      <th>2</th>\n",
       "      <td>1.185623e-11</td>\n",
       "      <td>0.09355</td>\n",
       "    </tr>\n",
       "    <tr>\n",
       "      <th>3</th>\n",
       "      <td>2.667470e-11</td>\n",
       "      <td>0.09355</td>\n",
       "    </tr>\n",
       "    <tr>\n",
       "      <th>4</th>\n",
       "      <td>2.878733e-11</td>\n",
       "      <td>0.09355</td>\n",
       "    </tr>\n",
       "  </tbody>\n",
       "</table>\n",
       "</div>"
      ],
      "text/plain": [
       "          alpha  RMSE_CV\n",
       "0  0.000000e+00  0.09355\n",
       "1  8.997483e-12  0.09355\n",
       "2  1.185623e-11  0.09355\n",
       "3  2.667470e-11  0.09355\n",
       "4  2.878733e-11  0.09355"
      ]
     },
     "execution_count": 341,
     "metadata": {},
     "output_type": "execute_result"
    }
   ],
   "source": [
    "path = DecisionTreeRegressor().cost_complexity_pruning_path(X_train,y_train)\n",
    "ccp_alphas = path.ccp_alphas\n",
    "\n",
    "RMSE_CV=[]\n",
    "for alpha in ccp_alphas:\n",
    "    MSE = -cross_val_score(estimator = DecisionTreeRegressor(random_state=1,ccp_alpha=alpha), X = X_train, y = y_train, cv = 5 , scoring=\"neg_mean_squared_error\" )\n",
    "    RMSE_CV.append(np.sqrt(MSE).mean())\n",
    "    \n",
    "output = pd.DataFrame(list(ccp_alphas), columns=['alpha'])\n",
    "output['RMSE_CV']=RMSE_CV\n",
    "\n",
    "output.head()"
   ]
  },
  {
   "cell_type": "markdown",
   "metadata": {},
   "source": [
    "This took 297 minutes"
   ]
  },
  {
   "cell_type": "code",
   "execution_count": 342,
   "metadata": {},
   "outputs": [
    {
     "data": {
      "image/png": "[encoded data removed]",
      "text/plain": [
       "<Figure size 432x288 with 1 Axes>"
      ]
     },
     "metadata": {},
     "output_type": "display_data"
    }
   ],
   "source": [
    "sns.lineplot(x='alpha', y='RMSE_CV', data=output , color='r', label=\"RMSE_CV vs alpha\")\n",
    "plt.show()"
   ]
  },
  {
   "cell_type": "markdown",
   "metadata": {},
   "source": [
    "Optimal Alpha for Decision Tree"
   ]
  },
  {
   "cell_type": "code",
   "execution_count": 343,
   "metadata": {},
   "outputs": [
    {
     "data": {
      "text/plain": [
       "7.55344410139358e-07"
      ]
     },
     "execution_count": 343,
     "metadata": {},
     "output_type": "execute_result"
    }
   ],
   "source": [
    "optimal_alpha = output.iloc[np.argmin(output['RMSE_CV']),][0]\n",
    "optimal_alpha"
   ]
  },
  {
   "cell_type": "code",
   "execution_count": 344,
   "metadata": {},
   "outputs": [],
   "source": [
    "optimal_DT = DecisionTreeRegressor(ccp_alpha=optimal_alpha)\n",
    "optimal_DT.fit(X_train, y_train)\n",
    "y_hat_opt = optimal_DT.predict(X_test)"
   ]
  },
  {
   "cell_type": "markdown",
   "metadata": {},
   "source": [
    "RMSE for optimized Decision Tree"
   ]
  },
  {
   "cell_type": "code",
   "execution_count": 345,
   "metadata": {},
   "outputs": [
    {
     "data": {
      "text/plain": [
       "0.1"
      ]
     },
     "execution_count": 345,
     "metadata": {},
     "output_type": "execute_result"
    }
   ],
   "source": [
    "MSE_test = round(np.mean(np.square(y_test - y_hat_opt)),2)\n",
    "RMSE_test = round(np.sqrt(MSE_test),2)\n",
    "RMSE_test"
   ]
  },
  {
   "cell_type": "markdown",
   "metadata": {},
   "source": [
    "R-Squared for optimized Decision Tree"
   ]
  },
  {
   "cell_type": "code",
   "execution_count": 346,
   "metadata": {},
   "outputs": [
    {
     "data": {
      "text/plain": [
       "0.9935103763920607"
      ]
     },
     "execution_count": 346,
     "metadata": {},
     "output_type": "execute_result"
    }
   ],
   "source": [
    "optimal_DT.score(X_test, y_test)"
   ]
  },
  {
   "cell_type": "code",
   "execution_count": 347,
   "metadata": {},
   "outputs": [],
   "source": [
    "dtree= DecisionTreeRegressor(ccp_alpha=optimal_alpha)\n",
    "dtree.fit(X_train, y_train)\n",
    "price_hat = dtree.predict(X_test)"
   ]
  },
  {
   "cell_type": "code",
   "execution_count": 349,
   "metadata": {},
   "outputs": [
    {
     "data": {
      "image/png": "[encoded data removed]",
      "text/plain": [
       "<Figure size 1080x720 with 1 Axes>"
      ]
     },
     "metadata": {},
     "output_type": "display_data"
    }
   ],
   "source": [
    "from sklearn import tree\n",
    "\n",
    "fig = plt.figure(figsize=(15,10))\n",
    "DT_plot = tree.plot_tree(dtree, feature_names=X_train.columns, filled=True)"
   ]
  },
  {
   "cell_type": "markdown",
   "metadata": {},
   "source": [
    "This tree is quite bushy and difficult to interpret, but we thought we would include it just to show it off."
   ]
  },
  {
   "cell_type": "markdown",
   "metadata": {},
   "source": [
    "The decision tree performed quite a bit better than the linear regression benchmark. It took a long time to optimze though, which isn't ideal."
   ]
  },
  {
   "cell_type": "markdown",
   "metadata": {},
   "source": [
    "### Random Forest"
   ]
  },
  {
   "cell_type": "code",
   "execution_count": 350,
   "metadata": {},
   "outputs": [
    {
     "data": {
      "text/plain": [
       "RandomForestRegressor(random_state=1000)"
      ]
     },
     "execution_count": 350,
     "metadata": {},
     "output_type": "execute_result"
    }
   ],
   "source": [
    "from sklearn.ensemble import RandomForestRegressor\n",
    "\n",
    "RF_regression = RandomForestRegressor(random_state=rand_state)\n",
    "RF_regression.fit(X_train, y_train)"
   ]
  },
  {
   "cell_type": "code",
   "execution_count": 351,
   "metadata": {},
   "outputs": [],
   "source": [
    "y_hat = RF_regression.predict(X_test)"
   ]
  },
  {
   "cell_type": "markdown",
   "metadata": {},
   "source": [
    "R-Squared for non optimized Random Forest"
   ]
  },
  {
   "cell_type": "code",
   "execution_count": 352,
   "metadata": {},
   "outputs": [
    {
     "data": {
      "text/plain": [
       "0.9986"
      ]
     },
     "execution_count": 352,
     "metadata": {},
     "output_type": "execute_result"
    }
   ],
   "source": [
    "np.round(RF_regression.score(X_test, y_test),4)"
   ]
  },
  {
   "cell_type": "markdown",
   "metadata": {},
   "source": [
    "RMSE for non optimized Random Forest"
   ]
  },
  {
   "cell_type": "code",
   "execution_count": 353,
   "metadata": {},
   "outputs": [
    {
     "data": {
      "text/plain": [
       "0.0"
      ]
     },
     "execution_count": 353,
     "metadata": {},
     "output_type": "execute_result"
    }
   ],
   "source": [
    "MSE_test = round(np.mean(np.square(y_test - y_hat)),2)\n",
    "RMSE_test = round(np.sqrt(MSE_test),2)\n",
    "RMSE_test"
   ]
  },
  {
   "cell_type": "code",
   "execution_count": 354,
   "metadata": {},
   "outputs": [
    {
     "name": "stdout",
     "output_type": "stream",
     "text": [
      "Fitting 5 folds for each of 18 candidates, totalling 90 fits\n",
      "[CV] END ....max_depth=5, max_features=sqrt, n_estimators=10; total time=   0.0s\n",
      "[CV] END ....max_depth=5, max_features=sqrt, n_estimators=10; total time=   0.0s\n",
      "[CV] END ....max_depth=5, max_features=sqrt, n_estimators=10; total time=   0.0s\n",
      "[CV] END ....max_depth=5, max_features=sqrt, n_estimators=10; total time=   0.0s\n",
      "[CV] END ....max_depth=5, max_features=sqrt, n_estimators=10; total time=   0.0s\n",
      "[CV] END ...max_depth=5, max_features=sqrt, n_estimators=100; total time=   0.0s\n",
      "[CV] END ...max_depth=5, max_features=sqrt, n_estimators=100; total time=   0.0s\n",
      "[CV] END ...max_depth=5, max_features=sqrt, n_estimators=100; total time=   0.0s\n",
      "[CV] END ...max_depth=5, max_features=sqrt, n_estimators=100; total time=   0.0s\n",
      "[CV] END ...max_depth=5, max_features=sqrt, n_estimators=100; total time=   0.0s\n",
      "[CV] END ...max_depth=5, max_features=sqrt, n_estimators=500; total time=   0.4s\n",
      "[CV] END ...max_depth=5, max_features=sqrt, n_estimators=500; total time=   0.4s\n",
      "[CV] END ...max_depth=5, max_features=sqrt, n_estimators=500; total time=   0.4s\n",
      "[CV] END ...max_depth=5, max_features=sqrt, n_estimators=500; total time=   0.4s\n",
      "[CV] END ...max_depth=5, max_features=sqrt, n_estimators=500; total time=   0.4s\n",
      "[CV] END ....max_depth=5, max_features=log2, n_estimators=10; total time=   0.0s\n",
      "[CV] END ....max_depth=5, max_features=log2, n_estimators=10; total time=   0.0s\n",
      "[CV] END ....max_depth=5, max_features=log2, n_estimators=10; total time=   0.0s\n",
      "[CV] END ....max_depth=5, max_features=log2, n_estimators=10; total time=   0.0s\n",
      "[CV] END ....max_depth=5, max_features=log2, n_estimators=10; total time=   0.0s\n",
      "[CV] END ...max_depth=5, max_features=log2, n_estimators=100; total time=   0.0s\n",
      "[CV] END ...max_depth=5, max_features=log2, n_estimators=100; total time=   0.0s\n",
      "[CV] END ...max_depth=5, max_features=log2, n_estimators=100; total time=   0.0s\n",
      "[CV] END ...max_depth=5, max_features=log2, n_estimators=100; total time=   0.0s\n",
      "[CV] END ...max_depth=5, max_features=log2, n_estimators=100; total time=   0.0s\n",
      "[CV] END ...max_depth=5, max_features=log2, n_estimators=500; total time=   0.4s\n",
      "[CV] END ...max_depth=5, max_features=log2, n_estimators=500; total time=   0.4s\n",
      "[CV] END ...max_depth=5, max_features=log2, n_estimators=500; total time=   0.4s\n",
      "[CV] END ...max_depth=5, max_features=log2, n_estimators=500; total time=   0.4s\n",
      "[CV] END ...max_depth=5, max_features=log2, n_estimators=500; total time=   0.4s\n",
      "[CV] END ...max_depth=10, max_features=sqrt, n_estimators=10; total time=   0.0s\n",
      "[CV] END ...max_depth=10, max_features=sqrt, n_estimators=10; total time=   0.0s\n",
      "[CV] END ...max_depth=10, max_features=sqrt, n_estimators=10; total time=   0.0s\n",
      "[CV] END ...max_depth=10, max_features=sqrt, n_estimators=10; total time=   0.0s\n",
      "[CV] END ...max_depth=10, max_features=sqrt, n_estimators=10; total time=   0.0s\n",
      "[CV] END ..max_depth=10, max_features=sqrt, n_estimators=100; total time=   0.0s\n",
      "[CV] END ..max_depth=10, max_features=sqrt, n_estimators=100; total time=   0.0s\n",
      "[CV] END ..max_depth=10, max_features=sqrt, n_estimators=100; total time=   0.0s\n",
      "[CV] END ..max_depth=10, max_features=sqrt, n_estimators=100; total time=   0.0s\n",
      "[CV] END ..max_depth=10, max_features=sqrt, n_estimators=100; total time=   0.0s\n",
      "[CV] END ..max_depth=10, max_features=sqrt, n_estimators=500; total time=   0.6s\n",
      "[CV] END ..max_depth=10, max_features=sqrt, n_estimators=500; total time=   0.6s\n",
      "[CV] END ..max_depth=10, max_features=sqrt, n_estimators=500; total time=   0.6s\n",
      "[CV] END ..max_depth=10, max_features=sqrt, n_estimators=500; total time=   0.5s\n",
      "[CV] END ..max_depth=10, max_features=sqrt, n_estimators=500; total time=   0.6s\n",
      "[CV] END ...max_depth=10, max_features=log2, n_estimators=10; total time=   0.0s\n",
      "[CV] END ...max_depth=10, max_features=log2, n_estimators=10; total time=   0.0s\n",
      "[CV] END ...max_depth=10, max_features=log2, n_estimators=10; total time=   0.0s\n",
      "[CV] END ...max_depth=10, max_features=log2, n_estimators=10; total time=   0.0s\n",
      "[CV] END ...max_depth=10, max_features=log2, n_estimators=10; total time=   0.0s\n",
      "[CV] END ..max_depth=10, max_features=log2, n_estimators=100; total time=   0.0s\n",
      "[CV] END ..max_depth=10, max_features=log2, n_estimators=100; total time=   0.0s\n",
      "[CV] END ..max_depth=10, max_features=log2, n_estimators=100; total time=   0.0s\n",
      "[CV] END ..max_depth=10, max_features=log2, n_estimators=100; total time=   0.0s\n",
      "[CV] END ..max_depth=10, max_features=log2, n_estimators=100; total time=   0.0s\n",
      "[CV] END ..max_depth=10, max_features=log2, n_estimators=500; total time=   0.5s\n",
      "[CV] END ..max_depth=10, max_features=log2, n_estimators=500; total time=   0.6s\n",
      "[CV] END ..max_depth=10, max_features=log2, n_estimators=500; total time=   0.6s\n",
      "[CV] END ..max_depth=10, max_features=log2, n_estimators=500; total time=   0.6s\n",
      "[CV] END ..max_depth=10, max_features=log2, n_estimators=500; total time=   0.5s\n",
      "[CV] END ...max_depth=20, max_features=sqrt, n_estimators=10; total time=   0.0s\n",
      "[CV] END ...max_depth=20, max_features=sqrt, n_estimators=10; total time=   0.0s\n",
      "[CV] END ...max_depth=20, max_features=sqrt, n_estimators=10; total time=   0.0s\n",
      "[CV] END ...max_depth=20, max_features=sqrt, n_estimators=10; total time=   0.0s\n",
      "[CV] END ...max_depth=20, max_features=sqrt, n_estimators=10; total time=   0.0s\n",
      "[CV] END ..max_depth=20, max_features=sqrt, n_estimators=100; total time=   0.0s\n",
      "[CV] END ..max_depth=20, max_features=sqrt, n_estimators=100; total time=   0.0s\n",
      "[CV] END ..max_depth=20, max_features=sqrt, n_estimators=100; total time=   0.0s\n",
      "[CV] END ..max_depth=20, max_features=sqrt, n_estimators=100; total time=   0.0s\n",
      "[CV] END ..max_depth=20, max_features=sqrt, n_estimators=100; total time=   0.0s\n",
      "[CV] END ..max_depth=20, max_features=sqrt, n_estimators=500; total time=   0.6s\n",
      "[CV] END ..max_depth=20, max_features=sqrt, n_estimators=500; total time=   0.6s\n",
      "[CV] END ..max_depth=20, max_features=sqrt, n_estimators=500; total time=   0.6s\n",
      "[CV] END ..max_depth=20, max_features=sqrt, n_estimators=500; total time=   0.6s\n",
      "[CV] END ..max_depth=20, max_features=sqrt, n_estimators=500; total time=   0.6s\n",
      "[CV] END ...max_depth=20, max_features=log2, n_estimators=10; total time=   0.0s\n",
      "[CV] END ...max_depth=20, max_features=log2, n_estimators=10; total time=   0.0s\n",
      "[CV] END ...max_depth=20, max_features=log2, n_estimators=10; total time=   0.0s\n",
      "[CV] END ...max_depth=20, max_features=log2, n_estimators=10; total time=   0.0s\n",
      "[CV] END ...max_depth=20, max_features=log2, n_estimators=10; total time=   0.0s\n",
      "[CV] END ..max_depth=20, max_features=log2, n_estimators=100; total time=   0.0s\n",
      "[CV] END ..max_depth=20, max_features=log2, n_estimators=100; total time=   0.0s\n",
      "[CV] END ..max_depth=20, max_features=log2, n_estimators=100; total time=   0.0s\n",
      "[CV] END ..max_depth=20, max_features=log2, n_estimators=100; total time=   0.0s\n",
      "[CV] END ..max_depth=20, max_features=log2, n_estimators=100; total time=   0.0s\n",
      "[CV] END ..max_depth=20, max_features=log2, n_estimators=500; total time=   0.6s\n",
      "[CV] END ..max_depth=20, max_features=log2, n_estimators=500; total time=   0.6s\n",
      "[CV] END ..max_depth=20, max_features=log2, n_estimators=500; total time=   0.6s\n",
      "[CV] END ..max_depth=20, max_features=log2, n_estimators=500; total time=   0.6s\n",
      "[CV] END ..max_depth=20, max_features=log2, n_estimators=500; total time=   0.6s\n"
     ]
    },
    {
     "data": {
      "text/plain": [
       "GridSearchCV(cv=5, estimator=RandomForestRegressor(random_state=1000),\n",
       "             param_grid={'max_depth': [5, 10, 20],\n",
       "                         'max_features': ['sqrt', 'log2'],\n",
       "                         'n_estimators': [10, 100, 500]},\n",
       "             verbose=2)"
      ]
     },
     "execution_count": 354,
     "metadata": {},
     "output_type": "execute_result"
    }
   ],
   "source": [
    "my_param_grid = {'n_estimators': [10,100,500], 'max_features':['sqrt','log2'], 'max_depth':[5,10,20]}\n",
    "\n",
    "grid = GridSearchCV(estimator=RandomForestRegressor(random_state=rand_state),param_grid= my_param_grid, refit = True, verbose=2, cv=5 )\n",
    "\n",
    "grid.fit(X_train,y_train)"
   ]
  },
  {
   "cell_type": "markdown",
   "metadata": {},
   "source": [
    "This had twice as many runs compared to the other optimizations, but it finished in 2 and a half minutes!"
   ]
  },
  {
   "cell_type": "markdown",
   "metadata": {},
   "source": [
    "Best estimator Hyperparameters for Random Forest"
   ]
  },
  {
   "cell_type": "code",
   "execution_count": 355,
   "metadata": {},
   "outputs": [
    {
     "data": {
      "text/plain": [
       "RandomForestRegressor(max_depth=20, max_features='sqrt', n_estimators=500,\n",
       "                      random_state=1000)"
      ]
     },
     "execution_count": 355,
     "metadata": {},
     "output_type": "execute_result"
    }
   ],
   "source": [
    "grid.best_estimator_"
   ]
  },
  {
   "cell_type": "code",
   "execution_count": 356,
   "metadata": {},
   "outputs": [],
   "source": [
    "y_hat_optimized = grid.predict(X_test)"
   ]
  },
  {
   "cell_type": "markdown",
   "metadata": {},
   "source": [
    "R-squared with Optimized Random Forest"
   ]
  },
  {
   "cell_type": "code",
   "execution_count": 357,
   "metadata": {},
   "outputs": [
    {
     "data": {
      "text/plain": [
       "0.9495"
      ]
     },
     "execution_count": 357,
     "metadata": {},
     "output_type": "execute_result"
    }
   ],
   "source": [
    "np.round(grid.score(X_test, y_test),4)"
   ]
  },
  {
   "cell_type": "markdown",
   "metadata": {},
   "source": [
    "RMSE for optimized Random Forest"
   ]
  },
  {
   "cell_type": "code",
   "execution_count": 358,
   "metadata": {},
   "outputs": [
    {
     "data": {
      "text/plain": [
       "0.22"
      ]
     },
     "execution_count": 358,
     "metadata": {},
     "output_type": "execute_result"
    }
   ],
   "source": [
    "MSE_test_opt = round(np.mean(np.square(y_test - y_hat_optimized)),2)\n",
    "RMSE_test_opt = round(np.sqrt(MSE_test_opt),2)\n",
    "RMSE_test_opt"
   ]
  },
  {
   "cell_type": "markdown",
   "metadata": {},
   "source": [
    "Feature Importance"
   ]
  },
  {
   "cell_type": "code",
   "execution_count": 359,
   "metadata": {},
   "outputs": [
    {
     "data": {
      "text/html": [
       "<div>\n",
       "<style scoped>\n",
       "    .dataframe tbody tr th:only-of-type {\n",
       "        vertical-align: middle;\n",
       "    }\n",
       "\n",
       "    .dataframe tbody tr th {\n",
       "        vertical-align: top;\n",
       "    }\n",
       "\n",
       "    .dataframe thead th {\n",
       "        text-align: right;\n",
       "    }\n",
       "</style>\n",
       "<table border=\"1\" class=\"dataframe\">\n",
       "  <thead>\n",
       "    <tr style=\"text-align: right;\">\n",
       "      <th></th>\n",
       "      <th>Features</th>\n",
       "      <th>Feature_importance</th>\n",
       "    </tr>\n",
       "  </thead>\n",
       "  <tbody>\n",
       "    <tr>\n",
       "      <th>2</th>\n",
       "      <td>Customer type</td>\n",
       "      <td>0.005918</td>\n",
       "    </tr>\n",
       "    <tr>\n",
       "      <th>3</th>\n",
       "      <td>Gender</td>\n",
       "      <td>0.006933</td>\n",
       "    </tr>\n",
       "    <tr>\n",
       "      <th>0</th>\n",
       "      <td>Branch</td>\n",
       "      <td>0.007621</td>\n",
       "    </tr>\n",
       "    <tr>\n",
       "      <th>1</th>\n",
       "      <td>City</td>\n",
       "      <td>0.007671</td>\n",
       "    </tr>\n",
       "    <tr>\n",
       "      <th>9</th>\n",
       "      <td>Payment</td>\n",
       "      <td>0.010484</td>\n",
       "    </tr>\n",
       "    <tr>\n",
       "      <th>4</th>\n",
       "      <td>Product line</td>\n",
       "      <td>0.017493</td>\n",
       "    </tr>\n",
       "    <tr>\n",
       "      <th>7</th>\n",
       "      <td>Date</td>\n",
       "      <td>0.037412</td>\n",
       "    </tr>\n",
       "    <tr>\n",
       "      <th>10</th>\n",
       "      <td>Rating</td>\n",
       "      <td>0.037631</td>\n",
       "    </tr>\n",
       "    <tr>\n",
       "      <th>8</th>\n",
       "      <td>Time</td>\n",
       "      <td>0.041385</td>\n",
       "    </tr>\n",
       "    <tr>\n",
       "      <th>5</th>\n",
       "      <td>Unit price</td>\n",
       "      <td>0.360122</td>\n",
       "    </tr>\n",
       "    <tr>\n",
       "      <th>6</th>\n",
       "      <td>Quantity</td>\n",
       "      <td>0.467330</td>\n",
       "    </tr>\n",
       "  </tbody>\n",
       "</table>\n",
       "</div>"
      ],
      "text/plain": [
       "         Features  Feature_importance\n",
       "2   Customer type            0.005918\n",
       "3          Gender            0.006933\n",
       "0          Branch            0.007621\n",
       "1            City            0.007671\n",
       "9         Payment            0.010484\n",
       "4    Product line            0.017493\n",
       "7            Date            0.037412\n",
       "10         Rating            0.037631\n",
       "8            Time            0.041385\n",
       "5      Unit price            0.360122\n",
       "6        Quantity            0.467330"
      ]
     },
     "execution_count": 359,
     "metadata": {},
     "output_type": "execute_result"
    }
   ],
   "source": [
    "features = list(X_train.columns)\n",
    "\n",
    "RF_Regressor = RandomForestRegressor(max_depth=20, max_features='sqrt', n_estimators=500, random_state=1000)\n",
    "RF_Regressor.fit(X_train, y_train)\n",
    "\n",
    "importance = RF_Regressor.feature_importances_\n",
    "\n",
    "FIM = pd.DataFrame({'Features': features, 'Feature_importance':importance})\n",
    "FIM = FIM.sort_values(by=['Feature_importance'])\n",
    "FIM"
   ]
  },
  {
   "cell_type": "code",
   "execution_count": 360,
   "metadata": {},
   "outputs": [
    {
     "data": {
      "image/png": "[encoded data removed]",
      "text/plain": [
       "<Figure size 720x432 with 1 Axes>"
      ]
     },
     "metadata": {},
     "output_type": "display_data"
    }
   ],
   "source": [
    "plt.figure(figsize=(10,6))\n",
    "plt.title('Feature Importance')\n",
    "sns.barplot(y='Features', x='Feature_importance', data=FIM)\n",
    "plt.show()"
   ]
  },
  {
   "cell_type": "markdown",
   "metadata": {},
   "source": [
    "The most important variables are airbags, prod. year, and mileage. Most of these make sense and they are all somewhat related to each other. Newer vehicles have lower mileage, which as we sell usually means a higher sell price, they also more airbags, which are a strongly desired feature for cars."
   ]
  },
  {
   "cell_type": "markdown",
   "metadata": {},
   "source": [
    "### Boosting"
   ]
  },
  {
   "cell_type": "code",
   "execution_count": 365,
   "metadata": {},
   "outputs": [],
   "source": [
    "from sklearn.ensemble import AdaBoostRegressor, GradientBoostingRegressor\n",
    "from xgboost import XGBRegressor"
   ]
  },
  {
   "cell_type": "code",
   "execution_count": 366,
   "metadata": {},
   "outputs": [
    {
     "data": {
      "text/plain": [
       "AdaBoostRegressor(random_state=1000)"
      ]
     },
     "execution_count": 366,
     "metadata": {},
     "output_type": "execute_result"
    }
   ],
   "source": [
    "AdB_regressor = AdaBoostRegressor(random_state=rand_state)\n",
    "AdB_regressor.fit(X_train, y_train)"
   ]
  },
  {
   "cell_type": "code",
   "execution_count": 367,
   "metadata": {},
   "outputs": [
    {
     "data": {
      "text/plain": [
       "GradientBoostingRegressor(max_depth=6, random_state=1000)"
      ]
     },
     "execution_count": 367,
     "metadata": {},
     "output_type": "execute_result"
    }
   ],
   "source": [
    "GBM_regressor = GradientBoostingRegressor(random_state=rand_state, learning_rate=0.1, max_depth=6)\n",
    "GBM_regressor.fit(X_train, y_train)"
   ]
  },
  {
   "cell_type": "code",
   "execution_count": 368,
   "metadata": {},
   "outputs": [
    {
     "data": {
      "text/plain": [
       "XGBRegressor(base_score=0.5, booster='gbtree', callbacks=None,\n",
       "             colsample_bylevel=1, colsample_bynode=1, colsample_bytree=1,\n",
       "             early_stopping_rounds=None, enable_categorical=False, eta=0.1,\n",
       "             eval_metric=None, feature_types=None, gamma=0, gpu_id=-1,\n",
       "             grow_policy='depthwise', importance_type=None,\n",
       "             interaction_constraints='', learning_rate=0.100000001, max_bin=256,\n",
       "             max_cat_threshold=64, max_cat_to_onehot=4, max_delta_step=0,\n",
       "             max_depth=6, max_leaves=0, min_child_weight=1, missing=nan,\n",
       "             monotone_constraints='()', n_estimators=100, n_jobs=0,\n",
       "             num_parallel_tree=1, predictor='auto', ...)"
      ]
     },
     "execution_count": 368,
     "metadata": {},
     "output_type": "execute_result"
    }
   ],
   "source": [
    "XGB_regressor = XGBRegressor(random_state=rand_state, eta=0.1, max_depth=6)\n",
    "XGB_regressor.fit(X_train, y_train)"
   ]
  },
  {
   "cell_type": "code",
   "execution_count": 369,
   "metadata": {},
   "outputs": [],
   "source": [
    "y_hat_AdB      = AdB_regressor.predict(X_test)\n",
    "y_hat_GBM      = GBM_regressor.predict(X_test)\n",
    "y_hat_XGB      = XGB_regressor.predict(X_test)"
   ]
  },
  {
   "cell_type": "code",
   "execution_count": 370,
   "metadata": {},
   "outputs": [],
   "source": [
    "from sklearn.metrics import accuracy_score, recall_score, precision_score, f1_score\n",
    "from sklearn.metrics import confusion_matrix, classification_report, roc_curve, roc_auc_score"
   ]
  },
  {
   "cell_type": "code",
   "execution_count": 371,
   "metadata": {},
   "outputs": [
    {
     "data": {
      "text/plain": [
       "0.9535"
      ]
     },
     "execution_count": 371,
     "metadata": {},
     "output_type": "execute_result"
    }
   ],
   "source": [
    "np.round(AdB_regressor.score(X_test, y_test),4)"
   ]
  },
  {
   "cell_type": "code",
   "execution_count": 372,
   "metadata": {},
   "outputs": [
    {
     "data": {
      "text/plain": [
       "0.9983"
      ]
     },
     "execution_count": 372,
     "metadata": {},
     "output_type": "execute_result"
    }
   ],
   "source": [
    "np.round(GBM_regressor.score(X_test, y_test),4)"
   ]
  },
  {
   "cell_type": "code",
   "execution_count": 373,
   "metadata": {},
   "outputs": [
    {
     "data": {
      "text/plain": [
       "0.9989"
      ]
     },
     "execution_count": 373,
     "metadata": {},
     "output_type": "execute_result"
    }
   ],
   "source": [
    "np.round(XGB_regressor.score(X_test, y_test),4)"
   ]
  },
  {
   "cell_type": "markdown",
   "metadata": {},
   "source": [
    "As can be seen, the boosting methods do far better than the linear regression model, but worse than the random forest model."
   ]
  }
 ],
 "metadata": {
  "kernelspec": {
   "display_name": "Python 3 (ipykernel)",
   "language": "python",
   "name": "python3"
  },
  "language_info": {
   "codemirror_mode": {
    "name": "ipython",
    "version": 3
   },
   "file_extension": ".py",
   "mimetype": "text/x-python",
   "name": "python",
   "nbconvert_exporter": "python",
   "pygments_lexer": "ipython3",
   "version": "3.9.7"
  }
 },
 "nbformat": 4,
 "nbformat_minor": 4
}
