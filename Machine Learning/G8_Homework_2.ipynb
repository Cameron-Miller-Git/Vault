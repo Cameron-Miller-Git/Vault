{
 "cells": [
  {
   "cell_type": "markdown",
   "id": "98abb851-9d23-4292-8eb3-281897610021",
   "metadata": {
    "tags": []
   },
   "source": [
    "# Derek Anderson, Justin Dygert, Cameron Miller\n",
    "## NYC Property EDA"
   ]
  },
  {
   "cell_type": "code",
   "execution_count": 31,
   "id": "7b953e20-71bd-4a70-9a31-314e8972e22e",
   "metadata": {},
   "outputs": [],
   "source": [
    "import numpy as np\n",
    "import pandas as pd\n",
    "import matplotlib.pyplot as plt\n",
    "import seaborn as sns\n",
    "import statsmodels.api as sm\n",
    "\n",
    "sns.set()\n",
    "rand_state = 1000"
   ]
  },
  {
   "cell_type": "code",
   "execution_count": 32,
   "id": "cac20f94-c9c7-468a-8baa-c0867c2ffcfb",
   "metadata": {},
   "outputs": [
    {
     "data": {
      "text/html": [
       "<div>\n",
       "<style scoped>\n",
       "    .dataframe tbody tr th:only-of-type {\n",
       "        vertical-align: middle;\n",
       "    }\n",
       "\n",
       "    .dataframe tbody tr th {\n",
       "        vertical-align: top;\n",
       "    }\n",
       "\n",
       "    .dataframe thead th {\n",
       "        text-align: right;\n",
       "    }\n",
       "</style>\n",
       "<table border=\"1\" class=\"dataframe\">\n",
       "  <thead>\n",
       "    <tr style=\"text-align: right;\">\n",
       "      <th></th>\n",
       "      <th>Unnamed: 0</th>\n",
       "      <th>BOROUGH</th>\n",
       "      <th>NEIGHBORHOOD</th>\n",
       "      <th>BUILDING CLASS CATEGORY</th>\n",
       "      <th>TAX CLASS AT PRESENT</th>\n",
       "      <th>BLOCK</th>\n",
       "      <th>LOT</th>\n",
       "      <th>EASE-MENT</th>\n",
       "      <th>BUILDING CLASS AT PRESENT</th>\n",
       "      <th>ADDRESS</th>\n",
       "      <th>...</th>\n",
       "      <th>RESIDENTIAL UNITS</th>\n",
       "      <th>COMMERCIAL UNITS</th>\n",
       "      <th>TOTAL UNITS</th>\n",
       "      <th>LAND SQUARE FEET</th>\n",
       "      <th>GROSS SQUARE FEET</th>\n",
       "      <th>YEAR BUILT</th>\n",
       "      <th>TAX CLASS AT TIME OF SALE</th>\n",
       "      <th>BUILDING CLASS AT TIME OF SALE</th>\n",
       "      <th>SALE PRICE</th>\n",
       "      <th>SALE DATE</th>\n",
       "    </tr>\n",
       "  </thead>\n",
       "  <tbody>\n",
       "    <tr>\n",
       "      <th>0</th>\n",
       "      <td>4</td>\n",
       "      <td>1</td>\n",
       "      <td>ALPHABET CITY</td>\n",
       "      <td>07 RENTALS - WALKUP APARTMENTS</td>\n",
       "      <td>2A</td>\n",
       "      <td>392</td>\n",
       "      <td>6</td>\n",
       "      <td></td>\n",
       "      <td>C2</td>\n",
       "      <td>153 AVENUE B</td>\n",
       "      <td>...</td>\n",
       "      <td>5</td>\n",
       "      <td>0</td>\n",
       "      <td>5</td>\n",
       "      <td>1633</td>\n",
       "      <td>6440</td>\n",
       "      <td>1900</td>\n",
       "      <td>2</td>\n",
       "      <td>C2</td>\n",
       "      <td>6625000</td>\n",
       "      <td>2017-07-19 00:00:00</td>\n",
       "    </tr>\n",
       "    <tr>\n",
       "      <th>1</th>\n",
       "      <td>5</td>\n",
       "      <td>1</td>\n",
       "      <td>ALPHABET CITY</td>\n",
       "      <td>07 RENTALS - WALKUP APARTMENTS</td>\n",
       "      <td>2</td>\n",
       "      <td>399</td>\n",
       "      <td>26</td>\n",
       "      <td></td>\n",
       "      <td>C7</td>\n",
       "      <td>234 EAST 4TH   STREET</td>\n",
       "      <td>...</td>\n",
       "      <td>28</td>\n",
       "      <td>3</td>\n",
       "      <td>31</td>\n",
       "      <td>4616</td>\n",
       "      <td>18690</td>\n",
       "      <td>1900</td>\n",
       "      <td>2</td>\n",
       "      <td>C7</td>\n",
       "      <td>-</td>\n",
       "      <td>2016-12-14 00:00:00</td>\n",
       "    </tr>\n",
       "    <tr>\n",
       "      <th>2</th>\n",
       "      <td>6</td>\n",
       "      <td>1</td>\n",
       "      <td>ALPHABET CITY</td>\n",
       "      <td>07 RENTALS - WALKUP APARTMENTS</td>\n",
       "      <td>2</td>\n",
       "      <td>399</td>\n",
       "      <td>39</td>\n",
       "      <td></td>\n",
       "      <td>C7</td>\n",
       "      <td>197 EAST 3RD   STREET</td>\n",
       "      <td>...</td>\n",
       "      <td>16</td>\n",
       "      <td>1</td>\n",
       "      <td>17</td>\n",
       "      <td>2212</td>\n",
       "      <td>7803</td>\n",
       "      <td>1900</td>\n",
       "      <td>2</td>\n",
       "      <td>C7</td>\n",
       "      <td>-</td>\n",
       "      <td>2016-12-09 00:00:00</td>\n",
       "    </tr>\n",
       "    <tr>\n",
       "      <th>3</th>\n",
       "      <td>7</td>\n",
       "      <td>1</td>\n",
       "      <td>ALPHABET CITY</td>\n",
       "      <td>07 RENTALS - WALKUP APARTMENTS</td>\n",
       "      <td>2B</td>\n",
       "      <td>402</td>\n",
       "      <td>21</td>\n",
       "      <td></td>\n",
       "      <td>C4</td>\n",
       "      <td>154 EAST 7TH STREET</td>\n",
       "      <td>...</td>\n",
       "      <td>10</td>\n",
       "      <td>0</td>\n",
       "      <td>10</td>\n",
       "      <td>2272</td>\n",
       "      <td>6794</td>\n",
       "      <td>1913</td>\n",
       "      <td>2</td>\n",
       "      <td>C4</td>\n",
       "      <td>3936272</td>\n",
       "      <td>2016-09-23 00:00:00</td>\n",
       "    </tr>\n",
       "    <tr>\n",
       "      <th>4</th>\n",
       "      <td>8</td>\n",
       "      <td>1</td>\n",
       "      <td>ALPHABET CITY</td>\n",
       "      <td>07 RENTALS - WALKUP APARTMENTS</td>\n",
       "      <td>2A</td>\n",
       "      <td>404</td>\n",
       "      <td>55</td>\n",
       "      <td></td>\n",
       "      <td>C2</td>\n",
       "      <td>301 EAST 10TH   STREET</td>\n",
       "      <td>...</td>\n",
       "      <td>6</td>\n",
       "      <td>0</td>\n",
       "      <td>6</td>\n",
       "      <td>2369</td>\n",
       "      <td>4615</td>\n",
       "      <td>1900</td>\n",
       "      <td>2</td>\n",
       "      <td>C2</td>\n",
       "      <td>8000000</td>\n",
       "      <td>2016-11-17 00:00:00</td>\n",
       "    </tr>\n",
       "  </tbody>\n",
       "</table>\n",
       "<p>5 rows × 22 columns</p>\n",
       "</div>"
      ],
      "text/plain": [
       "   Unnamed: 0  BOROUGH   NEIGHBORHOOD  \\\n",
       "0           4        1  ALPHABET CITY   \n",
       "1           5        1  ALPHABET CITY   \n",
       "2           6        1  ALPHABET CITY   \n",
       "3           7        1  ALPHABET CITY   \n",
       "4           8        1  ALPHABET CITY   \n",
       "\n",
       "                       BUILDING CLASS CATEGORY TAX CLASS AT PRESENT  BLOCK  \\\n",
       "0  07 RENTALS - WALKUP APARTMENTS                                2A    392   \n",
       "1  07 RENTALS - WALKUP APARTMENTS                                 2    399   \n",
       "2  07 RENTALS - WALKUP APARTMENTS                                 2    399   \n",
       "3  07 RENTALS - WALKUP APARTMENTS                                2B    402   \n",
       "4  07 RENTALS - WALKUP APARTMENTS                                2A    404   \n",
       "\n",
       "   LOT EASE-MENT BUILDING CLASS AT PRESENT                 ADDRESS  ...  \\\n",
       "0    6                                  C2            153 AVENUE B  ...   \n",
       "1   26                                  C7   234 EAST 4TH   STREET  ...   \n",
       "2   39                                  C7   197 EAST 3RD   STREET  ...   \n",
       "3   21                                  C4     154 EAST 7TH STREET  ...   \n",
       "4   55                                  C2  301 EAST 10TH   STREET  ...   \n",
       "\n",
       "  RESIDENTIAL UNITS  COMMERCIAL UNITS  TOTAL UNITS  LAND SQUARE FEET  \\\n",
       "0                 5                 0            5              1633   \n",
       "1                28                 3           31              4616   \n",
       "2                16                 1           17              2212   \n",
       "3                10                 0           10              2272   \n",
       "4                 6                 0            6              2369   \n",
       "\n",
       "   GROSS SQUARE FEET YEAR BUILT TAX CLASS AT TIME OF SALE  \\\n",
       "0               6440       1900                         2   \n",
       "1              18690       1900                         2   \n",
       "2               7803       1900                         2   \n",
       "3               6794       1913                         2   \n",
       "4               4615       1900                         2   \n",
       "\n",
       "   BUILDING CLASS AT TIME OF SALE  SALE PRICE            SALE DATE  \n",
       "0                              C2     6625000  2017-07-19 00:00:00  \n",
       "1                              C7         -    2016-12-14 00:00:00  \n",
       "2                              C7         -    2016-12-09 00:00:00  \n",
       "3                              C4     3936272  2016-09-23 00:00:00  \n",
       "4                              C2     8000000  2016-11-17 00:00:00  \n",
       "\n",
       "[5 rows x 22 columns]"
      ]
     },
     "execution_count": 32,
     "metadata": {},
     "output_type": "execute_result"
    }
   ],
   "source": [
    "df = pd.read_csv('nyc-rolling-sales.csv')\n",
    "df_raw = df\n",
    "df.head()"
   ]
  },
  {
   "cell_type": "markdown",
   "id": "a45bc1e0-ecf8-4ea1-8581-15fb5b429b43",
   "metadata": {},
   "source": [
    "#### Classifying Columns"
   ]
  },
  {
   "cell_type": "code",
   "execution_count": 33,
   "id": "4abcdcdf-956b-47b2-94b8-8061216d75a0",
   "metadata": {},
   "outputs": [
    {
     "name": "stdout",
     "output_type": "stream",
     "text": [
      "<class 'pandas.core.frame.DataFrame'>\n",
      "RangeIndex: 84548 entries, 0 to 84547\n",
      "Data columns (total 22 columns):\n",
      " #   Column                          Non-Null Count  Dtype \n",
      "---  ------                          --------------  ----- \n",
      " 0   Unnamed: 0                      84548 non-null  int64 \n",
      " 1   BOROUGH                         84548 non-null  int64 \n",
      " 2   NEIGHBORHOOD                    84548 non-null  object\n",
      " 3   BUILDING CLASS CATEGORY         84548 non-null  object\n",
      " 4   TAX CLASS AT PRESENT            84548 non-null  object\n",
      " 5   BLOCK                           84548 non-null  int64 \n",
      " 6   LOT                             84548 non-null  int64 \n",
      " 7   EASE-MENT                       84548 non-null  object\n",
      " 8   BUILDING CLASS AT PRESENT       84548 non-null  object\n",
      " 9   ADDRESS                         84548 non-null  object\n",
      " 10  APARTMENT NUMBER                84548 non-null  object\n",
      " 11  ZIP CODE                        84548 non-null  int64 \n",
      " 12  RESIDENTIAL UNITS               84548 non-null  int64 \n",
      " 13  COMMERCIAL UNITS                84548 non-null  int64 \n",
      " 14  TOTAL UNITS                     84548 non-null  int64 \n",
      " 15  LAND SQUARE FEET                84548 non-null  object\n",
      " 16  GROSS SQUARE FEET               84548 non-null  object\n",
      " 17  YEAR BUILT                      84548 non-null  int64 \n",
      " 18  TAX CLASS AT TIME OF SALE       84548 non-null  int64 \n",
      " 19  BUILDING CLASS AT TIME OF SALE  84548 non-null  object\n",
      " 20  SALE PRICE                      84548 non-null  object\n",
      " 21  SALE DATE                       84548 non-null  object\n",
      "dtypes: int64(10), object(12)\n",
      "memory usage: 14.2+ MB\n"
     ]
    }
   ],
   "source": [
    "df.info()"
   ]
  },
  {
   "cell_type": "markdown",
   "id": "a7dbb500-8ddb-4f5b-989c-e523095e2f27",
   "metadata": {},
   "source": [
    "It appears that there are only two data types, objects and ints. These should be classified to more meaningful types for our analysis. "
   ]
  },
  {
   "cell_type": "code",
   "execution_count": 34,
   "id": "51f1906d-5b85-426e-9f37-5bb7df550fcd",
   "metadata": {
    "tags": []
   },
   "outputs": [],
   "source": [
    "# get rid of pointless column\n",
    "df.drop([\"Unnamed: 0\"], axis = 1, inplace = True)"
   ]
  },
  {
   "cell_type": "code",
   "execution_count": 35,
   "id": "d5b63020-d5c4-4a85-8fda-c4c722d49629",
   "metadata": {},
   "outputs": [
    {
     "data": {
      "text/plain": [
       "Index(['BOROUGH', 'NEIGHBORHOOD', 'BUILDING CLASS CATEGORY',\n",
       "       'TAX CLASS AT PRESENT', 'BLOCK', 'LOT', 'EASE-MENT',\n",
       "       'BUILDING CLASS AT PRESENT', 'ADDRESS', 'APARTMENT NUMBER', 'ZIP CODE',\n",
       "       'RESIDENTIAL UNITS', 'COMMERCIAL UNITS', 'TOTAL UNITS',\n",
       "       'LAND SQUARE FEET', 'GROSS SQUARE FEET', 'YEAR BUILT',\n",
       "       'TAX CLASS AT TIME OF SALE', 'BUILDING CLASS AT TIME OF SALE',\n",
       "       'SALE PRICE', 'SALE DATE'],\n",
       "      dtype='object')"
      ]
     },
     "execution_count": 35,
     "metadata": {},
     "output_type": "execute_result"
    }
   ],
   "source": [
    "df.columns"
   ]
  },
  {
   "cell_type": "code",
   "execution_count": 36,
   "id": "763f1304-4b27-4264-a4c1-24f7bb5ec924",
   "metadata": {},
   "outputs": [],
   "source": [
    "# classify our columns\n",
    "\n",
    "categoricals = ['BOROUGH', 'NEIGHBORHOOD', 'BUILDING CLASS CATEGORY', 'TAX CLASS AT PRESENT',\n",
    "                'BUILDING CLASS AT PRESENT', 'ZIP CODE', 'YEAR BUILT', 'TAX CLASS AT TIME OF SALE', \n",
    "                'BUILDING CLASS AT TIME OF SALE']\n",
    "numerics = ['BLOCK', 'LOT', 'RESIDENTIAL UNITS', 'COMMERCIAL UNITS', 'TOTAL UNITS', 'LAND SQUARE FEET', \n",
    "            'GROSS SQUARE FEET', 'SALE PRICE']\n",
    "\n",
    "for col in categoricals:\n",
    "    df[col] = df[col].astype(\"category\")\n",
    "    \n",
    "for col in numerics:\n",
    "    df[col] = pd.to_numeric(df[col], errors = 'coerce')"
   ]
  },
  {
   "cell_type": "code",
   "execution_count": 37,
   "id": "2a81bd52-9013-439e-9c41-52e531a9470a",
   "metadata": {},
   "outputs": [
    {
     "data": {
      "text/html": [
       "<div>\n",
       "<style scoped>\n",
       "    .dataframe tbody tr th:only-of-type {\n",
       "        vertical-align: middle;\n",
       "    }\n",
       "\n",
       "    .dataframe tbody tr th {\n",
       "        vertical-align: top;\n",
       "    }\n",
       "\n",
       "    .dataframe thead th {\n",
       "        text-align: right;\n",
       "    }\n",
       "</style>\n",
       "<table border=\"1\" class=\"dataframe\">\n",
       "  <thead>\n",
       "    <tr style=\"text-align: right;\">\n",
       "      <th>sale_year</th>\n",
       "      <th>2016</th>\n",
       "      <th>2017</th>\n",
       "    </tr>\n",
       "    <tr>\n",
       "      <th>sale_month</th>\n",
       "      <th></th>\n",
       "      <th></th>\n",
       "    </tr>\n",
       "  </thead>\n",
       "  <tbody>\n",
       "    <tr>\n",
       "      <th>1</th>\n",
       "      <td>0</td>\n",
       "      <td>6871</td>\n",
       "    </tr>\n",
       "    <tr>\n",
       "      <th>2</th>\n",
       "      <td>0</td>\n",
       "      <td>6323</td>\n",
       "    </tr>\n",
       "    <tr>\n",
       "      <th>3</th>\n",
       "      <td>0</td>\n",
       "      <td>7705</td>\n",
       "    </tr>\n",
       "    <tr>\n",
       "      <th>4</th>\n",
       "      <td>0</td>\n",
       "      <td>6402</td>\n",
       "    </tr>\n",
       "    <tr>\n",
       "      <th>5</th>\n",
       "      <td>0</td>\n",
       "      <td>7461</td>\n",
       "    </tr>\n",
       "    <tr>\n",
       "      <th>6</th>\n",
       "      <td>0</td>\n",
       "      <td>8293</td>\n",
       "    </tr>\n",
       "    <tr>\n",
       "      <th>7</th>\n",
       "      <td>0</td>\n",
       "      <td>6319</td>\n",
       "    </tr>\n",
       "    <tr>\n",
       "      <th>8</th>\n",
       "      <td>0</td>\n",
       "      <td>5681</td>\n",
       "    </tr>\n",
       "    <tr>\n",
       "      <th>9</th>\n",
       "      <td>7779</td>\n",
       "      <td>0</td>\n",
       "    </tr>\n",
       "    <tr>\n",
       "      <th>10</th>\n",
       "      <td>6751</td>\n",
       "      <td>0</td>\n",
       "    </tr>\n",
       "    <tr>\n",
       "      <th>11</th>\n",
       "      <td>7072</td>\n",
       "      <td>0</td>\n",
       "    </tr>\n",
       "    <tr>\n",
       "      <th>12</th>\n",
       "      <td>7891</td>\n",
       "      <td>0</td>\n",
       "    </tr>\n",
       "  </tbody>\n",
       "</table>\n",
       "</div>"
      ],
      "text/plain": [
       "sale_year   2016  2017\n",
       "sale_month            \n",
       "1              0  6871\n",
       "2              0  6323\n",
       "3              0  7705\n",
       "4              0  6402\n",
       "5              0  7461\n",
       "6              0  8293\n",
       "7              0  6319\n",
       "8              0  5681\n",
       "9           7779     0\n",
       "10          6751     0\n",
       "11          7072     0\n",
       "12          7891     0"
      ]
     },
     "execution_count": 37,
     "metadata": {},
     "output_type": "execute_result"
    }
   ],
   "source": [
    "# create date-time variable\n",
    "df['SALE DATE'] = pd.to_datetime(df['SALE DATE'], errors = 'coerce')\n",
    "df['sale_year'] = pd.DatetimeIndex(df['SALE DATE']).year.astype(\"category\")\n",
    "df['sale_month'] = pd.DatetimeIndex(df['SALE DATE']).month.astype(\"category\")\n",
    "pd.crosstab(df['sale_month'],df['sale_year'])"
   ]
  },
  {
   "cell_type": "code",
   "execution_count": 38,
   "id": "341e8462-c73b-4905-a373-4337264e4ffd",
   "metadata": {},
   "outputs": [
    {
     "name": "stdout",
     "output_type": "stream",
     "text": [
      "<class 'pandas.core.frame.DataFrame'>\n",
      "RangeIndex: 84548 entries, 0 to 84547\n",
      "Data columns (total 23 columns):\n",
      " #   Column                          Non-Null Count  Dtype         \n",
      "---  ------                          --------------  -----         \n",
      " 0   BOROUGH                         84548 non-null  category      \n",
      " 1   NEIGHBORHOOD                    84548 non-null  category      \n",
      " 2   BUILDING CLASS CATEGORY         84548 non-null  category      \n",
      " 3   TAX CLASS AT PRESENT            84548 non-null  category      \n",
      " 4   BLOCK                           84548 non-null  int64         \n",
      " 5   LOT                             84548 non-null  int64         \n",
      " 6   EASE-MENT                       84548 non-null  object        \n",
      " 7   BUILDING CLASS AT PRESENT       84548 non-null  category      \n",
      " 8   ADDRESS                         84548 non-null  object        \n",
      " 9   APARTMENT NUMBER                84548 non-null  object        \n",
      " 10  ZIP CODE                        84548 non-null  category      \n",
      " 11  RESIDENTIAL UNITS               84548 non-null  int64         \n",
      " 12  COMMERCIAL UNITS                84548 non-null  int64         \n",
      " 13  TOTAL UNITS                     84548 non-null  int64         \n",
      " 14  LAND SQUARE FEET                58296 non-null  float64       \n",
      " 15  GROSS SQUARE FEET               56936 non-null  float64       \n",
      " 16  YEAR BUILT                      84548 non-null  category      \n",
      " 17  TAX CLASS AT TIME OF SALE       84548 non-null  category      \n",
      " 18  BUILDING CLASS AT TIME OF SALE  84548 non-null  category      \n",
      " 19  SALE PRICE                      69987 non-null  float64       \n",
      " 20  SALE DATE                       84548 non-null  datetime64[ns]\n",
      " 21  sale_year                       84548 non-null  category      \n",
      " 22  sale_month                      84548 non-null  category      \n",
      "dtypes: category(11), datetime64[ns](1), float64(3), int64(5), object(3)\n",
      "memory usage: 9.1+ MB\n"
     ]
    }
   ],
   "source": [
    "df.info()"
   ]
  },
  {
   "cell_type": "markdown",
   "id": "43e09c12-88db-4a5f-b635-1525adaf5ce8",
   "metadata": {},
   "source": [
    "#### Null, Blank, and Duplicate Values"
   ]
  },
  {
   "cell_type": "code",
   "execution_count": 39,
   "id": "ece92623-7020-452c-921d-8db4208d7b62",
   "metadata": {},
   "outputs": [
    {
     "data": {
      "text/plain": [
       "BOROUGH                             0.000000\n",
       "NEIGHBORHOOD                        0.000000\n",
       "BUILDING CLASS CATEGORY             0.000000\n",
       "TAX CLASS AT PRESENT                0.872877\n",
       "BLOCK                               0.000000\n",
       "LOT                                 0.000000\n",
       "EASE-MENT                         100.000000\n",
       "BUILDING CLASS AT PRESENT           0.872877\n",
       "ADDRESS                             0.000000\n",
       "APARTMENT NUMBER                   77.466055\n",
       "ZIP CODE                            0.000000\n",
       "RESIDENTIAL UNITS                   0.000000\n",
       "COMMERCIAL UNITS                    0.000000\n",
       "TOTAL UNITS                         0.000000\n",
       "LAND SQUARE FEET                   31.049818\n",
       "GROSS SQUARE FEET                  32.658372\n",
       "YEAR BUILT                          0.000000\n",
       "TAX CLASS AT TIME OF SALE           0.000000\n",
       "BUILDING CLASS AT TIME OF SALE      0.000000\n",
       "SALE PRICE                         17.222170\n",
       "SALE DATE                           0.000000\n",
       "sale_year                           0.000000\n",
       "sale_month                          0.000000\n",
       "dtype: float64"
      ]
     },
     "execution_count": 39,
     "metadata": {},
     "output_type": "execute_result"
    }
   ],
   "source": [
    "# Replace blank values with NA Then check the  percentage of NA\n",
    "\n",
    "df.replace(' ', np.nan, inplace = True)\n",
    "df.isnull().sum()/ len(df) * 100"
   ]
  },
  {
   "cell_type": "code",
   "execution_count": 40,
   "id": "96632b3c-fcee-453a-99d9-3e9cf76303dc",
   "metadata": {},
   "outputs": [
    {
     "data": {
      "image/png": "[encoded data removed]",
      "text/plain": [
       "<Figure size 720x504 with 1 Axes>"
      ]
     },
     "metadata": {},
     "output_type": "display_data"
    }
   ],
   "source": [
    "plt.figure(figsize=(10,7))\n",
    "sns.heatmap(df.isnull(),yticklabels=False,cbar=False,cmap='viridis')\n",
    "plt.show()"
   ]
  },
  {
   "cell_type": "code",
   "execution_count": 41,
   "id": "ccae4a69-ad6f-433b-97f4-374c3ba36140",
   "metadata": {},
   "outputs": [],
   "source": [
    "# Easement has nothing so it will be dropped. Apartment number has a ton of NA so just drop it\n",
    "\n",
    "df.drop(['EASE-MENT', 'APARTMENT NUMBER'], inplace = True, axis = 1)"
   ]
  },
  {
   "cell_type": "code",
   "execution_count": 42,
   "id": "b90756cc-ba7f-4ead-b08d-e9c12ef4e0a9",
   "metadata": {},
   "outputs": [],
   "source": [
    "# Drop the na from the other values, they can be explained and are not helpful for out analysis\n",
    "\n",
    "df = df.dropna()"
   ]
  },
  {
   "cell_type": "code",
   "execution_count": 43,
   "id": "f0b2759d-bd91-4e8a-9b8b-8daa8c43961a",
   "metadata": {},
   "outputs": [
    {
     "data": {
      "text/plain": [
       "348"
      ]
     },
     "execution_count": 43,
     "metadata": {},
     "output_type": "execute_result"
    }
   ],
   "source": [
    "# Check for Duplicates\n",
    "\n",
    "sum(df.duplicated())"
   ]
  },
  {
   "cell_type": "code",
   "execution_count": 44,
   "id": "ed2114cf-5fbc-4338-8de5-1fec6fc5acbc",
   "metadata": {},
   "outputs": [],
   "source": [
    "df = df.drop_duplicates(df.columns, keep = 'last')"
   ]
  },
  {
   "cell_type": "code",
   "execution_count": 45,
   "id": "3047485e-c9eb-4bcb-b794-0de36f5d306b",
   "metadata": {},
   "outputs": [],
   "source": [
    "# There are a lot of '-' values instead of 0, so we should replace those.\n",
    "\n",
    "df.replace({'-':0}, inplace = True)"
   ]
  },
  {
   "cell_type": "code",
   "execution_count": 46,
   "id": "a56a1760-632f-4b87-9b6f-24cf7c2fb447",
   "metadata": {},
   "outputs": [
    {
     "name": "stdout",
     "output_type": "stream",
     "text": [
      "<class 'pandas.core.frame.DataFrame'>\n",
      "Int64Index: 47544 entries, 0 to 84547\n",
      "Data columns (total 21 columns):\n",
      " #   Column                          Non-Null Count  Dtype         \n",
      "---  ------                          --------------  -----         \n",
      " 0   BOROUGH                         47544 non-null  category      \n",
      " 1   NEIGHBORHOOD                    47544 non-null  category      \n",
      " 2   BUILDING CLASS CATEGORY         47544 non-null  category      \n",
      " 3   TAX CLASS AT PRESENT            47544 non-null  category      \n",
      " 4   BLOCK                           47544 non-null  int64         \n",
      " 5   LOT                             47544 non-null  int64         \n",
      " 6   BUILDING CLASS AT PRESENT       47544 non-null  category      \n",
      " 7   ADDRESS                         47544 non-null  object        \n",
      " 8   ZIP CODE                        47544 non-null  category      \n",
      " 9   RESIDENTIAL UNITS               47544 non-null  int64         \n",
      " 10  COMMERCIAL UNITS                47544 non-null  int64         \n",
      " 11  TOTAL UNITS                     47544 non-null  int64         \n",
      " 12  LAND SQUARE FEET                47544 non-null  float64       \n",
      " 13  GROSS SQUARE FEET               47544 non-null  float64       \n",
      " 14  YEAR BUILT                      47544 non-null  category      \n",
      " 15  TAX CLASS AT TIME OF SALE       47544 non-null  category      \n",
      " 16  BUILDING CLASS AT TIME OF SALE  47544 non-null  category      \n",
      " 17  SALE PRICE                      47544 non-null  float64       \n",
      " 18  SALE DATE                       47544 non-null  datetime64[ns]\n",
      " 19  sale_year                       47544 non-null  category      \n",
      " 20  sale_month                      47544 non-null  category      \n",
      "dtypes: category(11), datetime64[ns](1), float64(3), int64(5), object(1)\n",
      "memory usage: 4.7+ MB\n"
     ]
    }
   ],
   "source": [
    "df.info()"
   ]
  },
  {
   "cell_type": "markdown",
   "id": "c73b97d2-b08f-4081-a1c8-1992e3b2a314",
   "metadata": {
    "tags": []
   },
   "source": [
    "#### More Cleaning"
   ]
  },
  {
   "cell_type": "code",
   "execution_count": 47,
   "id": "0805c432-583b-4eb5-858f-12beef261f92",
   "metadata": {},
   "outputs": [
    {
     "data": {
      "text/html": [
       "<div>\n",
       "<style scoped>\n",
       "    .dataframe tbody tr th:only-of-type {\n",
       "        vertical-align: middle;\n",
       "    }\n",
       "\n",
       "    .dataframe tbody tr th {\n",
       "        vertical-align: top;\n",
       "    }\n",
       "\n",
       "    .dataframe thead th {\n",
       "        text-align: right;\n",
       "    }\n",
       "</style>\n",
       "<table border=\"1\" class=\"dataframe\">\n",
       "  <thead>\n",
       "    <tr style=\"text-align: right;\">\n",
       "      <th></th>\n",
       "      <th>count</th>\n",
       "      <th>mean</th>\n",
       "      <th>std</th>\n",
       "      <th>min</th>\n",
       "      <th>25%</th>\n",
       "      <th>50%</th>\n",
       "      <th>75%</th>\n",
       "      <th>max</th>\n",
       "    </tr>\n",
       "  </thead>\n",
       "  <tbody>\n",
       "    <tr>\n",
       "      <th>BOROUGH</th>\n",
       "      <td>47544.0</td>\n",
       "      <td>3.256836e+00</td>\n",
       "      <td>9.049520e-01</td>\n",
       "      <td>1.000000e+00</td>\n",
       "      <td>3.000000e+00</td>\n",
       "      <td>3.000000e+00</td>\n",
       "      <td>4.000000e+00</td>\n",
       "      <td>5.000000e+00</td>\n",
       "    </tr>\n",
       "    <tr>\n",
       "      <th>NEIGHBORHOOD</th>\n",
       "      <td>0.0</td>\n",
       "      <td>NaN</td>\n",
       "      <td>NaN</td>\n",
       "      <td>NaN</td>\n",
       "      <td>NaN</td>\n",
       "      <td>NaN</td>\n",
       "      <td>NaN</td>\n",
       "      <td>NaN</td>\n",
       "    </tr>\n",
       "    <tr>\n",
       "      <th>BUILDING CLASS CATEGORY</th>\n",
       "      <td>0.0</td>\n",
       "      <td>NaN</td>\n",
       "      <td>NaN</td>\n",
       "      <td>NaN</td>\n",
       "      <td>NaN</td>\n",
       "      <td>NaN</td>\n",
       "      <td>NaN</td>\n",
       "      <td>NaN</td>\n",
       "    </tr>\n",
       "    <tr>\n",
       "      <th>TAX CLASS AT PRESENT</th>\n",
       "      <td>42401.0</td>\n",
       "      <td>1.428646e+00</td>\n",
       "      <td>8.524710e-01</td>\n",
       "      <td>1.000000e+00</td>\n",
       "      <td>1.000000e+00</td>\n",
       "      <td>1.000000e+00</td>\n",
       "      <td>2.000000e+00</td>\n",
       "      <td>4.000000e+00</td>\n",
       "    </tr>\n",
       "    <tr>\n",
       "      <th>BLOCK</th>\n",
       "      <td>47544.0</td>\n",
       "      <td>4.993789e+03</td>\n",
       "      <td>3.431769e+03</td>\n",
       "      <td>1.000000e+00</td>\n",
       "      <td>2.218000e+03</td>\n",
       "      <td>4.666000e+03</td>\n",
       "      <td>6.983750e+03</td>\n",
       "      <td>1.631900e+04</td>\n",
       "    </tr>\n",
       "    <tr>\n",
       "      <th>LOT</th>\n",
       "      <td>47544.0</td>\n",
       "      <td>2.278511e+02</td>\n",
       "      <td>4.906937e+02</td>\n",
       "      <td>1.000000e+00</td>\n",
       "      <td>2.100000e+01</td>\n",
       "      <td>4.500000e+01</td>\n",
       "      <td>9.000000e+01</td>\n",
       "      <td>9.009000e+03</td>\n",
       "    </tr>\n",
       "    <tr>\n",
       "      <th>BUILDING CLASS AT PRESENT</th>\n",
       "      <td>0.0</td>\n",
       "      <td>NaN</td>\n",
       "      <td>NaN</td>\n",
       "      <td>NaN</td>\n",
       "      <td>NaN</td>\n",
       "      <td>NaN</td>\n",
       "      <td>NaN</td>\n",
       "      <td>NaN</td>\n",
       "    </tr>\n",
       "    <tr>\n",
       "      <th>ADDRESS</th>\n",
       "      <td>0.0</td>\n",
       "      <td>NaN</td>\n",
       "      <td>NaN</td>\n",
       "      <td>NaN</td>\n",
       "      <td>NaN</td>\n",
       "      <td>NaN</td>\n",
       "      <td>NaN</td>\n",
       "      <td>NaN</td>\n",
       "    </tr>\n",
       "    <tr>\n",
       "      <th>ZIP CODE</th>\n",
       "      <td>47544.0</td>\n",
       "      <td>1.098669e+04</td>\n",
       "      <td>8.016274e+02</td>\n",
       "      <td>0.000000e+00</td>\n",
       "      <td>1.047000e+04</td>\n",
       "      <td>1.121700e+04</td>\n",
       "      <td>1.123800e+04</td>\n",
       "      <td>1.169400e+04</td>\n",
       "    </tr>\n",
       "    <tr>\n",
       "      <th>RESIDENTIAL UNITS</th>\n",
       "      <td>47544.0</td>\n",
       "      <td>2.553656e+00</td>\n",
       "      <td>1.723198e+01</td>\n",
       "      <td>0.000000e+00</td>\n",
       "      <td>1.000000e+00</td>\n",
       "      <td>1.000000e+00</td>\n",
       "      <td>2.000000e+00</td>\n",
       "      <td>1.844000e+03</td>\n",
       "    </tr>\n",
       "    <tr>\n",
       "      <th>COMMERCIAL UNITS</th>\n",
       "      <td>47544.0</td>\n",
       "      <td>2.392310e-01</td>\n",
       "      <td>1.088558e+01</td>\n",
       "      <td>0.000000e+00</td>\n",
       "      <td>0.000000e+00</td>\n",
       "      <td>0.000000e+00</td>\n",
       "      <td>0.000000e+00</td>\n",
       "      <td>2.261000e+03</td>\n",
       "    </tr>\n",
       "    <tr>\n",
       "      <th>TOTAL UNITS</th>\n",
       "      <td>47544.0</td>\n",
       "      <td>2.811985e+00</td>\n",
       "      <td>2.050190e+01</td>\n",
       "      <td>0.000000e+00</td>\n",
       "      <td>1.000000e+00</td>\n",
       "      <td>1.000000e+00</td>\n",
       "      <td>2.000000e+00</td>\n",
       "      <td>2.261000e+03</td>\n",
       "    </tr>\n",
       "    <tr>\n",
       "      <th>LAND SQUARE FEET</th>\n",
       "      <td>47544.0</td>\n",
       "      <td>3.295120e+03</td>\n",
       "      <td>3.066143e+04</td>\n",
       "      <td>0.000000e+00</td>\n",
       "      <td>1.462750e+03</td>\n",
       "      <td>2.150000e+03</td>\n",
       "      <td>3.076000e+03</td>\n",
       "      <td>4.228300e+06</td>\n",
       "    </tr>\n",
       "    <tr>\n",
       "      <th>GROSS SQUARE FEET</th>\n",
       "      <td>47544.0</td>\n",
       "      <td>3.551979e+03</td>\n",
       "      <td>2.931144e+04</td>\n",
       "      <td>0.000000e+00</td>\n",
       "      <td>8.760000e+02</td>\n",
       "      <td>1.628000e+03</td>\n",
       "      <td>2.520000e+03</td>\n",
       "      <td>3.750565e+06</td>\n",
       "    </tr>\n",
       "    <tr>\n",
       "      <th>YEAR BUILT</th>\n",
       "      <td>47544.0</td>\n",
       "      <td>1.841982e+03</td>\n",
       "      <td>4.371478e+02</td>\n",
       "      <td>0.000000e+00</td>\n",
       "      <td>1.920000e+03</td>\n",
       "      <td>1.931000e+03</td>\n",
       "      <td>1.961000e+03</td>\n",
       "      <td>2.017000e+03</td>\n",
       "    </tr>\n",
       "    <tr>\n",
       "      <th>TAX CLASS AT TIME OF SALE</th>\n",
       "      <td>47544.0</td>\n",
       "      <td>1.465274e+00</td>\n",
       "      <td>8.243077e-01</td>\n",
       "      <td>1.000000e+00</td>\n",
       "      <td>1.000000e+00</td>\n",
       "      <td>1.000000e+00</td>\n",
       "      <td>2.000000e+00</td>\n",
       "      <td>4.000000e+00</td>\n",
       "    </tr>\n",
       "    <tr>\n",
       "      <th>BUILDING CLASS AT TIME OF SALE</th>\n",
       "      <td>0.0</td>\n",
       "      <td>NaN</td>\n",
       "      <td>NaN</td>\n",
       "      <td>NaN</td>\n",
       "      <td>NaN</td>\n",
       "      <td>NaN</td>\n",
       "      <td>NaN</td>\n",
       "      <td>NaN</td>\n",
       "    </tr>\n",
       "    <tr>\n",
       "      <th>SALE PRICE</th>\n",
       "      <td>47544.0</td>\n",
       "      <td>1.160690e+06</td>\n",
       "      <td>1.349207e+07</td>\n",
       "      <td>0.000000e+00</td>\n",
       "      <td>1.000000e+05</td>\n",
       "      <td>4.830000e+05</td>\n",
       "      <td>8.300000e+05</td>\n",
       "      <td>2.210000e+09</td>\n",
       "    </tr>\n",
       "    <tr>\n",
       "      <th>SALE DATE</th>\n",
       "      <td>47544.0</td>\n",
       "      <td>1.487965e+18</td>\n",
       "      <td>8.928912e+15</td>\n",
       "      <td>1.472688e+18</td>\n",
       "      <td>1.480378e+18</td>\n",
       "      <td>1.487894e+18</td>\n",
       "      <td>1.495670e+18</td>\n",
       "      <td>1.504138e+18</td>\n",
       "    </tr>\n",
       "    <tr>\n",
       "      <th>sale_year</th>\n",
       "      <td>47544.0</td>\n",
       "      <td>2.016644e+03</td>\n",
       "      <td>4.787591e-01</td>\n",
       "      <td>2.016000e+03</td>\n",
       "      <td>2.016000e+03</td>\n",
       "      <td>2.017000e+03</td>\n",
       "      <td>2.017000e+03</td>\n",
       "      <td>2.017000e+03</td>\n",
       "    </tr>\n",
       "    <tr>\n",
       "      <th>sale_month</th>\n",
       "      <td>47544.0</td>\n",
       "      <td>6.590127e+00</td>\n",
       "      <td>3.488798e+00</td>\n",
       "      <td>1.000000e+00</td>\n",
       "      <td>4.000000e+00</td>\n",
       "      <td>6.000000e+00</td>\n",
       "      <td>1.000000e+01</td>\n",
       "      <td>1.200000e+01</td>\n",
       "    </tr>\n",
       "  </tbody>\n",
       "</table>\n",
       "</div>"
      ],
      "text/plain": [
       "                                  count          mean           std  \\\n",
       "BOROUGH                         47544.0  3.256836e+00  9.049520e-01   \n",
       "NEIGHBORHOOD                        0.0           NaN           NaN   \n",
       "BUILDING CLASS CATEGORY             0.0           NaN           NaN   \n",
       "TAX CLASS AT PRESENT            42401.0  1.428646e+00  8.524710e-01   \n",
       "BLOCK                           47544.0  4.993789e+03  3.431769e+03   \n",
       "LOT                             47544.0  2.278511e+02  4.906937e+02   \n",
       "BUILDING CLASS AT PRESENT           0.0           NaN           NaN   \n",
       "ADDRESS                             0.0           NaN           NaN   \n",
       "ZIP CODE                        47544.0  1.098669e+04  8.016274e+02   \n",
       "RESIDENTIAL UNITS               47544.0  2.553656e+00  1.723198e+01   \n",
       "COMMERCIAL UNITS                47544.0  2.392310e-01  1.088558e+01   \n",
       "TOTAL UNITS                     47544.0  2.811985e+00  2.050190e+01   \n",
       "LAND SQUARE FEET                47544.0  3.295120e+03  3.066143e+04   \n",
       "GROSS SQUARE FEET               47544.0  3.551979e+03  2.931144e+04   \n",
       "YEAR BUILT                      47544.0  1.841982e+03  4.371478e+02   \n",
       "TAX CLASS AT TIME OF SALE       47544.0  1.465274e+00  8.243077e-01   \n",
       "BUILDING CLASS AT TIME OF SALE      0.0           NaN           NaN   \n",
       "SALE PRICE                      47544.0  1.160690e+06  1.349207e+07   \n",
       "SALE DATE                       47544.0  1.487965e+18  8.928912e+15   \n",
       "sale_year                       47544.0  2.016644e+03  4.787591e-01   \n",
       "sale_month                      47544.0  6.590127e+00  3.488798e+00   \n",
       "\n",
       "                                         min           25%           50%  \\\n",
       "BOROUGH                         1.000000e+00  3.000000e+00  3.000000e+00   \n",
       "NEIGHBORHOOD                             NaN           NaN           NaN   \n",
       "BUILDING CLASS CATEGORY                  NaN           NaN           NaN   \n",
       "TAX CLASS AT PRESENT            1.000000e+00  1.000000e+00  1.000000e+00   \n",
       "BLOCK                           1.000000e+00  2.218000e+03  4.666000e+03   \n",
       "LOT                             1.000000e+00  2.100000e+01  4.500000e+01   \n",
       "BUILDING CLASS AT PRESENT                NaN           NaN           NaN   \n",
       "ADDRESS                                  NaN           NaN           NaN   \n",
       "ZIP CODE                        0.000000e+00  1.047000e+04  1.121700e+04   \n",
       "RESIDENTIAL UNITS               0.000000e+00  1.000000e+00  1.000000e+00   \n",
       "COMMERCIAL UNITS                0.000000e+00  0.000000e+00  0.000000e+00   \n",
       "TOTAL UNITS                     0.000000e+00  1.000000e+00  1.000000e+00   \n",
       "LAND SQUARE FEET                0.000000e+00  1.462750e+03  2.150000e+03   \n",
       "GROSS SQUARE FEET               0.000000e+00  8.760000e+02  1.628000e+03   \n",
       "YEAR BUILT                      0.000000e+00  1.920000e+03  1.931000e+03   \n",
       "TAX CLASS AT TIME OF SALE       1.000000e+00  1.000000e+00  1.000000e+00   \n",
       "BUILDING CLASS AT TIME OF SALE           NaN           NaN           NaN   \n",
       "SALE PRICE                      0.000000e+00  1.000000e+05  4.830000e+05   \n",
       "SALE DATE                       1.472688e+18  1.480378e+18  1.487894e+18   \n",
       "sale_year                       2.016000e+03  2.016000e+03  2.017000e+03   \n",
       "sale_month                      1.000000e+00  4.000000e+00  6.000000e+00   \n",
       "\n",
       "                                         75%           max  \n",
       "BOROUGH                         4.000000e+00  5.000000e+00  \n",
       "NEIGHBORHOOD                             NaN           NaN  \n",
       "BUILDING CLASS CATEGORY                  NaN           NaN  \n",
       "TAX CLASS AT PRESENT            2.000000e+00  4.000000e+00  \n",
       "BLOCK                           6.983750e+03  1.631900e+04  \n",
       "LOT                             9.000000e+01  9.009000e+03  \n",
       "BUILDING CLASS AT PRESENT                NaN           NaN  \n",
       "ADDRESS                                  NaN           NaN  \n",
       "ZIP CODE                        1.123800e+04  1.169400e+04  \n",
       "RESIDENTIAL UNITS               2.000000e+00  1.844000e+03  \n",
       "COMMERCIAL UNITS                0.000000e+00  2.261000e+03  \n",
       "TOTAL UNITS                     2.000000e+00  2.261000e+03  \n",
       "LAND SQUARE FEET                3.076000e+03  4.228300e+06  \n",
       "GROSS SQUARE FEET               2.520000e+03  3.750565e+06  \n",
       "YEAR BUILT                      1.961000e+03  2.017000e+03  \n",
       "TAX CLASS AT TIME OF SALE       2.000000e+00  4.000000e+00  \n",
       "BUILDING CLASS AT TIME OF SALE           NaN           NaN  \n",
       "SALE PRICE                      8.300000e+05  2.210000e+09  \n",
       "SALE DATE                       1.495670e+18  1.504138e+18  \n",
       "sale_year                       2.017000e+03  2.017000e+03  \n",
       "sale_month                      1.000000e+01  1.200000e+01  "
      ]
     },
     "execution_count": 47,
     "metadata": {},
     "output_type": "execute_result"
    }
   ],
   "source": [
    "# Checking the description of all the variables\n",
    "\n",
    "temp = df.copy()\n",
    "for cols in temp.columns:\n",
    "    temp[cols]=pd.to_numeric(temp[cols], errors = 'coerce')\n",
    "    \n",
    "temp.describe().T"
   ]
  },
  {
   "cell_type": "markdown",
   "id": "3404d1f4-24b8-4b49-84aa-a851bcdf39e8",
   "metadata": {},
   "source": [
    "There appear to be some nonsense values. Sale price, year built, and total units have minimums of 0. This doesnt make sense, im fairly certain these properties have some sort of structure on them so there cannot be 0 total units. Also, how can a structure on a property in New York be built in year 0? How can the selling price of a property be 0? Let's visualize these variables and see what's going on."
   ]
  },
  {
   "cell_type": "markdown",
   "id": "bbdfe06b-1f63-4758-9881-571ea2838f63",
   "metadata": {},
   "source": [
    "#### Data Visualization"
   ]
  },
  {
   "cell_type": "markdown",
   "id": "89c2b8de-885d-4f4c-9dd4-455b6b8306a3",
   "metadata": {},
   "source": [
    "Let's start with the target variable, sale price."
   ]
  },
  {
   "cell_type": "code",
   "execution_count": 48,
   "id": "c49707a3-4f0d-465c-bcdb-728a15778774",
   "metadata": {},
   "outputs": [
    {
     "data": {
      "text/plain": [
       "<Figure size 864x432 with 0 Axes>"
      ]
     },
     "metadata": {},
     "output_type": "display_data"
    },
    {
     "data": {
      "image/png": "[encoded data removed]",
      "text/plain": [
       "<Figure size 360x360 with 1 Axes>"
      ]
     },
     "metadata": {},
     "output_type": "display_data"
    }
   ],
   "source": [
    "plt.figure(figsize = (12,6))\n",
    "sns.displot(df['SALE PRICE'], bins = 40, rug = True)\n",
    "plt.show()"
   ]
  },
  {
   "cell_type": "code",
   "execution_count": 49,
   "id": "507364c3-b5a5-4a08-a211-6c23f3df05ff",
   "metadata": {},
   "outputs": [
    {
     "data": {
      "text/plain": [
       "0.24310112737674575"
      ]
     },
     "execution_count": 49,
     "metadata": {},
     "output_type": "execute_result"
    }
   ],
   "source": [
    "# That's a lot of 0's!\n",
    "\n",
    "df[(df['SALE PRICE'] < 10000) | (df['SALE PRICE'] > 10000000)]['SALE PRICE'].count() / len(df)"
   ]
  },
  {
   "cell_type": "markdown",
   "id": "f32b2115-1e61-47fb-a42d-fbfb3397d344",
   "metadata": {},
   "source": [
    "There appear to be a lot of values at 0 as well as a couple of very high variables. The 0's can be explained by deed's being transferred with no money being exchanged, such as someone inheriting a will. These observations are not helpful for our analysis nor are the values on the other extreme, all should be dropped. As was seen, about 25% of the the observations were below 10000 dollars, or above 10000000 dollars. "
   ]
  },
  {
   "cell_type": "code",
   "execution_count": 50,
   "id": "02c1ddb2-74e1-49a5-9b05-88b3b808549a",
   "metadata": {},
   "outputs": [
    {
     "data": {
      "text/plain": [
       "<Figure size 864x432 with 0 Axes>"
      ]
     },
     "metadata": {},
     "output_type": "display_data"
    },
    {
     "data": {
      "image/png": "[encoded data removed]",
      "text/plain": [
       "<Figure size 360x360 with 1 Axes>"
      ]
     },
     "metadata": {},
     "output_type": "display_data"
    }
   ],
   "source": [
    "# dropping extreme values\n",
    "\n",
    "df2 = df[(df['SALE PRICE'] > 10000) & (df['SALE PRICE'] < 10000000)]\n",
    "\n",
    "# plotting new dataframe\n",
    "\n",
    "\n",
    "plt.figure(figsize = (12,6))\n",
    "sns.displot(df2['SALE PRICE'], bins = 40, rug = True)\n",
    "plt.show()"
   ]
  },
  {
   "cell_type": "markdown",
   "id": "40b86fa8-4fe2-4f10-8ad3-928ab3ebc68c",
   "metadata": {},
   "source": [
    "That's much better! If we wanted to, we could normalize this with a log transform, but for now we will leave it. Let's take a look at year built."
   ]
  },
  {
   "cell_type": "code",
   "execution_count": 51,
   "id": "a89c5785-12d5-45dc-b9b7-c41d9d3ac2d5",
   "metadata": {},
   "outputs": [
    {
     "data": {
      "text/plain": [
       "1920    3459\n",
       "1930    2796\n",
       "1925    2604\n",
       "1910    1842\n",
       "1950    1675\n",
       "        ... \n",
       "1829       0\n",
       "1826       0\n",
       "1111       0\n",
       "1680       0\n",
       "1840       0\n",
       "Name: YEAR BUILT, Length: 158, dtype: int64"
      ]
     },
     "execution_count": 51,
     "metadata": {},
     "output_type": "execute_result"
    }
   ],
   "source": [
    "# Check how many obs are 0 for year count\n",
    "\n",
    "df2['YEAR BUILT'].value_counts()"
   ]
  },
  {
   "cell_type": "markdown",
   "id": "e20e80eb-888d-4553-9cae-ffe8cadbb638",
   "metadata": {},
   "source": [
    "These values of 0 just make no sense for our analysis and should be removed."
   ]
  },
  {
   "cell_type": "code",
   "execution_count": 52,
   "id": "a26d18e2-e0a0-457c-958d-37497d9d4463",
   "metadata": {},
   "outputs": [
    {
     "name": "stderr",
     "output_type": "stream",
     "text": [
      "C:\\Users\\derek\\anaconda3\\lib\\site-packages\\seaborn\\distributions.py:2619: FutureWarning: `distplot` is a deprecated function and will be removed in a future version. Please adapt your code to use either `displot` (a figure-level function with similar flexibility) or `histplot` (an axes-level function for histograms).\n",
      "  warnings.warn(msg, FutureWarning)\n"
     ]
    },
    {
     "data": {
      "text/plain": [
       "<AxesSubplot:xlabel='YEAR BUILT', ylabel='Density'>"
      ]
     },
     "execution_count": 52,
     "metadata": {},
     "output_type": "execute_result"
    },
    {
     "data": {
      "image/png": "[encoded data removed]",
      "text/plain": [
       "<Figure size 432x288 with 1 Axes>"
      ]
     },
     "metadata": {},
     "output_type": "display_data"
    }
   ],
   "source": [
    "# dropping values\n",
    "\n",
    "df3 = df2[df2['YEAR BUILT'] != 0]\n",
    "\n",
    "#plotting result\n",
    "\n",
    "sns.distplot(df3['YEAR BUILT'], bins = 100)"
   ]
  },
  {
   "cell_type": "markdown",
   "id": "1e381ff0-7c02-44af-81ee-d051d87323bc",
   "metadata": {},
   "source": [
    "Ahh, much better! Finally, let's look at Total Units."
   ]
  },
  {
   "cell_type": "code",
   "execution_count": 53,
   "id": "ef6de332-23d3-4a1d-ad3d-bf63d4170e89",
   "metadata": {},
   "outputs": [
    {
     "data": {
      "text/plain": [
       "1      16282\n",
       "2       9756\n",
       "0       3430\n",
       "3       2823\n",
       "4        754\n",
       "       ...  \n",
       "63         1\n",
       "50         1\n",
       "159        1\n",
       "462        1\n",
       "128        1\n",
       "Name: TOTAL UNITS, Length: 94, dtype: int64"
      ]
     },
     "execution_count": 53,
     "metadata": {},
     "output_type": "execute_result"
    }
   ],
   "source": [
    "df3['TOTAL UNITS'].value_counts()"
   ]
  },
  {
   "cell_type": "markdown",
   "id": "edfaed6d-223c-4d74-974b-f8a85b0b2622",
   "metadata": {},
   "source": [
    "These values of 0 again do not make sense and should be dropped."
   ]
  },
  {
   "cell_type": "code",
   "execution_count": 54,
   "id": "739f4709-382b-4b78-807e-ba130d6e7bea",
   "metadata": {},
   "outputs": [
    {
     "data": {
      "text/plain": [
       "<seaborn.axisgrid.FacetGrid at 0x1ceaf521fa0>"
      ]
     },
     "execution_count": 54,
     "metadata": {},
     "output_type": "execute_result"
    },
    {
     "data": {
      "image/png": "[encoded data removed]",
      "text/plain": [
       "<Figure size 360x360 with 1 Axes>"
      ]
     },
     "metadata": {},
     "output_type": "display_data"
    }
   ],
   "source": [
    "# dropping values\n",
    "\n",
    "df4 = df3[df3['TOTAL UNITS'] != 0]\n",
    "\n",
    "# plotting new TOTAL UNITS\n",
    "\n",
    "sns.displot(df4['TOTAL UNITS'], bins = 100)"
   ]
  },
  {
   "cell_type": "code",
   "execution_count": 55,
   "id": "faf24fd5-3450-4af6-8c18-1ab312faa93d",
   "metadata": {},
   "outputs": [
    {
     "data": {
      "text/html": [
       "<div>\n",
       "<style scoped>\n",
       "    .dataframe tbody tr th:only-of-type {\n",
       "        vertical-align: middle;\n",
       "    }\n",
       "\n",
       "    .dataframe tbody tr th {\n",
       "        vertical-align: top;\n",
       "    }\n",
       "\n",
       "    .dataframe thead th {\n",
       "        text-align: right;\n",
       "    }\n",
       "</style>\n",
       "<table border=\"1\" class=\"dataframe\">\n",
       "  <thead>\n",
       "    <tr style=\"text-align: right;\">\n",
       "      <th></th>\n",
       "      <th>count</th>\n",
       "      <th>mean</th>\n",
       "      <th>std</th>\n",
       "      <th>min</th>\n",
       "      <th>25%</th>\n",
       "      <th>50%</th>\n",
       "      <th>75%</th>\n",
       "      <th>max</th>\n",
       "    </tr>\n",
       "  </thead>\n",
       "  <tbody>\n",
       "    <tr>\n",
       "      <th>BLOCK</th>\n",
       "      <td>31046.0</td>\n",
       "      <td>5333.734909</td>\n",
       "      <td>3.756669e+03</td>\n",
       "      <td>1.0</td>\n",
       "      <td>2300.75</td>\n",
       "      <td>4743.0</td>\n",
       "      <td>7589.75</td>\n",
       "      <td>16319.0</td>\n",
       "    </tr>\n",
       "    <tr>\n",
       "      <th>LOT</th>\n",
       "      <td>31046.0</td>\n",
       "      <td>184.279038</td>\n",
       "      <td>3.830487e+02</td>\n",
       "      <td>1.0</td>\n",
       "      <td>22.00</td>\n",
       "      <td>44.0</td>\n",
       "      <td>82.75</td>\n",
       "      <td>3710.0</td>\n",
       "    </tr>\n",
       "    <tr>\n",
       "      <th>RESIDENTIAL UNITS</th>\n",
       "      <td>31046.0</td>\n",
       "      <td>2.248083</td>\n",
       "      <td>1.487344e+01</td>\n",
       "      <td>0.0</td>\n",
       "      <td>1.00</td>\n",
       "      <td>1.0</td>\n",
       "      <td>2.00</td>\n",
       "      <td>1844.0</td>\n",
       "    </tr>\n",
       "    <tr>\n",
       "      <th>COMMERCIAL UNITS</th>\n",
       "      <td>31046.0</td>\n",
       "      <td>0.205888</td>\n",
       "      <td>1.292592e+01</td>\n",
       "      <td>0.0</td>\n",
       "      <td>0.00</td>\n",
       "      <td>0.0</td>\n",
       "      <td>0.00</td>\n",
       "      <td>2261.0</td>\n",
       "    </tr>\n",
       "    <tr>\n",
       "      <th>TOTAL UNITS</th>\n",
       "      <td>31046.0</td>\n",
       "      <td>2.458127</td>\n",
       "      <td>1.977700e+01</td>\n",
       "      <td>1.0</td>\n",
       "      <td>1.00</td>\n",
       "      <td>1.0</td>\n",
       "      <td>2.00</td>\n",
       "      <td>2261.0</td>\n",
       "    </tr>\n",
       "    <tr>\n",
       "      <th>LAND SQUARE FEET</th>\n",
       "      <td>31046.0</td>\n",
       "      <td>3361.888842</td>\n",
       "      <td>3.029225e+04</td>\n",
       "      <td>0.0</td>\n",
       "      <td>1825.00</td>\n",
       "      <td>2433.0</td>\n",
       "      <td>3575.00</td>\n",
       "      <td>4228300.0</td>\n",
       "    </tr>\n",
       "    <tr>\n",
       "      <th>GROSS SQUARE FEET</th>\n",
       "      <td>31046.0</td>\n",
       "      <td>2798.418283</td>\n",
       "      <td>2.472449e+04</td>\n",
       "      <td>0.0</td>\n",
       "      <td>1216.00</td>\n",
       "      <td>1710.0</td>\n",
       "      <td>2444.00</td>\n",
       "      <td>3750565.0</td>\n",
       "    </tr>\n",
       "    <tr>\n",
       "      <th>SALE PRICE</th>\n",
       "      <td>31046.0</td>\n",
       "      <td>934627.478065</td>\n",
       "      <td>1.074874e+06</td>\n",
       "      <td>10001.0</td>\n",
       "      <td>440425.00</td>\n",
       "      <td>645000.0</td>\n",
       "      <td>975000.00</td>\n",
       "      <td>9999999.0</td>\n",
       "    </tr>\n",
       "  </tbody>\n",
       "</table>\n",
       "</div>"
      ],
      "text/plain": [
       "                     count           mean           std      min        25%  \\\n",
       "BLOCK              31046.0    5333.734909  3.756669e+03      1.0    2300.75   \n",
       "LOT                31046.0     184.279038  3.830487e+02      1.0      22.00   \n",
       "RESIDENTIAL UNITS  31046.0       2.248083  1.487344e+01      0.0       1.00   \n",
       "COMMERCIAL UNITS   31046.0       0.205888  1.292592e+01      0.0       0.00   \n",
       "TOTAL UNITS        31046.0       2.458127  1.977700e+01      1.0       1.00   \n",
       "LAND SQUARE FEET   31046.0    3361.888842  3.029225e+04      0.0    1825.00   \n",
       "GROSS SQUARE FEET  31046.0    2798.418283  2.472449e+04      0.0    1216.00   \n",
       "SALE PRICE         31046.0  934627.478065  1.074874e+06  10001.0  440425.00   \n",
       "\n",
       "                        50%        75%        max  \n",
       "BLOCK                4743.0    7589.75    16319.0  \n",
       "LOT                    44.0      82.75     3710.0  \n",
       "RESIDENTIAL UNITS       1.0       2.00     1844.0  \n",
       "COMMERCIAL UNITS        0.0       0.00     2261.0  \n",
       "TOTAL UNITS             1.0       2.00     2261.0  \n",
       "LAND SQUARE FEET     2433.0    3575.00  4228300.0  \n",
       "GROSS SQUARE FEET    1710.0    2444.00  3750565.0  \n",
       "SALE PRICE         645000.0  975000.00  9999999.0  "
      ]
     },
     "execution_count": 55,
     "metadata": {},
     "output_type": "execute_result"
    }
   ],
   "source": [
    "df4.describe().T"
   ]
  },
  {
   "cell_type": "markdown",
   "id": "18f1b763-75bc-41da-b2fd-5bd7710dbfa3",
   "metadata": {},
   "source": [
    "Last bit of cleaning is to get rid of some variables that are irrelevant for our analysis (block, lot, and address), and then changing the numbers in the Borough variable to the actual names of the Buroughs."
   ]
  },
  {
   "cell_type": "code",
   "execution_count": 56,
   "id": "8097b3c4-e218-43bb-9655-baccbeced430",
   "metadata": {},
   "outputs": [
    {
     "name": "stderr",
     "output_type": "stream",
     "text": [
      "C:\\Users\\derek\\anaconda3\\lib\\site-packages\\pandas\\core\\frame.py:4906: SettingWithCopyWarning: \n",
      "A value is trying to be set on a copy of a slice from a DataFrame\n",
      "\n",
      "See the caveats in the documentation: https://pandas.pydata.org/pandas-docs/stable/user_guide/indexing.html#returning-a-view-versus-a-copy\n",
      "  return super().drop(\n",
      "C:\\Users\\derek\\AppData\\Local\\Temp/ipykernel_8388/280238132.py:7: SettingWithCopyWarning: \n",
      "A value is trying to be set on a copy of a slice from a DataFrame.\n",
      "Try using .loc[row_indexer,col_indexer] = value instead\n",
      "\n",
      "See the caveats in the documentation: https://pandas.pydata.org/pandas-docs/stable/user_guide/indexing.html#returning-a-view-versus-a-copy\n",
      "  df4['BOROUGH'] = df4['BOROUGH'].map({1:'Manhattan', 2:'Bronx', 3:'Brooklyn', 4:'Queens', 5:'Staten Island'})\n"
     ]
    },
    {
     "data": {
      "text/html": [
       "<div>\n",
       "<style scoped>\n",
       "    .dataframe tbody tr th:only-of-type {\n",
       "        vertical-align: middle;\n",
       "    }\n",
       "\n",
       "    .dataframe tbody tr th {\n",
       "        vertical-align: top;\n",
       "    }\n",
       "\n",
       "    .dataframe thead th {\n",
       "        text-align: right;\n",
       "    }\n",
       "</style>\n",
       "<table border=\"1\" class=\"dataframe\">\n",
       "  <thead>\n",
       "    <tr style=\"text-align: right;\">\n",
       "      <th></th>\n",
       "      <th>BOROUGH</th>\n",
       "      <th>NEIGHBORHOOD</th>\n",
       "      <th>BUILDING CLASS CATEGORY</th>\n",
       "      <th>TAX CLASS AT PRESENT</th>\n",
       "      <th>BUILDING CLASS AT PRESENT</th>\n",
       "      <th>ZIP CODE</th>\n",
       "      <th>RESIDENTIAL UNITS</th>\n",
       "      <th>COMMERCIAL UNITS</th>\n",
       "      <th>TOTAL UNITS</th>\n",
       "      <th>LAND SQUARE FEET</th>\n",
       "      <th>GROSS SQUARE FEET</th>\n",
       "      <th>YEAR BUILT</th>\n",
       "      <th>TAX CLASS AT TIME OF SALE</th>\n",
       "      <th>BUILDING CLASS AT TIME OF SALE</th>\n",
       "      <th>SALE PRICE</th>\n",
       "      <th>SALE DATE</th>\n",
       "      <th>sale_year</th>\n",
       "      <th>sale_month</th>\n",
       "    </tr>\n",
       "  </thead>\n",
       "  <tbody>\n",
       "    <tr>\n",
       "      <th>0</th>\n",
       "      <td>Manhattan</td>\n",
       "      <td>ALPHABET CITY</td>\n",
       "      <td>07 RENTALS - WALKUP APARTMENTS</td>\n",
       "      <td>2A</td>\n",
       "      <td>C2</td>\n",
       "      <td>10009</td>\n",
       "      <td>5</td>\n",
       "      <td>0</td>\n",
       "      <td>5</td>\n",
       "      <td>1633.0</td>\n",
       "      <td>6440.0</td>\n",
       "      <td>1900</td>\n",
       "      <td>2</td>\n",
       "      <td>C2</td>\n",
       "      <td>6625000.0</td>\n",
       "      <td>2017-07-19</td>\n",
       "      <td>2017</td>\n",
       "      <td>7</td>\n",
       "    </tr>\n",
       "    <tr>\n",
       "      <th>3</th>\n",
       "      <td>Manhattan</td>\n",
       "      <td>ALPHABET CITY</td>\n",
       "      <td>07 RENTALS - WALKUP APARTMENTS</td>\n",
       "      <td>2B</td>\n",
       "      <td>C4</td>\n",
       "      <td>10009</td>\n",
       "      <td>10</td>\n",
       "      <td>0</td>\n",
       "      <td>10</td>\n",
       "      <td>2272.0</td>\n",
       "      <td>6794.0</td>\n",
       "      <td>1913</td>\n",
       "      <td>2</td>\n",
       "      <td>C4</td>\n",
       "      <td>3936272.0</td>\n",
       "      <td>2016-09-23</td>\n",
       "      <td>2016</td>\n",
       "      <td>9</td>\n",
       "    </tr>\n",
       "    <tr>\n",
       "      <th>4</th>\n",
       "      <td>Manhattan</td>\n",
       "      <td>ALPHABET CITY</td>\n",
       "      <td>07 RENTALS - WALKUP APARTMENTS</td>\n",
       "      <td>2A</td>\n",
       "      <td>C2</td>\n",
       "      <td>10009</td>\n",
       "      <td>6</td>\n",
       "      <td>0</td>\n",
       "      <td>6</td>\n",
       "      <td>2369.0</td>\n",
       "      <td>4615.0</td>\n",
       "      <td>1900</td>\n",
       "      <td>2</td>\n",
       "      <td>C2</td>\n",
       "      <td>8000000.0</td>\n",
       "      <td>2016-11-17</td>\n",
       "      <td>2016</td>\n",
       "      <td>11</td>\n",
       "    </tr>\n",
       "    <tr>\n",
       "      <th>6</th>\n",
       "      <td>Manhattan</td>\n",
       "      <td>ALPHABET CITY</td>\n",
       "      <td>07 RENTALS - WALKUP APARTMENTS</td>\n",
       "      <td>2B</td>\n",
       "      <td>C4</td>\n",
       "      <td>10009</td>\n",
       "      <td>8</td>\n",
       "      <td>0</td>\n",
       "      <td>8</td>\n",
       "      <td>1750.0</td>\n",
       "      <td>4226.0</td>\n",
       "      <td>1920</td>\n",
       "      <td>2</td>\n",
       "      <td>C4</td>\n",
       "      <td>3192840.0</td>\n",
       "      <td>2016-09-23</td>\n",
       "      <td>2016</td>\n",
       "      <td>9</td>\n",
       "    </tr>\n",
       "    <tr>\n",
       "      <th>172</th>\n",
       "      <td>Manhattan</td>\n",
       "      <td>ALPHABET CITY</td>\n",
       "      <td>14 RENTALS - 4-10 UNIT</td>\n",
       "      <td>2A</td>\n",
       "      <td>S3</td>\n",
       "      <td>10009</td>\n",
       "      <td>3</td>\n",
       "      <td>1</td>\n",
       "      <td>4</td>\n",
       "      <td>1520.0</td>\n",
       "      <td>3360.0</td>\n",
       "      <td>1910</td>\n",
       "      <td>2</td>\n",
       "      <td>S3</td>\n",
       "      <td>3300000.0</td>\n",
       "      <td>2016-11-15</td>\n",
       "      <td>2016</td>\n",
       "      <td>11</td>\n",
       "    </tr>\n",
       "  </tbody>\n",
       "</table>\n",
       "</div>"
      ],
      "text/plain": [
       "       BOROUGH   NEIGHBORHOOD                      BUILDING CLASS CATEGORY  \\\n",
       "0    Manhattan  ALPHABET CITY  07 RENTALS - WALKUP APARTMENTS                \n",
       "3    Manhattan  ALPHABET CITY  07 RENTALS - WALKUP APARTMENTS                \n",
       "4    Manhattan  ALPHABET CITY  07 RENTALS - WALKUP APARTMENTS                \n",
       "6    Manhattan  ALPHABET CITY  07 RENTALS - WALKUP APARTMENTS                \n",
       "172  Manhattan  ALPHABET CITY  14 RENTALS - 4-10 UNIT                        \n",
       "\n",
       "    TAX CLASS AT PRESENT BUILDING CLASS AT PRESENT ZIP CODE  \\\n",
       "0                     2A                        C2    10009   \n",
       "3                     2B                        C4    10009   \n",
       "4                     2A                        C2    10009   \n",
       "6                     2B                        C4    10009   \n",
       "172                   2A                        S3    10009   \n",
       "\n",
       "     RESIDENTIAL UNITS  COMMERCIAL UNITS  TOTAL UNITS  LAND SQUARE FEET  \\\n",
       "0                    5                 0            5            1633.0   \n",
       "3                   10                 0           10            2272.0   \n",
       "4                    6                 0            6            2369.0   \n",
       "6                    8                 0            8            1750.0   \n",
       "172                  3                 1            4            1520.0   \n",
       "\n",
       "     GROSS SQUARE FEET YEAR BUILT TAX CLASS AT TIME OF SALE  \\\n",
       "0               6440.0       1900                         2   \n",
       "3               6794.0       1913                         2   \n",
       "4               4615.0       1900                         2   \n",
       "6               4226.0       1920                         2   \n",
       "172             3360.0       1910                         2   \n",
       "\n",
       "    BUILDING CLASS AT TIME OF SALE  SALE PRICE  SALE DATE sale_year sale_month  \n",
       "0                               C2   6625000.0 2017-07-19      2017          7  \n",
       "3                               C4   3936272.0 2016-09-23      2016          9  \n",
       "4                               C2   8000000.0 2016-11-17      2016         11  \n",
       "6                               C4   3192840.0 2016-09-23      2016          9  \n",
       "172                             S3   3300000.0 2016-11-15      2016         11  "
      ]
     },
     "execution_count": 56,
     "metadata": {},
     "output_type": "execute_result"
    }
   ],
   "source": [
    "# dropping irrelevant columns\n",
    "\n",
    "df4.drop(['LOT', 'BLOCK', 'ADDRESS'], axis = 1, inplace = True)\n",
    "\n",
    "#1 = Manhattan, 2 = Bronx, 3 = Brooklyn, 4 = Queens, 5 = Staten Island\n",
    "\n",
    "df4['BOROUGH'] = df4['BOROUGH'].map({1:'Manhattan', 2:'Bronx', 3:'Brooklyn', 4:'Queens', 5:'Staten Island'})\n",
    "df4.head()"
   ]
  },
  {
   "cell_type": "markdown",
   "id": "c574e979-b574-49fb-8a31-fa393d4d989d",
   "metadata": {
    "tags": []
   },
   "source": [
    "#### Data Exploration"
   ]
  },
  {
   "cell_type": "code",
   "execution_count": 27,
   "id": "b812936a-bcfe-4846-9f60-7fbb4881b287",
   "metadata": {
    "tags": []
   },
   "outputs": [
    {
     "data": {
      "image/png": "[encoded data removed]",
      "text/plain": [
       "<Figure size 720x432 with 1 Axes>"
      ]
     },
     "metadata": {},
     "output_type": "display_data"
    }
   ],
   "source": [
    "plt.figure(figsize = (10,6))\n",
    "sns.boxplot(x = 'SALE PRICE', y = 'BOROUGH', data = df4)\n",
    "plt.title('BOROUGH vs. SALE PRICE')\n",
    "plt.show()"
   ]
  },
  {
   "cell_type": "markdown",
   "id": "5f9747e1-4a01-46d1-bf6d-713e77911e18",
   "metadata": {},
   "source": [
    "This plot shows the boxplots for sale price in each borough. As can be seen, Manhattan varies greatly across all prices. The remaining boroughs are all right skewed."
   ]
  },
  {
   "cell_type": "markdown",
   "id": "69000ca4-445b-4dd6-92e7-0a966e67b76a",
   "metadata": {},
   "source": [
    "I wanted to do some sort of plot with with the neighborhoods, but anything I tried was just messy because there are so many neighborhoods. I did some looking of Kaggle and found an EDA that took 20 neighborhoods and compared the average property price in those neighborhoods. It took some time to adapt their code to mine, but I got it! The original EDA claims to have found the top 20 most expensive neighborhoods, but I looked at the documentation for the collections and counter class, and those classes are just used for list manipulation pretty much. So the neighborhood list that is created is a list of the 20 neighborhoods that show up the most in the dataframe."
   ]
  },
  {
   "cell_type": "code",
   "execution_count": 28,
   "id": "393a7289-901c-496e-960e-1896c530426a",
   "metadata": {},
   "outputs": [],
   "source": [
    "# I found this in another EDA on Kaggle and thought it was an interesting plot\n",
    "# kaggle.com/eric8395/nyc-property-sales-eda-analysis-w-regression\n",
    "\n",
    "from collections import Counter\n",
    "neighborhood = list(dict(Counter(df4['NEIGHBORHOOD']).most_common(20)).keys())\n",
    "\n",
    "avg_sale_prices = []\n",
    "for i in neighborhood:\n",
    "    avg_price = np.mean(df4['SALE PRICE'][df4['NEIGHBORHOOD'] == i])\n",
    "    avg_sale_prices.append(avg_price)"
   ]
  },
  {
   "cell_type": "code",
   "execution_count": 29,
   "id": "fa70e9dc-1353-4417-a843-c272470b21bf",
   "metadata": {},
   "outputs": [
    {
     "data": {
      "text/plain": [
       "Text(0.5, 1.0, 'Average Propert Price in the Top 20 Neighborhoods')"
      ]
     },
     "execution_count": 29,
     "metadata": {},
     "output_type": "execute_result"
    },
    {
     "data": {
      "image/png": "[encoded data removed]",
      "text/plain": [
       "<Figure size 1080x360 with 1 Axes>"
      ]
     },
     "metadata": {},
     "output_type": "display_data"
    }
   ],
   "source": [
    "plt.figure(figsize = (15,5))\n",
    "\n",
    "ax = sns.barplot(x = avg_sale_prices, y = neighborhood, ci = None, palette = 'Spectral')\n",
    "ax.set_xlabel('Average Property Price')\n",
    "ax.set_ylabel('Neighborhood')\n",
    "plt.title('Average Propert Price in the Top 20 Neighborhoods')"
   ]
  }
 ],
 "metadata": {
  "kernelspec": {
   "display_name": "Python 3 (ipykernel)",
   "language": "python",
   "name": "python3"
  },
  "language_info": {
   "codemirror_mode": {
    "name": "ipython",
    "version": 3
   },
   "file_extension": ".py",
   "mimetype": "text/x-python",
   "name": "python",
   "nbconvert_exporter": "python",
   "pygments_lexer": "ipython3",
   "version": "3.9.7"
  }
 },
 "nbformat": 4,
 "nbformat_minor": 5
}
