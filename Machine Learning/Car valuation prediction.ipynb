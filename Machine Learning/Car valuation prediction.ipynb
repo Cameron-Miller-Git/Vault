{
 "cells": [
  {
   "cell_type": "markdown",
   "metadata": {},
   "source": [
    "# Final Project\n"
   ]
  },
  {
   "cell_type": "markdown",
   "metadata": {},
   "source": [
    "## Miller, et al\n",
    "\n"
   ]
  },
  {
   "cell_type": "markdown",
   "metadata": {},
   "source": [
    "### The purpose of this analysis is to see if we can accurately predict used car sale prices. We also want to see which attributes of a car are the most important in determining the price of the vehicle. "
   ]
  },
  {
   "cell_type": "code",
   "execution_count": 2,
   "metadata": {},
   "outputs": [],
   "source": [
    "import numpy as np\n",
    "import pandas as pd\n",
    "import matplotlib.pyplot as plt\n",
    "import seaborn as sns\n",
    "sns.set()  #if you want to use seaborn themes with matplotlib functions\n",
    "import warnings\n",
    "warnings.filterwarnings('ignore')"
   ]
  },
  {
   "cell_type": "code",
   "execution_count": 3,
   "metadata": {},
   "outputs": [],
   "source": [
    "rand_state = 1000"
   ]
  },
  {
   "cell_type": "code",
   "execution_count": 4,
   "metadata": {},
   "outputs": [],
   "source": [
    "df = pd.read_csv(\"cars.csv\")"
   ]
  },
  {
   "cell_type": "code",
   "execution_count": 5,
   "metadata": {},
   "outputs": [
    {
     "data": {
      "text/html": [
       "<div>\n",
       "<style scoped>\n",
       "    .dataframe tbody tr th:only-of-type {\n",
       "        vertical-align: middle;\n",
       "    }\n",
       "\n",
       "    .dataframe tbody tr th {\n",
       "        vertical-align: top;\n",
       "    }\n",
       "\n",
       "    .dataframe thead th {\n",
       "        text-align: right;\n",
       "    }\n",
       "</style>\n",
       "<table border=\"1\" class=\"dataframe\">\n",
       "  <thead>\n",
       "    <tr style=\"text-align: right;\">\n",
       "      <th></th>\n",
       "      <th>ID</th>\n",
       "      <th>Price</th>\n",
       "      <th>Levy</th>\n",
       "      <th>Manufacturer</th>\n",
       "      <th>Model</th>\n",
       "      <th>Prod. year</th>\n",
       "      <th>Category</th>\n",
       "      <th>Leather interior</th>\n",
       "      <th>Fuel type</th>\n",
       "      <th>Engine volume</th>\n",
       "      <th>Mileage</th>\n",
       "      <th>Cylinders</th>\n",
       "      <th>Gear box type</th>\n",
       "      <th>Drive wheels</th>\n",
       "      <th>Doors</th>\n",
       "      <th>Wheel</th>\n",
       "      <th>Color</th>\n",
       "      <th>Airbags</th>\n",
       "    </tr>\n",
       "  </thead>\n",
       "  <tbody>\n",
       "    <tr>\n",
       "      <th>0</th>\n",
       "      <td>45654403</td>\n",
       "      <td>13328</td>\n",
       "      <td>1399</td>\n",
       "      <td>LEXUS</td>\n",
       "      <td>RX 450</td>\n",
       "      <td>2010</td>\n",
       "      <td>Jeep</td>\n",
       "      <td>Yes</td>\n",
       "      <td>Hybrid</td>\n",
       "      <td>3.5</td>\n",
       "      <td>186005 km</td>\n",
       "      <td>6.0</td>\n",
       "      <td>Automatic</td>\n",
       "      <td>4x4</td>\n",
       "      <td>04-May</td>\n",
       "      <td>Left wheel</td>\n",
       "      <td>Silver</td>\n",
       "      <td>12</td>\n",
       "    </tr>\n",
       "    <tr>\n",
       "      <th>1</th>\n",
       "      <td>44731507</td>\n",
       "      <td>16621</td>\n",
       "      <td>1018</td>\n",
       "      <td>CHEVROLET</td>\n",
       "      <td>Equinox</td>\n",
       "      <td>2011</td>\n",
       "      <td>Jeep</td>\n",
       "      <td>No</td>\n",
       "      <td>Petrol</td>\n",
       "      <td>3</td>\n",
       "      <td>192000 km</td>\n",
       "      <td>6.0</td>\n",
       "      <td>Tiptronic</td>\n",
       "      <td>4x4</td>\n",
       "      <td>04-May</td>\n",
       "      <td>Left wheel</td>\n",
       "      <td>Black</td>\n",
       "      <td>8</td>\n",
       "    </tr>\n",
       "    <tr>\n",
       "      <th>2</th>\n",
       "      <td>45774419</td>\n",
       "      <td>8467</td>\n",
       "      <td>-</td>\n",
       "      <td>HONDA</td>\n",
       "      <td>FIT</td>\n",
       "      <td>2006</td>\n",
       "      <td>Hatchback</td>\n",
       "      <td>No</td>\n",
       "      <td>Petrol</td>\n",
       "      <td>1.3</td>\n",
       "      <td>200000 km</td>\n",
       "      <td>4.0</td>\n",
       "      <td>Variator</td>\n",
       "      <td>Front</td>\n",
       "      <td>04-May</td>\n",
       "      <td>Right-hand drive</td>\n",
       "      <td>Black</td>\n",
       "      <td>2</td>\n",
       "    </tr>\n",
       "    <tr>\n",
       "      <th>3</th>\n",
       "      <td>45769185</td>\n",
       "      <td>3607</td>\n",
       "      <td>862</td>\n",
       "      <td>FORD</td>\n",
       "      <td>Escape</td>\n",
       "      <td>2011</td>\n",
       "      <td>Jeep</td>\n",
       "      <td>Yes</td>\n",
       "      <td>Hybrid</td>\n",
       "      <td>2.5</td>\n",
       "      <td>168966 km</td>\n",
       "      <td>4.0</td>\n",
       "      <td>Automatic</td>\n",
       "      <td>4x4</td>\n",
       "      <td>04-May</td>\n",
       "      <td>Left wheel</td>\n",
       "      <td>White</td>\n",
       "      <td>0</td>\n",
       "    </tr>\n",
       "    <tr>\n",
       "      <th>4</th>\n",
       "      <td>45809263</td>\n",
       "      <td>11726</td>\n",
       "      <td>446</td>\n",
       "      <td>HONDA</td>\n",
       "      <td>FIT</td>\n",
       "      <td>2014</td>\n",
       "      <td>Hatchback</td>\n",
       "      <td>Yes</td>\n",
       "      <td>Petrol</td>\n",
       "      <td>1.3</td>\n",
       "      <td>91901 km</td>\n",
       "      <td>4.0</td>\n",
       "      <td>Automatic</td>\n",
       "      <td>Front</td>\n",
       "      <td>04-May</td>\n",
       "      <td>Left wheel</td>\n",
       "      <td>Silver</td>\n",
       "      <td>4</td>\n",
       "    </tr>\n",
       "  </tbody>\n",
       "</table>\n",
       "</div>"
      ],
      "text/plain": [
       "         ID  Price  Levy Manufacturer    Model  Prod. year   Category  \\\n",
       "0  45654403  13328  1399        LEXUS   RX 450        2010       Jeep   \n",
       "1  44731507  16621  1018    CHEVROLET  Equinox        2011       Jeep   \n",
       "2  45774419   8467     -        HONDA      FIT        2006  Hatchback   \n",
       "3  45769185   3607   862         FORD   Escape        2011       Jeep   \n",
       "4  45809263  11726   446        HONDA      FIT        2014  Hatchback   \n",
       "\n",
       "  Leather interior Fuel type Engine volume    Mileage  Cylinders  \\\n",
       "0              Yes    Hybrid           3.5  186005 km        6.0   \n",
       "1               No    Petrol             3  192000 km        6.0   \n",
       "2               No    Petrol           1.3  200000 km        4.0   \n",
       "3              Yes    Hybrid           2.5  168966 km        4.0   \n",
       "4              Yes    Petrol           1.3   91901 km        4.0   \n",
       "\n",
       "  Gear box type Drive wheels   Doors             Wheel   Color  Airbags  \n",
       "0     Automatic          4x4  04-May        Left wheel  Silver       12  \n",
       "1     Tiptronic          4x4  04-May        Left wheel   Black        8  \n",
       "2      Variator        Front  04-May  Right-hand drive   Black        2  \n",
       "3     Automatic          4x4  04-May        Left wheel   White        0  \n",
       "4     Automatic        Front  04-May        Left wheel  Silver        4  "
      ]
     },
     "execution_count": 5,
     "metadata": {},
     "output_type": "execute_result"
    }
   ],
   "source": [
    "df.head()"
   ]
  },
  {
   "cell_type": "markdown",
   "metadata": {},
   "source": [
    "## Data preprocessing\n"
   ]
  },
  {
   "cell_type": "markdown",
   "metadata": {},
   "source": [
    "First we had to fix a couple of variables. As can be seen, the Mileage variable has km on it, so we got rid of that and made it numeric. The variable Levy had \"-\" for some of it's observations. Levy is used by the IRS when taxes are not payed on a vehicle. The Levy is basically the starting bid at police auctions, so for all the \"-\" observations, we changed those to 0, becuase there is no Levy for them."
   ]
  },
  {
   "cell_type": "code",
   "execution_count": 6,
   "metadata": {},
   "outputs": [],
   "source": [
    "df[\"Levy\"] = np.where(df[\"Levy\"] == \"-\", 0, df[\"Levy\"])\n",
    "df[\"Mileage\"] = df[\"Mileage\"].str.replace('km','')"
   ]
  },
  {
   "cell_type": "code",
   "execution_count": 7,
   "metadata": {},
   "outputs": [
    {
     "data": {
      "text/html": [
       "<div>\n",
       "<style scoped>\n",
       "    .dataframe tbody tr th:only-of-type {\n",
       "        vertical-align: middle;\n",
       "    }\n",
       "\n",
       "    .dataframe tbody tr th {\n",
       "        vertical-align: top;\n",
       "    }\n",
       "\n",
       "    .dataframe thead th {\n",
       "        text-align: right;\n",
       "    }\n",
       "</style>\n",
       "<table border=\"1\" class=\"dataframe\">\n",
       "  <thead>\n",
       "    <tr style=\"text-align: right;\">\n",
       "      <th></th>\n",
       "      <th>ID</th>\n",
       "      <th>Price</th>\n",
       "      <th>Levy</th>\n",
       "      <th>Manufacturer</th>\n",
       "      <th>Model</th>\n",
       "      <th>Prod. year</th>\n",
       "      <th>Category</th>\n",
       "      <th>Leather interior</th>\n",
       "      <th>Fuel type</th>\n",
       "      <th>Engine volume</th>\n",
       "      <th>Mileage</th>\n",
       "      <th>Cylinders</th>\n",
       "      <th>Gear box type</th>\n",
       "      <th>Drive wheels</th>\n",
       "      <th>Doors</th>\n",
       "      <th>Wheel</th>\n",
       "      <th>Color</th>\n",
       "      <th>Airbags</th>\n",
       "    </tr>\n",
       "  </thead>\n",
       "  <tbody>\n",
       "    <tr>\n",
       "      <th>0</th>\n",
       "      <td>45654403</td>\n",
       "      <td>13328</td>\n",
       "      <td>1399</td>\n",
       "      <td>LEXUS</td>\n",
       "      <td>RX 450</td>\n",
       "      <td>2010</td>\n",
       "      <td>Jeep</td>\n",
       "      <td>Yes</td>\n",
       "      <td>Hybrid</td>\n",
       "      <td>3.5</td>\n",
       "      <td>186005</td>\n",
       "      <td>6.0</td>\n",
       "      <td>Automatic</td>\n",
       "      <td>4x4</td>\n",
       "      <td>04-May</td>\n",
       "      <td>Left wheel</td>\n",
       "      <td>Silver</td>\n",
       "      <td>12</td>\n",
       "    </tr>\n",
       "    <tr>\n",
       "      <th>1</th>\n",
       "      <td>44731507</td>\n",
       "      <td>16621</td>\n",
       "      <td>1018</td>\n",
       "      <td>CHEVROLET</td>\n",
       "      <td>Equinox</td>\n",
       "      <td>2011</td>\n",
       "      <td>Jeep</td>\n",
       "      <td>No</td>\n",
       "      <td>Petrol</td>\n",
       "      <td>3</td>\n",
       "      <td>192000</td>\n",
       "      <td>6.0</td>\n",
       "      <td>Tiptronic</td>\n",
       "      <td>4x4</td>\n",
       "      <td>04-May</td>\n",
       "      <td>Left wheel</td>\n",
       "      <td>Black</td>\n",
       "      <td>8</td>\n",
       "    </tr>\n",
       "    <tr>\n",
       "      <th>2</th>\n",
       "      <td>45774419</td>\n",
       "      <td>8467</td>\n",
       "      <td>0</td>\n",
       "      <td>HONDA</td>\n",
       "      <td>FIT</td>\n",
       "      <td>2006</td>\n",
       "      <td>Hatchback</td>\n",
       "      <td>No</td>\n",
       "      <td>Petrol</td>\n",
       "      <td>1.3</td>\n",
       "      <td>200000</td>\n",
       "      <td>4.0</td>\n",
       "      <td>Variator</td>\n",
       "      <td>Front</td>\n",
       "      <td>04-May</td>\n",
       "      <td>Right-hand drive</td>\n",
       "      <td>Black</td>\n",
       "      <td>2</td>\n",
       "    </tr>\n",
       "    <tr>\n",
       "      <th>3</th>\n",
       "      <td>45769185</td>\n",
       "      <td>3607</td>\n",
       "      <td>862</td>\n",
       "      <td>FORD</td>\n",
       "      <td>Escape</td>\n",
       "      <td>2011</td>\n",
       "      <td>Jeep</td>\n",
       "      <td>Yes</td>\n",
       "      <td>Hybrid</td>\n",
       "      <td>2.5</td>\n",
       "      <td>168966</td>\n",
       "      <td>4.0</td>\n",
       "      <td>Automatic</td>\n",
       "      <td>4x4</td>\n",
       "      <td>04-May</td>\n",
       "      <td>Left wheel</td>\n",
       "      <td>White</td>\n",
       "      <td>0</td>\n",
       "    </tr>\n",
       "    <tr>\n",
       "      <th>4</th>\n",
       "      <td>45809263</td>\n",
       "      <td>11726</td>\n",
       "      <td>446</td>\n",
       "      <td>HONDA</td>\n",
       "      <td>FIT</td>\n",
       "      <td>2014</td>\n",
       "      <td>Hatchback</td>\n",
       "      <td>Yes</td>\n",
       "      <td>Petrol</td>\n",
       "      <td>1.3</td>\n",
       "      <td>91901</td>\n",
       "      <td>4.0</td>\n",
       "      <td>Automatic</td>\n",
       "      <td>Front</td>\n",
       "      <td>04-May</td>\n",
       "      <td>Left wheel</td>\n",
       "      <td>Silver</td>\n",
       "      <td>4</td>\n",
       "    </tr>\n",
       "  </tbody>\n",
       "</table>\n",
       "</div>"
      ],
      "text/plain": [
       "         ID  Price  Levy Manufacturer    Model  Prod. year   Category  \\\n",
       "0  45654403  13328  1399        LEXUS   RX 450        2010       Jeep   \n",
       "1  44731507  16621  1018    CHEVROLET  Equinox        2011       Jeep   \n",
       "2  45774419   8467     0        HONDA      FIT        2006  Hatchback   \n",
       "3  45769185   3607   862         FORD   Escape        2011       Jeep   \n",
       "4  45809263  11726   446        HONDA      FIT        2014  Hatchback   \n",
       "\n",
       "  Leather interior Fuel type Engine volume  Mileage  Cylinders Gear box type  \\\n",
       "0              Yes    Hybrid           3.5  186005         6.0     Automatic   \n",
       "1               No    Petrol             3  192000         6.0     Tiptronic   \n",
       "2               No    Petrol           1.3  200000         4.0      Variator   \n",
       "3              Yes    Hybrid           2.5  168966         4.0     Automatic   \n",
       "4              Yes    Petrol           1.3   91901         4.0     Automatic   \n",
       "\n",
       "  Drive wheels   Doors             Wheel   Color  Airbags  \n",
       "0          4x4  04-May        Left wheel  Silver       12  \n",
       "1          4x4  04-May        Left wheel   Black        8  \n",
       "2        Front  04-May  Right-hand drive   Black        2  \n",
       "3          4x4  04-May        Left wheel   White        0  \n",
       "4        Front  04-May        Left wheel  Silver        4  "
      ]
     },
     "execution_count": 7,
     "metadata": {},
     "output_type": "execute_result"
    }
   ],
   "source": [
    "df.head()"
   ]
  },
  {
   "cell_type": "code",
   "execution_count": 8,
   "metadata": {},
   "outputs": [
    {
     "name": "stdout",
     "output_type": "stream",
     "text": [
      "<class 'pandas.core.frame.DataFrame'>\n",
      "RangeIndex: 19237 entries, 0 to 19236\n",
      "Data columns (total 18 columns):\n",
      " #   Column            Non-Null Count  Dtype  \n",
      "---  ------            --------------  -----  \n",
      " 0   ID                19237 non-null  int64  \n",
      " 1   Price             19237 non-null  int64  \n",
      " 2   Levy              19237 non-null  object \n",
      " 3   Manufacturer      19237 non-null  object \n",
      " 4   Model             19237 non-null  object \n",
      " 5   Prod. year        19237 non-null  int64  \n",
      " 6   Category          19237 non-null  object \n",
      " 7   Leather interior  19237 non-null  object \n",
      " 8   Fuel type         19237 non-null  object \n",
      " 9   Engine volume     19237 non-null  object \n",
      " 10  Mileage           19237 non-null  object \n",
      " 11  Cylinders         19237 non-null  float64\n",
      " 12  Gear box type     19237 non-null  object \n",
      " 13  Drive wheels      19237 non-null  object \n",
      " 14  Doors             19237 non-null  object \n",
      " 15  Wheel             19237 non-null  object \n",
      " 16  Color             19237 non-null  object \n",
      " 17  Airbags           19237 non-null  int64  \n",
      "dtypes: float64(1), int64(4), object(13)\n",
      "memory usage: 2.6+ MB\n"
     ]
    }
   ],
   "source": [
    "df.info()"
   ]
  },
  {
   "cell_type": "markdown",
   "metadata": {},
   "source": [
    "We need to change the type of categorical variables first,\n"
   ]
  },
  {
   "cell_type": "code",
   "execution_count": 9,
   "metadata": {},
   "outputs": [
    {
     "data": {
      "text/plain": [
       "Index(['ID', 'Price', 'Levy', 'Manufacturer', 'Model', 'Prod. year',\n",
       "       'Category', 'Leather interior', 'Fuel type', 'Engine volume', 'Mileage',\n",
       "       'Cylinders', 'Gear box type', 'Drive wheels', 'Doors', 'Wheel', 'Color',\n",
       "       'Airbags'],\n",
       "      dtype='object')"
      ]
     },
     "execution_count": 9,
     "metadata": {},
     "output_type": "execute_result"
    }
   ],
   "source": [
    "df.columns"
   ]
  },
  {
   "cell_type": "code",
   "execution_count": 10,
   "metadata": {},
   "outputs": [],
   "source": [
    "numeric = [\"Price\", \"Levy\", \"Mileage\"]\n",
    "\n",
    "for col in numeric: \n",
    "    df[col] = pd.to_numeric(df[col], errors='coerce')\n",
    "\n",
    "categorical = [\"Manufacturer\", \"Model\", \"Prod. year\", \"Category\", \n",
    "\"Leather interior\", \"Fuel type\", \"Gear box type\", \"Drive wheels\", \"Doors\", \"Wheel\", \"Color\", \n",
    "\"Airbags\", \"Cylinders\", \"Engine volume\"]\n",
    "\n",
    "for col in categorical: \n",
    "    df[col] = df[col].astype(\"category\")"
   ]
  },
  {
   "cell_type": "code",
   "execution_count": 11,
   "metadata": {},
   "outputs": [
    {
     "name": "stdout",
     "output_type": "stream",
     "text": [
      "<class 'pandas.core.frame.DataFrame'>\n",
      "RangeIndex: 19237 entries, 0 to 19236\n",
      "Data columns (total 18 columns):\n",
      " #   Column            Non-Null Count  Dtype   \n",
      "---  ------            --------------  -----   \n",
      " 0   ID                19237 non-null  int64   \n",
      " 1   Price             19237 non-null  int64   \n",
      " 2   Levy              19237 non-null  int64   \n",
      " 3   Manufacturer      19237 non-null  category\n",
      " 4   Model             19237 non-null  category\n",
      " 5   Prod. year        19237 non-null  category\n",
      " 6   Category          19237 non-null  category\n",
      " 7   Leather interior  19237 non-null  category\n",
      " 8   Fuel type         19237 non-null  category\n",
      " 9   Engine volume     19237 non-null  category\n",
      " 10  Mileage           19237 non-null  int64   \n",
      " 11  Cylinders         19237 non-null  category\n",
      " 12  Gear box type     19237 non-null  category\n",
      " 13  Drive wheels      19237 non-null  category\n",
      " 14  Doors             19237 non-null  category\n",
      " 15  Wheel             19237 non-null  category\n",
      " 16  Color             19237 non-null  category\n",
      " 17  Airbags           19237 non-null  category\n",
      "dtypes: category(14), int64(4)\n",
      "memory usage: 973.4 KB\n"
     ]
    }
   ],
   "source": [
    "df.info()"
   ]
  },
  {
   "cell_type": "markdown",
   "metadata": {},
   "source": [
    "Next we need to drop the ID variable because it's irrelevant to our analysis."
   ]
  },
  {
   "cell_type": "code",
   "execution_count": 12,
   "metadata": {},
   "outputs": [],
   "source": [
    "df.drop('ID',axis=1, inplace=True)"
   ]
  },
  {
   "cell_type": "markdown",
   "metadata": {},
   "source": [
    "Next we check if there are any NA's, as can be seen, there are not any."
   ]
  },
  {
   "cell_type": "code",
   "execution_count": 13,
   "metadata": {},
   "outputs": [
    {
     "data": {
      "text/plain": [
       "Price               0\n",
       "Levy                0\n",
       "Manufacturer        0\n",
       "Model               0\n",
       "Prod. year          0\n",
       "Category            0\n",
       "Leather interior    0\n",
       "Fuel type           0\n",
       "Engine volume       0\n",
       "Mileage             0\n",
       "Cylinders           0\n",
       "Gear box type       0\n",
       "Drive wheels        0\n",
       "Doors               0\n",
       "Wheel               0\n",
       "Color               0\n",
       "Airbags             0\n",
       "dtype: int64"
      ]
     },
     "execution_count": 13,
     "metadata": {},
     "output_type": "execute_result"
    }
   ],
   "source": [
    "df.isna().sum()  "
   ]
  },
  {
   "cell_type": "markdown",
   "metadata": {},
   "source": [
    "We checked the distribution of our target variable Price. As can be seen, there are a few outliers that need to be taken care of. Price is also very right skewed."
   ]
  },
  {
   "cell_type": "code",
   "execution_count": 14,
   "metadata": {},
   "outputs": [
    {
     "data": {
      "image/png": "[encoded data removed]",
      "text/plain": [
       "<Figure size 360x360 with 1 Axes>"
      ]
     },
     "metadata": {},
     "output_type": "display_data"
    },
    {
     "data": {
      "image/png": "[encoded data removed]",
      "text/plain": [
       "<Figure size 360x360 with 1 Axes>"
      ]
     },
     "metadata": {},
     "output_type": "display_data"
    }
   ],
   "source": [
    "target = np.log(df['Price']) \n",
    "df['TARGET'] = target\n",
    "\n",
    "# distribution plot of sale price\n",
    "sns.displot(df['Price'], kde=True, bins=50, rug=True)\n",
    "plt.show()\n",
    "\n",
    "# distribution plot of the log of sale price\n",
    "sns.displot(df['TARGET'], kde=True, bins=50, rug=True)\n",
    "plt.show()"
   ]
  },
  {
   "cell_type": "markdown",
   "metadata": {},
   "source": [
    "We dropped the outliers from price and did a log transformation to make it more normal. We will use this trasformed variable for our entire anaylsis and drop price from the dataframe. We also dropped the variable Model from the dataframe because its a categorical variable but has a lot of unique observations, making it computationally difficult to use. This isn't a problem for machine learning, however, it is a problem for our laptops."
   ]
  },
  {
   "cell_type": "code",
   "execution_count": 15,
   "metadata": {},
   "outputs": [],
   "source": [
    "df.drop('Model',axis=1, inplace=True)\n",
    "df = df.drop([16983,8541,1225], axis = 0)"
   ]
  },
  {
   "cell_type": "code",
   "execution_count": 16,
   "metadata": {},
   "outputs": [
    {
     "data": {
      "image/png": "[encoded data removed]",
      "text/plain": [
       "<Figure size 360x360 with 1 Axes>"
      ]
     },
     "metadata": {},
     "output_type": "display_data"
    },
    {
     "data": {
      "image/png": "[encoded data removed]",
      "text/plain": [
       "<Figure size 360x360 with 1 Axes>"
      ]
     },
     "metadata": {},
     "output_type": "display_data"
    }
   ],
   "source": [
    "target = np.log(df['Price']) \n",
    "df['TARGET'] = target\n",
    "\n",
    "# distribution plot of sale price\n",
    "sns.displot(df['Price'], kde=True, bins=50, rug=True)\n",
    "plt.show()\n",
    "\n",
    "# distribution plot of the log of sale price\n",
    "sns.displot(df['TARGET'], kde=True, bins=50, rug=True)\n",
    "plt.show()"
   ]
  },
  {
   "cell_type": "markdown",
   "metadata": {},
   "source": [
    "### EDA"
   ]
  },
  {
   "cell_type": "code",
   "execution_count": 17,
   "metadata": {},
   "outputs": [
    {
     "data": {
      "image/png": "[encoded data removed]",
      "text/plain": [
       "<Figure size 720x432 with 2 Axes>"
      ]
     },
     "metadata": {},
     "output_type": "display_data"
    }
   ],
   "source": [
    "plt.figure(figsize=(10,6))\n",
    "sns.heatmap(df.corr(), cmap='coolwarm',annot=True)\n",
    "plt.show()"
   ]
  },
  {
   "cell_type": "markdown",
   "metadata": {},
   "source": [
    "This is a heat map for the numeric variables. As can be seen, there is no strong correlation. The only strong correlation is price and target, which is just the tranformed version of price, so it makes sense that there's correlation there."
   ]
  },
  {
   "cell_type": "code",
   "execution_count": 18,
   "metadata": {},
   "outputs": [
    {
     "data": {
      "image/png": "[encoded data removed]",
      "text/plain": [
       "<Figure size 432x288 with 1 Axes>"
      ]
     },
     "metadata": {},
     "output_type": "display_data"
    }
   ],
   "source": [
    "plt.scatter(x='Mileage', y = 'Price', data = df)\n",
    "plt.title('Mileage vs. SALE PRICE')\n",
    "plt.show()"
   ]
  },
  {
   "cell_type": "markdown",
   "metadata": {},
   "source": [
    "This above plot shows Mileage compared to sale price. As cna be seen, most of our observations have low or no mileage, these observations vary greatly in their price. The cars with higher mileage tend to sell at lower prices. "
   ]
  },
  {
   "cell_type": "code",
   "execution_count": 19,
   "metadata": {},
   "outputs": [
    {
     "data": {
      "text/plain": [
       "<AxesSubplot:>"
      ]
     },
     "execution_count": 19,
     "metadata": {},
     "output_type": "execute_result"
    },
    {
     "data": {
      "image/png": "[encoded data removed]",
      "text/plain": [
       "<Figure size 432x288 with 1 Axes>"
      ]
     },
     "metadata": {},
     "output_type": "display_data"
    }
   ],
   "source": [
    "df['Prod. year'].value_counts().head(20).plot.bar()"
   ]
  },
  {
   "cell_type": "markdown",
   "metadata": {},
   "source": [
    "The above plot shows the production year for the cars in our dataset. Note that this plot only shows the top 20 counts. As can be seen, most of the cars in this dataset were built in years from 2010 on. Studies have shown that most people only own cars for about 8-10 years, we see that pattern in this dataset."
   ]
  },
  {
   "cell_type": "code",
   "execution_count": 20,
   "metadata": {},
   "outputs": [
    {
     "data": {
      "text/plain": [
       "<AxesSubplot:>"
      ]
     },
     "execution_count": 20,
     "metadata": {},
     "output_type": "execute_result"
    },
    {
     "data": {
      "image/png": "[encoded data removed]",
      "text/plain": [
       "<Figure size 432x288 with 1 Axes>"
      ]
     },
     "metadata": {},
     "output_type": "display_data"
    }
   ],
   "source": [
    "df['Cylinders'].value_counts().plot.bar()"
   ]
  },
  {
   "cell_type": "code",
   "execution_count": 21,
   "metadata": {},
   "outputs": [
    {
     "data": {
      "image/png": "[encoded data removed]",
      "text/plain": [
       "<Figure size 720x432 with 1 Axes>"
      ]
     },
     "metadata": {},
     "output_type": "display_data"
    }
   ],
   "source": [
    "plt.figure(figsize = (10,6))\n",
    "sns.boxplot(x = 'Price', y = 'Cylinders', data = df)\n",
    "plt.title('Cylinders vs. SALE PRICE')\n",
    "plt.show()"
   ]
  },
  {
   "cell_type": "markdown",
   "metadata": {},
   "source": [
    "The above 2 plots show  the count for the number of cylinders for cars and boxplots for each cylinder type compared to price. As can be seen in the top plot, most of the cars in the dataset have 4, 6 or 8 cylinders. This is the most common cylinder amount. The boxplots are all right skewed, except for 10 cylinders. This makes sense, prices are often right skewed. We see that most of the higher priced cars are cars with 6 or 8 cylinders."
   ]
  },
  {
   "cell_type": "code",
   "execution_count": 22,
   "metadata": {},
   "outputs": [
    {
     "data": {
      "text/plain": [
       "<AxesSubplot:>"
      ]
     },
     "execution_count": 22,
     "metadata": {},
     "output_type": "execute_result"
    },
    {
     "data": {
      "image/png": "[encoded data removed]",
      "text/plain": [
       "<Figure size 432x288 with 1 Axes>"
      ]
     },
     "metadata": {},
     "output_type": "display_data"
    }
   ],
   "source": [
    "df['Color'].value_counts().plot.bar()"
   ]
  },
  {
   "cell_type": "code",
   "execution_count": 23,
   "metadata": {},
   "outputs": [
    {
     "data": {
      "image/png": "[encoded data removed]",
      "text/plain": [
       "<Figure size 1080x360 with 1 Axes>"
      ]
     },
     "metadata": {},
     "output_type": "display_data"
    }
   ],
   "source": [
    "plt.figure(figsize = (15,5))\n",
    "\n",
    "ax = sns.boxplot(x = 'Price', y = 'Color', data = df)\n",
    "ax.set_xlabel('Price')\n",
    "ax.set_ylabel('Color')\n",
    "plt.title('Sale price')\n",
    "plt.show()"
   ]
  },
  {
   "cell_type": "markdown",
   "metadata": {},
   "source": [
    "The top 2 plots show count for color and boxplots for color vs price. As can be seen, most of the cars are black, white, gray, and silver. The boxplots again show right skewing. We also see that most of the higher priced cars are black and white cars. This is likely because there are significantly more of these colored cars in the dataset."
   ]
  },
  {
   "cell_type": "code",
   "execution_count": 24,
   "metadata": {},
   "outputs": [
    {
     "data": {
      "text/plain": [
       "<AxesSubplot:>"
      ]
     },
     "execution_count": 24,
     "metadata": {},
     "output_type": "execute_result"
    },
    {
     "data": {
      "image/png": "[encoded data removed]",
      "text/plain": [
       "<Figure size 432x288 with 1 Axes>"
      ]
     },
     "metadata": {},
     "output_type": "display_data"
    }
   ],
   "source": [
    "df['Category'].value_counts().plot.bar()"
   ]
  },
  {
   "cell_type": "code",
   "execution_count": 25,
   "metadata": {},
   "outputs": [
    {
     "data": {
      "image/png": "[encoded data removed]",
      "text/plain": [
       "<Figure size 720x432 with 1 Axes>"
      ]
     },
     "metadata": {},
     "output_type": "display_data"
    }
   ],
   "source": [
    "plt.figure(figsize = (10,6))\n",
    "sns.boxplot(x = 'Price', y = 'Category', data = df)\n",
    "plt.title('Car Type vs. SALE PRICE')\n",
    "plt.show()"
   ]
  },
  {
   "cell_type": "markdown",
   "metadata": {},
   "source": [
    "The above 2 plots show the variable category. This cariable represents the type of car for each observation. As can be seen, most of the observations are sedans, jeeps, and hatchbacks. The boxplots show the same thing we see before, all are rightskewed. Most of the higher priced vars are Jeeps, coupes, and Sedans."
   ]
  },
  {
   "cell_type": "code",
   "execution_count": 26,
   "metadata": {},
   "outputs": [
    {
     "data": {
      "text/plain": [
       "<AxesSubplot:>"
      ]
     },
     "execution_count": 26,
     "metadata": {},
     "output_type": "execute_result"
    },
    {
     "data": {
      "image/png": "[encoded data removed]",
      "text/plain": [
       "<Figure size 432x288 with 1 Axes>"
      ]
     },
     "metadata": {},
     "output_type": "display_data"
    }
   ],
   "source": [
    "df['Fuel type'].value_counts().plot.bar()"
   ]
  },
  {
   "cell_type": "code",
   "execution_count": 27,
   "metadata": {},
   "outputs": [
    {
     "data": {
      "image/png": "[encoded data removed]",
      "text/plain": [
       "<Figure size 720x432 with 1 Axes>"
      ]
     },
     "metadata": {},
     "output_type": "display_data"
    }
   ],
   "source": [
    "plt.figure(figsize = (10,6))\n",
    "sns.boxplot(x = 'Price', y = 'Fuel type', data = df)\n",
    "plt.title('Fuel Type vs. SALE PRICE')\n",
    "plt.show()"
   ]
  },
  {
   "cell_type": "markdown",
   "metadata": {},
   "source": [
    "The top two plots show fuel types for each observation. As can be seen, the most common is petrol. The boxplots are again right skewed, diesel and petrol have observations that are priced higher."
   ]
  },
  {
   "cell_type": "code",
   "execution_count": 28,
   "metadata": {},
   "outputs": [
    {
     "data": {
      "text/plain": [
       "<AxesSubplot:xlabel='Category', ylabel='count'>"
      ]
     },
     "execution_count": 28,
     "metadata": {},
     "output_type": "execute_result"
    },
    {
     "data": {
      "image/png": "[encoded data removed]",
      "text/plain": [
       "<Figure size 576x360 with 1 Axes>"
      ]
     },
     "metadata": {},
     "output_type": "display_data"
    }
   ],
   "source": [
    "plt.figure(figsize=(8,5))\n",
    "plt.xticks(rotation=90)\n",
    "sns.countplot('Category',hue='Leather interior',data=df)"
   ]
  },
  {
   "cell_type": "markdown",
   "metadata": {},
   "source": [
    "The above plot shows each vehicle type and if it has leather interior or not. As can be seen, most types of cars have leather interior, the only one that doesnt is Goods Wagon and Hatchback."
   ]
  },
  {
   "cell_type": "markdown",
   "metadata": {},
   "source": [
    "### Last Cleaning"
   ]
  },
  {
   "cell_type": "markdown",
   "metadata": {},
   "source": [
    "The following lines make a new dataframe to use for our tree based methods, drop price, and makes the categorical variables dummies."
   ]
  },
  {
   "cell_type": "code",
   "execution_count": 29,
   "metadata": {},
   "outputs": [],
   "source": [
    "df_tree = df"
   ]
  },
  {
   "cell_type": "code",
   "execution_count": 30,
   "metadata": {},
   "outputs": [
    {
     "data": {
      "text/html": [
       "<div>\n",
       "<style scoped>\n",
       "    .dataframe tbody tr th:only-of-type {\n",
       "        vertical-align: middle;\n",
       "    }\n",
       "\n",
       "    .dataframe tbody tr th {\n",
       "        vertical-align: top;\n",
       "    }\n",
       "\n",
       "    .dataframe thead th {\n",
       "        text-align: right;\n",
       "    }\n",
       "</style>\n",
       "<table border=\"1\" class=\"dataframe\">\n",
       "  <thead>\n",
       "    <tr style=\"text-align: right;\">\n",
       "      <th></th>\n",
       "      <th>Levy</th>\n",
       "      <th>Manufacturer</th>\n",
       "      <th>Prod. year</th>\n",
       "      <th>Category</th>\n",
       "      <th>Leather interior</th>\n",
       "      <th>Fuel type</th>\n",
       "      <th>Engine volume</th>\n",
       "      <th>Mileage</th>\n",
       "      <th>Cylinders</th>\n",
       "      <th>Gear box type</th>\n",
       "      <th>Drive wheels</th>\n",
       "      <th>Doors</th>\n",
       "      <th>Wheel</th>\n",
       "      <th>Color</th>\n",
       "      <th>Airbags</th>\n",
       "      <th>TARGET</th>\n",
       "    </tr>\n",
       "  </thead>\n",
       "  <tbody>\n",
       "    <tr>\n",
       "      <th>0</th>\n",
       "      <td>1399</td>\n",
       "      <td>LEXUS</td>\n",
       "      <td>2010</td>\n",
       "      <td>Jeep</td>\n",
       "      <td>Yes</td>\n",
       "      <td>Hybrid</td>\n",
       "      <td>3.5</td>\n",
       "      <td>186005</td>\n",
       "      <td>6.0</td>\n",
       "      <td>Automatic</td>\n",
       "      <td>4x4</td>\n",
       "      <td>04-May</td>\n",
       "      <td>Left wheel</td>\n",
       "      <td>Silver</td>\n",
       "      <td>12</td>\n",
       "      <td>9.497622</td>\n",
       "    </tr>\n",
       "    <tr>\n",
       "      <th>1</th>\n",
       "      <td>1018</td>\n",
       "      <td>CHEVROLET</td>\n",
       "      <td>2011</td>\n",
       "      <td>Jeep</td>\n",
       "      <td>No</td>\n",
       "      <td>Petrol</td>\n",
       "      <td>3</td>\n",
       "      <td>192000</td>\n",
       "      <td>6.0</td>\n",
       "      <td>Tiptronic</td>\n",
       "      <td>4x4</td>\n",
       "      <td>04-May</td>\n",
       "      <td>Left wheel</td>\n",
       "      <td>Black</td>\n",
       "      <td>8</td>\n",
       "      <td>9.718422</td>\n",
       "    </tr>\n",
       "    <tr>\n",
       "      <th>2</th>\n",
       "      <td>0</td>\n",
       "      <td>HONDA</td>\n",
       "      <td>2006</td>\n",
       "      <td>Hatchback</td>\n",
       "      <td>No</td>\n",
       "      <td>Petrol</td>\n",
       "      <td>1.3</td>\n",
       "      <td>200000</td>\n",
       "      <td>4.0</td>\n",
       "      <td>Variator</td>\n",
       "      <td>Front</td>\n",
       "      <td>04-May</td>\n",
       "      <td>Right-hand drive</td>\n",
       "      <td>Black</td>\n",
       "      <td>2</td>\n",
       "      <td>9.043932</td>\n",
       "    </tr>\n",
       "    <tr>\n",
       "      <th>3</th>\n",
       "      <td>862</td>\n",
       "      <td>FORD</td>\n",
       "      <td>2011</td>\n",
       "      <td>Jeep</td>\n",
       "      <td>Yes</td>\n",
       "      <td>Hybrid</td>\n",
       "      <td>2.5</td>\n",
       "      <td>168966</td>\n",
       "      <td>4.0</td>\n",
       "      <td>Automatic</td>\n",
       "      <td>4x4</td>\n",
       "      <td>04-May</td>\n",
       "      <td>Left wheel</td>\n",
       "      <td>White</td>\n",
       "      <td>0</td>\n",
       "      <td>8.190632</td>\n",
       "    </tr>\n",
       "    <tr>\n",
       "      <th>4</th>\n",
       "      <td>446</td>\n",
       "      <td>HONDA</td>\n",
       "      <td>2014</td>\n",
       "      <td>Hatchback</td>\n",
       "      <td>Yes</td>\n",
       "      <td>Petrol</td>\n",
       "      <td>1.3</td>\n",
       "      <td>91901</td>\n",
       "      <td>4.0</td>\n",
       "      <td>Automatic</td>\n",
       "      <td>Front</td>\n",
       "      <td>04-May</td>\n",
       "      <td>Left wheel</td>\n",
       "      <td>Silver</td>\n",
       "      <td>4</td>\n",
       "      <td>9.369564</td>\n",
       "    </tr>\n",
       "  </tbody>\n",
       "</table>\n",
       "</div>"
      ],
      "text/plain": [
       "   Levy Manufacturer Prod. year   Category Leather interior Fuel type  \\\n",
       "0  1399        LEXUS       2010       Jeep              Yes    Hybrid   \n",
       "1  1018    CHEVROLET       2011       Jeep               No    Petrol   \n",
       "2     0        HONDA       2006  Hatchback               No    Petrol   \n",
       "3   862         FORD       2011       Jeep              Yes    Hybrid   \n",
       "4   446        HONDA       2014  Hatchback              Yes    Petrol   \n",
       "\n",
       "  Engine volume  Mileage Cylinders Gear box type Drive wheels   Doors  \\\n",
       "0           3.5   186005       6.0     Automatic          4x4  04-May   \n",
       "1             3   192000       6.0     Tiptronic          4x4  04-May   \n",
       "2           1.3   200000       4.0      Variator        Front  04-May   \n",
       "3           2.5   168966       4.0     Automatic          4x4  04-May   \n",
       "4           1.3    91901       4.0     Automatic        Front  04-May   \n",
       "\n",
       "              Wheel   Color Airbags    TARGET  \n",
       "0        Left wheel  Silver      12  9.497622  \n",
       "1        Left wheel   Black       8  9.718422  \n",
       "2  Right-hand drive   Black       2  9.043932  \n",
       "3        Left wheel   White       0  8.190632  \n",
       "4        Left wheel  Silver       4  9.369564  "
      ]
     },
     "execution_count": 30,
     "metadata": {},
     "output_type": "execute_result"
    }
   ],
   "source": [
    "df_tree.drop('Price',axis=1, inplace=True)\n",
    "df_tree.head()"
   ]
  },
  {
   "cell_type": "code",
   "execution_count": 31,
   "metadata": {},
   "outputs": [
    {
     "data": {
      "text/html": [
       "<div>\n",
       "<style scoped>\n",
       "    .dataframe tbody tr th:only-of-type {\n",
       "        vertical-align: middle;\n",
       "    }\n",
       "\n",
       "    .dataframe tbody tr th {\n",
       "        vertical-align: top;\n",
       "    }\n",
       "\n",
       "    .dataframe thead th {\n",
       "        text-align: right;\n",
       "    }\n",
       "</style>\n",
       "<table border=\"1\" class=\"dataframe\">\n",
       "  <thead>\n",
       "    <tr style=\"text-align: right;\">\n",
       "      <th></th>\n",
       "      <th>Levy</th>\n",
       "      <th>Mileage</th>\n",
       "      <th>TARGET</th>\n",
       "      <th>Manufacturer_ALFA ROMEO</th>\n",
       "      <th>Manufacturer_ASTON MARTIN</th>\n",
       "      <th>Manufacturer_AUDI</th>\n",
       "      <th>Manufacturer_BENTLEY</th>\n",
       "      <th>Manufacturer_BMW</th>\n",
       "      <th>Manufacturer_BUICK</th>\n",
       "      <th>Manufacturer_CADILLAC</th>\n",
       "      <th>...</th>\n",
       "      <th>Airbags_7</th>\n",
       "      <th>Airbags_8</th>\n",
       "      <th>Airbags_9</th>\n",
       "      <th>Airbags_10</th>\n",
       "      <th>Airbags_11</th>\n",
       "      <th>Airbags_12</th>\n",
       "      <th>Airbags_13</th>\n",
       "      <th>Airbags_14</th>\n",
       "      <th>Airbags_15</th>\n",
       "      <th>Airbags_16</th>\n",
       "    </tr>\n",
       "  </thead>\n",
       "  <tbody>\n",
       "    <tr>\n",
       "      <th>0</th>\n",
       "      <td>1399</td>\n",
       "      <td>186005</td>\n",
       "      <td>9.497622</td>\n",
       "      <td>0</td>\n",
       "      <td>0</td>\n",
       "      <td>0</td>\n",
       "      <td>0</td>\n",
       "      <td>0</td>\n",
       "      <td>0</td>\n",
       "      <td>0</td>\n",
       "      <td>...</td>\n",
       "      <td>0</td>\n",
       "      <td>0</td>\n",
       "      <td>0</td>\n",
       "      <td>0</td>\n",
       "      <td>0</td>\n",
       "      <td>1</td>\n",
       "      <td>0</td>\n",
       "      <td>0</td>\n",
       "      <td>0</td>\n",
       "      <td>0</td>\n",
       "    </tr>\n",
       "    <tr>\n",
       "      <th>1</th>\n",
       "      <td>1018</td>\n",
       "      <td>192000</td>\n",
       "      <td>9.718422</td>\n",
       "      <td>0</td>\n",
       "      <td>0</td>\n",
       "      <td>0</td>\n",
       "      <td>0</td>\n",
       "      <td>0</td>\n",
       "      <td>0</td>\n",
       "      <td>0</td>\n",
       "      <td>...</td>\n",
       "      <td>0</td>\n",
       "      <td>1</td>\n",
       "      <td>0</td>\n",
       "      <td>0</td>\n",
       "      <td>0</td>\n",
       "      <td>0</td>\n",
       "      <td>0</td>\n",
       "      <td>0</td>\n",
       "      <td>0</td>\n",
       "      <td>0</td>\n",
       "    </tr>\n",
       "    <tr>\n",
       "      <th>2</th>\n",
       "      <td>0</td>\n",
       "      <td>200000</td>\n",
       "      <td>9.043932</td>\n",
       "      <td>0</td>\n",
       "      <td>0</td>\n",
       "      <td>0</td>\n",
       "      <td>0</td>\n",
       "      <td>0</td>\n",
       "      <td>0</td>\n",
       "      <td>0</td>\n",
       "      <td>...</td>\n",
       "      <td>0</td>\n",
       "      <td>0</td>\n",
       "      <td>0</td>\n",
       "      <td>0</td>\n",
       "      <td>0</td>\n",
       "      <td>0</td>\n",
       "      <td>0</td>\n",
       "      <td>0</td>\n",
       "      <td>0</td>\n",
       "      <td>0</td>\n",
       "    </tr>\n",
       "    <tr>\n",
       "      <th>3</th>\n",
       "      <td>862</td>\n",
       "      <td>168966</td>\n",
       "      <td>8.190632</td>\n",
       "      <td>0</td>\n",
       "      <td>0</td>\n",
       "      <td>0</td>\n",
       "      <td>0</td>\n",
       "      <td>0</td>\n",
       "      <td>0</td>\n",
       "      <td>0</td>\n",
       "      <td>...</td>\n",
       "      <td>0</td>\n",
       "      <td>0</td>\n",
       "      <td>0</td>\n",
       "      <td>0</td>\n",
       "      <td>0</td>\n",
       "      <td>0</td>\n",
       "      <td>0</td>\n",
       "      <td>0</td>\n",
       "      <td>0</td>\n",
       "      <td>0</td>\n",
       "    </tr>\n",
       "    <tr>\n",
       "      <th>4</th>\n",
       "      <td>446</td>\n",
       "      <td>91901</td>\n",
       "      <td>9.369564</td>\n",
       "      <td>0</td>\n",
       "      <td>0</td>\n",
       "      <td>0</td>\n",
       "      <td>0</td>\n",
       "      <td>0</td>\n",
       "      <td>0</td>\n",
       "      <td>0</td>\n",
       "      <td>...</td>\n",
       "      <td>0</td>\n",
       "      <td>0</td>\n",
       "      <td>0</td>\n",
       "      <td>0</td>\n",
       "      <td>0</td>\n",
       "      <td>0</td>\n",
       "      <td>0</td>\n",
       "      <td>0</td>\n",
       "      <td>0</td>\n",
       "      <td>0</td>\n",
       "    </tr>\n",
       "  </tbody>\n",
       "</table>\n",
       "<p>5 rows × 294 columns</p>\n",
       "</div>"
      ],
      "text/plain": [
       "   Levy  Mileage    TARGET  Manufacturer_ALFA ROMEO  \\\n",
       "0  1399   186005  9.497622                        0   \n",
       "1  1018   192000  9.718422                        0   \n",
       "2     0   200000  9.043932                        0   \n",
       "3   862   168966  8.190632                        0   \n",
       "4   446    91901  9.369564                        0   \n",
       "\n",
       "   Manufacturer_ASTON MARTIN  Manufacturer_AUDI  Manufacturer_BENTLEY  \\\n",
       "0                          0                  0                     0   \n",
       "1                          0                  0                     0   \n",
       "2                          0                  0                     0   \n",
       "3                          0                  0                     0   \n",
       "4                          0                  0                     0   \n",
       "\n",
       "   Manufacturer_BMW  Manufacturer_BUICK  Manufacturer_CADILLAC  ...  \\\n",
       "0                 0                   0                      0  ...   \n",
       "1                 0                   0                      0  ...   \n",
       "2                 0                   0                      0  ...   \n",
       "3                 0                   0                      0  ...   \n",
       "4                 0                   0                      0  ...   \n",
       "\n",
       "   Airbags_7  Airbags_8  Airbags_9  Airbags_10  Airbags_11  Airbags_12  \\\n",
       "0          0          0          0           0           0           1   \n",
       "1          0          1          0           0           0           0   \n",
       "2          0          0          0           0           0           0   \n",
       "3          0          0          0           0           0           0   \n",
       "4          0          0          0           0           0           0   \n",
       "\n",
       "   Airbags_13  Airbags_14  Airbags_15  Airbags_16  \n",
       "0           0           0           0           0  \n",
       "1           0           0           0           0  \n",
       "2           0           0           0           0  \n",
       "3           0           0           0           0  \n",
       "4           0           0           0           0  \n",
       "\n",
       "[5 rows x 294 columns]"
      ]
     },
     "execution_count": 31,
     "metadata": {},
     "output_type": "execute_result"
    }
   ],
   "source": [
    "df = pd.get_dummies(df, drop_first=True)\n",
    "df.head()"
   ]
  },
  {
   "cell_type": "markdown",
   "metadata": {},
   "source": [
    "Scaling the Features"
   ]
  },
  {
   "cell_type": "code",
   "execution_count": 32,
   "metadata": {},
   "outputs": [
    {
     "data": {
      "text/html": [
       "<div>\n",
       "<style scoped>\n",
       "    .dataframe tbody tr th:only-of-type {\n",
       "        vertical-align: middle;\n",
       "    }\n",
       "\n",
       "    .dataframe tbody tr th {\n",
       "        vertical-align: top;\n",
       "    }\n",
       "\n",
       "    .dataframe thead th {\n",
       "        text-align: right;\n",
       "    }\n",
       "</style>\n",
       "<table border=\"1\" class=\"dataframe\">\n",
       "  <thead>\n",
       "    <tr style=\"text-align: right;\">\n",
       "      <th></th>\n",
       "      <th>Levy</th>\n",
       "      <th>Mileage</th>\n",
       "      <th>TARGET</th>\n",
       "      <th>Manufacturer_ALFA ROMEO</th>\n",
       "      <th>Manufacturer_ASTON MARTIN</th>\n",
       "      <th>Manufacturer_AUDI</th>\n",
       "      <th>Manufacturer_BENTLEY</th>\n",
       "      <th>Manufacturer_BMW</th>\n",
       "      <th>Manufacturer_BUICK</th>\n",
       "      <th>Manufacturer_CADILLAC</th>\n",
       "      <th>...</th>\n",
       "      <th>Airbags_7</th>\n",
       "      <th>Airbags_8</th>\n",
       "      <th>Airbags_9</th>\n",
       "      <th>Airbags_10</th>\n",
       "      <th>Airbags_11</th>\n",
       "      <th>Airbags_12</th>\n",
       "      <th>Airbags_13</th>\n",
       "      <th>Airbags_14</th>\n",
       "      <th>Airbags_15</th>\n",
       "      <th>Airbags_16</th>\n",
       "    </tr>\n",
       "  </thead>\n",
       "  <tbody>\n",
       "    <tr>\n",
       "      <th>0</th>\n",
       "      <td>1.350339</td>\n",
       "      <td>-0.027816</td>\n",
       "      <td>9.497622</td>\n",
       "      <td>0</td>\n",
       "      <td>0</td>\n",
       "      <td>0</td>\n",
       "      <td>0</td>\n",
       "      <td>0</td>\n",
       "      <td>0</td>\n",
       "      <td>0</td>\n",
       "      <td>...</td>\n",
       "      <td>0</td>\n",
       "      <td>0</td>\n",
       "      <td>0</td>\n",
       "      <td>0</td>\n",
       "      <td>0</td>\n",
       "      <td>1</td>\n",
       "      <td>0</td>\n",
       "      <td>0</td>\n",
       "      <td>0</td>\n",
       "      <td>0</td>\n",
       "    </tr>\n",
       "    <tr>\n",
       "      <th>1</th>\n",
       "      <td>0.679116</td>\n",
       "      <td>-0.027692</td>\n",
       "      <td>9.718422</td>\n",
       "      <td>0</td>\n",
       "      <td>0</td>\n",
       "      <td>0</td>\n",
       "      <td>0</td>\n",
       "      <td>0</td>\n",
       "      <td>0</td>\n",
       "      <td>0</td>\n",
       "      <td>...</td>\n",
       "      <td>0</td>\n",
       "      <td>1</td>\n",
       "      <td>0</td>\n",
       "      <td>0</td>\n",
       "      <td>0</td>\n",
       "      <td>0</td>\n",
       "      <td>0</td>\n",
       "      <td>0</td>\n",
       "      <td>0</td>\n",
       "      <td>0</td>\n",
       "    </tr>\n",
       "    <tr>\n",
       "      <th>2</th>\n",
       "      <td>-1.114336</td>\n",
       "      <td>-0.027527</td>\n",
       "      <td>9.043932</td>\n",
       "      <td>0</td>\n",
       "      <td>0</td>\n",
       "      <td>0</td>\n",
       "      <td>0</td>\n",
       "      <td>0</td>\n",
       "      <td>0</td>\n",
       "      <td>0</td>\n",
       "      <td>...</td>\n",
       "      <td>0</td>\n",
       "      <td>0</td>\n",
       "      <td>0</td>\n",
       "      <td>0</td>\n",
       "      <td>0</td>\n",
       "      <td>0</td>\n",
       "      <td>0</td>\n",
       "      <td>0</td>\n",
       "      <td>0</td>\n",
       "      <td>0</td>\n",
       "    </tr>\n",
       "    <tr>\n",
       "      <th>3</th>\n",
       "      <td>0.404285</td>\n",
       "      <td>-0.028168</td>\n",
       "      <td>8.190632</td>\n",
       "      <td>0</td>\n",
       "      <td>0</td>\n",
       "      <td>0</td>\n",
       "      <td>0</td>\n",
       "      <td>0</td>\n",
       "      <td>0</td>\n",
       "      <td>0</td>\n",
       "      <td>...</td>\n",
       "      <td>0</td>\n",
       "      <td>0</td>\n",
       "      <td>0</td>\n",
       "      <td>0</td>\n",
       "      <td>0</td>\n",
       "      <td>0</td>\n",
       "      <td>0</td>\n",
       "      <td>0</td>\n",
       "      <td>0</td>\n",
       "      <td>0</td>\n",
       "    </tr>\n",
       "    <tr>\n",
       "      <th>4</th>\n",
       "      <td>-0.328600</td>\n",
       "      <td>-0.029760</td>\n",
       "      <td>9.369564</td>\n",
       "      <td>0</td>\n",
       "      <td>0</td>\n",
       "      <td>0</td>\n",
       "      <td>0</td>\n",
       "      <td>0</td>\n",
       "      <td>0</td>\n",
       "      <td>0</td>\n",
       "      <td>...</td>\n",
       "      <td>0</td>\n",
       "      <td>0</td>\n",
       "      <td>0</td>\n",
       "      <td>0</td>\n",
       "      <td>0</td>\n",
       "      <td>0</td>\n",
       "      <td>0</td>\n",
       "      <td>0</td>\n",
       "      <td>0</td>\n",
       "      <td>0</td>\n",
       "    </tr>\n",
       "  </tbody>\n",
       "</table>\n",
       "<p>5 rows × 294 columns</p>\n",
       "</div>"
      ],
      "text/plain": [
       "       Levy   Mileage    TARGET  Manufacturer_ALFA ROMEO  \\\n",
       "0  1.350339 -0.027816  9.497622                        0   \n",
       "1  0.679116 -0.027692  9.718422                        0   \n",
       "2 -1.114336 -0.027527  9.043932                        0   \n",
       "3  0.404285 -0.028168  8.190632                        0   \n",
       "4 -0.328600 -0.029760  9.369564                        0   \n",
       "\n",
       "   Manufacturer_ASTON MARTIN  Manufacturer_AUDI  Manufacturer_BENTLEY  \\\n",
       "0                          0                  0                     0   \n",
       "1                          0                  0                     0   \n",
       "2                          0                  0                     0   \n",
       "3                          0                  0                     0   \n",
       "4                          0                  0                     0   \n",
       "\n",
       "   Manufacturer_BMW  Manufacturer_BUICK  Manufacturer_CADILLAC  ...  \\\n",
       "0                 0                   0                      0  ...   \n",
       "1                 0                   0                      0  ...   \n",
       "2                 0                   0                      0  ...   \n",
       "3                 0                   0                      0  ...   \n",
       "4                 0                   0                      0  ...   \n",
       "\n",
       "   Airbags_7  Airbags_8  Airbags_9  Airbags_10  Airbags_11  Airbags_12  \\\n",
       "0          0          0          0           0           0           1   \n",
       "1          0          1          0           0           0           0   \n",
       "2          0          0          0           0           0           0   \n",
       "3          0          0          0           0           0           0   \n",
       "4          0          0          0           0           0           0   \n",
       "\n",
       "   Airbags_13  Airbags_14  Airbags_15  Airbags_16  \n",
       "0           0           0           0           0  \n",
       "1           0           0           0           0  \n",
       "2           0           0           0           0  \n",
       "3           0           0           0           0  \n",
       "4           0           0           0           0  \n",
       "\n",
       "[5 rows x 294 columns]"
      ]
     },
     "execution_count": 32,
     "metadata": {},
     "output_type": "execute_result"
    }
   ],
   "source": [
    "from sklearn.preprocessing import StandardScaler\n",
    "scaler=StandardScaler()\n",
    "df_temp = df[[\"Levy\", \"Mileage\"]]\n",
    "df_sc = df\n",
    "df_sc_temp = scaler.fit_transform(df_temp)\n",
    "df_sc_temp = pd.DataFrame(df_sc_temp, columns=df_temp.columns)\n",
    "\n",
    "df_sc[\"Levy\"] = df_sc_temp[\"Levy\"]\n",
    "df_sc[\"Mileage\"] = df_sc_temp[\"Mileage\"]\n",
    "\n",
    "df_sc.head()"
   ]
  },
  {
   "cell_type": "code",
   "execution_count": 33,
   "metadata": {},
   "outputs": [],
   "source": [
    "df_sc.isna().sum() \n",
    "df_sc = df_sc.dropna()"
   ]
  },
  {
   "cell_type": "markdown",
   "metadata": {},
   "source": [
    "### Linear Regression"
   ]
  },
  {
   "cell_type": "code",
   "execution_count": 35,
   "metadata": {},
   "outputs": [
    {
     "data": {
      "text/plain": [
       "0.8"
      ]
     },
     "execution_count": 35,
     "metadata": {},
     "output_type": "execute_result"
    }
   ],
   "source": [
    "y = df_sc['TARGET']\n",
    "X = df_sc.drop('TARGET', axis=1) # be careful inplace= False\n",
    "\n",
    "# This is what we used to split it.\n",
    "from sklearn.model_selection import train_test_split\n",
    "X_train, X_test, y_train, y_test = train_test_split(X, y, test_size=0.2, random_state=rand_state)\n",
    "\n",
    "# checking the percentage of training set!\n",
    "np.round(len(X_train)/len(X),3)"
   ]
  },
  {
   "cell_type": "code",
   "execution_count": 61,
   "metadata": {},
   "outputs": [
    {
     "data": {
      "text/plain": [
       "LinearRegression()"
      ]
     },
     "execution_count": 61,
     "metadata": {},
     "output_type": "execute_result"
    }
   ],
   "source": [
    "from sklearn.linear_model import LinearRegression  # (For machine learning approach we use sklearn package)\n",
    "import statsmodels.api as sm # (For econometrics approach we use statsmodels package)\n",
    "\n",
    "reg_model = LinearRegression( )\n",
    "reg_model.fit(X_train, y_train)"
   ]
  },
  {
   "cell_type": "code",
   "execution_count": 62,
   "metadata": {},
   "outputs": [],
   "source": [
    "y_hat_test = reg_model.predict(X_test)"
   ]
  },
  {
   "cell_type": "code",
   "execution_count": 63,
   "metadata": {},
   "outputs": [
    {
     "data": {
      "text/html": [
       "<div>\n",
       "<style scoped>\n",
       "    .dataframe tbody tr th:only-of-type {\n",
       "        vertical-align: middle;\n",
       "    }\n",
       "\n",
       "    .dataframe tbody tr th {\n",
       "        vertical-align: top;\n",
       "    }\n",
       "\n",
       "    .dataframe thead th {\n",
       "        text-align: right;\n",
       "    }\n",
       "</style>\n",
       "<table border=\"1\" class=\"dataframe\">\n",
       "  <thead>\n",
       "    <tr style=\"text-align: right;\">\n",
       "      <th></th>\n",
       "      <th>y_test</th>\n",
       "      <th>y_hat_test</th>\n",
       "      <th>resid</th>\n",
       "    </tr>\n",
       "  </thead>\n",
       "  <tbody>\n",
       "    <tr>\n",
       "      <th>13503</th>\n",
       "      <td>10.353320</td>\n",
       "      <td>9.464928</td>\n",
       "      <td>0.888392</td>\n",
       "    </tr>\n",
       "    <tr>\n",
       "      <th>2023</th>\n",
       "      <td>5.971262</td>\n",
       "      <td>8.579347</td>\n",
       "      <td>-2.608085</td>\n",
       "    </tr>\n",
       "    <tr>\n",
       "      <th>13868</th>\n",
       "      <td>9.808572</td>\n",
       "      <td>9.931481</td>\n",
       "      <td>-0.122908</td>\n",
       "    </tr>\n",
       "    <tr>\n",
       "      <th>3835</th>\n",
       "      <td>9.907031</td>\n",
       "      <td>9.120671</td>\n",
       "      <td>0.786361</td>\n",
       "    </tr>\n",
       "    <tr>\n",
       "      <th>4182</th>\n",
       "      <td>9.660205</td>\n",
       "      <td>9.154329</td>\n",
       "      <td>0.505876</td>\n",
       "    </tr>\n",
       "  </tbody>\n",
       "</table>\n",
       "</div>"
      ],
      "text/plain": [
       "          y_test  y_hat_test     resid\n",
       "13503  10.353320    9.464928  0.888392\n",
       "2023    5.971262    8.579347 -2.608085\n",
       "13868   9.808572    9.931481 -0.122908\n",
       "3835    9.907031    9.120671  0.786361\n",
       "4182    9.660205    9.154329  0.505876"
      ]
     },
     "execution_count": 63,
     "metadata": {},
     "output_type": "execute_result"
    }
   ],
   "source": [
    "log_predictions = pd.DataFrame({'y_test':y_test, 'y_hat_test':y_hat_test, 'resid': y_test - y_hat_test})\n",
    "log_predictions.head()"
   ]
  },
  {
   "cell_type": "code",
   "execution_count": 64,
   "metadata": {},
   "outputs": [
    {
     "data": {
      "text/plain": [
       "1.511"
      ]
     },
     "execution_count": 64,
     "metadata": {},
     "output_type": "execute_result"
    }
   ],
   "source": [
    "MSE_test = np.mean(np.square(log_predictions['resid']))\n",
    "np.round(MSE_test,3)\n",
    "RMSE_test = np.sqrt(MSE_test)\n",
    "np.round(RMSE_test,3)"
   ]
  },
  {
   "cell_type": "markdown",
   "metadata": {},
   "source": [
    "5-fold Cross Validated RMSE for Linear Regression "
   ]
  },
  {
   "cell_type": "code",
   "execution_count": 65,
   "metadata": {},
   "outputs": [
    {
     "data": {
      "text/plain": [
       "1.478"
      ]
     },
     "execution_count": 65,
     "metadata": {},
     "output_type": "execute_result"
    }
   ],
   "source": [
    "from sklearn.model_selection import cross_val_score\n",
    "import sklearn.metrics\n",
    "\n",
    "my_estimator = LinearRegression()\n",
    "\n",
    "\n",
    "MSE_five = -cross_val_score(estimator=my_estimator, X=X_train, y=y_train, cv=5, scoring=\"neg_mean_squared_error\")\n",
    "RMSE_five = np.sqrt(MSE_five)\n",
    "RMSE_CV5 = np.mean(RMSE_five)\n",
    "np.round(RMSE_CV5,3)\n"
   ]
  },
  {
   "cell_type": "markdown",
   "metadata": {},
   "source": [
    "R-Squared for Linear Regression: .359"
   ]
  },
  {
   "cell_type": "code",
   "execution_count": 41,
   "metadata": {},
   "outputs": [
    {
     "data": {
      "text/html": [
       "<table class=\"simpletable\">\n",
       "<caption>OLS Regression Results</caption>\n",
       "<tr>\n",
       "  <th>Dep. Variable:</th>         <td>TARGET</td>      <th>  R-squared:         </th> <td>   0.359</td> \n",
       "</tr>\n",
       "<tr>\n",
       "  <th>Model:</th>                   <td>OLS</td>       <th>  Adj. R-squared:    </th> <td>   0.318</td> \n",
       "</tr>\n",
       "<tr>\n",
       "  <th>Method:</th>             <td>Least Squares</td>  <th>  F-statistic:       </th> <td>   8.584</td> \n",
       "</tr>\n",
       "<tr>\n",
       "  <th>Date:</th>             <td>Wed, 20 Apr 2022</td> <th>  Prob (F-statistic):</th> <td>8.37e-212</td>\n",
       "</tr>\n",
       "<tr>\n",
       "  <th>Time:</th>                 <td>11:27:54</td>     <th>  Log-Likelihood:    </th> <td> -6407.7</td> \n",
       "</tr>\n",
       "<tr>\n",
       "  <th>No. Observations:</th>      <td>  3847</td>      <th>  AIC:               </th> <td>1.329e+04</td>\n",
       "</tr>\n",
       "<tr>\n",
       "  <th>Df Residuals:</th>          <td>  3610</td>      <th>  BIC:               </th> <td>1.477e+04</td>\n",
       "</tr>\n",
       "<tr>\n",
       "  <th>Df Model:</th>              <td>   236</td>      <th>                     </th>     <td> </td>    \n",
       "</tr>\n",
       "<tr>\n",
       "  <th>Covariance Type:</th>      <td>nonrobust</td>    <th>                     </th>     <td> </td>    \n",
       "</tr>\n",
       "</table>\n",
       "<table class=\"simpletable\">\n",
       "<tr>\n",
       "               <td></td>                 <th>coef</th>     <th>std err</th>      <th>t</th>      <th>P>|t|</th>  <th>[0.025</th>    <th>0.975]</th>  \n",
       "</tr>\n",
       "<tr>\n",
       "  <th>Levy</th>                       <td>    0.0383</td> <td>    0.022</td> <td>    1.742</td> <td> 0.082</td> <td>   -0.005</td> <td>    0.081</td>\n",
       "</tr>\n",
       "<tr>\n",
       "  <th>Mileage</th>                    <td>    0.0217</td> <td>    0.028</td> <td>    0.760</td> <td> 0.447</td> <td>   -0.034</td> <td>    0.078</td>\n",
       "</tr>\n",
       "<tr>\n",
       "  <th>Manufacturer_ALFA ROMEO</th>    <td> 6.374e-13</td> <td> 7.14e-13</td> <td>    0.892</td> <td> 0.372</td> <td>-7.63e-13</td> <td> 2.04e-12</td>\n",
       "</tr>\n",
       "<tr>\n",
       "  <th>Manufacturer_ASTON MARTIN</th>  <td>-8.045e-13</td> <td> 8.78e-13</td> <td>   -0.916</td> <td> 0.360</td> <td>-2.53e-12</td> <td> 9.17e-13</td>\n",
       "</tr>\n",
       "<tr>\n",
       "  <th>Manufacturer_AUDI</th>          <td>    1.8818</td> <td>    1.353</td> <td>    1.391</td> <td> 0.164</td> <td>   -0.771</td> <td>    4.534</td>\n",
       "</tr>\n",
       "<tr>\n",
       "  <th>Manufacturer_BENTLEY</th>       <td>    3.0997</td> <td>    1.161</td> <td>    2.670</td> <td> 0.008</td> <td>    0.823</td> <td>    5.376</td>\n",
       "</tr>\n",
       "<tr>\n",
       "  <th>Manufacturer_BMW</th>           <td>    2.7799</td> <td>    1.341</td> <td>    2.072</td> <td> 0.038</td> <td>    0.150</td> <td>    5.410</td>\n",
       "</tr>\n",
       "<tr>\n",
       "  <th>Manufacturer_BUICK</th>         <td>    2.6725</td> <td>    1.636</td> <td>    1.634</td> <td> 0.102</td> <td>   -0.535</td> <td>    5.880</td>\n",
       "</tr>\n",
       "<tr>\n",
       "  <th>Manufacturer_CADILLAC</th>      <td>    3.7544</td> <td>    1.526</td> <td>    2.460</td> <td> 0.014</td> <td>    0.762</td> <td>    6.747</td>\n",
       "</tr>\n",
       "<tr>\n",
       "  <th>Manufacturer_CHEVROLET</th>     <td>    2.1767</td> <td>    1.336</td> <td>    1.630</td> <td> 0.103</td> <td>   -0.442</td> <td>    4.795</td>\n",
       "</tr>\n",
       "<tr>\n",
       "  <th>Manufacturer_CHRYSLER</th>      <td>    2.9612</td> <td>    1.457</td> <td>    2.033</td> <td> 0.042</td> <td>    0.105</td> <td>    5.817</td>\n",
       "</tr>\n",
       "<tr>\n",
       "  <th>Manufacturer_CITROEN</th>       <td>    2.6657</td> <td>    1.551</td> <td>    1.719</td> <td> 0.086</td> <td>   -0.375</td> <td>    5.706</td>\n",
       "</tr>\n",
       "<tr>\n",
       "  <th>Manufacturer_DAEWOO</th>        <td>    1.7455</td> <td>    1.382</td> <td>    1.263</td> <td> 0.207</td> <td>   -0.964</td> <td>    4.455</td>\n",
       "</tr>\n",
       "<tr>\n",
       "  <th>Manufacturer_DAIHATSU</th>      <td>    4.3715</td> <td>    1.568</td> <td>    2.788</td> <td> 0.005</td> <td>    1.297</td> <td>    7.446</td>\n",
       "</tr>\n",
       "<tr>\n",
       "  <th>Manufacturer_DODGE</th>         <td>    1.9834</td> <td>    1.368</td> <td>    1.449</td> <td> 0.147</td> <td>   -0.700</td> <td>    4.666</td>\n",
       "</tr>\n",
       "<tr>\n",
       "  <th>Manufacturer_FERRARI</th>       <td>    6.3825</td> <td>    2.071</td> <td>    3.082</td> <td> 0.002</td> <td>    2.323</td> <td>   10.443</td>\n",
       "</tr>\n",
       "<tr>\n",
       "  <th>Manufacturer_FIAT</th>          <td>    1.9663</td> <td>    1.378</td> <td>    1.427</td> <td> 0.154</td> <td>   -0.735</td> <td>    4.668</td>\n",
       "</tr>\n",
       "<tr>\n",
       "  <th>Manufacturer_FORD</th>          <td>    2.2667</td> <td>    1.337</td> <td>    1.695</td> <td> 0.090</td> <td>   -0.354</td> <td>    4.888</td>\n",
       "</tr>\n",
       "<tr>\n",
       "  <th>Manufacturer_GAZ</th>           <td>    2.4958</td> <td>    1.646</td> <td>    1.516</td> <td> 0.129</td> <td>   -0.731</td> <td>    5.723</td>\n",
       "</tr>\n",
       "<tr>\n",
       "  <th>Manufacturer_GMC</th>           <td>    2.4756</td> <td>    1.465</td> <td>    1.690</td> <td> 0.091</td> <td>   -0.397</td> <td>    5.348</td>\n",
       "</tr>\n",
       "<tr>\n",
       "  <th>Manufacturer_GREATWALL</th>     <td>-3.491e-14</td> <td> 7.11e-14</td> <td>   -0.491</td> <td> 0.624</td> <td>-1.74e-13</td> <td> 1.05e-13</td>\n",
       "</tr>\n",
       "<tr>\n",
       "  <th>Manufacturer_HAVAL</th>         <td> 4.098e-13</td> <td> 4.51e-13</td> <td>    0.908</td> <td> 0.364</td> <td>-4.75e-13</td> <td> 1.29e-12</td>\n",
       "</tr>\n",
       "<tr>\n",
       "  <th>Manufacturer_HONDA</th>         <td>    2.1973</td> <td>    1.336</td> <td>    1.644</td> <td> 0.100</td> <td>   -0.422</td> <td>    4.817</td>\n",
       "</tr>\n",
       "<tr>\n",
       "  <th>Manufacturer_HUMMER</th>        <td>    4.2570</td> <td>    1.951</td> <td>    2.182</td> <td> 0.029</td> <td>    0.431</td> <td>    8.083</td>\n",
       "</tr>\n",
       "<tr>\n",
       "  <th>Manufacturer_HYUNDAI</th>       <td>    2.3812</td> <td>    1.331</td> <td>    1.788</td> <td> 0.074</td> <td>   -0.229</td> <td>    4.992</td>\n",
       "</tr>\n",
       "<tr>\n",
       "  <th>Manufacturer_INFINITI</th>      <td>    3.1999</td> <td>    1.447</td> <td>    2.211</td> <td> 0.027</td> <td>    0.363</td> <td>    6.037</td>\n",
       "</tr>\n",
       "<tr>\n",
       "  <th>Manufacturer_ISUZU</th>         <td>    2.4871</td> <td>    1.913</td> <td>    1.300</td> <td> 0.194</td> <td>   -1.263</td> <td>    6.237</td>\n",
       "</tr>\n",
       "<tr>\n",
       "  <th>Manufacturer_JAGUAR</th>        <td>    2.0930</td> <td>    1.380</td> <td>    1.517</td> <td> 0.129</td> <td>   -0.612</td> <td>    4.798</td>\n",
       "</tr>\n",
       "<tr>\n",
       "  <th>Manufacturer_JEEP</th>          <td>    2.8943</td> <td>    1.359</td> <td>    2.130</td> <td> 0.033</td> <td>    0.230</td> <td>    5.558</td>\n",
       "</tr>\n",
       "<tr>\n",
       "  <th>Manufacturer_KIA</th>           <td>    2.1138</td> <td>    1.337</td> <td>    1.581</td> <td> 0.114</td> <td>   -0.508</td> <td>    4.735</td>\n",
       "</tr>\n",
       "<tr>\n",
       "  <th>Manufacturer_LAMBORGHINI</th>   <td>-2.565e-13</td> <td> 2.63e-13</td> <td>   -0.976</td> <td> 0.329</td> <td>-7.72e-13</td> <td> 2.59e-13</td>\n",
       "</tr>\n",
       "<tr>\n",
       "  <th>Manufacturer_LANCIA</th>        <td>-6.606e-14</td> <td> 5.58e-14</td> <td>   -1.185</td> <td> 0.236</td> <td>-1.75e-13</td> <td> 4.33e-14</td>\n",
       "</tr>\n",
       "<tr>\n",
       "  <th>Manufacturer_LAND ROVER</th>    <td>    3.2694</td> <td>    1.404</td> <td>    2.329</td> <td> 0.020</td> <td>    0.518</td> <td>    6.021</td>\n",
       "</tr>\n",
       "<tr>\n",
       "  <th>Manufacturer_LEXUS</th>         <td>    2.5948</td> <td>    1.341</td> <td>    1.935</td> <td> 0.053</td> <td>   -0.034</td> <td>    5.223</td>\n",
       "</tr>\n",
       "<tr>\n",
       "  <th>Manufacturer_LINCOLN</th>       <td>    0.9539</td> <td>    1.777</td> <td>    0.537</td> <td> 0.591</td> <td>   -2.531</td> <td>    4.438</td>\n",
       "</tr>\n",
       "<tr>\n",
       "  <th>Manufacturer_MASERATI</th>      <td>    4.3721</td> <td>    1.900</td> <td>    2.301</td> <td> 0.021</td> <td>    0.646</td> <td>    8.098</td>\n",
       "</tr>\n",
       "<tr>\n",
       "  <th>Manufacturer_MAZDA</th>         <td>    2.2423</td> <td>    1.352</td> <td>    1.659</td> <td> 0.097</td> <td>   -0.408</td> <td>    4.892</td>\n",
       "</tr>\n",
       "<tr>\n",
       "  <th>Manufacturer_MERCEDES-BENZ</th> <td>    2.5513</td> <td>    1.337</td> <td>    1.908</td> <td> 0.056</td> <td>   -0.070</td> <td>    5.172</td>\n",
       "</tr>\n",
       "<tr>\n",
       "  <th>Manufacturer_MERCURY</th>       <td>-1.389e-13</td> <td> 1.64e-13</td> <td>   -0.848</td> <td> 0.396</td> <td> -4.6e-13</td> <td> 1.82e-13</td>\n",
       "</tr>\n",
       "<tr>\n",
       "  <th>Manufacturer_MINI</th>          <td>    2.1506</td> <td>    1.401</td> <td>    1.535</td> <td> 0.125</td> <td>   -0.596</td> <td>    4.897</td>\n",
       "</tr>\n",
       "<tr>\n",
       "  <th>Manufacturer_MITSUBISHI</th>    <td>    2.3598</td> <td>    1.347</td> <td>    1.752</td> <td> 0.080</td> <td>   -0.281</td> <td>    5.000</td>\n",
       "</tr>\n",
       "<tr>\n",
       "  <th>Manufacturer_MOSKVICH</th>      <td>    2.0616</td> <td>    2.609</td> <td>    0.790</td> <td> 0.430</td> <td>   -3.054</td> <td>    7.177</td>\n",
       "</tr>\n",
       "<tr>\n",
       "  <th>Manufacturer_NISSAN</th>        <td>    2.1734</td> <td>    1.339</td> <td>    1.623</td> <td> 0.105</td> <td>   -0.452</td> <td>    4.799</td>\n",
       "</tr>\n",
       "<tr>\n",
       "  <th>Manufacturer_OPEL</th>          <td>    2.0560</td> <td>    1.344</td> <td>    1.530</td> <td> 0.126</td> <td>   -0.579</td> <td>    4.691</td>\n",
       "</tr>\n",
       "<tr>\n",
       "  <th>Manufacturer_PEUGEOT</th>       <td>    2.1026</td> <td>    1.886</td> <td>    1.115</td> <td> 0.265</td> <td>   -1.594</td> <td>    5.799</td>\n",
       "</tr>\n",
       "<tr>\n",
       "  <th>Manufacturer_PONTIAC</th>       <td>-2.226e-14</td> <td>  2.9e-14</td> <td>   -0.768</td> <td> 0.442</td> <td> -7.9e-14</td> <td> 3.45e-14</td>\n",
       "</tr>\n",
       "<tr>\n",
       "  <th>Manufacturer_PORSCHE</th>       <td>    2.3470</td> <td>    1.441</td> <td>    1.629</td> <td> 0.103</td> <td>   -0.477</td> <td>    5.171</td>\n",
       "</tr>\n",
       "<tr>\n",
       "  <th>Manufacturer_RENAULT</th>       <td>    1.9272</td> <td>    1.456</td> <td>    1.323</td> <td> 0.186</td> <td>   -0.928</td> <td>    4.782</td>\n",
       "</tr>\n",
       "<tr>\n",
       "  <th>Manufacturer_ROLLS-ROYCE</th>   <td>-1.656e-13</td> <td> 1.49e-13</td> <td>   -1.111</td> <td> 0.266</td> <td>-4.58e-13</td> <td> 1.27e-13</td>\n",
       "</tr>\n",
       "<tr>\n",
       "  <th>Manufacturer_ROVER</th>         <td>-1.981e-14</td> <td> 3.75e-14</td> <td>   -0.528</td> <td> 0.598</td> <td>-9.34e-14</td> <td> 5.37e-14</td>\n",
       "</tr>\n",
       "<tr>\n",
       "  <th>Manufacturer_SAAB</th>          <td>  8.22e-14</td> <td> 3.06e-14</td> <td>    2.687</td> <td> 0.007</td> <td> 2.22e-14</td> <td> 1.42e-13</td>\n",
       "</tr>\n",
       "<tr>\n",
       "  <th>Manufacturer_SATURN</th>        <td>   1.4e-13</td> <td> 8.24e-14</td> <td>    1.700</td> <td> 0.089</td> <td>-2.15e-14</td> <td> 3.01e-13</td>\n",
       "</tr>\n",
       "<tr>\n",
       "  <th>Manufacturer_SCION</th>         <td> 3.075e-13</td> <td> 3.23e-13</td> <td>    0.951</td> <td> 0.342</td> <td>-3.27e-13</td> <td> 9.42e-13</td>\n",
       "</tr>\n",
       "<tr>\n",
       "  <th>Manufacturer_SEAT</th>          <td> 1.618e-14</td> <td> 1.93e-14</td> <td>    0.838</td> <td> 0.402</td> <td>-2.17e-14</td> <td>  5.4e-14</td>\n",
       "</tr>\n",
       "<tr>\n",
       "  <th>Manufacturer_SKODA</th>         <td>    2.0034</td> <td>    1.648</td> <td>    1.216</td> <td> 0.224</td> <td>   -1.227</td> <td>    5.233</td>\n",
       "</tr>\n",
       "<tr>\n",
       "  <th>Manufacturer_SSANGYONG</th>     <td>    2.6028</td> <td>    1.342</td> <td>    1.940</td> <td> 0.052</td> <td>   -0.027</td> <td>    5.233</td>\n",
       "</tr>\n",
       "<tr>\n",
       "  <th>Manufacturer_SUBARU</th>        <td>    2.0861</td> <td>    1.348</td> <td>    1.548</td> <td> 0.122</td> <td>   -0.556</td> <td>    4.728</td>\n",
       "</tr>\n",
       "<tr>\n",
       "  <th>Manufacturer_SUZUKI</th>        <td>    2.7767</td> <td>    1.392</td> <td>    1.994</td> <td> 0.046</td> <td>    0.047</td> <td>    5.506</td>\n",
       "</tr>\n",
       "<tr>\n",
       "  <th>Manufacturer_TESLA</th>         <td>-1.772e-13</td> <td> 1.24e-13</td> <td>   -1.434</td> <td> 0.152</td> <td>-4.19e-13</td> <td>  6.5e-14</td>\n",
       "</tr>\n",
       "<tr>\n",
       "  <th>Manufacturer_TOYOTA</th>        <td>    2.4316</td> <td>    1.333</td> <td>    1.824</td> <td> 0.068</td> <td>   -0.183</td> <td>    5.046</td>\n",
       "</tr>\n",
       "<tr>\n",
       "  <th>Manufacturer_UAZ</th>           <td>    2.8729</td> <td>    1.784</td> <td>    1.610</td> <td> 0.107</td> <td>   -0.625</td> <td>    6.370</td>\n",
       "</tr>\n",
       "<tr>\n",
       "  <th>Manufacturer_VAZ</th>           <td>    2.7393</td> <td>    1.460</td> <td>    1.877</td> <td> 0.061</td> <td>   -0.122</td> <td>    5.601</td>\n",
       "</tr>\n",
       "<tr>\n",
       "  <th>Manufacturer_VOLKSWAGEN</th>    <td>    2.3486</td> <td>    1.341</td> <td>    1.751</td> <td> 0.080</td> <td>   -0.281</td> <td>    4.978</td>\n",
       "</tr>\n",
       "<tr>\n",
       "  <th>Manufacturer_VOLVO</th>         <td>    2.2192</td> <td>    1.408</td> <td>    1.576</td> <td> 0.115</td> <td>   -0.541</td> <td>    4.979</td>\n",
       "</tr>\n",
       "<tr>\n",
       "  <th>Manufacturer_ZAZ</th>           <td>-1.588e-13</td> <td> 1.29e-13</td> <td>   -1.228</td> <td> 0.219</td> <td>-4.12e-13</td> <td> 9.47e-14</td>\n",
       "</tr>\n",
       "<tr>\n",
       "  <th>Manufacturer_სხვა</th>          <td>    2.9862</td> <td>    2.098</td> <td>    1.424</td> <td> 0.155</td> <td>   -1.126</td> <td>    7.099</td>\n",
       "</tr>\n",
       "<tr>\n",
       "  <th>Prod. year_1943</th>            <td> 1.268e-13</td> <td> 7.36e-14</td> <td>    1.722</td> <td> 0.085</td> <td>-1.76e-14</td> <td> 2.71e-13</td>\n",
       "</tr>\n",
       "<tr>\n",
       "  <th>Prod. year_1947</th>            <td> 7.713e-14</td> <td> 1.12e-13</td> <td>    0.691</td> <td> 0.490</td> <td>-1.42e-13</td> <td> 2.96e-13</td>\n",
       "</tr>\n",
       "<tr>\n",
       "  <th>Prod. year_1953</th>            <td> -1.25e-14</td> <td> 3.58e-14</td> <td>   -0.350</td> <td> 0.727</td> <td>-8.26e-14</td> <td> 5.76e-14</td>\n",
       "</tr>\n",
       "<tr>\n",
       "  <th>Prod. year_1957</th>            <td> 2.674e-13</td> <td> 2.45e-13</td> <td>    1.093</td> <td> 0.274</td> <td>-2.12e-13</td> <td> 7.47e-13</td>\n",
       "</tr>\n",
       "<tr>\n",
       "  <th>Prod. year_1964</th>            <td>-1.598e-14</td> <td> 8.15e-15</td> <td>   -1.962</td> <td> 0.050</td> <td> -3.2e-14</td> <td>-1.35e-17</td>\n",
       "</tr>\n",
       "<tr>\n",
       "  <th>Prod. year_1965</th>            <td>    8.2497</td> <td>    2.513</td> <td>    3.283</td> <td> 0.001</td> <td>    3.323</td> <td>   13.176</td>\n",
       "</tr>\n",
       "<tr>\n",
       "  <th>Prod. year_1968</th>            <td>-7.681e-14</td> <td> 7.02e-14</td> <td>   -1.095</td> <td> 0.274</td> <td>-2.14e-13</td> <td> 6.08e-14</td>\n",
       "</tr>\n",
       "<tr>\n",
       "  <th>Prod. year_1973</th>            <td>    7.8998</td> <td>    2.836</td> <td>    2.785</td> <td> 0.005</td> <td>    2.339</td> <td>   13.461</td>\n",
       "</tr>\n",
       "<tr>\n",
       "  <th>Prod. year_1974</th>            <td>-8.794e-14</td> <td> 8.36e-14</td> <td>   -1.052</td> <td> 0.293</td> <td>-2.52e-13</td> <td>  7.6e-14</td>\n",
       "</tr>\n",
       "<tr>\n",
       "  <th>Prod. year_1976</th>            <td> 3.734e-15</td> <td>    1e-14</td> <td>    0.373</td> <td> 0.709</td> <td>-1.59e-14</td> <td> 2.34e-14</td>\n",
       "</tr>\n",
       "<tr>\n",
       "  <th>Prod. year_1977</th>            <td>    8.4980</td> <td>    2.974</td> <td>    2.857</td> <td> 0.004</td> <td>    2.667</td> <td>   14.329</td>\n",
       "</tr>\n",
       "<tr>\n",
       "  <th>Prod. year_1978</th>            <td>    5.4821</td> <td>    3.356</td> <td>    1.633</td> <td> 0.102</td> <td>   -1.098</td> <td>   12.062</td>\n",
       "</tr>\n",
       "<tr>\n",
       "  <th>Prod. year_1980</th>            <td>    5.0233</td> <td>    2.884</td> <td>    1.742</td> <td> 0.082</td> <td>   -0.631</td> <td>   10.677</td>\n",
       "</tr>\n",
       "<tr>\n",
       "  <th>Prod. year_1981</th>            <td>-1.433e-13</td> <td>    1e-13</td> <td>   -1.434</td> <td> 0.152</td> <td>-3.39e-13</td> <td> 5.26e-14</td>\n",
       "</tr>\n",
       "<tr>\n",
       "  <th>Prod. year_1982</th>            <td> 2.512e-13</td> <td> 2.47e-13</td> <td>    1.015</td> <td> 0.310</td> <td>-2.34e-13</td> <td> 7.36e-13</td>\n",
       "</tr>\n",
       "<tr>\n",
       "  <th>Prod. year_1983</th>            <td>    4.9582</td> <td>    2.356</td> <td>    2.104</td> <td> 0.035</td> <td>    0.339</td> <td>    9.577</td>\n",
       "</tr>\n",
       "<tr>\n",
       "  <th>Prod. year_1984</th>            <td>  4.28e-14</td> <td> 2.76e-14</td> <td>    1.551</td> <td> 0.121</td> <td>-1.13e-14</td> <td> 9.69e-14</td>\n",
       "</tr>\n",
       "<tr>\n",
       "  <th>Prod. year_1985</th>            <td>    5.8739</td> <td>    2.740</td> <td>    2.143</td> <td> 0.032</td> <td>    0.501</td> <td>   11.247</td>\n",
       "</tr>\n",
       "<tr>\n",
       "  <th>Prod. year_1986</th>            <td>    5.8976</td> <td>    2.491</td> <td>    2.368</td> <td> 0.018</td> <td>    1.014</td> <td>   10.781</td>\n",
       "</tr>\n",
       "<tr>\n",
       "  <th>Prod. year_1987</th>            <td>    5.4530</td> <td>    2.401</td> <td>    2.271</td> <td> 0.023</td> <td>    0.745</td> <td>   10.161</td>\n",
       "</tr>\n",
       "<tr>\n",
       "  <th>Prod. year_1988</th>            <td>-1.539e-13</td> <td> 1.38e-13</td> <td>   -1.112</td> <td> 0.266</td> <td>-4.25e-13</td> <td> 1.17e-13</td>\n",
       "</tr>\n",
       "<tr>\n",
       "  <th>Prod. year_1989</th>            <td>-1.585e-13</td> <td>  9.8e-14</td> <td>   -1.617</td> <td> 0.106</td> <td>-3.51e-13</td> <td> 3.36e-14</td>\n",
       "</tr>\n",
       "<tr>\n",
       "  <th>Prod. year_1990</th>            <td>    5.7810</td> <td>    2.227</td> <td>    2.596</td> <td> 0.009</td> <td>    1.415</td> <td>   10.147</td>\n",
       "</tr>\n",
       "<tr>\n",
       "  <th>Prod. year_1991</th>            <td>    5.0386</td> <td>    2.521</td> <td>    1.998</td> <td> 0.046</td> <td>    0.095</td> <td>    9.982</td>\n",
       "</tr>\n",
       "<tr>\n",
       "  <th>Prod. year_1992</th>            <td>    6.3256</td> <td>    2.190</td> <td>    2.889</td> <td> 0.004</td> <td>    2.032</td> <td>   10.619</td>\n",
       "</tr>\n",
       "<tr>\n",
       "  <th>Prod. year_1993</th>            <td>    6.1405</td> <td>    2.149</td> <td>    2.858</td> <td> 0.004</td> <td>    1.928</td> <td>   10.353</td>\n",
       "</tr>\n",
       "<tr>\n",
       "  <th>Prod. year_1994</th>            <td>    5.7473</td> <td>    2.142</td> <td>    2.683</td> <td> 0.007</td> <td>    1.547</td> <td>    9.948</td>\n",
       "</tr>\n",
       "<tr>\n",
       "  <th>Prod. year_1995</th>            <td>    5.8416</td> <td>    2.116</td> <td>    2.761</td> <td> 0.006</td> <td>    1.693</td> <td>    9.990</td>\n",
       "</tr>\n",
       "<tr>\n",
       "  <th>Prod. year_1996</th>            <td>    5.7034</td> <td>    2.102</td> <td>    2.713</td> <td> 0.007</td> <td>    1.582</td> <td>    9.825</td>\n",
       "</tr>\n",
       "<tr>\n",
       "  <th>Prod. year_1997</th>            <td>    5.7063</td> <td>    2.104</td> <td>    2.712</td> <td> 0.007</td> <td>    1.581</td> <td>    9.831</td>\n",
       "</tr>\n",
       "<tr>\n",
       "  <th>Prod. year_1998</th>            <td>    5.5519</td> <td>    2.098</td> <td>    2.646</td> <td> 0.008</td> <td>    1.438</td> <td>    9.666</td>\n",
       "</tr>\n",
       "<tr>\n",
       "  <th>Prod. year_1999</th>            <td>    5.9508</td> <td>    2.105</td> <td>    2.827</td> <td> 0.005</td> <td>    1.824</td> <td>   10.077</td>\n",
       "</tr>\n",
       "<tr>\n",
       "  <th>Prod. year_2000</th>            <td>    5.7689</td> <td>    2.103</td> <td>    2.743</td> <td> 0.006</td> <td>    1.646</td> <td>    9.892</td>\n",
       "</tr>\n",
       "<tr>\n",
       "  <th>Prod. year_2001</th>            <td>    5.9118</td> <td>    2.101</td> <td>    2.814</td> <td> 0.005</td> <td>    1.793</td> <td>   10.031</td>\n",
       "</tr>\n",
       "<tr>\n",
       "  <th>Prod. year_2002</th>            <td>    5.8883</td> <td>    2.099</td> <td>    2.805</td> <td> 0.005</td> <td>    1.773</td> <td>   10.003</td>\n",
       "</tr>\n",
       "<tr>\n",
       "  <th>Prod. year_2003</th>            <td>    5.9511</td> <td>    2.096</td> <td>    2.840</td> <td> 0.005</td> <td>    1.842</td> <td>   10.060</td>\n",
       "</tr>\n",
       "<tr>\n",
       "  <th>Prod. year_2004</th>            <td>    6.2257</td> <td>    2.097</td> <td>    2.969</td> <td> 0.003</td> <td>    2.114</td> <td>   10.337</td>\n",
       "</tr>\n",
       "<tr>\n",
       "  <th>Prod. year_2005</th>            <td>    6.1532</td> <td>    2.095</td> <td>    2.937</td> <td> 0.003</td> <td>    2.045</td> <td>   10.261</td>\n",
       "</tr>\n",
       "<tr>\n",
       "  <th>Prod. year_2006</th>            <td>    6.3142</td> <td>    2.097</td> <td>    3.011</td> <td> 0.003</td> <td>    2.202</td> <td>   10.426</td>\n",
       "</tr>\n",
       "<tr>\n",
       "  <th>Prod. year_2007</th>            <td>    6.2411</td> <td>    2.095</td> <td>    2.979</td> <td> 0.003</td> <td>    2.134</td> <td>   10.348</td>\n",
       "</tr>\n",
       "<tr>\n",
       "  <th>Prod. year_2008</th>            <td>    6.3604</td> <td>    2.096</td> <td>    3.035</td> <td> 0.002</td> <td>    2.252</td> <td>   10.469</td>\n",
       "</tr>\n",
       "<tr>\n",
       "  <th>Prod. year_2009</th>            <td>    6.6267</td> <td>    2.098</td> <td>    3.159</td> <td> 0.002</td> <td>    2.514</td> <td>   10.739</td>\n",
       "</tr>\n",
       "<tr>\n",
       "  <th>Prod. year_2010</th>            <td>    6.7318</td> <td>    2.091</td> <td>    3.219</td> <td> 0.001</td> <td>    2.632</td> <td>   10.831</td>\n",
       "</tr>\n",
       "<tr>\n",
       "  <th>Prod. year_2011</th>            <td>    6.6519</td> <td>    2.094</td> <td>    3.177</td> <td> 0.002</td> <td>    2.547</td> <td>   10.757</td>\n",
       "</tr>\n",
       "<tr>\n",
       "  <th>Prod. year_2012</th>            <td>    6.9098</td> <td>    2.093</td> <td>    3.302</td> <td> 0.001</td> <td>    2.806</td> <td>   11.013</td>\n",
       "</tr>\n",
       "<tr>\n",
       "  <th>Prod. year_2013</th>            <td>    6.7734</td> <td>    2.091</td> <td>    3.239</td> <td> 0.001</td> <td>    2.673</td> <td>   10.874</td>\n",
       "</tr>\n",
       "<tr>\n",
       "  <th>Prod. year_2014</th>            <td>    7.0627</td> <td>    2.094</td> <td>    3.373</td> <td> 0.001</td> <td>    2.958</td> <td>   11.168</td>\n",
       "</tr>\n",
       "<tr>\n",
       "  <th>Prod. year_2015</th>            <td>    7.1322</td> <td>    2.094</td> <td>    3.406</td> <td> 0.001</td> <td>    3.026</td> <td>   11.238</td>\n",
       "</tr>\n",
       "<tr>\n",
       "  <th>Prod. year_2016</th>            <td>    7.3859</td> <td>    2.094</td> <td>    3.527</td> <td> 0.000</td> <td>    3.280</td> <td>   11.492</td>\n",
       "</tr>\n",
       "<tr>\n",
       "  <th>Prod. year_2017</th>            <td>    7.1900</td> <td>    2.096</td> <td>    3.430</td> <td> 0.001</td> <td>    3.080</td> <td>   11.300</td>\n",
       "</tr>\n",
       "<tr>\n",
       "  <th>Prod. year_2018</th>            <td>    7.6930</td> <td>    2.097</td> <td>    3.668</td> <td> 0.000</td> <td>    3.581</td> <td>   11.805</td>\n",
       "</tr>\n",
       "<tr>\n",
       "  <th>Prod. year_2019</th>            <td>    7.2213</td> <td>    2.103</td> <td>    3.434</td> <td> 0.001</td> <td>    3.099</td> <td>   11.344</td>\n",
       "</tr>\n",
       "<tr>\n",
       "  <th>Prod. year_2020</th>            <td>    7.9139</td> <td>    2.126</td> <td>    3.722</td> <td> 0.000</td> <td>    3.745</td> <td>   12.083</td>\n",
       "</tr>\n",
       "<tr>\n",
       "  <th>Category_Coupe</th>             <td>   -0.0510</td> <td>    0.602</td> <td>   -0.085</td> <td> 0.932</td> <td>   -1.231</td> <td>    1.129</td>\n",
       "</tr>\n",
       "<tr>\n",
       "  <th>Category_Goods wagon</th>       <td>   -0.1948</td> <td>    0.641</td> <td>   -0.304</td> <td> 0.761</td> <td>   -1.451</td> <td>    1.062</td>\n",
       "</tr>\n",
       "<tr>\n",
       "  <th>Category_Hatchback</th>         <td>   -0.2689</td> <td>    0.605</td> <td>   -0.444</td> <td> 0.657</td> <td>   -1.455</td> <td>    0.917</td>\n",
       "</tr>\n",
       "<tr>\n",
       "  <th>Category_Jeep</th>              <td>   -0.1115</td> <td>    0.605</td> <td>   -0.184</td> <td> 0.854</td> <td>   -1.298</td> <td>    1.075</td>\n",
       "</tr>\n",
       "<tr>\n",
       "  <th>Category_Limousine</th>         <td>   -0.4994</td> <td>    1.436</td> <td>   -0.348</td> <td> 0.728</td> <td>   -3.314</td> <td>    2.316</td>\n",
       "</tr>\n",
       "<tr>\n",
       "  <th>Category_Microbus</th>          <td>    0.0686</td> <td>    0.648</td> <td>    0.106</td> <td> 0.916</td> <td>   -1.201</td> <td>    1.338</td>\n",
       "</tr>\n",
       "<tr>\n",
       "  <th>Category_Minivan</th>           <td>   -0.0301</td> <td>    0.615</td> <td>   -0.049</td> <td> 0.961</td> <td>   -1.237</td> <td>    1.177</td>\n",
       "</tr>\n",
       "<tr>\n",
       "  <th>Category_Pickup</th>            <td>   -0.0393</td> <td>    0.721</td> <td>   -0.054</td> <td> 0.957</td> <td>   -1.453</td> <td>    1.374</td>\n",
       "</tr>\n",
       "<tr>\n",
       "  <th>Category_Sedan</th>             <td>   -0.2571</td> <td>    0.602</td> <td>   -0.427</td> <td> 0.669</td> <td>   -1.438</td> <td>    0.923</td>\n",
       "</tr>\n",
       "<tr>\n",
       "  <th>Category_Universal</th>         <td>    0.0669</td> <td>    0.623</td> <td>    0.107</td> <td> 0.915</td> <td>   -1.155</td> <td>    1.289</td>\n",
       "</tr>\n",
       "<tr>\n",
       "  <th>Leather interior_Yes</th>       <td>   -0.2726</td> <td>    0.069</td> <td>   -3.938</td> <td> 0.000</td> <td>   -0.408</td> <td>   -0.137</td>\n",
       "</tr>\n",
       "<tr>\n",
       "  <th>Fuel type_Diesel</th>           <td>   -0.0852</td> <td>    0.178</td> <td>   -0.478</td> <td> 0.632</td> <td>   -0.435</td> <td>    0.264</td>\n",
       "</tr>\n",
       "<tr>\n",
       "  <th>Fuel type_Hybrid</th>           <td>   -0.4571</td> <td>    0.185</td> <td>   -2.471</td> <td> 0.014</td> <td>   -0.820</td> <td>   -0.094</td>\n",
       "</tr>\n",
       "<tr>\n",
       "  <th>Fuel type_Hydrogen</th>         <td> -6.83e-14</td> <td> 6.75e-14</td> <td>   -1.012</td> <td> 0.311</td> <td>-2.01e-13</td> <td>  6.4e-14</td>\n",
       "</tr>\n",
       "<tr>\n",
       "  <th>Fuel type_LPG</th>              <td>   -0.5020</td> <td>    0.198</td> <td>   -2.534</td> <td> 0.011</td> <td>   -0.890</td> <td>   -0.114</td>\n",
       "</tr>\n",
       "<tr>\n",
       "  <th>Fuel type_Petrol</th>           <td>   -0.2666</td> <td>    0.165</td> <td>   -1.620</td> <td> 0.105</td> <td>   -0.589</td> <td>    0.056</td>\n",
       "</tr>\n",
       "<tr>\n",
       "  <th>Fuel type_Plug-in Hybrid</th>   <td>    0.5515</td> <td>    0.334</td> <td>    1.651</td> <td> 0.099</td> <td>   -0.103</td> <td>    1.206</td>\n",
       "</tr>\n",
       "<tr>\n",
       "  <th>Engine volume_0.1</th>          <td>   -0.4889</td> <td>    1.679</td> <td>   -0.291</td> <td> 0.771</td> <td>   -3.782</td> <td>    2.804</td>\n",
       "</tr>\n",
       "<tr>\n",
       "  <th>Engine volume_0.2</th>          <td>    0.3152</td> <td>    1.891</td> <td>    0.167</td> <td> 0.868</td> <td>   -3.393</td> <td>    4.023</td>\n",
       "</tr>\n",
       "<tr>\n",
       "  <th>Engine volume_0.2 Turbo</th>    <td>    0.2916</td> <td>    1.905</td> <td>    0.153</td> <td> 0.878</td> <td>   -3.444</td> <td>    4.028</td>\n",
       "</tr>\n",
       "<tr>\n",
       "  <th>Engine volume_0.3</th>          <td> 2.267e-13</td> <td> 1.91e-13</td> <td>    1.187</td> <td> 0.235</td> <td>-1.48e-13</td> <td> 6.01e-13</td>\n",
       "</tr>\n",
       "<tr>\n",
       "  <th>Engine volume_0.3 Turbo</th>    <td> 1.762e-14</td> <td> 1.83e-14</td> <td>    0.961</td> <td> 0.336</td> <td>-1.83e-14</td> <td> 5.35e-14</td>\n",
       "</tr>\n",
       "<tr>\n",
       "  <th>Engine volume_0.4</th>          <td>   -1.2622</td> <td>    1.507</td> <td>   -0.837</td> <td> 0.402</td> <td>   -4.218</td> <td>    1.693</td>\n",
       "</tr>\n",
       "<tr>\n",
       "  <th>Engine volume_0.4 Turbo</th>    <td>-1.488e-14</td> <td> 1.19e-14</td> <td>   -1.246</td> <td> 0.213</td> <td>-3.83e-14</td> <td> 8.52e-15</td>\n",
       "</tr>\n",
       "<tr>\n",
       "  <th>Engine volume_0.5</th>          <td>-3.951e-15</td> <td> 3.14e-15</td> <td>   -1.259</td> <td> 0.208</td> <td>-1.01e-14</td> <td>  2.2e-15</td>\n",
       "</tr>\n",
       "<tr>\n",
       "  <th>Engine volume_0.6</th>          <td> 3.732e-14</td> <td> 7.62e-14</td> <td>    0.490</td> <td> 0.624</td> <td>-1.12e-13</td> <td> 1.87e-13</td>\n",
       "</tr>\n",
       "<tr>\n",
       "  <th>Engine volume_0.6 Turbo</th>    <td>   -0.9569</td> <td>    1.932</td> <td>   -0.495</td> <td> 0.621</td> <td>   -4.746</td> <td>    2.832</td>\n",
       "</tr>\n",
       "<tr>\n",
       "  <th>Engine volume_0.7</th>          <td>    0.6860</td> <td>    1.705</td> <td>    0.402</td> <td> 0.687</td> <td>   -2.657</td> <td>    4.029</td>\n",
       "</tr>\n",
       "<tr>\n",
       "  <th>Engine volume_0.7 Turbo</th>    <td> 7.411e-14</td> <td>  5.7e-14</td> <td>    1.299</td> <td> 0.194</td> <td>-3.77e-14</td> <td> 1.86e-13</td>\n",
       "</tr>\n",
       "<tr>\n",
       "  <th>Engine volume_0.8</th>          <td>   -0.5354</td> <td>    1.697</td> <td>   -0.315</td> <td> 0.752</td> <td>   -3.862</td> <td>    2.792</td>\n",
       "</tr>\n",
       "<tr>\n",
       "  <th>Engine volume_0.8 Turbo</th>    <td>   -1.2933</td> <td>    2.022</td> <td>   -0.640</td> <td> 0.523</td> <td>   -5.258</td> <td>    2.671</td>\n",
       "</tr>\n",
       "<tr>\n",
       "  <th>Engine volume_0.9</th>          <td>    1.3922</td> <td>    1.953</td> <td>    0.713</td> <td> 0.476</td> <td>   -2.438</td> <td>    5.222</td>\n",
       "</tr>\n",
       "<tr>\n",
       "  <th>Engine volume_1</th>            <td>   -0.2647</td> <td>    1.386</td> <td>   -0.191</td> <td> 0.849</td> <td>   -2.982</td> <td>    2.452</td>\n",
       "</tr>\n",
       "<tr>\n",
       "  <th>Engine volume_1.0 Turbo</th>    <td>    0.1282</td> <td>    1.892</td> <td>    0.068</td> <td> 0.946</td> <td>   -3.582</td> <td>    3.838</td>\n",
       "</tr>\n",
       "<tr>\n",
       "  <th>Engine volume_1.1</th>          <td>    0.3074</td> <td>    1.903</td> <td>    0.162</td> <td> 0.872</td> <td>   -3.424</td> <td>    4.039</td>\n",
       "</tr>\n",
       "<tr>\n",
       "  <th>Engine volume_1.1 Turbo</th>    <td> -1.83e-14</td> <td> 1.62e-14</td> <td>   -1.131</td> <td> 0.258</td> <td>   -5e-14</td> <td> 1.34e-14</td>\n",
       "</tr>\n",
       "<tr>\n",
       "  <th>Engine volume_1.2</th>          <td>    0.0799</td> <td>    1.378</td> <td>    0.058</td> <td> 0.954</td> <td>   -2.622</td> <td>    2.782</td>\n",
       "</tr>\n",
       "<tr>\n",
       "  <th>Engine volume_1.2 Turbo</th>    <td> 1.152e-14</td> <td> 2.82e-14</td> <td>    0.409</td> <td> 0.683</td> <td>-4.38e-14</td> <td> 6.68e-14</td>\n",
       "</tr>\n",
       "<tr>\n",
       "  <th>Engine volume_1.3</th>          <td>   -0.4319</td> <td>    1.354</td> <td>   -0.319</td> <td> 0.750</td> <td>   -3.087</td> <td>    2.224</td>\n",
       "</tr>\n",
       "<tr>\n",
       "  <th>Engine volume_1.3 Turbo</th>    <td>    0.3953</td> <td>    1.508</td> <td>    0.262</td> <td> 0.793</td> <td>   -2.562</td> <td>    3.352</td>\n",
       "</tr>\n",
       "<tr>\n",
       "  <th>Engine volume_1.4</th>          <td>   -0.0215</td> <td>    1.354</td> <td>   -0.016</td> <td> 0.987</td> <td>   -2.676</td> <td>    2.633</td>\n",
       "</tr>\n",
       "<tr>\n",
       "  <th>Engine volume_1.4 Turbo</th>    <td>    0.6690</td> <td>    1.363</td> <td>    0.491</td> <td> 0.623</td> <td>   -2.003</td> <td>    3.340</td>\n",
       "</tr>\n",
       "<tr>\n",
       "  <th>Engine volume_1.5</th>          <td>   -0.0154</td> <td>    1.347</td> <td>   -0.011</td> <td> 0.991</td> <td>   -2.655</td> <td>    2.625</td>\n",
       "</tr>\n",
       "<tr>\n",
       "  <th>Engine volume_1.5 Turbo</th>    <td>    0.5949</td> <td>    1.412</td> <td>    0.421</td> <td> 0.673</td> <td>   -2.173</td> <td>    3.363</td>\n",
       "</tr>\n",
       "<tr>\n",
       "  <th>Engine volume_1.6</th>          <td>    0.2422</td> <td>    1.345</td> <td>    0.180</td> <td> 0.857</td> <td>   -2.394</td> <td>    2.878</td>\n",
       "</tr>\n",
       "<tr>\n",
       "  <th>Engine volume_1.6 Turbo</th>    <td>    0.8817</td> <td>    1.375</td> <td>    0.641</td> <td> 0.522</td> <td>   -1.815</td> <td>    3.578</td>\n",
       "</tr>\n",
       "<tr>\n",
       "  <th>Engine volume_1.7</th>          <td>    0.4610</td> <td>    1.360</td> <td>    0.339</td> <td> 0.735</td> <td>   -2.205</td> <td>    3.127</td>\n",
       "</tr>\n",
       "<tr>\n",
       "  <th>Engine volume_1.7 Turbo</th>    <td>    0.4807</td> <td>    1.410</td> <td>    0.341</td> <td> 0.733</td> <td>   -2.283</td> <td>    3.245</td>\n",
       "</tr>\n",
       "<tr>\n",
       "  <th>Engine volume_1.8</th>          <td>    0.1957</td> <td>    1.344</td> <td>    0.146</td> <td> 0.884</td> <td>   -2.439</td> <td>    2.830</td>\n",
       "</tr>\n",
       "<tr>\n",
       "  <th>Engine volume_1.8 Turbo</th>    <td>    0.5421</td> <td>    1.363</td> <td>    0.398</td> <td> 0.691</td> <td>   -2.131</td> <td>    3.215</td>\n",
       "</tr>\n",
       "<tr>\n",
       "  <th>Engine volume_1.9</th>          <td>   -0.3446</td> <td>    1.401</td> <td>   -0.246</td> <td> 0.806</td> <td>   -3.092</td> <td>    2.402</td>\n",
       "</tr>\n",
       "<tr>\n",
       "  <th>Engine volume_1.9 Turbo</th>    <td>    0.1901</td> <td>    1.420</td> <td>    0.134</td> <td> 0.894</td> <td>   -2.594</td> <td>    2.974</td>\n",
       "</tr>\n",
       "<tr>\n",
       "  <th>Engine volume_2</th>            <td>    0.2221</td> <td>    1.341</td> <td>    0.166</td> <td> 0.868</td> <td>   -2.407</td> <td>    2.852</td>\n",
       "</tr>\n",
       "<tr>\n",
       "  <th>Engine volume_2.0 Turbo</th>    <td>    1.1428</td> <td>    1.349</td> <td>    0.847</td> <td> 0.397</td> <td>   -1.501</td> <td>    3.787</td>\n",
       "</tr>\n",
       "<tr>\n",
       "  <th>Engine volume_2.1</th>          <td>    1.6076</td> <td>    1.648</td> <td>    0.975</td> <td> 0.329</td> <td>   -1.624</td> <td>    4.839</td>\n",
       "</tr>\n",
       "<tr>\n",
       "  <th>Engine volume_2.1 Turbo</th>    <td>    1.5253</td> <td>    1.886</td> <td>    0.809</td> <td> 0.419</td> <td>   -2.172</td> <td>    5.222</td>\n",
       "</tr>\n",
       "<tr>\n",
       "  <th>Engine volume_2.2</th>          <td>    0.5376</td> <td>    1.353</td> <td>    0.397</td> <td> 0.691</td> <td>   -2.115</td> <td>    3.191</td>\n",
       "</tr>\n",
       "<tr>\n",
       "  <th>Engine volume_2.2 Turbo</th>    <td>    0.5249</td> <td>    1.359</td> <td>    0.386</td> <td> 0.699</td> <td>   -2.139</td> <td>    3.189</td>\n",
       "</tr>\n",
       "<tr>\n",
       "  <th>Engine volume_2.3</th>          <td>    0.7215</td> <td>    1.373</td> <td>    0.526</td> <td> 0.599</td> <td>   -1.970</td> <td>    3.413</td>\n",
       "</tr>\n",
       "<tr>\n",
       "  <th>Engine volume_2.3 Turbo</th>    <td>    0.2272</td> <td>    1.544</td> <td>    0.147</td> <td> 0.883</td> <td>   -2.799</td> <td>    3.254</td>\n",
       "</tr>\n",
       "<tr>\n",
       "  <th>Engine volume_2.4</th>          <td>    0.0576</td> <td>    1.345</td> <td>    0.043</td> <td> 0.966</td> <td>   -2.580</td> <td>    2.695</td>\n",
       "</tr>\n",
       "<tr>\n",
       "  <th>Engine volume_2.4 Turbo</th>    <td>    0.5420</td> <td>    1.428</td> <td>    0.380</td> <td> 0.704</td> <td>   -2.258</td> <td>    3.342</td>\n",
       "</tr>\n",
       "<tr>\n",
       "  <th>Engine volume_2.5</th>          <td>    0.3702</td> <td>    1.343</td> <td>    0.276</td> <td> 0.783</td> <td>   -2.263</td> <td>    3.003</td>\n",
       "</tr>\n",
       "<tr>\n",
       "  <th>Engine volume_2.5 Turbo</th>    <td>    1.1467</td> <td>    1.376</td> <td>    0.834</td> <td> 0.405</td> <td>   -1.550</td> <td>    3.844</td>\n",
       "</tr>\n",
       "<tr>\n",
       "  <th>Engine volume_2.6</th>          <td>    0.3825</td> <td>    1.504</td> <td>    0.254</td> <td> 0.799</td> <td>   -2.566</td> <td>    3.331</td>\n",
       "</tr>\n",
       "<tr>\n",
       "  <th>Engine volume_2.7</th>          <td>    0.4105</td> <td>    1.367</td> <td>    0.300</td> <td> 0.764</td> <td>   -2.270</td> <td>    3.091</td>\n",
       "</tr>\n",
       "<tr>\n",
       "  <th>Engine volume_2.7 Turbo</th>    <td>    0.3891</td> <td>    1.418</td> <td>    0.274</td> <td> 0.784</td> <td>   -2.391</td> <td>    3.169</td>\n",
       "</tr>\n",
       "<tr>\n",
       "  <th>Engine volume_2.8</th>          <td>    0.9172</td> <td>    1.422</td> <td>    0.645</td> <td> 0.519</td> <td>   -1.871</td> <td>    3.705</td>\n",
       "</tr>\n",
       "<tr>\n",
       "  <th>Engine volume_2.8 Turbo</th>    <td>    1.2757</td> <td>    1.557</td> <td>    0.819</td> <td> 0.413</td> <td>   -1.777</td> <td>    4.329</td>\n",
       "</tr>\n",
       "<tr>\n",
       "  <th>Engine volume_2.9</th>          <td>   -0.0990</td> <td>    1.841</td> <td>   -0.054</td> <td> 0.957</td> <td>   -3.708</td> <td>    3.510</td>\n",
       "</tr>\n",
       "<tr>\n",
       "  <th>Engine volume_2.9 Turbo</th>    <td>    1.8815</td> <td>    1.686</td> <td>    1.116</td> <td> 0.265</td> <td>   -1.425</td> <td>    5.188</td>\n",
       "</tr>\n",
       "<tr>\n",
       "  <th>Engine volume_20</th>           <td> 6.746e-15</td> <td>  6.9e-15</td> <td>    0.978</td> <td> 0.328</td> <td>-6.78e-15</td> <td> 2.03e-14</td>\n",
       "</tr>\n",
       "<tr>\n",
       "  <th>Engine volume_3</th>            <td>    0.1991</td> <td>    1.351</td> <td>    0.147</td> <td> 0.883</td> <td>   -2.449</td> <td>    2.847</td>\n",
       "</tr>\n",
       "<tr>\n",
       "  <th>Engine volume_3.0 Turbo</th>    <td>    1.5854</td> <td>    1.361</td> <td>    1.165</td> <td> 0.244</td> <td>   -1.082</td> <td>    4.253</td>\n",
       "</tr>\n",
       "<tr>\n",
       "  <th>Engine volume_3.1</th>          <td>-2.734e-15</td> <td> 2.97e-15</td> <td>   -0.920</td> <td> 0.357</td> <td>-8.56e-15</td> <td> 3.09e-15</td>\n",
       "</tr>\n",
       "<tr>\n",
       "  <th>Engine volume_3.2</th>          <td>    1.1063</td> <td>    1.362</td> <td>    0.812</td> <td> 0.417</td> <td>   -1.565</td> <td>    3.778</td>\n",
       "</tr>\n",
       "<tr>\n",
       "  <th>Engine volume_3.2 Turbo</th>    <td>    0.6371</td> <td>    1.410</td> <td>    0.452</td> <td> 0.651</td> <td>   -2.127</td> <td>    3.402</td>\n",
       "</tr>\n",
       "<tr>\n",
       "  <th>Engine volume_3.3</th>          <td>    0.2713</td> <td>    1.366</td> <td>    0.199</td> <td> 0.843</td> <td>   -2.406</td> <td>    2.949</td>\n",
       "</tr>\n",
       "<tr>\n",
       "  <th>Engine volume_3.4</th>          <td>    3.5507</td> <td>    1.912</td> <td>    1.858</td> <td> 0.063</td> <td>   -0.197</td> <td>    7.298</td>\n",
       "</tr>\n",
       "<tr>\n",
       "  <th>Engine volume_3.5</th>          <td>    0.2840</td> <td>    1.347</td> <td>    0.211</td> <td> 0.833</td> <td>   -2.357</td> <td>    2.925</td>\n",
       "</tr>\n",
       "<tr>\n",
       "  <th>Engine volume_3.5 Turbo</th>    <td>    1.5874</td> <td>    1.410</td> <td>    1.126</td> <td> 0.260</td> <td>   -1.176</td> <td>    4.351</td>\n",
       "</tr>\n",
       "<tr>\n",
       "  <th>Engine volume_3.6</th>          <td>    0.4656</td> <td>    1.378</td> <td>    0.338</td> <td> 0.735</td> <td>   -2.235</td> <td>    3.166</td>\n",
       "</tr>\n",
       "<tr>\n",
       "  <th>Engine volume_3.6 Turbo</th>    <td>    0.1743</td> <td>    1.942</td> <td>    0.090</td> <td> 0.928</td> <td>   -3.633</td> <td>    3.982</td>\n",
       "</tr>\n",
       "<tr>\n",
       "  <th>Engine volume_3.7</th>          <td>    0.5982</td> <td>    1.411</td> <td>    0.424</td> <td> 0.672</td> <td>   -2.167</td> <td>    3.364</td>\n",
       "</tr>\n",
       "<tr>\n",
       "  <th>Engine volume_3.7 Turbo</th>    <td> 1.724e-14</td> <td> 1.74e-14</td> <td>    0.990</td> <td> 0.322</td> <td>-1.69e-14</td> <td> 5.14e-14</td>\n",
       "</tr>\n",
       "<tr>\n",
       "  <th>Engine volume_3.8</th>          <td>    0.4502</td> <td>    1.417</td> <td>    0.318</td> <td> 0.751</td> <td>   -2.329</td> <td>    3.229</td>\n",
       "</tr>\n",
       "<tr>\n",
       "  <th>Engine volume_3.9</th>          <td>   -1.9166</td> <td>    2.117</td> <td>   -0.905</td> <td> 0.365</td> <td>   -6.067</td> <td>    2.234</td>\n",
       "</tr>\n",
       "<tr>\n",
       "  <th>Engine volume_4</th>            <td>    0.7746</td> <td>    1.373</td> <td>    0.564</td> <td> 0.573</td> <td>   -1.918</td> <td>    3.468</td>\n",
       "</tr>\n",
       "<tr>\n",
       "  <th>Engine volume_4.0 Turbo</th>    <td> 1.247e-14</td> <td> 1.27e-14</td> <td>    0.981</td> <td> 0.327</td> <td>-1.24e-14</td> <td> 3.74e-14</td>\n",
       "</tr>\n",
       "<tr>\n",
       "  <th>Engine volume_4.2</th>          <td>    1.0925</td> <td>    1.495</td> <td>    0.731</td> <td> 0.465</td> <td>   -1.839</td> <td>    4.024</td>\n",
       "</tr>\n",
       "<tr>\n",
       "  <th>Engine volume_4.2 Turbo</th>    <td>    1.4477</td> <td>    1.905</td> <td>    0.760</td> <td> 0.447</td> <td>   -2.287</td> <td>    5.182</td>\n",
       "</tr>\n",
       "<tr>\n",
       "  <th>Engine volume_4.3</th>          <td>    1.6836</td> <td>    1.662</td> <td>    1.013</td> <td> 0.311</td> <td>   -1.574</td> <td>    4.941</td>\n",
       "</tr>\n",
       "<tr>\n",
       "  <th>Engine volume_4.4</th>          <td>   -0.1498</td> <td>    1.415</td> <td>   -0.106</td> <td> 0.916</td> <td>   -2.923</td> <td>    2.624</td>\n",
       "</tr>\n",
       "<tr>\n",
       "  <th>Engine volume_4.4 Turbo</th>    <td>    2.5038</td> <td>    1.470</td> <td>    1.703</td> <td> 0.089</td> <td>   -0.378</td> <td>    5.386</td>\n",
       "</tr>\n",
       "<tr>\n",
       "  <th>Engine volume_4.5</th>          <td>   -0.1215</td> <td>    1.582</td> <td>   -0.077</td> <td> 0.939</td> <td>   -3.223</td> <td>    2.980</td>\n",
       "</tr>\n",
       "<tr>\n",
       "  <th>Engine volume_4.5 Turbo</th>    <td>    2.1419</td> <td>    1.646</td> <td>    1.301</td> <td> 0.193</td> <td>   -1.086</td> <td>    5.370</td>\n",
       "</tr>\n",
       "<tr>\n",
       "  <th>Engine volume_4.6</th>          <td>    0.6127</td> <td>    1.375</td> <td>    0.446</td> <td> 0.656</td> <td>   -2.083</td> <td>    3.309</td>\n",
       "</tr>\n",
       "<tr>\n",
       "  <th>Engine volume_4.6 Turbo</th>    <td>    0.1520</td> <td>    1.809</td> <td>    0.084</td> <td> 0.933</td> <td>   -3.395</td> <td>    3.699</td>\n",
       "</tr>\n",
       "<tr>\n",
       "  <th>Engine volume_4.7</th>          <td>    0.6753</td> <td>    1.399</td> <td>    0.483</td> <td> 0.629</td> <td>   -2.068</td> <td>    3.419</td>\n",
       "</tr>\n",
       "<tr>\n",
       "  <th>Engine volume_4.7 Turbo</th>    <td>    2.4967</td> <td>    1.651</td> <td>    1.512</td> <td> 0.131</td> <td>   -0.741</td> <td>    5.734</td>\n",
       "</tr>\n",
       "<tr>\n",
       "  <th>Engine volume_4.8</th>          <td>    0.8928</td> <td>    1.442</td> <td>    0.619</td> <td> 0.536</td> <td>   -1.935</td> <td>    3.721</td>\n",
       "</tr>\n",
       "<tr>\n",
       "  <th>Engine volume_4.8 Turbo</th>    <td>-2.405e-14</td> <td> 2.36e-14</td> <td>   -1.019</td> <td> 0.308</td> <td>-7.03e-14</td> <td> 2.22e-14</td>\n",
       "</tr>\n",
       "<tr>\n",
       "  <th>Engine volume_5</th>            <td>    1.5444</td> <td>    1.403</td> <td>    1.101</td> <td> 0.271</td> <td>   -1.206</td> <td>    4.295</td>\n",
       "</tr>\n",
       "<tr>\n",
       "  <th>Engine volume_5.0 Turbo</th>    <td>-3.748e-15</td> <td> 2.83e-15</td> <td>   -1.323</td> <td> 0.186</td> <td> -9.3e-15</td> <td> 1.81e-15</td>\n",
       "</tr>\n",
       "<tr>\n",
       "  <th>Engine volume_5.2</th>          <td> -9.23e-15</td> <td> 9.34e-15</td> <td>   -0.988</td> <td> 0.323</td> <td>-2.75e-14</td> <td> 9.08e-15</td>\n",
       "</tr>\n",
       "<tr>\n",
       "  <th>Engine volume_5.3</th>          <td>    1.5147</td> <td>    1.690</td> <td>    0.897</td> <td> 0.370</td> <td>   -1.798</td> <td>    4.827</td>\n",
       "</tr>\n",
       "<tr>\n",
       "  <th>Engine volume_5.4</th>          <td>    3.3913</td> <td>    2.384</td> <td>    1.423</td> <td> 0.155</td> <td>   -1.282</td> <td>    8.065</td>\n",
       "</tr>\n",
       "<tr>\n",
       "  <th>Engine volume_5.4 Turbo</th>    <td>-1.414e-14</td> <td> 1.39e-14</td> <td>   -1.017</td> <td> 0.309</td> <td>-4.14e-14</td> <td> 1.31e-14</td>\n",
       "</tr>\n",
       "<tr>\n",
       "  <th>Engine volume_5.5</th>          <td>    0.3134</td> <td>    1.413</td> <td>    0.222</td> <td> 0.825</td> <td>   -2.458</td> <td>    3.085</td>\n",
       "</tr>\n",
       "<tr>\n",
       "  <th>Engine volume_5.5 Turbo</th>    <td> 2.043e-14</td> <td> 2.02e-14</td> <td>    1.011</td> <td> 0.312</td> <td>-1.92e-14</td> <td> 6.01e-14</td>\n",
       "</tr>\n",
       "<tr>\n",
       "  <th>Engine volume_5.6</th>          <td>    1.2358</td> <td>    1.759</td> <td>    0.702</td> <td> 0.482</td> <td>   -2.213</td> <td>    4.685</td>\n",
       "</tr>\n",
       "<tr>\n",
       "  <th>Engine volume_5.7</th>          <td>    1.1740</td> <td>    1.424</td> <td>    0.825</td> <td> 0.410</td> <td>   -1.617</td> <td>    3.965</td>\n",
       "</tr>\n",
       "<tr>\n",
       "  <th>Engine volume_5.7 Turbo</th>    <td> 7.083e-16</td> <td> 1.27e-15</td> <td>    0.559</td> <td> 0.576</td> <td>-1.77e-15</td> <td> 3.19e-15</td>\n",
       "</tr>\n",
       "<tr>\n",
       "  <th>Engine volume_5.8</th>          <td> 9.808e-16</td> <td> 4.46e-16</td> <td>    2.198</td> <td> 0.028</td> <td> 1.06e-16</td> <td> 1.86e-15</td>\n",
       "</tr>\n",
       "<tr>\n",
       "  <th>Engine volume_5.9</th>          <td>    3.3394</td> <td>    1.944</td> <td>    1.718</td> <td> 0.086</td> <td>   -0.473</td> <td>    7.151</td>\n",
       "</tr>\n",
       "<tr>\n",
       "  <th>Engine volume_6</th>            <td> 5.051e-16</td> <td> 4.29e-16</td> <td>    1.176</td> <td> 0.240</td> <td>-3.37e-16</td> <td> 1.35e-15</td>\n",
       "</tr>\n",
       "<tr>\n",
       "  <th>Engine volume_6.2</th>          <td>   -0.3011</td> <td>    1.491</td> <td>   -0.202</td> <td> 0.840</td> <td>   -3.224</td> <td>    2.622</td>\n",
       "</tr>\n",
       "<tr>\n",
       "  <th>Engine volume_6.3</th>          <td>    0.7820</td> <td>    2.299</td> <td>    0.340</td> <td> 0.734</td> <td>   -3.725</td> <td>    5.289</td>\n",
       "</tr>\n",
       "<tr>\n",
       "  <th>Engine volume_6.3 Turbo</th>    <td>   -1.6524</td> <td>    1.989</td> <td>   -0.831</td> <td> 0.406</td> <td>   -5.552</td> <td>    2.247</td>\n",
       "</tr>\n",
       "<tr>\n",
       "  <th>Engine volume_6.4</th>          <td>         0</td> <td>        0</td> <td>      nan</td> <td>   nan</td> <td>        0</td> <td>        0</td>\n",
       "</tr>\n",
       "<tr>\n",
       "  <th>Engine volume_6.7</th>          <td>   -0.7784</td> <td>    1.959</td> <td>   -0.397</td> <td> 0.691</td> <td>   -4.620</td> <td>    3.063</td>\n",
       "</tr>\n",
       "<tr>\n",
       "  <th>Engine volume_6.8</th>          <td>    3.0997</td> <td>    1.161</td> <td>    2.670</td> <td> 0.008</td> <td>    0.823</td> <td>    5.376</td>\n",
       "</tr>\n",
       "<tr>\n",
       "  <th>Engine volume_7.3</th>          <td>         0</td> <td>        0</td> <td>      nan</td> <td>   nan</td> <td>        0</td> <td>        0</td>\n",
       "</tr>\n",
       "<tr>\n",
       "  <th>Cylinders_2.0</th>              <td>   -0.0734</td> <td>    0.682</td> <td>   -0.108</td> <td> 0.914</td> <td>   -1.410</td> <td>    1.263</td>\n",
       "</tr>\n",
       "<tr>\n",
       "  <th>Cylinders_3.0</th>              <td>   -0.0454</td> <td>    0.682</td> <td>   -0.067</td> <td> 0.947</td> <td>   -1.382</td> <td>    1.291</td>\n",
       "</tr>\n",
       "<tr>\n",
       "  <th>Cylinders_4.0</th>              <td>   -0.1843</td> <td>    0.581</td> <td>   -0.317</td> <td> 0.751</td> <td>   -1.323</td> <td>    0.955</td>\n",
       "</tr>\n",
       "<tr>\n",
       "  <th>Cylinders_5.0</th>              <td>   -0.5351</td> <td>    0.643</td> <td>   -0.832</td> <td> 0.406</td> <td>   -1.797</td> <td>    0.727</td>\n",
       "</tr>\n",
       "<tr>\n",
       "  <th>Cylinders_6.0</th>              <td>   -0.3765</td> <td>    0.590</td> <td>   -0.639</td> <td> 0.523</td> <td>   -1.532</td> <td>    0.779</td>\n",
       "</tr>\n",
       "<tr>\n",
       "  <th>Cylinders_7.0</th>              <td>         0</td> <td>        0</td> <td>      nan</td> <td>   nan</td> <td>        0</td> <td>        0</td>\n",
       "</tr>\n",
       "<tr>\n",
       "  <th>Cylinders_8.0</th>              <td>   -0.0795</td> <td>    0.629</td> <td>   -0.126</td> <td> 0.899</td> <td>   -1.313</td> <td>    1.154</td>\n",
       "</tr>\n",
       "<tr>\n",
       "  <th>Cylinders_9.0</th>              <td>         0</td> <td>        0</td> <td>      nan</td> <td>   nan</td> <td>        0</td> <td>        0</td>\n",
       "</tr>\n",
       "<tr>\n",
       "  <th>Cylinders_10.0</th>             <td>    0.1347</td> <td>    1.135</td> <td>    0.119</td> <td> 0.906</td> <td>   -2.090</td> <td>    2.359</td>\n",
       "</tr>\n",
       "<tr>\n",
       "  <th>Cylinders_12.0</th>             <td>   -1.4586</td> <td>    0.778</td> <td>   -1.874</td> <td> 0.061</td> <td>   -2.984</td> <td>    0.067</td>\n",
       "</tr>\n",
       "<tr>\n",
       "  <th>Cylinders_14.0</th>             <td>    0.8061</td> <td>    1.461</td> <td>    0.552</td> <td> 0.581</td> <td>   -2.058</td> <td>    3.670</td>\n",
       "</tr>\n",
       "<tr>\n",
       "  <th>Cylinders_16.0</th>             <td>    0.5592</td> <td>    1.485</td> <td>    0.377</td> <td> 0.706</td> <td>   -2.351</td> <td>    3.470</td>\n",
       "</tr>\n",
       "<tr>\n",
       "  <th>Gear box type_Manual</th>       <td>    0.2162</td> <td>    0.123</td> <td>    1.757</td> <td> 0.079</td> <td>   -0.025</td> <td>    0.458</td>\n",
       "</tr>\n",
       "<tr>\n",
       "  <th>Gear box type_Tiptronic</th>    <td>    0.7749</td> <td>    0.077</td> <td>   10.110</td> <td> 0.000</td> <td>    0.625</td> <td>    0.925</td>\n",
       "</tr>\n",
       "<tr>\n",
       "  <th>Gear box type_Variator</th>     <td>    0.7234</td> <td>    0.124</td> <td>    5.850</td> <td> 0.000</td> <td>    0.481</td> <td>    0.966</td>\n",
       "</tr>\n",
       "<tr>\n",
       "  <th>Drive wheels_Front</th>         <td>    0.0730</td> <td>    0.100</td> <td>    0.728</td> <td> 0.466</td> <td>   -0.123</td> <td>    0.269</td>\n",
       "</tr>\n",
       "<tr>\n",
       "  <th>Drive wheels_Rear</th>          <td>   -0.0270</td> <td>    0.109</td> <td>   -0.247</td> <td> 0.805</td> <td>   -0.242</td> <td>    0.188</td>\n",
       "</tr>\n",
       "<tr>\n",
       "  <th>Doors_04-May</th>               <td>   -0.0639</td> <td>    0.158</td> <td>   -0.405</td> <td> 0.686</td> <td>   -0.374</td> <td>    0.246</td>\n",
       "</tr>\n",
       "<tr>\n",
       "  <th>Doors_>5</th>                   <td>   -0.3964</td> <td>    0.321</td> <td>   -1.235</td> <td> 0.217</td> <td>   -1.026</td> <td>    0.233</td>\n",
       "</tr>\n",
       "<tr>\n",
       "  <th>Wheel_Right-hand drive</th>     <td>   -0.3328</td> <td>    0.113</td> <td>   -2.956</td> <td> 0.003</td> <td>   -0.554</td> <td>   -0.112</td>\n",
       "</tr>\n",
       "<tr>\n",
       "  <th>Color_Black</th>                <td>   -0.3305</td> <td>    0.260</td> <td>   -1.269</td> <td> 0.204</td> <td>   -0.841</td> <td>    0.180</td>\n",
       "</tr>\n",
       "<tr>\n",
       "  <th>Color_Blue</th>                 <td>   -0.3255</td> <td>    0.271</td> <td>   -1.200</td> <td> 0.230</td> <td>   -0.857</td> <td>    0.206</td>\n",
       "</tr>\n",
       "<tr>\n",
       "  <th>Color_Brown</th>                <td>   -0.3775</td> <td>    0.345</td> <td>   -1.095</td> <td> 0.273</td> <td>   -1.053</td> <td>    0.298</td>\n",
       "</tr>\n",
       "<tr>\n",
       "  <th>Color_Carnelian red</th>        <td>   -0.0233</td> <td>    0.338</td> <td>   -0.069</td> <td> 0.945</td> <td>   -0.687</td> <td>    0.640</td>\n",
       "</tr>\n",
       "<tr>\n",
       "  <th>Color_Golden</th>               <td>    0.2971</td> <td>    0.354</td> <td>    0.838</td> <td> 0.402</td> <td>   -0.398</td> <td>    0.992</td>\n",
       "</tr>\n",
       "<tr>\n",
       "  <th>Color_Green</th>                <td>   -0.0986</td> <td>    0.315</td> <td>   -0.313</td> <td> 0.754</td> <td>   -0.717</td> <td>    0.519</td>\n",
       "</tr>\n",
       "<tr>\n",
       "  <th>Color_Grey</th>                 <td>   -0.3960</td> <td>    0.264</td> <td>   -1.499</td> <td> 0.134</td> <td>   -0.914</td> <td>    0.122</td>\n",
       "</tr>\n",
       "<tr>\n",
       "  <th>Color_Orange</th>               <td>   -0.7102</td> <td>    0.325</td> <td>   -2.182</td> <td> 0.029</td> <td>   -1.348</td> <td>   -0.072</td>\n",
       "</tr>\n",
       "<tr>\n",
       "  <th>Color_Pink</th>                 <td>    0.1924</td> <td>    0.704</td> <td>    0.273</td> <td> 0.785</td> <td>   -1.187</td> <td>    1.572</td>\n",
       "</tr>\n",
       "<tr>\n",
       "  <th>Color_Purple</th>               <td>   -1.3606</td> <td>    0.629</td> <td>   -2.162</td> <td> 0.031</td> <td>   -2.594</td> <td>   -0.127</td>\n",
       "</tr>\n",
       "<tr>\n",
       "  <th>Color_Red</th>                  <td>   -0.4469</td> <td>    0.286</td> <td>   -1.564</td> <td> 0.118</td> <td>   -1.007</td> <td>    0.113</td>\n",
       "</tr>\n",
       "<tr>\n",
       "  <th>Color_Silver</th>               <td>   -0.3140</td> <td>    0.261</td> <td>   -1.201</td> <td> 0.230</td> <td>   -0.826</td> <td>    0.199</td>\n",
       "</tr>\n",
       "<tr>\n",
       "  <th>Color_Sky blue</th>             <td>    0.2045</td> <td>    0.387</td> <td>    0.529</td> <td> 0.597</td> <td>   -0.554</td> <td>    0.963</td>\n",
       "</tr>\n",
       "<tr>\n",
       "  <th>Color_White</th>                <td>   -0.4524</td> <td>    0.261</td> <td>   -1.734</td> <td> 0.083</td> <td>   -0.964</td> <td>    0.059</td>\n",
       "</tr>\n",
       "<tr>\n",
       "  <th>Color_Yellow</th>               <td>   -0.4813</td> <td>    0.401</td> <td>   -1.200</td> <td> 0.230</td> <td>   -1.268</td> <td>    0.305</td>\n",
       "</tr>\n",
       "<tr>\n",
       "  <th>Airbags_1</th>                  <td>    1.1666</td> <td>    0.450</td> <td>    2.592</td> <td> 0.010</td> <td>    0.284</td> <td>    2.049</td>\n",
       "</tr>\n",
       "<tr>\n",
       "  <th>Airbags_2</th>                  <td>    0.9273</td> <td>    0.132</td> <td>    7.004</td> <td> 0.000</td> <td>    0.668</td> <td>    1.187</td>\n",
       "</tr>\n",
       "<tr>\n",
       "  <th>Airbags_3</th>                  <td>    0.5879</td> <td>    0.504</td> <td>    1.166</td> <td> 0.244</td> <td>   -0.401</td> <td>    1.576</td>\n",
       "</tr>\n",
       "<tr>\n",
       "  <th>Airbags_4</th>                  <td>    1.4433</td> <td>    0.098</td> <td>   14.739</td> <td> 0.000</td> <td>    1.251</td> <td>    1.635</td>\n",
       "</tr>\n",
       "<tr>\n",
       "  <th>Airbags_5</th>                  <td>    0.3204</td> <td>    0.345</td> <td>    0.929</td> <td> 0.353</td> <td>   -0.356</td> <td>    0.997</td>\n",
       "</tr>\n",
       "<tr>\n",
       "  <th>Airbags_6</th>                  <td>    1.1587</td> <td>    0.115</td> <td>   10.064</td> <td> 0.000</td> <td>    0.933</td> <td>    1.384</td>\n",
       "</tr>\n",
       "<tr>\n",
       "  <th>Airbags_7</th>                  <td>    1.2680</td> <td>    0.301</td> <td>    4.211</td> <td> 0.000</td> <td>    0.678</td> <td>    1.858</td>\n",
       "</tr>\n",
       "<tr>\n",
       "  <th>Airbags_8</th>                  <td>    0.9303</td> <td>    0.108</td> <td>    8.598</td> <td> 0.000</td> <td>    0.718</td> <td>    1.142</td>\n",
       "</tr>\n",
       "<tr>\n",
       "  <th>Airbags_9</th>                  <td>    1.1203</td> <td>    0.394</td> <td>    2.843</td> <td> 0.004</td> <td>    0.348</td> <td>    1.893</td>\n",
       "</tr>\n",
       "<tr>\n",
       "  <th>Airbags_10</th>                 <td>    0.9481</td> <td>    0.131</td> <td>    7.233</td> <td> 0.000</td> <td>    0.691</td> <td>    1.205</td>\n",
       "</tr>\n",
       "<tr>\n",
       "  <th>Airbags_11</th>                 <td>    0.3387</td> <td>    0.777</td> <td>    0.436</td> <td> 0.663</td> <td>   -1.185</td> <td>    1.863</td>\n",
       "</tr>\n",
       "<tr>\n",
       "  <th>Airbags_12</th>                 <td>   -0.2117</td> <td>    0.089</td> <td>   -2.387</td> <td> 0.017</td> <td>   -0.386</td> <td>   -0.038</td>\n",
       "</tr>\n",
       "<tr>\n",
       "  <th>Airbags_13</th>                 <td>         0</td> <td>        0</td> <td>      nan</td> <td>   nan</td> <td>        0</td> <td>        0</td>\n",
       "</tr>\n",
       "<tr>\n",
       "  <th>Airbags_14</th>                 <td>    0.7452</td> <td>    0.777</td> <td>    0.959</td> <td> 0.338</td> <td>   -0.779</td> <td>    2.269</td>\n",
       "</tr>\n",
       "<tr>\n",
       "  <th>Airbags_15</th>                 <td>    0.9163</td> <td>    1.779</td> <td>    0.515</td> <td> 0.606</td> <td>   -2.571</td> <td>    4.404</td>\n",
       "</tr>\n",
       "<tr>\n",
       "  <th>Airbags_16</th>                 <td>    0.5766</td> <td>    0.313</td> <td>    1.845</td> <td> 0.065</td> <td>   -0.036</td> <td>    1.189</td>\n",
       "</tr>\n",
       "</table>\n",
       "<table class=\"simpletable\">\n",
       "<tr>\n",
       "  <th>Omnibus:</th>       <td>1321.499</td> <th>  Durbin-Watson:     </th> <td>   1.977</td>\n",
       "</tr>\n",
       "<tr>\n",
       "  <th>Prob(Omnibus):</th>  <td> 0.000</td>  <th>  Jarque-Bera (JB):  </th> <td>5963.210</td>\n",
       "</tr>\n",
       "<tr>\n",
       "  <th>Skew:</th>           <td>-1.610</td>  <th>  Prob(JB):          </th> <td>    0.00</td>\n",
       "</tr>\n",
       "<tr>\n",
       "  <th>Kurtosis:</th>       <td> 8.180</td>  <th>  Cond. No.          </th> <td>1.32e+16</td>\n",
       "</tr>\n",
       "</table><br/><br/>Notes:<br/>[1] Standard Errors assume that the covariance matrix of the errors is correctly specified.<br/>[2] The smallest eigenvalue is 8.75e-29. This might indicate that there are<br/>strong multicollinearity problems or that the design matrix is singular."
      ],
      "text/plain": [
       "<class 'statsmodels.iolib.summary.Summary'>\n",
       "\"\"\"\n",
       "                            OLS Regression Results                            \n",
       "==============================================================================\n",
       "Dep. Variable:                 TARGET   R-squared:                       0.359\n",
       "Model:                            OLS   Adj. R-squared:                  0.318\n",
       "Method:                 Least Squares   F-statistic:                     8.584\n",
       "Date:                Wed, 20 Apr 2022   Prob (F-statistic):          8.37e-212\n",
       "Time:                        11:27:54   Log-Likelihood:                -6407.7\n",
       "No. Observations:                3847   AIC:                         1.329e+04\n",
       "Df Residuals:                    3610   BIC:                         1.477e+04\n",
       "Df Model:                         236                                         \n",
       "Covariance Type:            nonrobust                                         \n",
       "==============================================================================================\n",
       "                                 coef    std err          t      P>|t|      [0.025      0.975]\n",
       "----------------------------------------------------------------------------------------------\n",
       "Levy                           0.0383      0.022      1.742      0.082      -0.005       0.081\n",
       "Mileage                        0.0217      0.028      0.760      0.447      -0.034       0.078\n",
       "Manufacturer_ALFA ROMEO     6.374e-13   7.14e-13      0.892      0.372   -7.63e-13    2.04e-12\n",
       "Manufacturer_ASTON MARTIN  -8.045e-13   8.78e-13     -0.916      0.360   -2.53e-12    9.17e-13\n",
       "Manufacturer_AUDI              1.8818      1.353      1.391      0.164      -0.771       4.534\n",
       "Manufacturer_BENTLEY           3.0997      1.161      2.670      0.008       0.823       5.376\n",
       "Manufacturer_BMW               2.7799      1.341      2.072      0.038       0.150       5.410\n",
       "Manufacturer_BUICK             2.6725      1.636      1.634      0.102      -0.535       5.880\n",
       "Manufacturer_CADILLAC          3.7544      1.526      2.460      0.014       0.762       6.747\n",
       "Manufacturer_CHEVROLET         2.1767      1.336      1.630      0.103      -0.442       4.795\n",
       "Manufacturer_CHRYSLER          2.9612      1.457      2.033      0.042       0.105       5.817\n",
       "Manufacturer_CITROEN           2.6657      1.551      1.719      0.086      -0.375       5.706\n",
       "Manufacturer_DAEWOO            1.7455      1.382      1.263      0.207      -0.964       4.455\n",
       "Manufacturer_DAIHATSU          4.3715      1.568      2.788      0.005       1.297       7.446\n",
       "Manufacturer_DODGE             1.9834      1.368      1.449      0.147      -0.700       4.666\n",
       "Manufacturer_FERRARI           6.3825      2.071      3.082      0.002       2.323      10.443\n",
       "Manufacturer_FIAT              1.9663      1.378      1.427      0.154      -0.735       4.668\n",
       "Manufacturer_FORD              2.2667      1.337      1.695      0.090      -0.354       4.888\n",
       "Manufacturer_GAZ               2.4958      1.646      1.516      0.129      -0.731       5.723\n",
       "Manufacturer_GMC               2.4756      1.465      1.690      0.091      -0.397       5.348\n",
       "Manufacturer_GREATWALL     -3.491e-14   7.11e-14     -0.491      0.624   -1.74e-13    1.05e-13\n",
       "Manufacturer_HAVAL          4.098e-13   4.51e-13      0.908      0.364   -4.75e-13    1.29e-12\n",
       "Manufacturer_HONDA             2.1973      1.336      1.644      0.100      -0.422       4.817\n",
       "Manufacturer_HUMMER            4.2570      1.951      2.182      0.029       0.431       8.083\n",
       "Manufacturer_HYUNDAI           2.3812      1.331      1.788      0.074      -0.229       4.992\n",
       "Manufacturer_INFINITI          3.1999      1.447      2.211      0.027       0.363       6.037\n",
       "Manufacturer_ISUZU             2.4871      1.913      1.300      0.194      -1.263       6.237\n",
       "Manufacturer_JAGUAR            2.0930      1.380      1.517      0.129      -0.612       4.798\n",
       "Manufacturer_JEEP              2.8943      1.359      2.130      0.033       0.230       5.558\n",
       "Manufacturer_KIA               2.1138      1.337      1.581      0.114      -0.508       4.735\n",
       "Manufacturer_LAMBORGHINI   -2.565e-13   2.63e-13     -0.976      0.329   -7.72e-13    2.59e-13\n",
       "Manufacturer_LANCIA        -6.606e-14   5.58e-14     -1.185      0.236   -1.75e-13    4.33e-14\n",
       "Manufacturer_LAND ROVER        3.2694      1.404      2.329      0.020       0.518       6.021\n",
       "Manufacturer_LEXUS             2.5948      1.341      1.935      0.053      -0.034       5.223\n",
       "Manufacturer_LINCOLN           0.9539      1.777      0.537      0.591      -2.531       4.438\n",
       "Manufacturer_MASERATI          4.3721      1.900      2.301      0.021       0.646       8.098\n",
       "Manufacturer_MAZDA             2.2423      1.352      1.659      0.097      -0.408       4.892\n",
       "Manufacturer_MERCEDES-BENZ     2.5513      1.337      1.908      0.056      -0.070       5.172\n",
       "Manufacturer_MERCURY       -1.389e-13   1.64e-13     -0.848      0.396    -4.6e-13    1.82e-13\n",
       "Manufacturer_MINI              2.1506      1.401      1.535      0.125      -0.596       4.897\n",
       "Manufacturer_MITSUBISHI        2.3598      1.347      1.752      0.080      -0.281       5.000\n",
       "Manufacturer_MOSKVICH          2.0616      2.609      0.790      0.430      -3.054       7.177\n",
       "Manufacturer_NISSAN            2.1734      1.339      1.623      0.105      -0.452       4.799\n",
       "Manufacturer_OPEL              2.0560      1.344      1.530      0.126      -0.579       4.691\n",
       "Manufacturer_PEUGEOT           2.1026      1.886      1.115      0.265      -1.594       5.799\n",
       "Manufacturer_PONTIAC       -2.226e-14    2.9e-14     -0.768      0.442    -7.9e-14    3.45e-14\n",
       "Manufacturer_PORSCHE           2.3470      1.441      1.629      0.103      -0.477       5.171\n",
       "Manufacturer_RENAULT           1.9272      1.456      1.323      0.186      -0.928       4.782\n",
       "Manufacturer_ROLLS-ROYCE   -1.656e-13   1.49e-13     -1.111      0.266   -4.58e-13    1.27e-13\n",
       "Manufacturer_ROVER         -1.981e-14   3.75e-14     -0.528      0.598   -9.34e-14    5.37e-14\n",
       "Manufacturer_SAAB            8.22e-14   3.06e-14      2.687      0.007    2.22e-14    1.42e-13\n",
       "Manufacturer_SATURN           1.4e-13   8.24e-14      1.700      0.089   -2.15e-14    3.01e-13\n",
       "Manufacturer_SCION          3.075e-13   3.23e-13      0.951      0.342   -3.27e-13    9.42e-13\n",
       "Manufacturer_SEAT           1.618e-14   1.93e-14      0.838      0.402   -2.17e-14     5.4e-14\n",
       "Manufacturer_SKODA             2.0034      1.648      1.216      0.224      -1.227       5.233\n",
       "Manufacturer_SSANGYONG         2.6028      1.342      1.940      0.052      -0.027       5.233\n",
       "Manufacturer_SUBARU            2.0861      1.348      1.548      0.122      -0.556       4.728\n",
       "Manufacturer_SUZUKI            2.7767      1.392      1.994      0.046       0.047       5.506\n",
       "Manufacturer_TESLA         -1.772e-13   1.24e-13     -1.434      0.152   -4.19e-13     6.5e-14\n",
       "Manufacturer_TOYOTA            2.4316      1.333      1.824      0.068      -0.183       5.046\n",
       "Manufacturer_UAZ               2.8729      1.784      1.610      0.107      -0.625       6.370\n",
       "Manufacturer_VAZ               2.7393      1.460      1.877      0.061      -0.122       5.601\n",
       "Manufacturer_VOLKSWAGEN        2.3486      1.341      1.751      0.080      -0.281       4.978\n",
       "Manufacturer_VOLVO             2.2192      1.408      1.576      0.115      -0.541       4.979\n",
       "Manufacturer_ZAZ           -1.588e-13   1.29e-13     -1.228      0.219   -4.12e-13    9.47e-14\n",
       "Manufacturer_სხვა              2.9862      2.098      1.424      0.155      -1.126       7.099\n",
       "Prod. year_1943             1.268e-13   7.36e-14      1.722      0.085   -1.76e-14    2.71e-13\n",
       "Prod. year_1947             7.713e-14   1.12e-13      0.691      0.490   -1.42e-13    2.96e-13\n",
       "Prod. year_1953             -1.25e-14   3.58e-14     -0.350      0.727   -8.26e-14    5.76e-14\n",
       "Prod. year_1957             2.674e-13   2.45e-13      1.093      0.274   -2.12e-13    7.47e-13\n",
       "Prod. year_1964            -1.598e-14   8.15e-15     -1.962      0.050    -3.2e-14   -1.35e-17\n",
       "Prod. year_1965                8.2497      2.513      3.283      0.001       3.323      13.176\n",
       "Prod. year_1968            -7.681e-14   7.02e-14     -1.095      0.274   -2.14e-13    6.08e-14\n",
       "Prod. year_1973                7.8998      2.836      2.785      0.005       2.339      13.461\n",
       "Prod. year_1974            -8.794e-14   8.36e-14     -1.052      0.293   -2.52e-13     7.6e-14\n",
       "Prod. year_1976             3.734e-15      1e-14      0.373      0.709   -1.59e-14    2.34e-14\n",
       "Prod. year_1977                8.4980      2.974      2.857      0.004       2.667      14.329\n",
       "Prod. year_1978                5.4821      3.356      1.633      0.102      -1.098      12.062\n",
       "Prod. year_1980                5.0233      2.884      1.742      0.082      -0.631      10.677\n",
       "Prod. year_1981            -1.433e-13      1e-13     -1.434      0.152   -3.39e-13    5.26e-14\n",
       "Prod. year_1982             2.512e-13   2.47e-13      1.015      0.310   -2.34e-13    7.36e-13\n",
       "Prod. year_1983                4.9582      2.356      2.104      0.035       0.339       9.577\n",
       "Prod. year_1984              4.28e-14   2.76e-14      1.551      0.121   -1.13e-14    9.69e-14\n",
       "Prod. year_1985                5.8739      2.740      2.143      0.032       0.501      11.247\n",
       "Prod. year_1986                5.8976      2.491      2.368      0.018       1.014      10.781\n",
       "Prod. year_1987                5.4530      2.401      2.271      0.023       0.745      10.161\n",
       "Prod. year_1988            -1.539e-13   1.38e-13     -1.112      0.266   -4.25e-13    1.17e-13\n",
       "Prod. year_1989            -1.585e-13    9.8e-14     -1.617      0.106   -3.51e-13    3.36e-14\n",
       "Prod. year_1990                5.7810      2.227      2.596      0.009       1.415      10.147\n",
       "Prod. year_1991                5.0386      2.521      1.998      0.046       0.095       9.982\n",
       "Prod. year_1992                6.3256      2.190      2.889      0.004       2.032      10.619\n",
       "Prod. year_1993                6.1405      2.149      2.858      0.004       1.928      10.353\n",
       "Prod. year_1994                5.7473      2.142      2.683      0.007       1.547       9.948\n",
       "Prod. year_1995                5.8416      2.116      2.761      0.006       1.693       9.990\n",
       "Prod. year_1996                5.7034      2.102      2.713      0.007       1.582       9.825\n",
       "Prod. year_1997                5.7063      2.104      2.712      0.007       1.581       9.831\n",
       "Prod. year_1998                5.5519      2.098      2.646      0.008       1.438       9.666\n",
       "Prod. year_1999                5.9508      2.105      2.827      0.005       1.824      10.077\n",
       "Prod. year_2000                5.7689      2.103      2.743      0.006       1.646       9.892\n",
       "Prod. year_2001                5.9118      2.101      2.814      0.005       1.793      10.031\n",
       "Prod. year_2002                5.8883      2.099      2.805      0.005       1.773      10.003\n",
       "Prod. year_2003                5.9511      2.096      2.840      0.005       1.842      10.060\n",
       "Prod. year_2004                6.2257      2.097      2.969      0.003       2.114      10.337\n",
       "Prod. year_2005                6.1532      2.095      2.937      0.003       2.045      10.261\n",
       "Prod. year_2006                6.3142      2.097      3.011      0.003       2.202      10.426\n",
       "Prod. year_2007                6.2411      2.095      2.979      0.003       2.134      10.348\n",
       "Prod. year_2008                6.3604      2.096      3.035      0.002       2.252      10.469\n",
       "Prod. year_2009                6.6267      2.098      3.159      0.002       2.514      10.739\n",
       "Prod. year_2010                6.7318      2.091      3.219      0.001       2.632      10.831\n",
       "Prod. year_2011                6.6519      2.094      3.177      0.002       2.547      10.757\n",
       "Prod. year_2012                6.9098      2.093      3.302      0.001       2.806      11.013\n",
       "Prod. year_2013                6.7734      2.091      3.239      0.001       2.673      10.874\n",
       "Prod. year_2014                7.0627      2.094      3.373      0.001       2.958      11.168\n",
       "Prod. year_2015                7.1322      2.094      3.406      0.001       3.026      11.238\n",
       "Prod. year_2016                7.3859      2.094      3.527      0.000       3.280      11.492\n",
       "Prod. year_2017                7.1900      2.096      3.430      0.001       3.080      11.300\n",
       "Prod. year_2018                7.6930      2.097      3.668      0.000       3.581      11.805\n",
       "Prod. year_2019                7.2213      2.103      3.434      0.001       3.099      11.344\n",
       "Prod. year_2020                7.9139      2.126      3.722      0.000       3.745      12.083\n",
       "Category_Coupe                -0.0510      0.602     -0.085      0.932      -1.231       1.129\n",
       "Category_Goods wagon          -0.1948      0.641     -0.304      0.761      -1.451       1.062\n",
       "Category_Hatchback            -0.2689      0.605     -0.444      0.657      -1.455       0.917\n",
       "Category_Jeep                 -0.1115      0.605     -0.184      0.854      -1.298       1.075\n",
       "Category_Limousine            -0.4994      1.436     -0.348      0.728      -3.314       2.316\n",
       "Category_Microbus              0.0686      0.648      0.106      0.916      -1.201       1.338\n",
       "Category_Minivan              -0.0301      0.615     -0.049      0.961      -1.237       1.177\n",
       "Category_Pickup               -0.0393      0.721     -0.054      0.957      -1.453       1.374\n",
       "Category_Sedan                -0.2571      0.602     -0.427      0.669      -1.438       0.923\n",
       "Category_Universal             0.0669      0.623      0.107      0.915      -1.155       1.289\n",
       "Leather interior_Yes          -0.2726      0.069     -3.938      0.000      -0.408      -0.137\n",
       "Fuel type_Diesel              -0.0852      0.178     -0.478      0.632      -0.435       0.264\n",
       "Fuel type_Hybrid              -0.4571      0.185     -2.471      0.014      -0.820      -0.094\n",
       "Fuel type_Hydrogen          -6.83e-14   6.75e-14     -1.012      0.311   -2.01e-13     6.4e-14\n",
       "Fuel type_LPG                 -0.5020      0.198     -2.534      0.011      -0.890      -0.114\n",
       "Fuel type_Petrol              -0.2666      0.165     -1.620      0.105      -0.589       0.056\n",
       "Fuel type_Plug-in Hybrid       0.5515      0.334      1.651      0.099      -0.103       1.206\n",
       "Engine volume_0.1             -0.4889      1.679     -0.291      0.771      -3.782       2.804\n",
       "Engine volume_0.2              0.3152      1.891      0.167      0.868      -3.393       4.023\n",
       "Engine volume_0.2 Turbo        0.2916      1.905      0.153      0.878      -3.444       4.028\n",
       "Engine volume_0.3           2.267e-13   1.91e-13      1.187      0.235   -1.48e-13    6.01e-13\n",
       "Engine volume_0.3 Turbo     1.762e-14   1.83e-14      0.961      0.336   -1.83e-14    5.35e-14\n",
       "Engine volume_0.4             -1.2622      1.507     -0.837      0.402      -4.218       1.693\n",
       "Engine volume_0.4 Turbo    -1.488e-14   1.19e-14     -1.246      0.213   -3.83e-14    8.52e-15\n",
       "Engine volume_0.5          -3.951e-15   3.14e-15     -1.259      0.208   -1.01e-14     2.2e-15\n",
       "Engine volume_0.6           3.732e-14   7.62e-14      0.490      0.624   -1.12e-13    1.87e-13\n",
       "Engine volume_0.6 Turbo       -0.9569      1.932     -0.495      0.621      -4.746       2.832\n",
       "Engine volume_0.7              0.6860      1.705      0.402      0.687      -2.657       4.029\n",
       "Engine volume_0.7 Turbo     7.411e-14    5.7e-14      1.299      0.194   -3.77e-14    1.86e-13\n",
       "Engine volume_0.8             -0.5354      1.697     -0.315      0.752      -3.862       2.792\n",
       "Engine volume_0.8 Turbo       -1.2933      2.022     -0.640      0.523      -5.258       2.671\n",
       "Engine volume_0.9              1.3922      1.953      0.713      0.476      -2.438       5.222\n",
       "Engine volume_1               -0.2647      1.386     -0.191      0.849      -2.982       2.452\n",
       "Engine volume_1.0 Turbo        0.1282      1.892      0.068      0.946      -3.582       3.838\n",
       "Engine volume_1.1              0.3074      1.903      0.162      0.872      -3.424       4.039\n",
       "Engine volume_1.1 Turbo     -1.83e-14   1.62e-14     -1.131      0.258      -5e-14    1.34e-14\n",
       "Engine volume_1.2              0.0799      1.378      0.058      0.954      -2.622       2.782\n",
       "Engine volume_1.2 Turbo     1.152e-14   2.82e-14      0.409      0.683   -4.38e-14    6.68e-14\n",
       "Engine volume_1.3             -0.4319      1.354     -0.319      0.750      -3.087       2.224\n",
       "Engine volume_1.3 Turbo        0.3953      1.508      0.262      0.793      -2.562       3.352\n",
       "Engine volume_1.4             -0.0215      1.354     -0.016      0.987      -2.676       2.633\n",
       "Engine volume_1.4 Turbo        0.6690      1.363      0.491      0.623      -2.003       3.340\n",
       "Engine volume_1.5             -0.0154      1.347     -0.011      0.991      -2.655       2.625\n",
       "Engine volume_1.5 Turbo        0.5949      1.412      0.421      0.673      -2.173       3.363\n",
       "Engine volume_1.6              0.2422      1.345      0.180      0.857      -2.394       2.878\n",
       "Engine volume_1.6 Turbo        0.8817      1.375      0.641      0.522      -1.815       3.578\n",
       "Engine volume_1.7              0.4610      1.360      0.339      0.735      -2.205       3.127\n",
       "Engine volume_1.7 Turbo        0.4807      1.410      0.341      0.733      -2.283       3.245\n",
       "Engine volume_1.8              0.1957      1.344      0.146      0.884      -2.439       2.830\n",
       "Engine volume_1.8 Turbo        0.5421      1.363      0.398      0.691      -2.131       3.215\n",
       "Engine volume_1.9             -0.3446      1.401     -0.246      0.806      -3.092       2.402\n",
       "Engine volume_1.9 Turbo        0.1901      1.420      0.134      0.894      -2.594       2.974\n",
       "Engine volume_2                0.2221      1.341      0.166      0.868      -2.407       2.852\n",
       "Engine volume_2.0 Turbo        1.1428      1.349      0.847      0.397      -1.501       3.787\n",
       "Engine volume_2.1              1.6076      1.648      0.975      0.329      -1.624       4.839\n",
       "Engine volume_2.1 Turbo        1.5253      1.886      0.809      0.419      -2.172       5.222\n",
       "Engine volume_2.2              0.5376      1.353      0.397      0.691      -2.115       3.191\n",
       "Engine volume_2.2 Turbo        0.5249      1.359      0.386      0.699      -2.139       3.189\n",
       "Engine volume_2.3              0.7215      1.373      0.526      0.599      -1.970       3.413\n",
       "Engine volume_2.3 Turbo        0.2272      1.544      0.147      0.883      -2.799       3.254\n",
       "Engine volume_2.4              0.0576      1.345      0.043      0.966      -2.580       2.695\n",
       "Engine volume_2.4 Turbo        0.5420      1.428      0.380      0.704      -2.258       3.342\n",
       "Engine volume_2.5              0.3702      1.343      0.276      0.783      -2.263       3.003\n",
       "Engine volume_2.5 Turbo        1.1467      1.376      0.834      0.405      -1.550       3.844\n",
       "Engine volume_2.6              0.3825      1.504      0.254      0.799      -2.566       3.331\n",
       "Engine volume_2.7              0.4105      1.367      0.300      0.764      -2.270       3.091\n",
       "Engine volume_2.7 Turbo        0.3891      1.418      0.274      0.784      -2.391       3.169\n",
       "Engine volume_2.8              0.9172      1.422      0.645      0.519      -1.871       3.705\n",
       "Engine volume_2.8 Turbo        1.2757      1.557      0.819      0.413      -1.777       4.329\n",
       "Engine volume_2.9             -0.0990      1.841     -0.054      0.957      -3.708       3.510\n",
       "Engine volume_2.9 Turbo        1.8815      1.686      1.116      0.265      -1.425       5.188\n",
       "Engine volume_20            6.746e-15    6.9e-15      0.978      0.328   -6.78e-15    2.03e-14\n",
       "Engine volume_3                0.1991      1.351      0.147      0.883      -2.449       2.847\n",
       "Engine volume_3.0 Turbo        1.5854      1.361      1.165      0.244      -1.082       4.253\n",
       "Engine volume_3.1          -2.734e-15   2.97e-15     -0.920      0.357   -8.56e-15    3.09e-15\n",
       "Engine volume_3.2              1.1063      1.362      0.812      0.417      -1.565       3.778\n",
       "Engine volume_3.2 Turbo        0.6371      1.410      0.452      0.651      -2.127       3.402\n",
       "Engine volume_3.3              0.2713      1.366      0.199      0.843      -2.406       2.949\n",
       "Engine volume_3.4              3.5507      1.912      1.858      0.063      -0.197       7.298\n",
       "Engine volume_3.5              0.2840      1.347      0.211      0.833      -2.357       2.925\n",
       "Engine volume_3.5 Turbo        1.5874      1.410      1.126      0.260      -1.176       4.351\n",
       "Engine volume_3.6              0.4656      1.378      0.338      0.735      -2.235       3.166\n",
       "Engine volume_3.6 Turbo        0.1743      1.942      0.090      0.928      -3.633       3.982\n",
       "Engine volume_3.7              0.5982      1.411      0.424      0.672      -2.167       3.364\n",
       "Engine volume_3.7 Turbo     1.724e-14   1.74e-14      0.990      0.322   -1.69e-14    5.14e-14\n",
       "Engine volume_3.8              0.4502      1.417      0.318      0.751      -2.329       3.229\n",
       "Engine volume_3.9             -1.9166      2.117     -0.905      0.365      -6.067       2.234\n",
       "Engine volume_4                0.7746      1.373      0.564      0.573      -1.918       3.468\n",
       "Engine volume_4.0 Turbo     1.247e-14   1.27e-14      0.981      0.327   -1.24e-14    3.74e-14\n",
       "Engine volume_4.2              1.0925      1.495      0.731      0.465      -1.839       4.024\n",
       "Engine volume_4.2 Turbo        1.4477      1.905      0.760      0.447      -2.287       5.182\n",
       "Engine volume_4.3              1.6836      1.662      1.013      0.311      -1.574       4.941\n",
       "Engine volume_4.4             -0.1498      1.415     -0.106      0.916      -2.923       2.624\n",
       "Engine volume_4.4 Turbo        2.5038      1.470      1.703      0.089      -0.378       5.386\n",
       "Engine volume_4.5             -0.1215      1.582     -0.077      0.939      -3.223       2.980\n",
       "Engine volume_4.5 Turbo        2.1419      1.646      1.301      0.193      -1.086       5.370\n",
       "Engine volume_4.6              0.6127      1.375      0.446      0.656      -2.083       3.309\n",
       "Engine volume_4.6 Turbo        0.1520      1.809      0.084      0.933      -3.395       3.699\n",
       "Engine volume_4.7              0.6753      1.399      0.483      0.629      -2.068       3.419\n",
       "Engine volume_4.7 Turbo        2.4967      1.651      1.512      0.131      -0.741       5.734\n",
       "Engine volume_4.8              0.8928      1.442      0.619      0.536      -1.935       3.721\n",
       "Engine volume_4.8 Turbo    -2.405e-14   2.36e-14     -1.019      0.308   -7.03e-14    2.22e-14\n",
       "Engine volume_5                1.5444      1.403      1.101      0.271      -1.206       4.295\n",
       "Engine volume_5.0 Turbo    -3.748e-15   2.83e-15     -1.323      0.186    -9.3e-15    1.81e-15\n",
       "Engine volume_5.2           -9.23e-15   9.34e-15     -0.988      0.323   -2.75e-14    9.08e-15\n",
       "Engine volume_5.3              1.5147      1.690      0.897      0.370      -1.798       4.827\n",
       "Engine volume_5.4              3.3913      2.384      1.423      0.155      -1.282       8.065\n",
       "Engine volume_5.4 Turbo    -1.414e-14   1.39e-14     -1.017      0.309   -4.14e-14    1.31e-14\n",
       "Engine volume_5.5              0.3134      1.413      0.222      0.825      -2.458       3.085\n",
       "Engine volume_5.5 Turbo     2.043e-14   2.02e-14      1.011      0.312   -1.92e-14    6.01e-14\n",
       "Engine volume_5.6              1.2358      1.759      0.702      0.482      -2.213       4.685\n",
       "Engine volume_5.7              1.1740      1.424      0.825      0.410      -1.617       3.965\n",
       "Engine volume_5.7 Turbo     7.083e-16   1.27e-15      0.559      0.576   -1.77e-15    3.19e-15\n",
       "Engine volume_5.8           9.808e-16   4.46e-16      2.198      0.028    1.06e-16    1.86e-15\n",
       "Engine volume_5.9              3.3394      1.944      1.718      0.086      -0.473       7.151\n",
       "Engine volume_6             5.051e-16   4.29e-16      1.176      0.240   -3.37e-16    1.35e-15\n",
       "Engine volume_6.2             -0.3011      1.491     -0.202      0.840      -3.224       2.622\n",
       "Engine volume_6.3              0.7820      2.299      0.340      0.734      -3.725       5.289\n",
       "Engine volume_6.3 Turbo       -1.6524      1.989     -0.831      0.406      -5.552       2.247\n",
       "Engine volume_6.4                   0          0        nan        nan           0           0\n",
       "Engine volume_6.7             -0.7784      1.959     -0.397      0.691      -4.620       3.063\n",
       "Engine volume_6.8              3.0997      1.161      2.670      0.008       0.823       5.376\n",
       "Engine volume_7.3                   0          0        nan        nan           0           0\n",
       "Cylinders_2.0                 -0.0734      0.682     -0.108      0.914      -1.410       1.263\n",
       "Cylinders_3.0                 -0.0454      0.682     -0.067      0.947      -1.382       1.291\n",
       "Cylinders_4.0                 -0.1843      0.581     -0.317      0.751      -1.323       0.955\n",
       "Cylinders_5.0                 -0.5351      0.643     -0.832      0.406      -1.797       0.727\n",
       "Cylinders_6.0                 -0.3765      0.590     -0.639      0.523      -1.532       0.779\n",
       "Cylinders_7.0                       0          0        nan        nan           0           0\n",
       "Cylinders_8.0                 -0.0795      0.629     -0.126      0.899      -1.313       1.154\n",
       "Cylinders_9.0                       0          0        nan        nan           0           0\n",
       "Cylinders_10.0                 0.1347      1.135      0.119      0.906      -2.090       2.359\n",
       "Cylinders_12.0                -1.4586      0.778     -1.874      0.061      -2.984       0.067\n",
       "Cylinders_14.0                 0.8061      1.461      0.552      0.581      -2.058       3.670\n",
       "Cylinders_16.0                 0.5592      1.485      0.377      0.706      -2.351       3.470\n",
       "Gear box type_Manual           0.2162      0.123      1.757      0.079      -0.025       0.458\n",
       "Gear box type_Tiptronic        0.7749      0.077     10.110      0.000       0.625       0.925\n",
       "Gear box type_Variator         0.7234      0.124      5.850      0.000       0.481       0.966\n",
       "Drive wheels_Front             0.0730      0.100      0.728      0.466      -0.123       0.269\n",
       "Drive wheels_Rear             -0.0270      0.109     -0.247      0.805      -0.242       0.188\n",
       "Doors_04-May                  -0.0639      0.158     -0.405      0.686      -0.374       0.246\n",
       "Doors_>5                      -0.3964      0.321     -1.235      0.217      -1.026       0.233\n",
       "Wheel_Right-hand drive        -0.3328      0.113     -2.956      0.003      -0.554      -0.112\n",
       "Color_Black                   -0.3305      0.260     -1.269      0.204      -0.841       0.180\n",
       "Color_Blue                    -0.3255      0.271     -1.200      0.230      -0.857       0.206\n",
       "Color_Brown                   -0.3775      0.345     -1.095      0.273      -1.053       0.298\n",
       "Color_Carnelian red           -0.0233      0.338     -0.069      0.945      -0.687       0.640\n",
       "Color_Golden                   0.2971      0.354      0.838      0.402      -0.398       0.992\n",
       "Color_Green                   -0.0986      0.315     -0.313      0.754      -0.717       0.519\n",
       "Color_Grey                    -0.3960      0.264     -1.499      0.134      -0.914       0.122\n",
       "Color_Orange                  -0.7102      0.325     -2.182      0.029      -1.348      -0.072\n",
       "Color_Pink                     0.1924      0.704      0.273      0.785      -1.187       1.572\n",
       "Color_Purple                  -1.3606      0.629     -2.162      0.031      -2.594      -0.127\n",
       "Color_Red                     -0.4469      0.286     -1.564      0.118      -1.007       0.113\n",
       "Color_Silver                  -0.3140      0.261     -1.201      0.230      -0.826       0.199\n",
       "Color_Sky blue                 0.2045      0.387      0.529      0.597      -0.554       0.963\n",
       "Color_White                   -0.4524      0.261     -1.734      0.083      -0.964       0.059\n",
       "Color_Yellow                  -0.4813      0.401     -1.200      0.230      -1.268       0.305\n",
       "Airbags_1                      1.1666      0.450      2.592      0.010       0.284       2.049\n",
       "Airbags_2                      0.9273      0.132      7.004      0.000       0.668       1.187\n",
       "Airbags_3                      0.5879      0.504      1.166      0.244      -0.401       1.576\n",
       "Airbags_4                      1.4433      0.098     14.739      0.000       1.251       1.635\n",
       "Airbags_5                      0.3204      0.345      0.929      0.353      -0.356       0.997\n",
       "Airbags_6                      1.1587      0.115     10.064      0.000       0.933       1.384\n",
       "Airbags_7                      1.2680      0.301      4.211      0.000       0.678       1.858\n",
       "Airbags_8                      0.9303      0.108      8.598      0.000       0.718       1.142\n",
       "Airbags_9                      1.1203      0.394      2.843      0.004       0.348       1.893\n",
       "Airbags_10                     0.9481      0.131      7.233      0.000       0.691       1.205\n",
       "Airbags_11                     0.3387      0.777      0.436      0.663      -1.185       1.863\n",
       "Airbags_12                    -0.2117      0.089     -2.387      0.017      -0.386      -0.038\n",
       "Airbags_13                          0          0        nan        nan           0           0\n",
       "Airbags_14                     0.7452      0.777      0.959      0.338      -0.779       2.269\n",
       "Airbags_15                     0.9163      1.779      0.515      0.606      -2.571       4.404\n",
       "Airbags_16                     0.5766      0.313      1.845      0.065      -0.036       1.189\n",
       "==============================================================================\n",
       "Omnibus:                     1321.499   Durbin-Watson:                   1.977\n",
       "Prob(Omnibus):                  0.000   Jarque-Bera (JB):             5963.210\n",
       "Skew:                          -1.610   Prob(JB):                         0.00\n",
       "Kurtosis:                       8.180   Cond. No.                     1.32e+16\n",
       "==============================================================================\n",
       "\n",
       "Notes:\n",
       "[1] Standard Errors assume that the covariance matrix of the errors is correctly specified.\n",
       "[2] The smallest eigenvalue is 8.75e-29. This might indicate that there are\n",
       "strong multicollinearity problems or that the design matrix is singular.\n",
       "\"\"\""
      ]
     },
     "execution_count": 41,
     "metadata": {},
     "output_type": "execute_result"
    }
   ],
   "source": [
    "reg_model = LinearRegression()\n",
    "reg_model.fit(X_train, y_train)\n",
    "\n",
    "X_train_wc = sm.add_constant(X_train)\n",
    "X_test_wc = sm.add_constant(X_test)\n",
    "\n",
    "sm.OLS(y_test, X_test).fit().summary()"
   ]
  },
  {
   "cell_type": "markdown",
   "metadata": {},
   "source": [
    "Regularization\n"
   ]
  },
  {
   "cell_type": "markdown",
   "metadata": {},
   "source": [
    "We need to find the optimal alphas for each method. The following code does that, and the lines after show the optimal alphas."
   ]
  },
  {
   "cell_type": "code",
   "execution_count": 42,
   "metadata": {},
   "outputs": [],
   "source": [
    "from sklearn.linear_model import LinearRegression, Ridge,RidgeCV, Lasso, LassoCV, ElasticNet, ElasticNetCV\n",
    "\n",
    "alpha_ridge = 10**np.linspace(-4,2,100)\n",
    "ridgecv = RidgeCV(alphas=alpha_ridge)\n",
    "ridgecv.fit(X_train, y_train)\n",
    "alpha_ridge_opt = ridgecv.alpha_\n",
    "\n",
    "# Optimal Lasso\n",
    "alpha_lasso = 10**np.linspace(-4,2,100)\n",
    "lassocv = LassoCV()\n",
    "lassocv.fit(X_train, y_train)\n",
    "alpha_lasso_opt = lassocv.alpha_\n",
    "\n",
    "# Optimal Elastic Net\n",
    "alpha_elasticnet = 10**np.linspace(-4,2,100)\n",
    "elasticnetcv = ElasticNetCV()\n",
    "elasticnetcv.fit(X_train, y_train)\n",
    "alpha_elasticnet_opt = elasticnetcv.alpha_"
   ]
  },
  {
   "cell_type": "code",
   "execution_count": 43,
   "metadata": {},
   "outputs": [
    {
     "data": {
      "text/plain": [
       "0.000398415146445258"
      ]
     },
     "execution_count": 43,
     "metadata": {},
     "output_type": "execute_result"
    }
   ],
   "source": [
    "alpha_elasticnet_opt"
   ]
  },
  {
   "cell_type": "code",
   "execution_count": 44,
   "metadata": {},
   "outputs": [
    {
     "data": {
      "text/plain": [
       "0.00024559240711968474"
      ]
     },
     "execution_count": 44,
     "metadata": {},
     "output_type": "execute_result"
    }
   ],
   "source": [
    "alpha_lasso_opt"
   ]
  },
  {
   "cell_type": "code",
   "execution_count": 45,
   "metadata": {},
   "outputs": [
    {
     "data": {
      "text/plain": [
       "4.641588833612782"
      ]
     },
     "execution_count": 45,
     "metadata": {},
     "output_type": "execute_result"
    }
   ],
   "source": [
    "alpha_ridge_opt"
   ]
  },
  {
   "cell_type": "code",
   "execution_count": 46,
   "metadata": {},
   "outputs": [
    {
     "data": {
      "text/html": [
       "<div>\n",
       "<style scoped>\n",
       "    .dataframe tbody tr th:only-of-type {\n",
       "        vertical-align: middle;\n",
       "    }\n",
       "\n",
       "    .dataframe tbody tr th {\n",
       "        vertical-align: top;\n",
       "    }\n",
       "\n",
       "    .dataframe thead th {\n",
       "        text-align: right;\n",
       "    }\n",
       "</style>\n",
       "<table border=\"1\" class=\"dataframe\">\n",
       "  <thead>\n",
       "    <tr style=\"text-align: right;\">\n",
       "      <th></th>\n",
       "      <th>y_test</th>\n",
       "      <th>y_hat_linear</th>\n",
       "      <th>y_hat_ridge</th>\n",
       "      <th>y_hat_lasso</th>\n",
       "      <th>y_hat_net</th>\n",
       "    </tr>\n",
       "  </thead>\n",
       "  <tbody>\n",
       "    <tr>\n",
       "      <th>13503</th>\n",
       "      <td>10.353320</td>\n",
       "      <td>9.217558</td>\n",
       "      <td>9.221502</td>\n",
       "      <td>9.240411</td>\n",
       "      <td>9.223915</td>\n",
       "    </tr>\n",
       "    <tr>\n",
       "      <th>2023</th>\n",
       "      <td>5.971262</td>\n",
       "      <td>8.783156</td>\n",
       "      <td>8.779762</td>\n",
       "      <td>8.782196</td>\n",
       "      <td>8.780604</td>\n",
       "    </tr>\n",
       "    <tr>\n",
       "      <th>13868</th>\n",
       "      <td>9.808572</td>\n",
       "      <td>8.066455</td>\n",
       "      <td>8.071916</td>\n",
       "      <td>8.073047</td>\n",
       "      <td>8.076126</td>\n",
       "    </tr>\n",
       "    <tr>\n",
       "      <th>3835</th>\n",
       "      <td>9.907031</td>\n",
       "      <td>10.024185</td>\n",
       "      <td>10.018267</td>\n",
       "      <td>10.015178</td>\n",
       "      <td>10.014769</td>\n",
       "    </tr>\n",
       "    <tr>\n",
       "      <th>4182</th>\n",
       "      <td>9.660205</td>\n",
       "      <td>9.227454</td>\n",
       "      <td>9.099610</td>\n",
       "      <td>9.100600</td>\n",
       "      <td>9.054780</td>\n",
       "    </tr>\n",
       "  </tbody>\n",
       "</table>\n",
       "</div>"
      ],
      "text/plain": [
       "          y_test  y_hat_linear  y_hat_ridge  y_hat_lasso  y_hat_net\n",
       "13503  10.353320      9.217558     9.221502     9.240411   9.223915\n",
       "2023    5.971262      8.783156     8.779762     8.782196   8.780604\n",
       "13868   9.808572      8.066455     8.071916     8.073047   8.076126\n",
       "3835    9.907031     10.024185    10.018267    10.015178  10.014769\n",
       "4182    9.660205      9.227454     9.099610     9.100600   9.054780"
      ]
     },
     "execution_count": 46,
     "metadata": {},
     "output_type": "execute_result"
    }
   ],
   "source": [
    "model_linear = LinearRegression()\n",
    "model_ridge = Ridge(alpha = alpha_ridge_opt)\n",
    "model_lasso = Lasso(alpha = alpha_lasso_opt)\n",
    "model_net = ElasticNet(alpha = alpha_elasticnet_opt)\n",
    "\n",
    "y_hat_linear= model_linear.fit(X_train, y_train).predict(X_test)\n",
    "y_hat_ridge = model_ridge.fit(X_train, y_train).predict(X_test)\n",
    "y_hat_lasso = model_lasso.fit(X_train, y_train).predict(X_test)\n",
    "y_hat_net   = model_net.fit(X_train, y_train).predict(X_test)\n",
    "\n",
    "df_predictions_optimal = pd.DataFrame({'y_test':y_test,\n",
    "                               'y_hat_linear':y_hat_linear,\n",
    "                               'y_hat_ridge':y_hat_ridge,\n",
    "                               'y_hat_lasso':y_hat_lasso,\n",
    "                               'y_hat_net':y_hat_net})\n",
    "df_predictions_optimal.head()"
   ]
  },
  {
   "cell_type": "markdown",
   "metadata": {},
   "source": [
    "RIDGE RMSE:"
   ]
  },
  {
   "cell_type": "code",
   "execution_count": 47,
   "metadata": {},
   "outputs": [
    {
     "data": {
      "text/plain": [
       "1.32861"
      ]
     },
     "execution_count": 47,
     "metadata": {},
     "output_type": "execute_result"
    }
   ],
   "source": [
    "MSE_test = np.mean(np.square(df_predictions_optimal['y_test'] - df_predictions_optimal['y_hat_ridge']))\n",
    "RMSE_test = np.sqrt(MSE_test)\n",
    "np.round(RMSE_test,5)"
   ]
  },
  {
   "cell_type": "markdown",
   "metadata": {},
   "source": [
    "LASSO RMSE:"
   ]
  },
  {
   "cell_type": "code",
   "execution_count": 48,
   "metadata": {},
   "outputs": [
    {
     "data": {
      "text/plain": [
       "1.33"
      ]
     },
     "execution_count": 48,
     "metadata": {},
     "output_type": "execute_result"
    }
   ],
   "source": [
    "MSE_test = np.mean(np.square(df_predictions_optimal['y_test'] - df_predictions_optimal['y_hat_lasso']))\n",
    "RMSE_test = np.sqrt(MSE_test)\n",
    "np.round(RMSE_test,3)"
   ]
  },
  {
   "cell_type": "markdown",
   "metadata": {},
   "source": [
    "ELASTIC NET RMSE:"
   ]
  },
  {
   "cell_type": "code",
   "execution_count": 49,
   "metadata": {},
   "outputs": [
    {
     "data": {
      "text/plain": [
       "1.329"
      ]
     },
     "execution_count": 49,
     "metadata": {},
     "output_type": "execute_result"
    }
   ],
   "source": [
    "MSE_test = np.mean(np.square(df_predictions_optimal['y_test'] - df_predictions_optimal['y_hat_net']))\n",
    "RMSE_test = np.sqrt(MSE_test)\n",
    "np.round(RMSE_test,3)"
   ]
  },
  {
   "cell_type": "code",
   "execution_count": 50,
   "metadata": {},
   "outputs": [
    {
     "data": {
      "text/plain": [
       "0.3090630258050132"
      ]
     },
     "execution_count": 50,
     "metadata": {},
     "output_type": "execute_result"
    }
   ],
   "source": [
    "model_net.score(X_test, y_test)"
   ]
  },
  {
   "cell_type": "code",
   "execution_count": 51,
   "metadata": {},
   "outputs": [
    {
     "data": {
      "text/plain": [
       "0.3077212711337661"
      ]
     },
     "execution_count": 51,
     "metadata": {},
     "output_type": "execute_result"
    }
   ],
   "source": [
    "model_lasso.score(X_test, y_test)"
   ]
  },
  {
   "cell_type": "code",
   "execution_count": 52,
   "metadata": {},
   "outputs": [
    {
     "data": {
      "text/plain": [
       "0.30963987716394614"
      ]
     },
     "execution_count": 52,
     "metadata": {},
     "output_type": "execute_result"
    }
   ],
   "source": [
    "model_ridge.score(X_test, y_test)"
   ]
  },
  {
   "cell_type": "markdown",
   "metadata": {},
   "source": [
    "All of these models had better RMSE's but worse R-squareds. They didn't take very long to run though which is nice."
   ]
  },
  {
   "cell_type": "markdown",
   "metadata": {},
   "source": [
    "KNN"
   ]
  },
  {
   "cell_type": "code",
   "execution_count": 53,
   "metadata": {},
   "outputs": [
    {
     "data": {
      "text/plain": [
       "KNeighborsRegressor()"
      ]
     },
     "execution_count": 53,
     "metadata": {},
     "output_type": "execute_result"
    }
   ],
   "source": [
    "from sklearn.neighbors import KNeighborsRegressor\n",
    "from sklearn.model_selection import cross_val_score\n",
    "\n",
    "KNN_regression = KNeighborsRegressor()\n",
    "KNN_regression.fit(X_train, y_train)\n"
   ]
  },
  {
   "cell_type": "markdown",
   "metadata": {},
   "source": [
    "R-Squared KNN not optimized"
   ]
  },
  {
   "cell_type": "code",
   "execution_count": 54,
   "metadata": {},
   "outputs": [
    {
     "data": {
      "text/plain": [
       "0.3444006777216527"
      ]
     },
     "execution_count": 54,
     "metadata": {},
     "output_type": "execute_result"
    }
   ],
   "source": [
    "KNN_regression.score(X_test, y_test)"
   ]
  },
  {
   "cell_type": "markdown",
   "metadata": {},
   "source": [
    "Cross Validated KNN RMSE with no optimization"
   ]
  },
  {
   "cell_type": "code",
   "execution_count": 55,
   "metadata": {},
   "outputs": [
    {
     "data": {
      "text/plain": [
       "1.2674"
      ]
     },
     "execution_count": 55,
     "metadata": {},
     "output_type": "execute_result"
    }
   ],
   "source": [
    "\n",
    "NMSE = cross_val_score(estimator = KNN_regression, X = X_train, y = y_train, cv = 5 , scoring=\"neg_mean_squared_error\" )\n",
    "MSE_CV = round(np.mean(-NMSE),4)\n",
    "RMSE_CV = round(np.sqrt(MSE_CV), 4)\n",
    "RMSE_CV"
   ]
  },
  {
   "cell_type": "code",
   "execution_count": 56,
   "metadata": {},
   "outputs": [
    {
     "data": {
      "image/png": "[encoded data removed]",
      "text/plain": [
       "<Figure size 720x360 with 1 Axes>"
      ]
     },
     "metadata": {},
     "output_type": "display_data"
    }
   ],
   "source": [
    "RMSE_CV=[]\n",
    "RMSE_test = []\n",
    "\n",
    "k=40\n",
    "\n",
    "for i in range(1,k):\n",
    "    KNN_i = KNeighborsRegressor(n_neighbors=i)\n",
    "    KNN_i.fit(X_train, y_train)\n",
    "    RMSE_i = np.sqrt(np.mean(-1*cross_val_score(estimator = KNN_i, X = X_train, y = y_train, cv = 5 , scoring=\"neg_mean_squared_error\" )))\n",
    "    RMSE_CV.append(RMSE_i)\n",
    "    \n",
    "    RMSE_test.append(np.sqrt(np.mean(np.square(y_test - KNN_i.predict(X_test)))))\n",
    "    \n",
    "optimal_k = pd.DataFrame({'RMSE_CV': np.round(RMSE_CV,2), 'RMSE_test':np.round(RMSE_test,2), 'K':range(1,k)})\n",
    "\n",
    "plt.figure(figsize=(10,5))\n",
    "sns.lineplot(data=optimal_k.drop('K', axis=1))\n",
    "plt.title('Cross Validated RMSE VS K')\n",
    "plt.xlabel('K')\n",
    "plt.ylabel('RMSE')\n",
    "plt.show()"
   ]
  },
  {
   "cell_type": "markdown",
   "metadata": {},
   "source": [
    "As can be seen, the optimal cross validated number of neighbors is 7."
   ]
  },
  {
   "cell_type": "markdown",
   "metadata": {},
   "source": [
    "Optimal K:"
   ]
  },
  {
   "cell_type": "code",
   "execution_count": null,
   "metadata": {},
   "outputs": [
    {
     "data": {
      "text/plain": [
       "7"
      ]
     },
     "execution_count": 57,
     "metadata": {},
     "output_type": "execute_result"
    }
   ],
   "source": [
    "optimal_k.loc[np.argmin(optimal_k['RMSE_CV']), 'K']"
   ]
  },
  {
   "cell_type": "markdown",
   "metadata": {},
   "source": [
    "R-Squared for Optimum KNN"
   ]
  },
  {
   "cell_type": "code",
   "execution_count": null,
   "metadata": {},
   "outputs": [
    {
     "data": {
      "text/plain": [
       "0.3539943090380362"
      ]
     },
     "execution_count": 58,
     "metadata": {},
     "output_type": "execute_result"
    }
   ],
   "source": [
    "KNN_regression = KNeighborsRegressor(n_neighbors=7)\n",
    "KNN_regression.fit(X_train, y_train)\n",
    "\n",
    "KNN_regression.score(X_test, y_test)"
   ]
  },
  {
   "cell_type": "markdown",
   "metadata": {},
   "source": [
    "RMSE for optimal KNN"
   ]
  },
  {
   "cell_type": "code",
   "execution_count": null,
   "metadata": {},
   "outputs": [
    {
     "data": {
      "text/plain": [
       "1.2549"
      ]
     },
     "execution_count": 59,
     "metadata": {},
     "output_type": "execute_result"
    }
   ],
   "source": [
    "NMSE = cross_val_score(estimator = KNN_regression, X = X_train, y = y_train, cv = 5 , scoring=\"neg_mean_squared_error\" )\n",
    "MSE_CV = round(np.mean(-NMSE),4)\n",
    "RMSE_CV = round(np.sqrt(MSE_CV), 4)\n",
    "RMSE_CV"
   ]
  },
  {
   "cell_type": "markdown",
   "metadata": {},
   "source": [
    "KNN performs about the same as the linear regression model. It took longer to run too."
   ]
  },
  {
   "cell_type": "markdown",
   "metadata": {},
   "source": [
    "SVM\n"
   ]
  },
  {
   "cell_type": "code",
   "execution_count": null,
   "metadata": {},
   "outputs": [],
   "source": [
    "from sklearn.svm import SVR\n",
    "\n",
    "SVM_regression = SVR()\n",
    "SVM_regression.fit(X_train, y_train)\n",
    "y_hat = SVM_regression.predict(X_test)"
   ]
  },
  {
   "cell_type": "markdown",
   "metadata": {},
   "source": [
    "5 fold CV RMSE for unoptimized SVM"
   ]
  },
  {
   "cell_type": "code",
   "execution_count": null,
   "metadata": {},
   "outputs": [
    {
     "data": {
      "text/plain": [
       "1.1846"
      ]
     },
     "execution_count": 50,
     "metadata": {},
     "output_type": "execute_result"
    }
   ],
   "source": [
    "NMSE = cross_val_score(estimator = SVR(), X = X_train, y = y_train, cv = 5 , scoring=\"neg_mean_squared_error\" )\n",
    "MSE_CV = round(np.mean(-NMSE),4)\n",
    "RMSE_CV = round(np.sqrt(MSE_CV),4)\n",
    "RMSE_CV"
   ]
  },
  {
   "cell_type": "markdown",
   "metadata": {},
   "source": [
    "R-Squared for unoptimized SVM"
   ]
  },
  {
   "cell_type": "code",
   "execution_count": null,
   "metadata": {},
   "outputs": [
    {
     "data": {
      "text/plain": [
       "0.4017806806319101"
      ]
     },
     "execution_count": 51,
     "metadata": {},
     "output_type": "execute_result"
    }
   ],
   "source": [
    "SVM_regression.score(X_test, y_test)"
   ]
  },
  {
   "cell_type": "code",
   "execution_count": null,
   "metadata": {},
   "outputs": [
    {
     "name": "stdout",
     "output_type": "stream",
     "text": [
      "Fitting 5 folds for each of 9 candidates, totalling 45 fits\n",
      "[CV] END ...........................C=1, gamma=1, kernel=rbf; total time= 1.4min\n",
      "[CV] END ...........................C=1, gamma=1, kernel=rbf; total time= 1.5min\n",
      "[CV] END ...........................C=1, gamma=1, kernel=rbf; total time= 2.4min\n",
      "[CV] END ...........................C=1, gamma=1, kernel=rbf; total time= 1.8min\n",
      "[CV] END ...........................C=1, gamma=1, kernel=rbf; total time= 1.6min\n",
      "[CV] END .........................C=1, gamma=0.1, kernel=rbf; total time=  35.3s\n",
      "[CV] END .........................C=1, gamma=0.1, kernel=rbf; total time=  35.5s\n",
      "[CV] END .........................C=1, gamma=0.1, kernel=rbf; total time=  35.4s\n",
      "[CV] END .........................C=1, gamma=0.1, kernel=rbf; total time=  35.6s\n",
      "[CV] END .........................C=1, gamma=0.1, kernel=rbf; total time=  35.6s\n",
      "[CV] END ........................C=1, gamma=0.01, kernel=rbf; total time=  35.6s\n",
      "[CV] END ........................C=1, gamma=0.01, kernel=rbf; total time=  37.2s\n",
      "[CV] END ........................C=1, gamma=0.01, kernel=rbf; total time=  38.8s\n",
      "[CV] END ........................C=1, gamma=0.01, kernel=rbf; total time=  40.7s\n",
      "[CV] END ........................C=1, gamma=0.01, kernel=rbf; total time=  41.1s\n",
      "[CV] END ..........................C=10, gamma=1, kernel=rbf; total time= 2.6min\n",
      "[CV] END ..........................C=10, gamma=1, kernel=rbf; total time= 2.6min\n",
      "[CV] END ..........................C=10, gamma=1, kernel=rbf; total time= 2.7min\n",
      "[CV] END ..........................C=10, gamma=1, kernel=rbf; total time= 3.1min\n",
      "[CV] END ..........................C=10, gamma=1, kernel=rbf; total time= 2.6min\n",
      "[CV] END ........................C=10, gamma=0.1, kernel=rbf; total time= 2.5min\n",
      "[CV] END ........................C=10, gamma=0.1, kernel=rbf; total time= 2.4min\n",
      "[CV] END ........................C=10, gamma=0.1, kernel=rbf; total time= 2.8min\n",
      "[CV] END ........................C=10, gamma=0.1, kernel=rbf; total time= 2.4min\n",
      "[CV] END ........................C=10, gamma=0.1, kernel=rbf; total time= 2.8min\n",
      "[CV] END .......................C=10, gamma=0.01, kernel=rbf; total time=  45.0s\n",
      "[CV] END .......................C=10, gamma=0.01, kernel=rbf; total time=  38.3s\n",
      "[CV] END .......................C=10, gamma=0.01, kernel=rbf; total time=  37.4s\n",
      "[CV] END .......................C=10, gamma=0.01, kernel=rbf; total time=  38.5s\n",
      "[CV] END .......................C=10, gamma=0.01, kernel=rbf; total time=  37.5s\n",
      "[CV] END .........................C=100, gamma=1, kernel=rbf; total time= 3.5min\n",
      "[CV] END .........................C=100, gamma=1, kernel=rbf; total time= 3.0min\n",
      "[CV] END .........................C=100, gamma=1, kernel=rbf; total time= 3.7min\n",
      "[CV] END .........................C=100, gamma=1, kernel=rbf; total time= 3.3min\n",
      "[CV] END .........................C=100, gamma=1, kernel=rbf; total time= 3.3min\n",
      "[CV] END .......................C=100, gamma=0.1, kernel=rbf; total time= 8.1min\n",
      "[CV] END .......................C=100, gamma=0.1, kernel=rbf; total time= 7.5min\n",
      "[CV] END .......................C=100, gamma=0.1, kernel=rbf; total time= 7.9min\n",
      "[CV] END .......................C=100, gamma=0.1, kernel=rbf; total time= 7.0min\n",
      "[CV] END .......................C=100, gamma=0.1, kernel=rbf; total time= 8.7min\n",
      "[CV] END ......................C=100, gamma=0.01, kernel=rbf; total time= 2.0min\n",
      "[CV] END ......................C=100, gamma=0.01, kernel=rbf; total time= 2.1min\n",
      "[CV] END ......................C=100, gamma=0.01, kernel=rbf; total time= 2.0min\n",
      "[CV] END ......................C=100, gamma=0.01, kernel=rbf; total time= 2.0min\n",
      "[CV] END ......................C=100, gamma=0.01, kernel=rbf; total time= 2.0min\n"
     ]
    },
    {
     "data": {
      "text/plain": [
       "GridSearchCV(cv=5, estimator=SVR(),\n",
       "             param_grid={'C': [1, 10, 100], 'gamma': [1, 0.1, 0.01],\n",
       "                         'kernel': ['rbf']},\n",
       "             verbose=2)"
      ]
     },
     "execution_count": 52,
     "metadata": {},
     "output_type": "execute_result"
    }
   ],
   "source": [
    "from sklearn.model_selection import GridSearchCV\n",
    "\n",
    "my_param_grid = {'C': [1,10,100], 'gamma': [1,0.1,0.01], 'kernel': ['rbf']} \n",
    "\n",
    "GridSearchCV(estimator=SVR(),param_grid= my_param_grid, refit = True, verbose=3, cv=5 )\n",
    "\n",
    "grid = GridSearchCV(estimator=SVR(),param_grid= my_param_grid, refit = True, verbose=2, cv=5 , scoring=None)\n",
    "\n",
    "grid.fit(X_train,y_train)"
   ]
  },
  {
   "cell_type": "markdown",
   "metadata": {},
   "source": [
    "This took 2 hours, basically on the dot"
   ]
  },
  {
   "cell_type": "markdown",
   "metadata": {},
   "source": [
    "Optimized SVM hyperparameters"
   ]
  },
  {
   "cell_type": "code",
   "execution_count": null,
   "metadata": {},
   "outputs": [
    {
     "data": {
      "text/plain": [
       "SVR(C=10, gamma=0.1)"
      ]
     },
     "execution_count": 53,
     "metadata": {},
     "output_type": "execute_result"
    }
   ],
   "source": [
    "grid.best_estimator_"
   ]
  },
  {
   "cell_type": "markdown",
   "metadata": {},
   "source": [
    "R-Squared for optimized SVM"
   ]
  },
  {
   "cell_type": "code",
   "execution_count": null,
   "metadata": {},
   "outputs": [
    {
     "data": {
      "text/plain": [
       "0.46458737398188543"
      ]
     },
     "execution_count": 54,
     "metadata": {},
     "output_type": "execute_result"
    }
   ],
   "source": [
    "grid.score(X_test, y_test)"
   ]
  },
  {
   "cell_type": "markdown",
   "metadata": {},
   "source": [
    "RMSE for optimized SVM"
   ]
  },
  {
   "cell_type": "code",
   "execution_count": null,
   "metadata": {},
   "outputs": [
    {
     "data": {
      "text/plain": [
       "1.1186"
      ]
     },
     "execution_count": 55,
     "metadata": {},
     "output_type": "execute_result"
    }
   ],
   "source": [
    "NMSE = cross_val_score(estimator = SVR(C=10, gamma = 0.1), X = X_train, y = y_train, cv = 5 , scoring=\"neg_mean_squared_error\" )\n",
    "MSE_CV = round(np.mean(-NMSE),4)\n",
    "RMSE_CV = round(np.sqrt(MSE_CV),4)\n",
    "RMSE_CV"
   ]
  },
  {
   "cell_type": "markdown",
   "metadata": {},
   "source": [
    "This RMSE took 14 minutes"
   ]
  },
  {
   "cell_type": "markdown",
   "metadata": {},
   "source": [
    "SVM performs better than the linear regression model. The r-squared jumped quite significantly."
   ]
  },
  {
   "cell_type": "markdown",
   "metadata": {},
   "source": [
    "### Decision Trees"
   ]
  },
  {
   "cell_type": "code",
   "execution_count": 34,
   "metadata": {},
   "outputs": [
    {
     "data": {
      "text/html": [
       "<div>\n",
       "<style scoped>\n",
       "    .dataframe tbody tr th:only-of-type {\n",
       "        vertical-align: middle;\n",
       "    }\n",
       "\n",
       "    .dataframe tbody tr th {\n",
       "        vertical-align: top;\n",
       "    }\n",
       "\n",
       "    .dataframe thead th {\n",
       "        text-align: right;\n",
       "    }\n",
       "</style>\n",
       "<table border=\"1\" class=\"dataframe\">\n",
       "  <thead>\n",
       "    <tr style=\"text-align: right;\">\n",
       "      <th></th>\n",
       "      <th>Levy</th>\n",
       "      <th>Manufacturer</th>\n",
       "      <th>Prod. year</th>\n",
       "      <th>Category</th>\n",
       "      <th>Leather interior</th>\n",
       "      <th>Fuel type</th>\n",
       "      <th>Engine volume</th>\n",
       "      <th>Mileage</th>\n",
       "      <th>Cylinders</th>\n",
       "      <th>Gear box type</th>\n",
       "      <th>Drive wheels</th>\n",
       "      <th>Doors</th>\n",
       "      <th>Wheel</th>\n",
       "      <th>Color</th>\n",
       "      <th>Airbags</th>\n",
       "      <th>TARGET</th>\n",
       "    </tr>\n",
       "  </thead>\n",
       "  <tbody>\n",
       "    <tr>\n",
       "      <th>0</th>\n",
       "      <td>1.350339</td>\n",
       "      <td>LEXUS</td>\n",
       "      <td>2010</td>\n",
       "      <td>Jeep</td>\n",
       "      <td>Yes</td>\n",
       "      <td>Hybrid</td>\n",
       "      <td>3.5</td>\n",
       "      <td>-0.027816</td>\n",
       "      <td>6.0</td>\n",
       "      <td>Automatic</td>\n",
       "      <td>4x4</td>\n",
       "      <td>04-May</td>\n",
       "      <td>Left wheel</td>\n",
       "      <td>Silver</td>\n",
       "      <td>12</td>\n",
       "      <td>9.497622</td>\n",
       "    </tr>\n",
       "    <tr>\n",
       "      <th>1</th>\n",
       "      <td>0.679116</td>\n",
       "      <td>CHEVROLET</td>\n",
       "      <td>2011</td>\n",
       "      <td>Jeep</td>\n",
       "      <td>No</td>\n",
       "      <td>Petrol</td>\n",
       "      <td>3</td>\n",
       "      <td>-0.027692</td>\n",
       "      <td>6.0</td>\n",
       "      <td>Tiptronic</td>\n",
       "      <td>4x4</td>\n",
       "      <td>04-May</td>\n",
       "      <td>Left wheel</td>\n",
       "      <td>Black</td>\n",
       "      <td>8</td>\n",
       "      <td>9.718422</td>\n",
       "    </tr>\n",
       "    <tr>\n",
       "      <th>2</th>\n",
       "      <td>-1.114336</td>\n",
       "      <td>HONDA</td>\n",
       "      <td>2006</td>\n",
       "      <td>Hatchback</td>\n",
       "      <td>No</td>\n",
       "      <td>Petrol</td>\n",
       "      <td>1.3</td>\n",
       "      <td>-0.027527</td>\n",
       "      <td>4.0</td>\n",
       "      <td>Variator</td>\n",
       "      <td>Front</td>\n",
       "      <td>04-May</td>\n",
       "      <td>Right-hand drive</td>\n",
       "      <td>Black</td>\n",
       "      <td>2</td>\n",
       "      <td>9.043932</td>\n",
       "    </tr>\n",
       "    <tr>\n",
       "      <th>3</th>\n",
       "      <td>0.404285</td>\n",
       "      <td>FORD</td>\n",
       "      <td>2011</td>\n",
       "      <td>Jeep</td>\n",
       "      <td>Yes</td>\n",
       "      <td>Hybrid</td>\n",
       "      <td>2.5</td>\n",
       "      <td>-0.028168</td>\n",
       "      <td>4.0</td>\n",
       "      <td>Automatic</td>\n",
       "      <td>4x4</td>\n",
       "      <td>04-May</td>\n",
       "      <td>Left wheel</td>\n",
       "      <td>White</td>\n",
       "      <td>0</td>\n",
       "      <td>8.190632</td>\n",
       "    </tr>\n",
       "    <tr>\n",
       "      <th>4</th>\n",
       "      <td>-0.328600</td>\n",
       "      <td>HONDA</td>\n",
       "      <td>2014</td>\n",
       "      <td>Hatchback</td>\n",
       "      <td>Yes</td>\n",
       "      <td>Petrol</td>\n",
       "      <td>1.3</td>\n",
       "      <td>-0.029760</td>\n",
       "      <td>4.0</td>\n",
       "      <td>Automatic</td>\n",
       "      <td>Front</td>\n",
       "      <td>04-May</td>\n",
       "      <td>Left wheel</td>\n",
       "      <td>Silver</td>\n",
       "      <td>4</td>\n",
       "      <td>9.369564</td>\n",
       "    </tr>\n",
       "  </tbody>\n",
       "</table>\n",
       "</div>"
      ],
      "text/plain": [
       "       Levy Manufacturer Prod. year   Category Leather interior Fuel type  \\\n",
       "0  1.350339        LEXUS       2010       Jeep              Yes    Hybrid   \n",
       "1  0.679116    CHEVROLET       2011       Jeep               No    Petrol   \n",
       "2 -1.114336        HONDA       2006  Hatchback               No    Petrol   \n",
       "3  0.404285         FORD       2011       Jeep              Yes    Hybrid   \n",
       "4 -0.328600        HONDA       2014  Hatchback              Yes    Petrol   \n",
       "\n",
       "  Engine volume   Mileage Cylinders Gear box type Drive wheels   Doors  \\\n",
       "0           3.5 -0.027816       6.0     Automatic          4x4  04-May   \n",
       "1             3 -0.027692       6.0     Tiptronic          4x4  04-May   \n",
       "2           1.3 -0.027527       4.0      Variator        Front  04-May   \n",
       "3           2.5 -0.028168       4.0     Automatic          4x4  04-May   \n",
       "4           1.3 -0.029760       4.0     Automatic        Front  04-May   \n",
       "\n",
       "              Wheel   Color Airbags    TARGET  \n",
       "0        Left wheel  Silver      12  9.497622  \n",
       "1        Left wheel   Black       8  9.718422  \n",
       "2  Right-hand drive   Black       2  9.043932  \n",
       "3        Left wheel   White       0  8.190632  \n",
       "4        Left wheel  Silver       4  9.369564  "
      ]
     },
     "execution_count": 34,
     "metadata": {},
     "output_type": "execute_result"
    }
   ],
   "source": [
    "from sklearn.preprocessing import StandardScaler\n",
    "df_tree[\"Levy\"] = df_sc[\"Levy\"]\n",
    "df_tree[\"Mileage\"] = df_sc[\"Mileage\"]\n",
    "\n",
    "df_tree.head()"
   ]
  },
  {
   "cell_type": "code",
   "execution_count": 35,
   "metadata": {},
   "outputs": [],
   "source": [
    "from sklearn.preprocessing import OrdinalEncoder\n",
    "\n",
    "ordinal_categorical = [\"Manufacturer\", \"Prod. year\", \"Category\", \n",
    "\"Leather interior\", \"Fuel type\", \"Gear box type\", \"Drive wheels\", \"Doors\", \"Wheel\", \"Color\", \n",
    "\"Airbags\", \"Cylinders\", \"Engine volume\"]\n",
    "\n",
    "enc = OrdinalEncoder()\n",
    "df_tree[ordinal_categorical]= enc.fit_transform(df_tree[ordinal_categorical])"
   ]
  },
  {
   "cell_type": "code",
   "execution_count": 36,
   "metadata": {},
   "outputs": [
    {
     "data": {
      "text/html": [
       "<div>\n",
       "<style scoped>\n",
       "    .dataframe tbody tr th:only-of-type {\n",
       "        vertical-align: middle;\n",
       "    }\n",
       "\n",
       "    .dataframe tbody tr th {\n",
       "        vertical-align: top;\n",
       "    }\n",
       "\n",
       "    .dataframe thead th {\n",
       "        text-align: right;\n",
       "    }\n",
       "</style>\n",
       "<table border=\"1\" class=\"dataframe\">\n",
       "  <thead>\n",
       "    <tr style=\"text-align: right;\">\n",
       "      <th></th>\n",
       "      <th>Levy</th>\n",
       "      <th>Manufacturer</th>\n",
       "      <th>Prod. year</th>\n",
       "      <th>Category</th>\n",
       "      <th>Leather interior</th>\n",
       "      <th>Fuel type</th>\n",
       "      <th>Engine volume</th>\n",
       "      <th>Mileage</th>\n",
       "      <th>Cylinders</th>\n",
       "      <th>Gear box type</th>\n",
       "      <th>Drive wheels</th>\n",
       "      <th>Doors</th>\n",
       "      <th>Wheel</th>\n",
       "      <th>Color</th>\n",
       "      <th>Airbags</th>\n",
       "      <th>TARGET</th>\n",
       "    </tr>\n",
       "  </thead>\n",
       "  <tbody>\n",
       "    <tr>\n",
       "      <th>0</th>\n",
       "      <td>1.350339</td>\n",
       "      <td>31.0</td>\n",
       "      <td>43.0</td>\n",
       "      <td>4.0</td>\n",
       "      <td>1.0</td>\n",
       "      <td>2.0</td>\n",
       "      <td>63.0</td>\n",
       "      <td>-0.027816</td>\n",
       "      <td>5.0</td>\n",
       "      <td>0.0</td>\n",
       "      <td>0.0</td>\n",
       "      <td>1.0</td>\n",
       "      <td>0.0</td>\n",
       "      <td>12.0</td>\n",
       "      <td>12.0</td>\n",
       "      <td>9.497622</td>\n",
       "    </tr>\n",
       "    <tr>\n",
       "      <th>1</th>\n",
       "      <td>0.679116</td>\n",
       "      <td>8.0</td>\n",
       "      <td>44.0</td>\n",
       "      <td>4.0</td>\n",
       "      <td>0.0</td>\n",
       "      <td>5.0</td>\n",
       "      <td>56.0</td>\n",
       "      <td>-0.027692</td>\n",
       "      <td>5.0</td>\n",
       "      <td>2.0</td>\n",
       "      <td>0.0</td>\n",
       "      <td>1.0</td>\n",
       "      <td>0.0</td>\n",
       "      <td>1.0</td>\n",
       "      <td>8.0</td>\n",
       "      <td>9.718422</td>\n",
       "    </tr>\n",
       "    <tr>\n",
       "      <th>2</th>\n",
       "      <td>-1.114336</td>\n",
       "      <td>21.0</td>\n",
       "      <td>39.0</td>\n",
       "      <td>3.0</td>\n",
       "      <td>0.0</td>\n",
       "      <td>5.0</td>\n",
       "      <td>22.0</td>\n",
       "      <td>-0.027527</td>\n",
       "      <td>3.0</td>\n",
       "      <td>3.0</td>\n",
       "      <td>1.0</td>\n",
       "      <td>1.0</td>\n",
       "      <td>1.0</td>\n",
       "      <td>1.0</td>\n",
       "      <td>2.0</td>\n",
       "      <td>9.043932</td>\n",
       "    </tr>\n",
       "    <tr>\n",
       "      <th>3</th>\n",
       "      <td>0.404285</td>\n",
       "      <td>16.0</td>\n",
       "      <td>44.0</td>\n",
       "      <td>4.0</td>\n",
       "      <td>1.0</td>\n",
       "      <td>2.0</td>\n",
       "      <td>46.0</td>\n",
       "      <td>-0.028168</td>\n",
       "      <td>3.0</td>\n",
       "      <td>0.0</td>\n",
       "      <td>0.0</td>\n",
       "      <td>1.0</td>\n",
       "      <td>0.0</td>\n",
       "      <td>14.0</td>\n",
       "      <td>0.0</td>\n",
       "      <td>8.190632</td>\n",
       "    </tr>\n",
       "    <tr>\n",
       "      <th>4</th>\n",
       "      <td>-0.328600</td>\n",
       "      <td>21.0</td>\n",
       "      <td>47.0</td>\n",
       "      <td>3.0</td>\n",
       "      <td>1.0</td>\n",
       "      <td>5.0</td>\n",
       "      <td>22.0</td>\n",
       "      <td>-0.029760</td>\n",
       "      <td>3.0</td>\n",
       "      <td>0.0</td>\n",
       "      <td>1.0</td>\n",
       "      <td>1.0</td>\n",
       "      <td>0.0</td>\n",
       "      <td>12.0</td>\n",
       "      <td>4.0</td>\n",
       "      <td>9.369564</td>\n",
       "    </tr>\n",
       "  </tbody>\n",
       "</table>\n",
       "</div>"
      ],
      "text/plain": [
       "       Levy  Manufacturer  Prod. year  Category  Leather interior  Fuel type  \\\n",
       "0  1.350339          31.0        43.0       4.0               1.0        2.0   \n",
       "1  0.679116           8.0        44.0       4.0               0.0        5.0   \n",
       "2 -1.114336          21.0        39.0       3.0               0.0        5.0   \n",
       "3  0.404285          16.0        44.0       4.0               1.0        2.0   \n",
       "4 -0.328600          21.0        47.0       3.0               1.0        5.0   \n",
       "\n",
       "   Engine volume   Mileage  Cylinders  Gear box type  Drive wheels  Doors  \\\n",
       "0           63.0 -0.027816        5.0            0.0           0.0    1.0   \n",
       "1           56.0 -0.027692        5.0            2.0           0.0    1.0   \n",
       "2           22.0 -0.027527        3.0            3.0           1.0    1.0   \n",
       "3           46.0 -0.028168        3.0            0.0           0.0    1.0   \n",
       "4           22.0 -0.029760        3.0            0.0           1.0    1.0   \n",
       "\n",
       "   Wheel  Color  Airbags    TARGET  \n",
       "0    0.0   12.0     12.0  9.497622  \n",
       "1    0.0    1.0      8.0  9.718422  \n",
       "2    1.0    1.0      2.0  9.043932  \n",
       "3    0.0   14.0      0.0  8.190632  \n",
       "4    0.0   12.0      4.0  9.369564  "
      ]
     },
     "execution_count": 36,
     "metadata": {},
     "output_type": "execute_result"
    }
   ],
   "source": [
    "df_tree = df_tree.dropna()\n",
    "df_tree.head()"
   ]
  },
  {
   "cell_type": "code",
   "execution_count": 37,
   "metadata": {},
   "outputs": [],
   "source": [
    "y = df_tree['TARGET']\n",
    "X = df_tree.drop('TARGET', axis=1) # becareful inplace= False\n",
    "\n",
    "from sklearn.model_selection import train_test_split\n",
    "X_train, X_test, y_train, y_test = train_test_split(X, y, test_size=0.2, random_state=rand_state)"
   ]
  },
  {
   "cell_type": "code",
   "execution_count": 45,
   "metadata": {},
   "outputs": [
    {
     "data": {
      "text/plain": [
       "DecisionTreeRegressor()"
      ]
     },
     "execution_count": 45,
     "metadata": {},
     "output_type": "execute_result"
    }
   ],
   "source": [
    "from sklearn.tree import DecisionTreeRegressor\n",
    "Tree_regressor = DecisionTreeRegressor()\n",
    "Tree_regressor.fit(X_train, y_train)"
   ]
  },
  {
   "cell_type": "code",
   "execution_count": 46,
   "metadata": {},
   "outputs": [],
   "source": [
    "y_hat = Tree_regressor.predict(X_test)"
   ]
  },
  {
   "cell_type": "markdown",
   "metadata": {},
   "source": [
    "RMSE Decision Tree not Optimized"
   ]
  },
  {
   "cell_type": "code",
   "execution_count": 47,
   "metadata": {},
   "outputs": [
    {
     "data": {
      "text/plain": [
       "1.54"
      ]
     },
     "execution_count": 47,
     "metadata": {},
     "output_type": "execute_result"
    }
   ],
   "source": [
    "MSE_test = round(np.mean(np.square(y_test - y_hat)),2)\n",
    "RMSE_test = round(np.sqrt(MSE_test),2)\n",
    "RMSE_test"
   ]
  },
  {
   "cell_type": "code",
   "execution_count": 48,
   "metadata": {},
   "outputs": [
    {
     "data": {
      "text/plain": [
       "0.07180562703991045"
      ]
     },
     "execution_count": 48,
     "metadata": {},
     "output_type": "execute_result"
    }
   ],
   "source": [
    "Tree_regressor.score(X_test, y_test)"
   ]
  },
  {
   "cell_type": "code",
   "execution_count": 49,
   "metadata": {},
   "outputs": [
    {
     "data": {
      "text/html": [
       "<div>\n",
       "<style scoped>\n",
       "    .dataframe tbody tr th:only-of-type {\n",
       "        vertical-align: middle;\n",
       "    }\n",
       "\n",
       "    .dataframe tbody tr th {\n",
       "        vertical-align: top;\n",
       "    }\n",
       "\n",
       "    .dataframe thead th {\n",
       "        text-align: right;\n",
       "    }\n",
       "</style>\n",
       "<table border=\"1\" class=\"dataframe\">\n",
       "  <thead>\n",
       "    <tr style=\"text-align: right;\">\n",
       "      <th></th>\n",
       "      <th>alpha</th>\n",
       "      <th>RMSE_CV</th>\n",
       "    </tr>\n",
       "  </thead>\n",
       "  <tbody>\n",
       "    <tr>\n",
       "      <th>0</th>\n",
       "      <td>0.000000e+00</td>\n",
       "      <td>1.509596</td>\n",
       "    </tr>\n",
       "    <tr>\n",
       "      <th>1</th>\n",
       "      <td>-2.771228e-18</td>\n",
       "      <td>NaN</td>\n",
       "    </tr>\n",
       "    <tr>\n",
       "      <th>2</th>\n",
       "      <td>0.000000e+00</td>\n",
       "      <td>1.509596</td>\n",
       "    </tr>\n",
       "    <tr>\n",
       "      <th>3</th>\n",
       "      <td>1.154678e-19</td>\n",
       "      <td>1.509596</td>\n",
       "    </tr>\n",
       "    <tr>\n",
       "      <th>4</th>\n",
       "      <td>3.464034e-19</td>\n",
       "      <td>1.509596</td>\n",
       "    </tr>\n",
       "  </tbody>\n",
       "</table>\n",
       "</div>"
      ],
      "text/plain": [
       "          alpha   RMSE_CV\n",
       "0  0.000000e+00  1.509596\n",
       "1 -2.771228e-18       NaN\n",
       "2  0.000000e+00  1.509596\n",
       "3  1.154678e-19  1.509596\n",
       "4  3.464034e-19  1.509596"
      ]
     },
     "execution_count": 49,
     "metadata": {},
     "output_type": "execute_result"
    }
   ],
   "source": [
    "path = DecisionTreeRegressor().cost_complexity_pruning_path(X_train,y_train)\n",
    "ccp_alphas = path.ccp_alphas\n",
    "\n",
    "RMSE_CV=[]\n",
    "for alpha in ccp_alphas:\n",
    "    MSE = -cross_val_score(estimator = DecisionTreeRegressor(random_state=1,ccp_alpha=alpha), X = X_train, y = y_train, cv = 5 , scoring=\"neg_mean_squared_error\" )\n",
    "    RMSE_CV.append(np.sqrt(MSE).mean())\n",
    "    \n",
    "output = pd.DataFrame(list(ccp_alphas), columns=['alpha'])\n",
    "output['RMSE_CV']=RMSE_CV\n",
    "\n",
    "output.head()"
   ]
  },
  {
   "cell_type": "markdown",
   "metadata": {},
   "source": [
    "This took 297 minutes"
   ]
  },
  {
   "cell_type": "code",
   "execution_count": 50,
   "metadata": {},
   "outputs": [
    {
     "data": {
      "image/png": "[encoded data removed]",
      "text/plain": [
       "<Figure size 432x288 with 1 Axes>"
      ]
     },
     "metadata": {},
     "output_type": "display_data"
    }
   ],
   "source": [
    "sns.lineplot(x='alpha', y='RMSE_CV', data=output , color='r', label=\"RMSE_CV vs alpha\")\n",
    "plt.show()"
   ]
  },
  {
   "cell_type": "markdown",
   "metadata": {},
   "source": [
    "Optimal Alpha for Decision Tree"
   ]
  },
  {
   "cell_type": "code",
   "execution_count": 51,
   "metadata": {},
   "outputs": [
    {
     "data": {
      "text/plain": [
       "0.0021892199306298744"
      ]
     },
     "execution_count": 51,
     "metadata": {},
     "output_type": "execute_result"
    }
   ],
   "source": [
    "optimal_alpha = output.iloc[np.argmin(output['RMSE_CV']),][0]\n",
    "optimal_alpha"
   ]
  },
  {
   "cell_type": "code",
   "execution_count": 52,
   "metadata": {},
   "outputs": [],
   "source": [
    "optimal_DT = DecisionTreeRegressor(ccp_alpha=optimal_alpha)\n",
    "optimal_DT.fit(X_train, y_train)\n",
    "y_hat_opt = optimal_DT.predict(X_test)"
   ]
  },
  {
   "cell_type": "markdown",
   "metadata": {},
   "source": [
    "RMSE for optimized Decision Tree"
   ]
  },
  {
   "cell_type": "code",
   "execution_count": 53,
   "metadata": {},
   "outputs": [
    {
     "data": {
      "text/plain": [
       "1.26"
      ]
     },
     "execution_count": 53,
     "metadata": {},
     "output_type": "execute_result"
    }
   ],
   "source": [
    "MSE_test = round(np.mean(np.square(y_test - y_hat_opt)),2)\n",
    "RMSE_test = round(np.sqrt(MSE_test),2)\n",
    "RMSE_test"
   ]
  },
  {
   "cell_type": "markdown",
   "metadata": {},
   "source": [
    "R-Squared for optimized Decision Tree"
   ]
  },
  {
   "cell_type": "code",
   "execution_count": 54,
   "metadata": {},
   "outputs": [
    {
     "data": {
      "text/plain": [
       "0.3762846987950177"
      ]
     },
     "execution_count": 54,
     "metadata": {},
     "output_type": "execute_result"
    }
   ],
   "source": [
    "optimal_DT.score(X_test, y_test)"
   ]
  },
  {
   "cell_type": "code",
   "execution_count": 55,
   "metadata": {},
   "outputs": [],
   "source": [
    "dtree= DecisionTreeRegressor(ccp_alpha=optimal_alpha)\n",
    "dtree.fit(X_train, y_train)\n",
    "price_hat = dtree.predict(X_test)"
   ]
  },
  {
   "cell_type": "code",
   "execution_count": 56,
   "metadata": {},
   "outputs": [
    {
     "data": {
      "image/png": "[encoded data removed]",
      "text/plain": [
       "<Figure size 1080x720 with 1 Axes>"
      ]
     },
     "metadata": {},
     "output_type": "display_data"
    }
   ],
   "source": [
    "from sklearn import tree\n",
    "\n",
    "fig = plt.figure(figsize=(15,10))\n",
    "DT_plot = tree.plot_tree(dtree, feature_names=X_train.columns, filled=True)"
   ]
  },
  {
   "cell_type": "markdown",
   "metadata": {},
   "source": [
    "This tree is quite bushy and difficult to interpret, but we thought we would include it just to show it off."
   ]
  },
  {
   "cell_type": "markdown",
   "metadata": {},
   "source": [
    "The decision tree performed quite a bit better than the linear regression benchmark. It took a long time to optimze though, which isn't ideal."
   ]
  },
  {
   "cell_type": "markdown",
   "metadata": {},
   "source": [
    "### Random Forest"
   ]
  },
  {
   "cell_type": "code",
   "execution_count": 47,
   "metadata": {},
   "outputs": [
    {
     "data": {
      "text/plain": [
       "RandomForestRegressor(random_state=1000)"
      ]
     },
     "execution_count": 47,
     "metadata": {},
     "output_type": "execute_result"
    }
   ],
   "source": [
    "from sklearn.ensemble import RandomForestRegressor\n",
    "\n",
    "RF_regression = RandomForestRegressor(random_state=rand_state)\n",
    "RF_regression.fit(X_train, y_train)"
   ]
  },
  {
   "cell_type": "code",
   "execution_count": 48,
   "metadata": {},
   "outputs": [],
   "source": [
    "y_hat = RF_regression.predict(X_test)"
   ]
  },
  {
   "cell_type": "markdown",
   "metadata": {},
   "source": [
    "R-Squared for non optimized Random Forest"
   ]
  },
  {
   "cell_type": "code",
   "execution_count": 49,
   "metadata": {},
   "outputs": [
    {
     "data": {
      "text/plain": [
       "0.4913"
      ]
     },
     "execution_count": 49,
     "metadata": {},
     "output_type": "execute_result"
    }
   ],
   "source": [
    "np.round(RF_regression.score(X_test, y_test),4)"
   ]
  },
  {
   "cell_type": "markdown",
   "metadata": {},
   "source": [
    "RMSE for non optimized Random Forest"
   ]
  },
  {
   "cell_type": "code",
   "execution_count": 50,
   "metadata": {},
   "outputs": [
    {
     "data": {
      "text/plain": [
       "1.14"
      ]
     },
     "execution_count": 50,
     "metadata": {},
     "output_type": "execute_result"
    }
   ],
   "source": [
    "MSE_test = round(np.mean(np.square(y_test - y_hat)),2)\n",
    "RMSE_test = round(np.sqrt(MSE_test),2)\n",
    "RMSE_test"
   ]
  },
  {
   "cell_type": "code",
   "execution_count": 55,
   "metadata": {},
   "outputs": [
    {
     "name": "stdout",
     "output_type": "stream",
     "text": [
      "Fitting 5 folds for each of 18 candidates, totalling 90 fits\n",
      "[CV] END ....max_depth=5, max_features=sqrt, n_estimators=10; total time=   0.0s\n",
      "[CV] END ....max_depth=5, max_features=sqrt, n_estimators=10; total time=   0.0s\n",
      "[CV] END ....max_depth=5, max_features=sqrt, n_estimators=10; total time=   0.0s\n",
      "[CV] END ....max_depth=5, max_features=sqrt, n_estimators=10; total time=   0.0s\n",
      "[CV] END ....max_depth=5, max_features=sqrt, n_estimators=10; total time=   0.0s\n",
      "[CV] END ...max_depth=5, max_features=sqrt, n_estimators=100; total time=   0.3s\n",
      "[CV] END ...max_depth=5, max_features=sqrt, n_estimators=100; total time=   0.3s\n",
      "[CV] END ...max_depth=5, max_features=sqrt, n_estimators=100; total time=   0.3s\n",
      "[CV] END ...max_depth=5, max_features=sqrt, n_estimators=100; total time=   0.3s\n",
      "[CV] END ...max_depth=5, max_features=sqrt, n_estimators=100; total time=   0.3s\n",
      "[CV] END ...max_depth=5, max_features=sqrt, n_estimators=500; total time=   1.9s\n",
      "[CV] END ...max_depth=5, max_features=sqrt, n_estimators=500; total time=   1.8s\n",
      "[CV] END ...max_depth=5, max_features=sqrt, n_estimators=500; total time=   1.9s\n",
      "[CV] END ...max_depth=5, max_features=sqrt, n_estimators=500; total time=   1.9s\n",
      "[CV] END ...max_depth=5, max_features=sqrt, n_estimators=500; total time=   2.0s\n",
      "[CV] END ....max_depth=5, max_features=log2, n_estimators=10; total time=   0.0s\n",
      "[CV] END ....max_depth=5, max_features=log2, n_estimators=10; total time=   0.0s\n",
      "[CV] END ....max_depth=5, max_features=log2, n_estimators=10; total time=   0.0s\n",
      "[CV] END ....max_depth=5, max_features=log2, n_estimators=10; total time=   0.0s\n",
      "[CV] END ....max_depth=5, max_features=log2, n_estimators=10; total time=   0.0s\n",
      "[CV] END ...max_depth=5, max_features=log2, n_estimators=100; total time=   0.4s\n",
      "[CV] END ...max_depth=5, max_features=log2, n_estimators=100; total time=   0.3s\n",
      "[CV] END ...max_depth=5, max_features=log2, n_estimators=100; total time=   0.3s\n",
      "[CV] END ...max_depth=5, max_features=log2, n_estimators=100; total time=   0.3s\n",
      "[CV] END ...max_depth=5, max_features=log2, n_estimators=100; total time=   0.3s\n",
      "[CV] END ...max_depth=5, max_features=log2, n_estimators=500; total time=   1.8s\n",
      "[CV] END ...max_depth=5, max_features=log2, n_estimators=500; total time=   1.8s\n",
      "[CV] END ...max_depth=5, max_features=log2, n_estimators=500; total time=   1.8s\n",
      "[CV] END ...max_depth=5, max_features=log2, n_estimators=500; total time=   1.8s\n",
      "[CV] END ...max_depth=5, max_features=log2, n_estimators=500; total time=   1.8s\n",
      "[CV] END ...max_depth=10, max_features=sqrt, n_estimators=10; total time=   0.0s\n",
      "[CV] END ...max_depth=10, max_features=sqrt, n_estimators=10; total time=   0.0s\n",
      "[CV] END ...max_depth=10, max_features=sqrt, n_estimators=10; total time=   0.0s\n",
      "[CV] END ...max_depth=10, max_features=sqrt, n_estimators=10; total time=   0.0s\n",
      "[CV] END ...max_depth=10, max_features=sqrt, n_estimators=10; total time=   0.0s\n",
      "[CV] END ..max_depth=10, max_features=sqrt, n_estimators=100; total time=   0.6s\n",
      "[CV] END ..max_depth=10, max_features=sqrt, n_estimators=100; total time=   0.5s\n",
      "[CV] END ..max_depth=10, max_features=sqrt, n_estimators=100; total time=   0.6s\n",
      "[CV] END ..max_depth=10, max_features=sqrt, n_estimators=100; total time=   0.6s\n",
      "[CV] END ..max_depth=10, max_features=sqrt, n_estimators=100; total time=   0.6s\n",
      "[CV] END ..max_depth=10, max_features=sqrt, n_estimators=500; total time=   3.1s\n",
      "[CV] END ..max_depth=10, max_features=sqrt, n_estimators=500; total time=   3.1s\n",
      "[CV] END ..max_depth=10, max_features=sqrt, n_estimators=500; total time=   3.2s\n",
      "[CV] END ..max_depth=10, max_features=sqrt, n_estimators=500; total time=   3.6s\n",
      "[CV] END ..max_depth=10, max_features=sqrt, n_estimators=500; total time=   3.4s\n",
      "[CV] END ...max_depth=10, max_features=log2, n_estimators=10; total time=   0.0s\n",
      "[CV] END ...max_depth=10, max_features=log2, n_estimators=10; total time=   0.0s\n",
      "[CV] END ...max_depth=10, max_features=log2, n_estimators=10; total time=   0.0s\n",
      "[CV] END ...max_depth=10, max_features=log2, n_estimators=10; total time=   0.0s\n",
      "[CV] END ...max_depth=10, max_features=log2, n_estimators=10; total time=   0.0s\n",
      "[CV] END ..max_depth=10, max_features=log2, n_estimators=100; total time=   0.6s\n",
      "[CV] END ..max_depth=10, max_features=log2, n_estimators=100; total time=   0.6s\n",
      "[CV] END ..max_depth=10, max_features=log2, n_estimators=100; total time=   0.6s\n",
      "[CV] END ..max_depth=10, max_features=log2, n_estimators=100; total time=   0.6s\n",
      "[CV] END ..max_depth=10, max_features=log2, n_estimators=100; total time=   0.7s\n",
      "[CV] END ..max_depth=10, max_features=log2, n_estimators=500; total time=   3.4s\n",
      "[CV] END ..max_depth=10, max_features=log2, n_estimators=500; total time=   3.1s\n",
      "[CV] END ..max_depth=10, max_features=log2, n_estimators=500; total time=   3.1s\n",
      "[CV] END ..max_depth=10, max_features=log2, n_estimators=500; total time=   3.2s\n",
      "[CV] END ..max_depth=10, max_features=log2, n_estimators=500; total time=   3.1s\n",
      "[CV] END ...max_depth=20, max_features=sqrt, n_estimators=10; total time=   0.0s\n",
      "[CV] END ...max_depth=20, max_features=sqrt, n_estimators=10; total time=   0.0s\n",
      "[CV] END ...max_depth=20, max_features=sqrt, n_estimators=10; total time=   0.0s\n",
      "[CV] END ...max_depth=20, max_features=sqrt, n_estimators=10; total time=   0.0s\n",
      "[CV] END ...max_depth=20, max_features=sqrt, n_estimators=10; total time=   0.0s\n",
      "[CV] END ..max_depth=20, max_features=sqrt, n_estimators=100; total time=   1.2s\n",
      "[CV] END ..max_depth=20, max_features=sqrt, n_estimators=100; total time=   1.2s\n",
      "[CV] END ..max_depth=20, max_features=sqrt, n_estimators=100; total time=   1.2s\n",
      "[CV] END ..max_depth=20, max_features=sqrt, n_estimators=100; total time=   1.2s\n",
      "[CV] END ..max_depth=20, max_features=sqrt, n_estimators=100; total time=   1.2s\n",
      "[CV] END ..max_depth=20, max_features=sqrt, n_estimators=500; total time=   6.6s\n",
      "[CV] END ..max_depth=20, max_features=sqrt, n_estimators=500; total time=   6.2s\n",
      "[CV] END ..max_depth=20, max_features=sqrt, n_estimators=500; total time=   6.3s\n",
      "[CV] END ..max_depth=20, max_features=sqrt, n_estimators=500; total time=   6.3s\n",
      "[CV] END ..max_depth=20, max_features=sqrt, n_estimators=500; total time=   6.2s\n",
      "[CV] END ...max_depth=20, max_features=log2, n_estimators=10; total time=   0.0s\n",
      "[CV] END ...max_depth=20, max_features=log2, n_estimators=10; total time=   0.0s\n",
      "[CV] END ...max_depth=20, max_features=log2, n_estimators=10; total time=   0.0s\n",
      "[CV] END ...max_depth=20, max_features=log2, n_estimators=10; total time=   0.0s\n",
      "[CV] END ...max_depth=20, max_features=log2, n_estimators=10; total time=   0.0s\n",
      "[CV] END ..max_depth=20, max_features=log2, n_estimators=100; total time=   1.2s\n",
      "[CV] END ..max_depth=20, max_features=log2, n_estimators=100; total time=   1.2s\n",
      "[CV] END ..max_depth=20, max_features=log2, n_estimators=100; total time=   1.2s\n",
      "[CV] END ..max_depth=20, max_features=log2, n_estimators=100; total time=   1.2s\n",
      "[CV] END ..max_depth=20, max_features=log2, n_estimators=100; total time=   1.2s\n",
      "[CV] END ..max_depth=20, max_features=log2, n_estimators=500; total time=   6.3s\n",
      "[CV] END ..max_depth=20, max_features=log2, n_estimators=500; total time=   6.2s\n",
      "[CV] END ..max_depth=20, max_features=log2, n_estimators=500; total time=   6.2s\n",
      "[CV] END ..max_depth=20, max_features=log2, n_estimators=500; total time=   6.3s\n",
      "[CV] END ..max_depth=20, max_features=log2, n_estimators=500; total time=   6.2s\n"
     ]
    },
    {
     "data": {
      "text/plain": [
       "GridSearchCV(cv=5, estimator=RandomForestRegressor(random_state=1000),\n",
       "             param_grid={'max_depth': [5, 10, 20],\n",
       "                         'max_features': ['sqrt', 'log2'],\n",
       "                         'n_estimators': [10, 100, 500]},\n",
       "             verbose=2)"
      ]
     },
     "execution_count": 55,
     "metadata": {},
     "output_type": "execute_result"
    }
   ],
   "source": [
    "my_param_grid = {'n_estimators': [10,100,500], 'max_features':['sqrt','log2'], 'max_depth':[5,10,20]}\n",
    "\n",
    "grid = GridSearchCV(estimator=RandomForestRegressor(random_state=rand_state),param_grid= my_param_grid, refit = True, verbose=2, cv=5 )\n",
    "\n",
    "grid.fit(X_train,y_train)"
   ]
  },
  {
   "cell_type": "markdown",
   "metadata": {},
   "source": [
    "This had twice as many runs compared to the other optimizations, but it finished in 2 and a half minutes!"
   ]
  },
  {
   "cell_type": "markdown",
   "metadata": {},
   "source": [
    "Best estimator Hyperparameters for Random Forest"
   ]
  },
  {
   "cell_type": "code",
   "execution_count": 56,
   "metadata": {},
   "outputs": [
    {
     "data": {
      "text/plain": [
       "RandomForestRegressor(max_depth=20, max_features='sqrt', n_estimators=500,\n",
       "                      random_state=1000)"
      ]
     },
     "execution_count": 56,
     "metadata": {},
     "output_type": "execute_result"
    }
   ],
   "source": [
    "grid.best_estimator_"
   ]
  },
  {
   "cell_type": "code",
   "execution_count": 57,
   "metadata": {},
   "outputs": [],
   "source": [
    "y_hat_optimized = grid.predict(X_test)"
   ]
  },
  {
   "cell_type": "markdown",
   "metadata": {},
   "source": [
    "R-squared with Optimized Random Forest"
   ]
  },
  {
   "cell_type": "code",
   "execution_count": 58,
   "metadata": {},
   "outputs": [
    {
     "data": {
      "text/plain": [
       "0.5237"
      ]
     },
     "execution_count": 58,
     "metadata": {},
     "output_type": "execute_result"
    }
   ],
   "source": [
    "np.round(grid.score(X_test, y_test),4)"
   ]
  },
  {
   "cell_type": "markdown",
   "metadata": {},
   "source": [
    "RMSE for optimized Random Forest"
   ]
  },
  {
   "cell_type": "code",
   "execution_count": 59,
   "metadata": {},
   "outputs": [
    {
     "data": {
      "text/plain": [
       "1.1"
      ]
     },
     "execution_count": 59,
     "metadata": {},
     "output_type": "execute_result"
    }
   ],
   "source": [
    "MSE_test_opt = round(np.mean(np.square(y_test - y_hat_optimized)),2)\n",
    "RMSE_test_opt = round(np.sqrt(MSE_test_opt),2)\n",
    "RMSE_test_opt"
   ]
  },
  {
   "cell_type": "markdown",
   "metadata": {},
   "source": [
    "Feature Importance"
   ]
  },
  {
   "cell_type": "code",
   "execution_count": 60,
   "metadata": {},
   "outputs": [
    {
     "data": {
      "text/html": [
       "<div>\n",
       "<style scoped>\n",
       "    .dataframe tbody tr th:only-of-type {\n",
       "        vertical-align: middle;\n",
       "    }\n",
       "\n",
       "    .dataframe tbody tr th {\n",
       "        vertical-align: top;\n",
       "    }\n",
       "\n",
       "    .dataframe thead th {\n",
       "        text-align: right;\n",
       "    }\n",
       "</style>\n",
       "<table border=\"1\" class=\"dataframe\">\n",
       "  <thead>\n",
       "    <tr style=\"text-align: right;\">\n",
       "      <th></th>\n",
       "      <th>Features</th>\n",
       "      <th>Feature_importance</th>\n",
       "    </tr>\n",
       "  </thead>\n",
       "  <tbody>\n",
       "    <tr>\n",
       "      <th>11</th>\n",
       "      <td>Doors</td>\n",
       "      <td>0.005788</td>\n",
       "    </tr>\n",
       "    <tr>\n",
       "      <th>12</th>\n",
       "      <td>Wheel</td>\n",
       "      <td>0.012199</td>\n",
       "    </tr>\n",
       "    <tr>\n",
       "      <th>10</th>\n",
       "      <td>Drive wheels</td>\n",
       "      <td>0.023573</td>\n",
       "    </tr>\n",
       "    <tr>\n",
       "      <th>8</th>\n",
       "      <td>Cylinders</td>\n",
       "      <td>0.025069</td>\n",
       "    </tr>\n",
       "    <tr>\n",
       "      <th>4</th>\n",
       "      <td>Leather interior</td>\n",
       "      <td>0.034913</td>\n",
       "    </tr>\n",
       "    <tr>\n",
       "      <th>3</th>\n",
       "      <td>Category</td>\n",
       "      <td>0.035178</td>\n",
       "    </tr>\n",
       "    <tr>\n",
       "      <th>5</th>\n",
       "      <td>Fuel type</td>\n",
       "      <td>0.056756</td>\n",
       "    </tr>\n",
       "    <tr>\n",
       "      <th>13</th>\n",
       "      <td>Color</td>\n",
       "      <td>0.060637</td>\n",
       "    </tr>\n",
       "    <tr>\n",
       "      <th>1</th>\n",
       "      <td>Manufacturer</td>\n",
       "      <td>0.070229</td>\n",
       "    </tr>\n",
       "    <tr>\n",
       "      <th>0</th>\n",
       "      <td>Levy</td>\n",
       "      <td>0.077736</td>\n",
       "    </tr>\n",
       "    <tr>\n",
       "      <th>6</th>\n",
       "      <td>Engine volume</td>\n",
       "      <td>0.086492</td>\n",
       "    </tr>\n",
       "    <tr>\n",
       "      <th>9</th>\n",
       "      <td>Gear box type</td>\n",
       "      <td>0.096378</td>\n",
       "    </tr>\n",
       "    <tr>\n",
       "      <th>7</th>\n",
       "      <td>Mileage</td>\n",
       "      <td>0.105228</td>\n",
       "    </tr>\n",
       "    <tr>\n",
       "      <th>2</th>\n",
       "      <td>Prod. year</td>\n",
       "      <td>0.139722</td>\n",
       "    </tr>\n",
       "    <tr>\n",
       "      <th>14</th>\n",
       "      <td>Airbags</td>\n",
       "      <td>0.170104</td>\n",
       "    </tr>\n",
       "  </tbody>\n",
       "</table>\n",
       "</div>"
      ],
      "text/plain": [
       "            Features  Feature_importance\n",
       "11             Doors            0.005788\n",
       "12             Wheel            0.012199\n",
       "10      Drive wheels            0.023573\n",
       "8          Cylinders            0.025069\n",
       "4   Leather interior            0.034913\n",
       "3           Category            0.035178\n",
       "5          Fuel type            0.056756\n",
       "13             Color            0.060637\n",
       "1       Manufacturer            0.070229\n",
       "0               Levy            0.077736\n",
       "6      Engine volume            0.086492\n",
       "9      Gear box type            0.096378\n",
       "7            Mileage            0.105228\n",
       "2         Prod. year            0.139722\n",
       "14           Airbags            0.170104"
      ]
     },
     "execution_count": 60,
     "metadata": {},
     "output_type": "execute_result"
    }
   ],
   "source": [
    "features = list(X_train.columns)\n",
    "\n",
    "RF_Regressor = RandomForestRegressor(max_depth=20, max_features='sqrt', n_estimators=500, random_state=1000)\n",
    "RF_Regressor.fit(X_train, y_train)\n",
    "\n",
    "importance = RF_Regressor.feature_importances_\n",
    "\n",
    "FIM = pd.DataFrame({'Features': features, 'Feature_importance':importance})\n",
    "FIM = FIM.sort_values(by=['Feature_importance'])\n",
    "FIM"
   ]
  },
  {
   "cell_type": "code",
   "execution_count": 62,
   "metadata": {},
   "outputs": [
    {
     "data": {
      "image/png": "[encoded data removed]",
      "text/plain": [
       "<Figure size 720x432 with 1 Axes>"
      ]
     },
     "metadata": {},
     "output_type": "display_data"
    }
   ],
   "source": [
    "plt.figure(figsize=(10,6))\n",
    "plt.title('Feature Importance')\n",
    "sns.barplot(y='Features', x='Feature_importance', data=FIM)\n",
    "plt.show()"
   ]
  },
  {
   "cell_type": "markdown",
   "metadata": {},
   "source": [
    "The most important variables are airbags, prod. year, and mileage. Most of these make sense and they are all somewhat related to each other. Newer vehicles have lower mileage, which as we sell usually means a higher sell price, they also more airbags, which are a strongly desired feature for cars."
   ]
  },
  {
   "cell_type": "markdown",
   "metadata": {},
   "source": [
    "### Boosting"
   ]
  },
  {
   "cell_type": "code",
   "execution_count": 39,
   "metadata": {},
   "outputs": [],
   "source": [
    "from sklearn.ensemble import AdaBoostRegressor, GradientBoostingRegressor\n",
    "from xgboost import XGBRegressor"
   ]
  },
  {
   "cell_type": "code",
   "execution_count": 40,
   "metadata": {},
   "outputs": [
    {
     "data": {
      "text/plain": [
       "AdaBoostRegressor(random_state=1000)"
      ]
     },
     "execution_count": 40,
     "metadata": {},
     "output_type": "execute_result"
    }
   ],
   "source": [
    "AdB_regressor = AdaBoostRegressor(random_state=rand_state)\n",
    "AdB_regressor.fit(X_train, y_train)"
   ]
  },
  {
   "cell_type": "code",
   "execution_count": 41,
   "metadata": {},
   "outputs": [
    {
     "data": {
      "text/plain": [
       "GradientBoostingRegressor(max_depth=6, random_state=1000)"
      ]
     },
     "execution_count": 41,
     "metadata": {},
     "output_type": "execute_result"
    }
   ],
   "source": [
    "GBM_regressor = GradientBoostingRegressor(random_state=rand_state, learning_rate=0.1, max_depth=6)\n",
    "GBM_regressor.fit(X_train, y_train)"
   ]
  },
  {
   "cell_type": "code",
   "execution_count": 42,
   "metadata": {},
   "outputs": [
    {
     "data": {
      "text/plain": [
       "XGBRegressor(base_score=0.5, booster='gbtree', colsample_bylevel=1,\n",
       "             colsample_bynode=1, colsample_bytree=1, enable_categorical=False,\n",
       "             eta=0.1, gamma=0, gpu_id=-1, importance_type=None,\n",
       "             interaction_constraints='', learning_rate=0.100000001,\n",
       "             max_delta_step=0, max_depth=6, min_child_weight=1, missing=nan,\n",
       "             monotone_constraints='()', n_estimators=100, n_jobs=8,\n",
       "             num_parallel_tree=1, predictor='auto', random_state=1000,\n",
       "             reg_alpha=0, reg_lambda=1, scale_pos_weight=1, subsample=1,\n",
       "             tree_method='exact', validate_parameters=1, verbosity=None)"
      ]
     },
     "execution_count": 42,
     "metadata": {},
     "output_type": "execute_result"
    }
   ],
   "source": [
    "XGB_regressor = XGBRegressor(random_state=rand_state, eta=0.1, max_depth=6)\n",
    "XGB_regressor.fit(X_train, y_train)"
   ]
  },
  {
   "cell_type": "code",
   "execution_count": 43,
   "metadata": {},
   "outputs": [],
   "source": [
    "y_hat_AdB      = AdB_regressor.predict(X_test)\n",
    "y_hat_GBM      = GBM_regressor.predict(X_test)\n",
    "y_hat_XGB      = XGB_regressor.predict(X_test)"
   ]
  },
  {
   "cell_type": "code",
   "execution_count": 44,
   "metadata": {},
   "outputs": [],
   "source": [
    "from sklearn.metrics import accuracy_score, recall_score, precision_score, f1_score\n",
    "from sklearn.metrics import confusion_matrix, classification_report, roc_curve, roc_auc_score"
   ]
  },
  {
   "cell_type": "code",
   "execution_count": 45,
   "metadata": {},
   "outputs": [
    {
     "data": {
      "text/plain": [
       "-0.3154"
      ]
     },
     "execution_count": 45,
     "metadata": {},
     "output_type": "execute_result"
    }
   ],
   "source": [
    "np.round(AdB_regressor.score(X_test, y_test),4)"
   ]
  },
  {
   "cell_type": "code",
   "execution_count": 46,
   "metadata": {},
   "outputs": [
    {
     "data": {
      "text/plain": [
       "0.458"
      ]
     },
     "execution_count": 46,
     "metadata": {},
     "output_type": "execute_result"
    }
   ],
   "source": [
    "np.round(GBM_regressor.score(X_test, y_test),4)"
   ]
  },
  {
   "cell_type": "code",
   "execution_count": 47,
   "metadata": {},
   "outputs": [
    {
     "data": {
      "text/plain": [
       "0.4579"
      ]
     },
     "execution_count": 47,
     "metadata": {},
     "output_type": "execute_result"
    }
   ],
   "source": [
    "np.round(XGB_regressor.score(X_test, y_test),4)"
   ]
  },
  {
   "cell_type": "markdown",
   "metadata": {},
   "source": [
    "As can be seen, the boosting methods do far better than the linear regression model, but worse than the random forest model."
   ]
  },
  {
   "cell_type": "markdown",
   "metadata": {},
   "source": [
    "## Conclusion"
   ]
  },
  {
   "cell_type": "markdown",
   "metadata": {},
   "source": [
    "Linear regression was our benchmark. We got an R-Squared value of .359. The optimized random forest model had an r-squared value of .5237. This is a large improvement to our benchmark, which is a good reason to celebrate. It's also a pretty good value for r-squared, the optimized random forest model explains a little over half of the variation in log car price. This is pretty good! We would recommend this model as the best model to use, it ran the quickest and performed the best by far!"
   ]
  }
 ],
 "metadata": {
  "kernelspec": {
   "display_name": "Python 3 (ipykernel)",
   "language": "python",
   "name": "python3"
  },
  "language_info": {
   "codemirror_mode": {
    "name": "ipython",
    "version": 3
   },
   "file_extension": ".py",
   "mimetype": "text/x-python",
   "name": "python",
   "nbconvert_exporter": "python",
   "pygments_lexer": "ipython3",
   "version": "3.9.7"
  }
 },
 "nbformat": 4,
 "nbformat_minor": 4
}
