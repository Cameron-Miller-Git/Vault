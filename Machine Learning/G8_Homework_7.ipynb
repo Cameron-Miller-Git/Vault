{
 "cells": [
  {
   "cell_type": "markdown",
   "metadata": {},
   "source": [
    "# Homework 7 KNN"
   ]
  },
  {
   "cell_type": "markdown",
   "metadata": {},
   "source": [
    "## Derek Anderson, Justin Dygert, Cameron Miller"
   ]
  },
  {
   "cell_type": "markdown",
   "metadata": {},
   "source": [
    "### Problem 1"
   ]
  },
  {
   "cell_type": "markdown",
   "metadata": {},
   "source": [
    "1. Drop the dteday variable and then define your feature space and the target variable. Split the data into test (20%) and train set (80%)"
   ]
  },
  {
   "cell_type": "code",
   "execution_count": 111,
   "metadata": {},
   "outputs": [],
   "source": [
    "import numpy as np\n",
    "import pandas as pd\n",
    "import matplotlib.pyplot as plt\n",
    "import seaborn as sns\n",
    "sns.set()  #if you want to use seaborn themes with matplotlib functions\n",
    "import warnings\n",
    "warnings.filterwarnings('ignore')\n",
    "rand_state = 1000"
   ]
  },
  {
   "cell_type": "markdown",
   "metadata": {},
   "source": [
    "The following code labels the features as categories or numeric. We then drop dteday and create the dummy variables."
   ]
  },
  {
   "cell_type": "code",
   "execution_count": 112,
   "metadata": {},
   "outputs": [],
   "source": [
    "df = pd.read_csv(\"bikeshare.csv\")\n",
    "categoricals = ['season', 'yr', 'mnth', 'hr', 'holiday', 'weekday', 'notbizday', 'weathersit']\n",
    "numerics = ['temp', 'hum', 'windspeed', 'cnt']\n",
    "\n",
    "for col in categoricals:\n",
    "    df[col] = df[col].astype(\"category\")\n",
    "    \n",
    "for col in numerics:\n",
    "    df[col] = pd.to_numeric(df[col], errors = 'coerce')\n",
    "df.drop('dteday', axis=1, inplace=True)\n",
    "df = pd.get_dummies(df, drop_first = True)"
   ]
  },
  {
   "cell_type": "markdown",
   "metadata": {},
   "source": [
    "The following checks the head to make sure the dummies function worked and defines our feature space and target variable. Then splits the dataset."
   ]
  },
  {
   "cell_type": "code",
   "execution_count": 113,
   "metadata": {},
   "outputs": [],
   "source": [
    "df.head()\n",
    "\n",
    "y = df['cnt']\n",
    "X = df.drop('cnt', axis=1) \n",
    "\n",
    "from sklearn.model_selection import train_test_split\n",
    "X_train, X_test, y_train, y_test = train_test_split(X, y, test_size=0.2, random_state=rand_state)\n"
   ]
  },
  {
   "cell_type": "markdown",
   "metadata": {},
   "source": [
    "2. From sklearn.neighbors import the relevant function for KNN regression. Do the followings: "
   ]
  },
  {
   "cell_type": "code",
   "execution_count": 114,
   "metadata": {},
   "outputs": [],
   "source": [
    "from sklearn.neighbors import KNeighborsRegressor"
   ]
  },
  {
   "cell_type": "markdown",
   "metadata": {},
   "source": [
    "2.1 Train all the model with the default features."
   ]
  },
  {
   "cell_type": "code",
   "execution_count": 115,
   "metadata": {},
   "outputs": [
    {
     "data": {
      "text/plain": [
       "KNeighborsRegressor()"
      ]
     },
     "execution_count": 115,
     "metadata": {},
     "output_type": "execute_result"
    }
   ],
   "source": [
    "KNN_regression = KNeighborsRegressor()\n",
    "KNN_regression.fit(X_train, y_train)"
   ]
  },
  {
   "cell_type": "markdown",
   "metadata": {},
   "source": [
    "2.2 Make predictions on the test set and save them as y_hat"
   ]
  },
  {
   "cell_type": "code",
   "execution_count": 116,
   "metadata": {},
   "outputs": [],
   "source": [
    "y_hat = KNN_regression.predict(X_test)"
   ]
  },
  {
   "cell_type": "markdown",
   "metadata": {},
   "source": [
    "2.3 Construct a data frame named df_predictions with 2 columns. y_test, and y_hat  from previous part "
   ]
  },
  {
   "cell_type": "code",
   "execution_count": 117,
   "metadata": {},
   "outputs": [
    {
     "data": {
      "text/html": [
       "<div>\n",
       "<style scoped>\n",
       "    .dataframe tbody tr th:only-of-type {\n",
       "        vertical-align: middle;\n",
       "    }\n",
       "\n",
       "    .dataframe tbody tr th {\n",
       "        vertical-align: top;\n",
       "    }\n",
       "\n",
       "    .dataframe thead th {\n",
       "        text-align: right;\n",
       "    }\n",
       "</style>\n",
       "<table border=\"1\" class=\"dataframe\">\n",
       "  <thead>\n",
       "    <tr style=\"text-align: right;\">\n",
       "      <th></th>\n",
       "      <th>y_test</th>\n",
       "      <th>y_hat</th>\n",
       "    </tr>\n",
       "  </thead>\n",
       "  <tbody>\n",
       "    <tr>\n",
       "      <th>4495</th>\n",
       "      <td>26</td>\n",
       "      <td>47.0</td>\n",
       "    </tr>\n",
       "    <tr>\n",
       "      <th>4418</th>\n",
       "      <td>47</td>\n",
       "      <td>90.4</td>\n",
       "    </tr>\n",
       "    <tr>\n",
       "      <th>7141</th>\n",
       "      <td>11</td>\n",
       "      <td>25.2</td>\n",
       "    </tr>\n",
       "    <tr>\n",
       "      <th>14765</th>\n",
       "      <td>205</td>\n",
       "      <td>184.8</td>\n",
       "    </tr>\n",
       "    <tr>\n",
       "      <th>16541</th>\n",
       "      <td>65</td>\n",
       "      <td>68.0</td>\n",
       "    </tr>\n",
       "  </tbody>\n",
       "</table>\n",
       "</div>"
      ],
      "text/plain": [
       "       y_test  y_hat\n",
       "4495       26   47.0\n",
       "4418       47   90.4\n",
       "7141       11   25.2\n",
       "14765     205  184.8\n",
       "16541      65   68.0"
      ]
     },
     "execution_count": 117,
     "metadata": {},
     "output_type": "execute_result"
    }
   ],
   "source": [
    "predictions = pd.DataFrame({ 'y_test':y_test,'y_hat':y_hat})\n",
    "predictions.head()"
   ]
  },
  {
   "cell_type": "markdown",
   "metadata": {},
   "source": [
    "2.4 Visualize actual vs predicted counts in the test set using an scatterplot. Are you visually satisfied with the regression model? "
   ]
  },
  {
   "cell_type": "code",
   "execution_count": 118,
   "metadata": {},
   "outputs": [
    {
     "data": {
      "image/png": "[encoded data removed]",
      "text/plain": [
       "<Figure size 432x288 with 1 Axes>"
      ]
     },
     "metadata": {},
     "output_type": "display_data"
    }
   ],
   "source": [
    "sns.scatterplot(x=y_test, y=y_hat, alpha=0.6)\n",
    "sns.lineplot(y_test, y_test)\n",
    "\n",
    "plt.xlabel('Actual count', fontsize=14)\n",
    "plt.ylabel('Prediced  count', fontsize=14)\n",
    "plt.title('Actual vs Predicted  count (test set)', fontsize=17)\n",
    "plt.show()"
   ]
  },
  {
   "cell_type": "markdown",
   "metadata": {},
   "source": [
    "Visually we are satisfied. It looks a little high, because of all the heavy collection at the bottom. Overall, we give it an A-."
   ]
  },
  {
   "cell_type": "markdown",
   "metadata": {},
   "source": [
    "2.5 Report the RMSE_test for the KNN regression model. "
   ]
  },
  {
   "cell_type": "code",
   "execution_count": 119,
   "metadata": {},
   "outputs": [
    {
     "data": {
      "text/plain": [
       "108.61"
      ]
     },
     "execution_count": 119,
     "metadata": {},
     "output_type": "execute_result"
    }
   ],
   "source": [
    "MSE_test = round(np.mean(np.square(y_test - y_hat)),2)\n",
    "RMSE_test = round(np.sqrt(MSE_test),2)\n",
    "RMSE_test"
   ]
  },
  {
   "cell_type": "markdown",
   "metadata": {},
   "source": [
    "3. Cross validation:"
   ]
  },
  {
   "cell_type": "markdown",
   "metadata": {},
   "source": [
    "3.1 Estimate the RMSE_test by doing a 5 fold cross validation on the train set and name it as RMSE_CV. "
   ]
  },
  {
   "cell_type": "code",
   "execution_count": 120,
   "metadata": {},
   "outputs": [
    {
     "data": {
      "text/plain": [
       "109.9006"
      ]
     },
     "execution_count": 120,
     "metadata": {},
     "output_type": "execute_result"
    }
   ],
   "source": [
    "from sklearn.model_selection import cross_val_score\n",
    "NMSE = cross_val_score(estimator = KNN_regression, X = X_train, y = y_train, cv = 5 , scoring=\"neg_mean_squared_error\" )\n",
    "MSE_CV = round(np.mean(-NMSE),4)\n",
    "RMSE_CV = round(np.sqrt(MSE_CV), 4)\n",
    "RMSE_CV"
   ]
  },
  {
   "cell_type": "markdown",
   "metadata": {},
   "source": [
    "The cross validated RMSE increased which makes sense, the initial RMSE was \"cheating\"."
   ]
  },
  {
   "cell_type": "markdown",
   "metadata": {},
   "source": [
    "3.2 Plot the RMSE_CV vs K and find the optimal value for K in the KNN regression model."
   ]
  },
  {
   "cell_type": "code",
   "execution_count": 121,
   "metadata": {},
   "outputs": [
    {
     "data": {
      "image/png": "[encoded data removed]",
      "text/plain": [
       "<Figure size 720x360 with 1 Axes>"
      ]
     },
     "metadata": {},
     "output_type": "display_data"
    }
   ],
   "source": [
    "RMSE_CV=[]\n",
    "RMSE_test = []\n",
    "\n",
    "k=40\n",
    "\n",
    "for i in range(1,k):\n",
    "    KNN_i = KNeighborsRegressor(n_neighbors=i)\n",
    "    KNN_i.fit(X_train, y_train)\n",
    "    RMSE_i = np.sqrt(np.mean(-1*cross_val_score(estimator = KNN_i, X = X_train, y = y_train, cv = 5 , scoring=\"neg_mean_squared_error\" )))\n",
    "    RMSE_CV.append(RMSE_i)\n",
    "    \n",
    "    RMSE_test.append(np.sqrt(np.mean(np.square(y_test - KNN_i.predict(X_test)))))\n",
    "    \n",
    "optimal_k = pd.DataFrame({'RMSE_CV': np.round(RMSE_CV,2), 'RMSE_test':np.round(RMSE_test,2), 'K':range(1,k)})\n",
    "\n",
    "plt.figure(figsize=(10,5))\n",
    "sns.lineplot(data=optimal_k.drop('K', axis=1))\n",
    "plt.title('Cross Validated RMSE VS K')\n",
    "plt.xlabel('K')\n",
    "plt.ylabel('RMSE')\n",
    "plt.show()"
   ]
  },
  {
   "cell_type": "code",
   "execution_count": 122,
   "metadata": {},
   "outputs": [
    {
     "data": {
      "text/plain": [
       "4"
      ]
     },
     "execution_count": 122,
     "metadata": {},
     "output_type": "execute_result"
    }
   ],
   "source": [
    "optimal_k.loc[np.argmin(optimal_k['RMSE_CV']), 'K']"
   ]
  },
  {
   "cell_type": "markdown",
   "metadata": {},
   "source": [
    "As seen from the plot, and the line of code, our optimal K is 4. We foundt his from the plot by picking the lowest point on the blue RMSE_CV curve."
   ]
  },
  {
   "cell_type": "markdown",
   "metadata": {},
   "source": [
    "4. Report the R-squared in the test set with the optimal k for KNN. Compare this number with R-squared in the test set using multiple regression model. Which model is performing better in the test set? "
   ]
  },
  {
   "cell_type": "code",
   "execution_count": 123,
   "metadata": {},
   "outputs": [
    {
     "data": {
      "text/html": [
       "<table class=\"simpletable\">\n",
       "<caption>OLS Regression Results</caption>\n",
       "<tr>\n",
       "  <th>Dep. Variable:</th>           <td>cnt</td>       <th>  R-squared:         </th> <td>   0.700</td> \n",
       "</tr>\n",
       "<tr>\n",
       "  <th>Model:</th>                   <td>OLS</td>       <th>  Adj. R-squared:    </th> <td>   0.695</td> \n",
       "</tr>\n",
       "<tr>\n",
       "  <th>Method:</th>             <td>Least Squares</td>  <th>  F-statistic:       </th> <td>   156.4</td> \n",
       "</tr>\n",
       "<tr>\n",
       "  <th>Date:</th>             <td>Wed, 16 Mar 2022</td> <th>  Prob (F-statistic):</th>  <td>  0.00</td>  \n",
       "</tr>\n",
       "<tr>\n",
       "  <th>Time:</th>                 <td>16:49:51</td>     <th>  Log-Likelihood:    </th> <td> -20990.</td> \n",
       "</tr>\n",
       "<tr>\n",
       "  <th>No. Observations:</th>      <td>  3476</td>      <th>  AIC:               </th> <td>4.208e+04</td>\n",
       "</tr>\n",
       "<tr>\n",
       "  <th>Df Residuals:</th>          <td>  3424</td>      <th>  BIC:               </th> <td>4.240e+04</td>\n",
       "</tr>\n",
       "<tr>\n",
       "  <th>Df Model:</th>              <td>    51</td>      <th>                     </th>     <td> </td>    \n",
       "</tr>\n",
       "<tr>\n",
       "  <th>Covariance Type:</th>      <td>nonrobust</td>    <th>                     </th>     <td> </td>    \n",
       "</tr>\n",
       "</table>\n",
       "<table class=\"simpletable\">\n",
       "<tr>\n",
       "        <td></td>          <th>coef</th>     <th>std err</th>      <th>t</th>      <th>P>|t|</th>  <th>[0.025</th>    <th>0.975]</th>  \n",
       "</tr>\n",
       "<tr>\n",
       "  <th>temp</th>         <td>   40.3252</td> <td>    4.105</td> <td>    9.822</td> <td> 0.000</td> <td>   32.276</td> <td>   48.375</td>\n",
       "</tr>\n",
       "<tr>\n",
       "  <th>hum</th>          <td>  -14.7914</td> <td>    2.404</td> <td>   -6.152</td> <td> 0.000</td> <td>  -19.505</td> <td>  -10.078</td>\n",
       "</tr>\n",
       "<tr>\n",
       "  <th>windspeed</th>    <td>   -1.3452</td> <td>    1.924</td> <td>   -0.699</td> <td> 0.484</td> <td>   -5.117</td> <td>    2.427</td>\n",
       "</tr>\n",
       "<tr>\n",
       "  <th>season_2</th>     <td>   35.9084</td> <td>   10.739</td> <td>    3.344</td> <td> 0.001</td> <td>   14.853</td> <td>   56.963</td>\n",
       "</tr>\n",
       "<tr>\n",
       "  <th>season_3</th>     <td>   34.7548</td> <td>   13.002</td> <td>    2.673</td> <td> 0.008</td> <td>    9.263</td> <td>   60.247</td>\n",
       "</tr>\n",
       "<tr>\n",
       "  <th>season_4</th>     <td>   71.7850</td> <td>   11.104</td> <td>    6.465</td> <td> 0.000</td> <td>   50.014</td> <td>   93.556</td>\n",
       "</tr>\n",
       "<tr>\n",
       "  <th>yr_1</th>         <td>   85.0945</td> <td>    3.519</td> <td>   24.178</td> <td> 0.000</td> <td>   78.194</td> <td>   91.995</td>\n",
       "</tr>\n",
       "<tr>\n",
       "  <th>mnth_2</th>       <td>    8.6401</td> <td>    9.034</td> <td>    0.956</td> <td> 0.339</td> <td>   -9.073</td> <td>   26.353</td>\n",
       "</tr>\n",
       "<tr>\n",
       "  <th>mnth_3</th>       <td>   19.7616</td> <td>    9.765</td> <td>    2.024</td> <td> 0.043</td> <td>    0.616</td> <td>   38.907</td>\n",
       "</tr>\n",
       "<tr>\n",
       "  <th>mnth_4</th>       <td>   16.3931</td> <td>   14.652</td> <td>    1.119</td> <td> 0.263</td> <td>  -12.335</td> <td>   45.121</td>\n",
       "</tr>\n",
       "<tr>\n",
       "  <th>mnth_5</th>       <td>   35.7545</td> <td>   15.717</td> <td>    2.275</td> <td> 0.023</td> <td>    4.938</td> <td>   66.571</td>\n",
       "</tr>\n",
       "<tr>\n",
       "  <th>mnth_6</th>       <td>   22.4899</td> <td>   16.092</td> <td>    1.398</td> <td> 0.162</td> <td>   -9.062</td> <td>   54.042</td>\n",
       "</tr>\n",
       "<tr>\n",
       "  <th>mnth_7</th>       <td>   10.2197</td> <td>   18.130</td> <td>    0.564</td> <td> 0.573</td> <td>  -25.328</td> <td>   45.767</td>\n",
       "</tr>\n",
       "<tr>\n",
       "  <th>mnth_8</th>       <td>   11.3010</td> <td>   17.697</td> <td>    0.639</td> <td> 0.523</td> <td>  -23.397</td> <td>   45.999</td>\n",
       "</tr>\n",
       "<tr>\n",
       "  <th>mnth_9</th>       <td>   29.2601</td> <td>   15.697</td> <td>    1.864</td> <td> 0.062</td> <td>   -1.517</td> <td>   60.037</td>\n",
       "</tr>\n",
       "<tr>\n",
       "  <th>mnth_10</th>      <td>   37.0080</td> <td>   14.429</td> <td>    2.565</td> <td> 0.010</td> <td>    8.718</td> <td>   65.299</td>\n",
       "</tr>\n",
       "<tr>\n",
       "  <th>mnth_11</th>      <td>    1.3284</td> <td>   14.104</td> <td>    0.094</td> <td> 0.925</td> <td>  -26.325</td> <td>   28.982</td>\n",
       "</tr>\n",
       "<tr>\n",
       "  <th>mnth_12</th>      <td>   -3.8431</td> <td>   11.274</td> <td>   -0.341</td> <td> 0.733</td> <td>  -25.947</td> <td>   18.261</td>\n",
       "</tr>\n",
       "<tr>\n",
       "  <th>hr_1</th>         <td>  -12.6162</td> <td>   12.047</td> <td>   -1.047</td> <td> 0.295</td> <td>  -36.236</td> <td>   11.004</td>\n",
       "</tr>\n",
       "<tr>\n",
       "  <th>hr_2</th>         <td>  -19.9897</td> <td>   12.123</td> <td>   -1.649</td> <td> 0.099</td> <td>  -43.758</td> <td>    3.779</td>\n",
       "</tr>\n",
       "<tr>\n",
       "  <th>hr_3</th>         <td>  -41.1354</td> <td>   12.143</td> <td>   -3.387</td> <td> 0.001</td> <td>  -64.944</td> <td>  -17.326</td>\n",
       "</tr>\n",
       "<tr>\n",
       "  <th>hr_4</th>         <td>  -44.5798</td> <td>   12.102</td> <td>   -3.684</td> <td> 0.000</td> <td>  -68.307</td> <td>  -20.852</td>\n",
       "</tr>\n",
       "<tr>\n",
       "  <th>hr_5</th>         <td>  -30.6293</td> <td>   11.983</td> <td>   -2.556</td> <td> 0.011</td> <td>  -54.125</td> <td>   -7.134</td>\n",
       "</tr>\n",
       "<tr>\n",
       "  <th>hr_6</th>         <td>   38.4007</td> <td>   12.231</td> <td>    3.140</td> <td> 0.002</td> <td>   14.420</td> <td>   62.382</td>\n",
       "</tr>\n",
       "<tr>\n",
       "  <th>hr_7</th>         <td>  184.7978</td> <td>   12.078</td> <td>   15.300</td> <td> 0.000</td> <td>  161.117</td> <td>  208.479</td>\n",
       "</tr>\n",
       "<tr>\n",
       "  <th>hr_8</th>         <td>  277.2199</td> <td>   12.165</td> <td>   22.788</td> <td> 0.000</td> <td>  253.368</td> <td>  301.072</td>\n",
       "</tr>\n",
       "<tr>\n",
       "  <th>hr_9</th>         <td>  169.2628</td> <td>   12.555</td> <td>   13.482</td> <td> 0.000</td> <td>  144.647</td> <td>  193.879</td>\n",
       "</tr>\n",
       "<tr>\n",
       "  <th>hr_10</th>        <td>  116.4020</td> <td>   12.300</td> <td>    9.464</td> <td> 0.000</td> <td>   92.287</td> <td>  140.517</td>\n",
       "</tr>\n",
       "<tr>\n",
       "  <th>hr_11</th>        <td>  130.5947</td> <td>   12.307</td> <td>   10.612</td> <td> 0.000</td> <td>  106.465</td> <td>  154.724</td>\n",
       "</tr>\n",
       "<tr>\n",
       "  <th>hr_12</th>        <td>  168.7284</td> <td>   12.614</td> <td>   13.376</td> <td> 0.000</td> <td>  143.996</td> <td>  193.461</td>\n",
       "</tr>\n",
       "<tr>\n",
       "  <th>hr_13</th>        <td>  164.7255</td> <td>   12.473</td> <td>   13.207</td> <td> 0.000</td> <td>  140.270</td> <td>  189.181</td>\n",
       "</tr>\n",
       "<tr>\n",
       "  <th>hr_14</th>        <td>  162.5089</td> <td>   12.369</td> <td>   13.139</td> <td> 0.000</td> <td>  138.258</td> <td>  186.760</td>\n",
       "</tr>\n",
       "<tr>\n",
       "  <th>hr_15</th>        <td>  165.2119</td> <td>   12.443</td> <td>   13.278</td> <td> 0.000</td> <td>  140.816</td> <td>  189.608</td>\n",
       "</tr>\n",
       "<tr>\n",
       "  <th>hr_16</th>        <td>  242.6892</td> <td>   12.648</td> <td>   19.188</td> <td> 0.000</td> <td>  217.891</td> <td>  267.487</td>\n",
       "</tr>\n",
       "<tr>\n",
       "  <th>hr_17</th>        <td>  402.5835</td> <td>   12.682</td> <td>   31.744</td> <td> 0.000</td> <td>  377.718</td> <td>  427.449</td>\n",
       "</tr>\n",
       "<tr>\n",
       "  <th>hr_18</th>        <td>  382.1540</td> <td>   12.405</td> <td>   30.806</td> <td> 0.000</td> <td>  357.832</td> <td>  406.477</td>\n",
       "</tr>\n",
       "<tr>\n",
       "  <th>hr_19</th>        <td>  232.5407</td> <td>   12.324</td> <td>   18.869</td> <td> 0.000</td> <td>  208.378</td> <td>  256.704</td>\n",
       "</tr>\n",
       "<tr>\n",
       "  <th>hr_20</th>        <td>  164.2599</td> <td>   12.073</td> <td>   13.606</td> <td> 0.000</td> <td>  140.589</td> <td>  187.931</td>\n",
       "</tr>\n",
       "<tr>\n",
       "  <th>hr_21</th>        <td>  114.9259</td> <td>   12.292</td> <td>    9.350</td> <td> 0.000</td> <td>   90.826</td> <td>  139.026</td>\n",
       "</tr>\n",
       "<tr>\n",
       "  <th>hr_22</th>        <td>   71.1129</td> <td>   12.047</td> <td>    5.903</td> <td> 0.000</td> <td>   47.492</td> <td>   94.734</td>\n",
       "</tr>\n",
       "<tr>\n",
       "  <th>hr_23</th>        <td>   31.5332</td> <td>   12.476</td> <td>    2.527</td> <td> 0.012</td> <td>    7.072</td> <td>   55.995</td>\n",
       "</tr>\n",
       "<tr>\n",
       "  <th>holiday_1</th>    <td>   -2.1872</td> <td>   17.618</td> <td>   -0.124</td> <td> 0.901</td> <td>  -36.731</td> <td>   32.356</td>\n",
       "</tr>\n",
       "<tr>\n",
       "  <th>weekday_1</th>    <td>  -23.3530</td> <td>   13.182</td> <td>   -1.772</td> <td> 0.077</td> <td>  -49.198</td> <td>    2.492</td>\n",
       "</tr>\n",
       "<tr>\n",
       "  <th>weekday_2</th>    <td>  -20.6599</td> <td>   12.902</td> <td>   -1.601</td> <td> 0.109</td> <td>  -45.956</td> <td>    4.636</td>\n",
       "</tr>\n",
       "<tr>\n",
       "  <th>weekday_3</th>    <td>  -22.7732</td> <td>   12.873</td> <td>   -1.769</td> <td> 0.077</td> <td>  -48.013</td> <td>    2.466</td>\n",
       "</tr>\n",
       "<tr>\n",
       "  <th>weekday_4</th>    <td>  -19.9344</td> <td>   12.885</td> <td>   -1.547</td> <td> 0.122</td> <td>  -45.198</td> <td>    5.329</td>\n",
       "</tr>\n",
       "<tr>\n",
       "  <th>weekday_5</th>    <td>  -13.9592</td> <td>   13.034</td> <td>   -1.071</td> <td> 0.284</td> <td>  -39.514</td> <td>   11.596</td>\n",
       "</tr>\n",
       "<tr>\n",
       "  <th>weekday_6</th>    <td>   24.0157</td> <td>    6.477</td> <td>    3.708</td> <td> 0.000</td> <td>   11.316</td> <td>   36.715</td>\n",
       "</tr>\n",
       "<tr>\n",
       "  <th>notbizday_1</th>  <td>  -37.4989</td> <td>   12.975</td> <td>   -2.890</td> <td> 0.004</td> <td>  -62.937</td> <td>  -12.060</td>\n",
       "</tr>\n",
       "<tr>\n",
       "  <th>weathersit_2</th> <td>  -14.3511</td> <td>    4.308</td> <td>   -3.332</td> <td> 0.001</td> <td>  -22.797</td> <td>   -5.905</td>\n",
       "</tr>\n",
       "<tr>\n",
       "  <th>weathersit_3</th> <td>  -72.4715</td> <td>    7.301</td> <td>   -9.926</td> <td> 0.000</td> <td>  -86.786</td> <td>  -58.157</td>\n",
       "</tr>\n",
       "<tr>\n",
       "  <th>weathersit_4</th> <td> -101.1758</td> <td>  103.103</td> <td>   -0.981</td> <td> 0.327</td> <td> -303.325</td> <td>  100.973</td>\n",
       "</tr>\n",
       "</table>\n",
       "<table class=\"simpletable\">\n",
       "<tr>\n",
       "  <th>Omnibus:</th>       <td>236.184</td> <th>  Durbin-Watson:     </th> <td>   2.100</td>\n",
       "</tr>\n",
       "<tr>\n",
       "  <th>Prob(Omnibus):</th> <td> 0.000</td>  <th>  Jarque-Bera (JB):  </th> <td> 411.774</td>\n",
       "</tr>\n",
       "<tr>\n",
       "  <th>Skew:</th>          <td> 0.508</td>  <th>  Prob(JB):          </th> <td>3.84e-90</td>\n",
       "</tr>\n",
       "<tr>\n",
       "  <th>Kurtosis:</th>      <td> 4.346</td>  <th>  Cond. No.          </th> <td>    68.3</td>\n",
       "</tr>\n",
       "</table><br/><br/>Notes:<br/>[1] Standard Errors assume that the covariance matrix of the errors is correctly specified."
      ],
      "text/plain": [
       "<class 'statsmodels.iolib.summary.Summary'>\n",
       "\"\"\"\n",
       "                            OLS Regression Results                            \n",
       "==============================================================================\n",
       "Dep. Variable:                    cnt   R-squared:                       0.700\n",
       "Model:                            OLS   Adj. R-squared:                  0.695\n",
       "Method:                 Least Squares   F-statistic:                     156.4\n",
       "Date:                Wed, 16 Mar 2022   Prob (F-statistic):               0.00\n",
       "Time:                        16:49:51   Log-Likelihood:                -20990.\n",
       "No. Observations:                3476   AIC:                         4.208e+04\n",
       "Df Residuals:                    3424   BIC:                         4.240e+04\n",
       "Df Model:                          51                                         \n",
       "Covariance Type:            nonrobust                                         \n",
       "================================================================================\n",
       "                   coef    std err          t      P>|t|      [0.025      0.975]\n",
       "--------------------------------------------------------------------------------\n",
       "temp            40.3252      4.105      9.822      0.000      32.276      48.375\n",
       "hum            -14.7914      2.404     -6.152      0.000     -19.505     -10.078\n",
       "windspeed       -1.3452      1.924     -0.699      0.484      -5.117       2.427\n",
       "season_2        35.9084     10.739      3.344      0.001      14.853      56.963\n",
       "season_3        34.7548     13.002      2.673      0.008       9.263      60.247\n",
       "season_4        71.7850     11.104      6.465      0.000      50.014      93.556\n",
       "yr_1            85.0945      3.519     24.178      0.000      78.194      91.995\n",
       "mnth_2           8.6401      9.034      0.956      0.339      -9.073      26.353\n",
       "mnth_3          19.7616      9.765      2.024      0.043       0.616      38.907\n",
       "mnth_4          16.3931     14.652      1.119      0.263     -12.335      45.121\n",
       "mnth_5          35.7545     15.717      2.275      0.023       4.938      66.571\n",
       "mnth_6          22.4899     16.092      1.398      0.162      -9.062      54.042\n",
       "mnth_7          10.2197     18.130      0.564      0.573     -25.328      45.767\n",
       "mnth_8          11.3010     17.697      0.639      0.523     -23.397      45.999\n",
       "mnth_9          29.2601     15.697      1.864      0.062      -1.517      60.037\n",
       "mnth_10         37.0080     14.429      2.565      0.010       8.718      65.299\n",
       "mnth_11          1.3284     14.104      0.094      0.925     -26.325      28.982\n",
       "mnth_12         -3.8431     11.274     -0.341      0.733     -25.947      18.261\n",
       "hr_1           -12.6162     12.047     -1.047      0.295     -36.236      11.004\n",
       "hr_2           -19.9897     12.123     -1.649      0.099     -43.758       3.779\n",
       "hr_3           -41.1354     12.143     -3.387      0.001     -64.944     -17.326\n",
       "hr_4           -44.5798     12.102     -3.684      0.000     -68.307     -20.852\n",
       "hr_5           -30.6293     11.983     -2.556      0.011     -54.125      -7.134\n",
       "hr_6            38.4007     12.231      3.140      0.002      14.420      62.382\n",
       "hr_7           184.7978     12.078     15.300      0.000     161.117     208.479\n",
       "hr_8           277.2199     12.165     22.788      0.000     253.368     301.072\n",
       "hr_9           169.2628     12.555     13.482      0.000     144.647     193.879\n",
       "hr_10          116.4020     12.300      9.464      0.000      92.287     140.517\n",
       "hr_11          130.5947     12.307     10.612      0.000     106.465     154.724\n",
       "hr_12          168.7284     12.614     13.376      0.000     143.996     193.461\n",
       "hr_13          164.7255     12.473     13.207      0.000     140.270     189.181\n",
       "hr_14          162.5089     12.369     13.139      0.000     138.258     186.760\n",
       "hr_15          165.2119     12.443     13.278      0.000     140.816     189.608\n",
       "hr_16          242.6892     12.648     19.188      0.000     217.891     267.487\n",
       "hr_17          402.5835     12.682     31.744      0.000     377.718     427.449\n",
       "hr_18          382.1540     12.405     30.806      0.000     357.832     406.477\n",
       "hr_19          232.5407     12.324     18.869      0.000     208.378     256.704\n",
       "hr_20          164.2599     12.073     13.606      0.000     140.589     187.931\n",
       "hr_21          114.9259     12.292      9.350      0.000      90.826     139.026\n",
       "hr_22           71.1129     12.047      5.903      0.000      47.492      94.734\n",
       "hr_23           31.5332     12.476      2.527      0.012       7.072      55.995\n",
       "holiday_1       -2.1872     17.618     -0.124      0.901     -36.731      32.356\n",
       "weekday_1      -23.3530     13.182     -1.772      0.077     -49.198       2.492\n",
       "weekday_2      -20.6599     12.902     -1.601      0.109     -45.956       4.636\n",
       "weekday_3      -22.7732     12.873     -1.769      0.077     -48.013       2.466\n",
       "weekday_4      -19.9344     12.885     -1.547      0.122     -45.198       5.329\n",
       "weekday_5      -13.9592     13.034     -1.071      0.284     -39.514      11.596\n",
       "weekday_6       24.0157      6.477      3.708      0.000      11.316      36.715\n",
       "notbizday_1    -37.4989     12.975     -2.890      0.004     -62.937     -12.060\n",
       "weathersit_2   -14.3511      4.308     -3.332      0.001     -22.797      -5.905\n",
       "weathersit_3   -72.4715      7.301     -9.926      0.000     -86.786     -58.157\n",
       "weathersit_4  -101.1758    103.103     -0.981      0.327    -303.325     100.973\n",
       "==============================================================================\n",
       "Omnibus:                      236.184   Durbin-Watson:                   2.100\n",
       "Prob(Omnibus):                  0.000   Jarque-Bera (JB):              411.774\n",
       "Skew:                           0.508   Prob(JB):                     3.84e-90\n",
       "Kurtosis:                       4.346   Cond. No.                         68.3\n",
       "==============================================================================\n",
       "\n",
       "Notes:\n",
       "[1] Standard Errors assume that the covariance matrix of the errors is correctly specified.\n",
       "\"\"\""
      ]
     },
     "execution_count": 123,
     "metadata": {},
     "output_type": "execute_result"
    }
   ],
   "source": [
    "from sklearn.linear_model import LinearRegression\n",
    "import statsmodels.api as sm\n",
    "\n",
    "reg_model = LinearRegression()\n",
    "reg_model.fit(X_train, y_train)\n",
    "\n",
    "X_train_wc = sm.add_constant(X_train)\n",
    "X_test_wc = sm.add_constant(X_test)\n",
    "\n",
    "sm.OLS(y_test, X_test).fit().summary()"
   ]
  },
  {
   "cell_type": "code",
   "execution_count": 124,
   "metadata": {},
   "outputs": [
    {
     "data": {
      "text/plain": [
       "0.6583977754609158"
      ]
     },
     "execution_count": 124,
     "metadata": {},
     "output_type": "execute_result"
    }
   ],
   "source": [
    "KNN_regression = KNeighborsRegressor(n_neighbors=4)\n",
    "KNN_regression.fit(X_train, y_train)\n",
    "\n",
    "KNN_regression.score(X_test, y_test)"
   ]
  },
  {
   "cell_type": "markdown",
   "metadata": {},
   "source": [
    "We used the score function from the KNeighborsRegressor and got an R-squared of .658 which is pretty good. The Regression r-squared was .7 which is just a little better than the KNN regression."
   ]
  },
  {
   "cell_type": "markdown",
   "metadata": {},
   "source": [
    "### Problem 2"
   ]
  },
  {
   "cell_type": "markdown",
   "metadata": {},
   "source": [
    "1. Define a binary target variable overload. Overload=1 if cnt>500 and 0 otherwise. What are the proportions of overload vs non-overload in your data set? Is the target variable balanced or imbalanced?"
   ]
  },
  {
   "cell_type": "code",
   "execution_count": 125,
   "metadata": {},
   "outputs": [
    {
     "data": {
      "text/html": [
       "<div>\n",
       "<style scoped>\n",
       "    .dataframe tbody tr th:only-of-type {\n",
       "        vertical-align: middle;\n",
       "    }\n",
       "\n",
       "    .dataframe tbody tr th {\n",
       "        vertical-align: top;\n",
       "    }\n",
       "\n",
       "    .dataframe thead th {\n",
       "        text-align: right;\n",
       "    }\n",
       "</style>\n",
       "<table border=\"1\" class=\"dataframe\">\n",
       "  <thead>\n",
       "    <tr style=\"text-align: right;\">\n",
       "      <th></th>\n",
       "      <th>temp</th>\n",
       "      <th>hum</th>\n",
       "      <th>windspeed</th>\n",
       "      <th>season_2</th>\n",
       "      <th>season_3</th>\n",
       "      <th>season_4</th>\n",
       "      <th>yr_1</th>\n",
       "      <th>mnth_2</th>\n",
       "      <th>mnth_3</th>\n",
       "      <th>mnth_4</th>\n",
       "      <th>...</th>\n",
       "      <th>weekday_2</th>\n",
       "      <th>weekday_3</th>\n",
       "      <th>weekday_4</th>\n",
       "      <th>weekday_5</th>\n",
       "      <th>weekday_6</th>\n",
       "      <th>notbizday_1</th>\n",
       "      <th>weathersit_2</th>\n",
       "      <th>weathersit_3</th>\n",
       "      <th>weathersit_4</th>\n",
       "      <th>overload</th>\n",
       "    </tr>\n",
       "  </thead>\n",
       "  <tbody>\n",
       "    <tr>\n",
       "      <th>0</th>\n",
       "      <td>-1.334609</td>\n",
       "      <td>0.947345</td>\n",
       "      <td>-1.553844</td>\n",
       "      <td>0</td>\n",
       "      <td>0</td>\n",
       "      <td>0</td>\n",
       "      <td>0</td>\n",
       "      <td>0</td>\n",
       "      <td>0</td>\n",
       "      <td>0</td>\n",
       "      <td>...</td>\n",
       "      <td>0</td>\n",
       "      <td>0</td>\n",
       "      <td>0</td>\n",
       "      <td>0</td>\n",
       "      <td>1</td>\n",
       "      <td>1</td>\n",
       "      <td>0</td>\n",
       "      <td>0</td>\n",
       "      <td>0</td>\n",
       "      <td>0</td>\n",
       "    </tr>\n",
       "    <tr>\n",
       "      <th>1</th>\n",
       "      <td>-1.438475</td>\n",
       "      <td>0.895513</td>\n",
       "      <td>-1.553844</td>\n",
       "      <td>0</td>\n",
       "      <td>0</td>\n",
       "      <td>0</td>\n",
       "      <td>0</td>\n",
       "      <td>0</td>\n",
       "      <td>0</td>\n",
       "      <td>0</td>\n",
       "      <td>...</td>\n",
       "      <td>0</td>\n",
       "      <td>0</td>\n",
       "      <td>0</td>\n",
       "      <td>0</td>\n",
       "      <td>1</td>\n",
       "      <td>1</td>\n",
       "      <td>0</td>\n",
       "      <td>0</td>\n",
       "      <td>0</td>\n",
       "      <td>0</td>\n",
       "    </tr>\n",
       "    <tr>\n",
       "      <th>2</th>\n",
       "      <td>-1.438475</td>\n",
       "      <td>0.895513</td>\n",
       "      <td>-1.553844</td>\n",
       "      <td>0</td>\n",
       "      <td>0</td>\n",
       "      <td>0</td>\n",
       "      <td>0</td>\n",
       "      <td>0</td>\n",
       "      <td>0</td>\n",
       "      <td>0</td>\n",
       "      <td>...</td>\n",
       "      <td>0</td>\n",
       "      <td>0</td>\n",
       "      <td>0</td>\n",
       "      <td>0</td>\n",
       "      <td>1</td>\n",
       "      <td>1</td>\n",
       "      <td>0</td>\n",
       "      <td>0</td>\n",
       "      <td>0</td>\n",
       "      <td>0</td>\n",
       "    </tr>\n",
       "    <tr>\n",
       "      <th>3</th>\n",
       "      <td>-1.334609</td>\n",
       "      <td>0.636351</td>\n",
       "      <td>-1.553844</td>\n",
       "      <td>0</td>\n",
       "      <td>0</td>\n",
       "      <td>0</td>\n",
       "      <td>0</td>\n",
       "      <td>0</td>\n",
       "      <td>0</td>\n",
       "      <td>0</td>\n",
       "      <td>...</td>\n",
       "      <td>0</td>\n",
       "      <td>0</td>\n",
       "      <td>0</td>\n",
       "      <td>0</td>\n",
       "      <td>1</td>\n",
       "      <td>1</td>\n",
       "      <td>0</td>\n",
       "      <td>0</td>\n",
       "      <td>0</td>\n",
       "      <td>0</td>\n",
       "    </tr>\n",
       "    <tr>\n",
       "      <th>4</th>\n",
       "      <td>-1.334609</td>\n",
       "      <td>0.636351</td>\n",
       "      <td>-1.553844</td>\n",
       "      <td>0</td>\n",
       "      <td>0</td>\n",
       "      <td>0</td>\n",
       "      <td>0</td>\n",
       "      <td>0</td>\n",
       "      <td>0</td>\n",
       "      <td>0</td>\n",
       "      <td>...</td>\n",
       "      <td>0</td>\n",
       "      <td>0</td>\n",
       "      <td>0</td>\n",
       "      <td>0</td>\n",
       "      <td>1</td>\n",
       "      <td>1</td>\n",
       "      <td>0</td>\n",
       "      <td>0</td>\n",
       "      <td>0</td>\n",
       "      <td>0</td>\n",
       "    </tr>\n",
       "  </tbody>\n",
       "</table>\n",
       "<p>5 rows × 53 columns</p>\n",
       "</div>"
      ],
      "text/plain": [
       "       temp       hum  windspeed  season_2  season_3  season_4  yr_1  mnth_2  \\\n",
       "0 -1.334609  0.947345  -1.553844         0         0         0     0       0   \n",
       "1 -1.438475  0.895513  -1.553844         0         0         0     0       0   \n",
       "2 -1.438475  0.895513  -1.553844         0         0         0     0       0   \n",
       "3 -1.334609  0.636351  -1.553844         0         0         0     0       0   \n",
       "4 -1.334609  0.636351  -1.553844         0         0         0     0       0   \n",
       "\n",
       "   mnth_3  mnth_4  ...  weekday_2  weekday_3  weekday_4  weekday_5  weekday_6  \\\n",
       "0       0       0  ...          0          0          0          0          1   \n",
       "1       0       0  ...          0          0          0          0          1   \n",
       "2       0       0  ...          0          0          0          0          1   \n",
       "3       0       0  ...          0          0          0          0          1   \n",
       "4       0       0  ...          0          0          0          0          1   \n",
       "\n",
       "   notbizday_1  weathersit_2  weathersit_3  weathersit_4  overload  \n",
       "0            1             0             0             0         0  \n",
       "1            1             0             0             0         0  \n",
       "2            1             0             0             0         0  \n",
       "3            1             0             0             0         0  \n",
       "4            1             0             0             0         0  \n",
       "\n",
       "[5 rows x 53 columns]"
      ]
     },
     "execution_count": 125,
     "metadata": {},
     "output_type": "execute_result"
    }
   ],
   "source": [
    "df['overload'] = np.where(df['cnt'] > 500, 1, 0)\n",
    "df.drop('cnt', axis=1, inplace=True)\n",
    "df.head()"
   ]
  },
  {
   "cell_type": "code",
   "execution_count": 126,
   "metadata": {},
   "outputs": [
    {
     "data": {
      "text/html": [
       "<div>\n",
       "<style scoped>\n",
       "    .dataframe tbody tr th:only-of-type {\n",
       "        vertical-align: middle;\n",
       "    }\n",
       "\n",
       "    .dataframe tbody tr th {\n",
       "        vertical-align: top;\n",
       "    }\n",
       "\n",
       "    .dataframe thead th {\n",
       "        text-align: right;\n",
       "    }\n",
       "</style>\n",
       "<table border=\"1\" class=\"dataframe\">\n",
       "  <thead>\n",
       "    <tr style=\"text-align: right;\">\n",
       "      <th>overload</th>\n",
       "      <th>0</th>\n",
       "      <th>1</th>\n",
       "    </tr>\n",
       "    <tr>\n",
       "      <th>overload</th>\n",
       "      <th></th>\n",
       "      <th></th>\n",
       "    </tr>\n",
       "  </thead>\n",
       "  <tbody>\n",
       "    <tr>\n",
       "      <th>0</th>\n",
       "      <td>92.640543</td>\n",
       "      <td>0.000000</td>\n",
       "    </tr>\n",
       "    <tr>\n",
       "      <th>1</th>\n",
       "      <td>0.000000</td>\n",
       "      <td>7.359457</td>\n",
       "    </tr>\n",
       "  </tbody>\n",
       "</table>\n",
       "</div>"
      ],
      "text/plain": [
       "overload          0         1\n",
       "overload                     \n",
       "0         92.640543  0.000000\n",
       "1          0.000000  7.359457"
      ]
     },
     "execution_count": 126,
     "metadata": {},
     "output_type": "execute_result"
    }
   ],
   "source": [
    "pd.crosstab(df['overload'],df['overload'], normalize='all')*100\n"
   ]
  },
  {
   "cell_type": "markdown",
   "metadata": {},
   "source": [
    "The target variable is very unbalanced. Only 7% of the observations are overload."
   ]
  },
  {
   "cell_type": "markdown",
   "metadata": {},
   "source": [
    "2. Along with the target variable, define your feature space (X) and split the data into test (30%) and train set (70%)"
   ]
  },
  {
   "cell_type": "code",
   "execution_count": 127,
   "metadata": {},
   "outputs": [],
   "source": [
    "y = df['overload']\n",
    "X = df.drop('overload', axis=1)\n",
    "\n",
    "from sklearn.model_selection import train_test_split\n",
    "X_train, X_test, y_train, y_test = train_test_split(X, y, test_size=0.3, random_state=rand_state)"
   ]
  },
  {
   "cell_type": "markdown",
   "metadata": {},
   "source": [
    "3. From sklearn.neighbors import the relevant function for KNN classification. Do the followings: "
   ]
  },
  {
   "cell_type": "code",
   "execution_count": 128,
   "metadata": {},
   "outputs": [],
   "source": [
    "from sklearn.neighbors import KNeighborsClassifier"
   ]
  },
  {
   "cell_type": "markdown",
   "metadata": {},
   "source": [
    "3.1 Train the KNN classification model using its default parameters."
   ]
  },
  {
   "cell_type": "code",
   "execution_count": 129,
   "metadata": {},
   "outputs": [
    {
     "data": {
      "text/plain": [
       "KNeighborsClassifier()"
      ]
     },
     "execution_count": 129,
     "metadata": {},
     "output_type": "execute_result"
    }
   ],
   "source": [
    "KNN_classifier = KNeighborsClassifier()\n",
    "KNN_classifier.fit(X_train, y_train)"
   ]
  },
  {
   "cell_type": "markdown",
   "metadata": {},
   "source": [
    "3.2 Generate the predicted probabilities and predicted classifications and save them as y_hat_probs, y_hat respectively. "
   ]
  },
  {
   "cell_type": "code",
   "execution_count": 130,
   "metadata": {},
   "outputs": [],
   "source": [
    "y_hat      = KNN_classifier.predict(X_test)\n",
    "y_hat_probs = KNN_classifier.predict_proba(X_test)[:,1] "
   ]
  },
  {
   "cell_type": "markdown",
   "metadata": {},
   "source": [
    "3.3 Plot the histogram of y_hat_probs? Explain what you see? Is there a probability threshold at which the model always predict negative or positive?"
   ]
  },
  {
   "cell_type": "code",
   "execution_count": 131,
   "metadata": {},
   "outputs": [
    {
     "data": {
      "image/png": "[encoded data removed]",
      "text/plain": [
       "<Figure size 432x288 with 1 Axes>"
      ]
     },
     "metadata": {},
     "output_type": "display_data"
    }
   ],
   "source": [
    "plt.hist(y_hat_probs)\n",
    "plt.show()"
   ]
  },
  {
   "cell_type": "markdown",
   "metadata": {},
   "source": [
    "The probabilities are right skewed. This means there are lots of observations that have low probabilities of being on overload. There are only a handful that have probabilities greater than .5. It looks like around 85-90% of the data falls below the .5 threshold.If we chooe a threshold of .9 all of the observations would be marked as not overloaded."
   ]
  },
  {
   "cell_type": "markdown",
   "metadata": {},
   "source": [
    "3.4 Generate predicted classifications for two different thresholds (30% and 70% threshold). Save these new predictions as y_hat_30 and y_hat_70. Which threshold should you use if your goal is to avoid too many false negatives? Explain your answer."
   ]
  },
  {
   "cell_type": "code",
   "execution_count": 132,
   "metadata": {},
   "outputs": [],
   "source": [
    "y_hat_30 = np.where(y_hat_probs>0.3,1,0)\n",
    "y_hat_70 = np.where(y_hat_probs>0.7,1,0)"
   ]
  },
  {
   "cell_type": "markdown",
   "metadata": {},
   "source": [
    "Decreasing the threshold decreases the false negatives, so we would pick .3 as our threshold over .7."
   ]
  },
  {
   "cell_type": "markdown",
   "metadata": {},
   "source": [
    "3.5 Construct a data frame named df_predictions with 5 columns. y_test,  and the 4 y_hats from previous parts"
   ]
  },
  {
   "cell_type": "code",
   "execution_count": 133,
   "metadata": {},
   "outputs": [
    {
     "data": {
      "text/html": [
       "<div>\n",
       "<style scoped>\n",
       "    .dataframe tbody tr th:only-of-type {\n",
       "        vertical-align: middle;\n",
       "    }\n",
       "\n",
       "    .dataframe tbody tr th {\n",
       "        vertical-align: top;\n",
       "    }\n",
       "\n",
       "    .dataframe thead th {\n",
       "        text-align: right;\n",
       "    }\n",
       "</style>\n",
       "<table border=\"1\" class=\"dataframe\">\n",
       "  <thead>\n",
       "    <tr style=\"text-align: right;\">\n",
       "      <th></th>\n",
       "      <th>y_test</th>\n",
       "      <th>y_hat_probs</th>\n",
       "      <th>y_hat_30</th>\n",
       "      <th>y_hat_70</th>\n",
       "    </tr>\n",
       "  </thead>\n",
       "  <tbody>\n",
       "    <tr>\n",
       "      <th>4495</th>\n",
       "      <td>0</td>\n",
       "      <td>0.0</td>\n",
       "      <td>0</td>\n",
       "      <td>0</td>\n",
       "    </tr>\n",
       "    <tr>\n",
       "      <th>4418</th>\n",
       "      <td>0</td>\n",
       "      <td>0.0</td>\n",
       "      <td>0</td>\n",
       "      <td>0</td>\n",
       "    </tr>\n",
       "    <tr>\n",
       "      <th>7141</th>\n",
       "      <td>0</td>\n",
       "      <td>0.0</td>\n",
       "      <td>0</td>\n",
       "      <td>0</td>\n",
       "    </tr>\n",
       "    <tr>\n",
       "      <th>14765</th>\n",
       "      <td>0</td>\n",
       "      <td>0.0</td>\n",
       "      <td>0</td>\n",
       "      <td>0</td>\n",
       "    </tr>\n",
       "    <tr>\n",
       "      <th>16541</th>\n",
       "      <td>0</td>\n",
       "      <td>0.0</td>\n",
       "      <td>0</td>\n",
       "      <td>0</td>\n",
       "    </tr>\n",
       "  </tbody>\n",
       "</table>\n",
       "</div>"
      ],
      "text/plain": [
       "       y_test  y_hat_probs  y_hat_30  y_hat_70\n",
       "4495        0          0.0         0         0\n",
       "4418        0          0.0         0         0\n",
       "7141        0          0.0         0         0\n",
       "14765       0          0.0         0         0\n",
       "16541       0          0.0         0         0"
      ]
     },
     "execution_count": 133,
     "metadata": {},
     "output_type": "execute_result"
    }
   ],
   "source": [
    "df_predictions = pd.DataFrame({'y_test':y_test, 'y_hat_probs':y_hat_probs,\n",
    "                               'y_hat_30':y_hat_30, 'y_hat_70':y_hat_70})\n",
    "df_predictions.head()"
   ]
  },
  {
   "cell_type": "markdown",
   "metadata": {},
   "source": [
    "4. Borrow my_KNN_report() function from the python notebook of class 13."
   ]
  },
  {
   "cell_type": "code",
   "execution_count": 134,
   "metadata": {},
   "outputs": [],
   "source": [
    "from sklearn.metrics import confusion_matrix\n",
    "from sklearn.metrics import accuracy_score, recall_score, precision_score, f1_score, matthews_corrcoef\n",
    "\n",
    "\n",
    "\n",
    "def my_KNN_report(X_train, y_train, X_test,y_test, K=5, threshold=0.5, weights='uniform'):\n",
    "    knn= KNeighborsClassifier(n_neighbors=K, weights=weights)\n",
    "    knn.fit(X_train, y_train)\n",
    "    probs = knn.predict_proba(X_test)[:,1]\n",
    "    y_hat = np.where(probs>=threshold,1,0)\n",
    "    \n",
    "    cm = confusion_matrix(y_test, y_hat)\n",
    "    accuracy = round(accuracy_score(y_test,y_hat) ,4)\n",
    "    error_rate = round(1-accuracy,4)\n",
    "    precision = round(precision_score(y_test,y_hat),2)\n",
    "    recall = round(recall_score(y_test,y_hat),2)\n",
    "    f1score = round(f1_score(y_test,y_hat),2)\n",
    "    MCC = round(matthews_corrcoef(y_test,y_hat),2)\n",
    "    cm_labled = pd.DataFrame(cm, index=['Actual : negative ','Actual : positive'], columns=['Predict : negative','Predict :positive '])\n",
    "    \n",
    "    print(\"-----------------------------------------\")\n",
    "    print('Accuracy  = {}'.format(accuracy))\n",
    "    print('Error_rate  = {}'.format(error_rate))\n",
    "    print('Precision = {}'.format(precision))\n",
    "    print('Recall    = {}'.format(recall))\n",
    "    print('f1_score  = {}'.format(f1score))\n",
    "    print('MCC       = {}'.format(MCC))\n",
    "    print(\"-----------------------------------------\")\n",
    "    return cm_labled"
   ]
  },
  {
   "cell_type": "markdown",
   "metadata": {},
   "source": [
    "4.1 Report the Accuracy, precision, recall and f1 score along with the confusion matrix for threshold =0.5. Interpret all these statistics. Do you trust the accuracy of the model? why?"
   ]
  },
  {
   "cell_type": "code",
   "execution_count": 135,
   "metadata": {},
   "outputs": [
    {
     "name": "stdout",
     "output_type": "stream",
     "text": [
      "-----------------------------------------\n",
      "Accuracy  = 0.945\n",
      "Error_rate  = 0.055\n",
      "Precision = 0.82\n",
      "Recall    = 0.35\n",
      "f1_score  = 0.49\n",
      "MCC       = 0.51\n",
      "-----------------------------------------\n"
     ]
    },
    {
     "data": {
      "text/html": [
       "<div>\n",
       "<style scoped>\n",
       "    .dataframe tbody tr th:only-of-type {\n",
       "        vertical-align: middle;\n",
       "    }\n",
       "\n",
       "    .dataframe tbody tr th {\n",
       "        vertical-align: top;\n",
       "    }\n",
       "\n",
       "    .dataframe thead th {\n",
       "        text-align: right;\n",
       "    }\n",
       "</style>\n",
       "<table border=\"1\" class=\"dataframe\">\n",
       "  <thead>\n",
       "    <tr style=\"text-align: right;\">\n",
       "      <th></th>\n",
       "      <th>Predict : negative</th>\n",
       "      <th>Predict :positive</th>\n",
       "    </tr>\n",
       "  </thead>\n",
       "  <tbody>\n",
       "    <tr>\n",
       "      <th>Actual : negative</th>\n",
       "      <td>4788</td>\n",
       "      <td>31</td>\n",
       "    </tr>\n",
       "    <tr>\n",
       "      <th>Actual : positive</th>\n",
       "      <td>256</td>\n",
       "      <td>139</td>\n",
       "    </tr>\n",
       "  </tbody>\n",
       "</table>\n",
       "</div>"
      ],
      "text/plain": [
       "                    Predict : negative  Predict :positive \n",
       "Actual : negative                 4788                  31\n",
       "Actual : positive                  256                 139"
      ]
     },
     "execution_count": 135,
     "metadata": {},
     "output_type": "execute_result"
    }
   ],
   "source": [
    "my_KNN_report(X_train, y_train, X_test,y_test, K=5, threshold=0.5, weights='uniform')"
   ]
  },
  {
   "cell_type": "markdown",
   "metadata": {},
   "source": [
    "The accuracy is .945, precision is .82, recall is .35 and f1 is .49. Our recall is how well our model predicts positives, our recall value is low, so our model is not that good at identifying true positives, it only got about 30% of the true positives. There are a lot of false negatives and the target variable is very unbalanced, so we would not trust this accuracy very much. The precision is fairly high, so our model is predicting positives more often."
   ]
  },
  {
   "cell_type": "markdown",
   "metadata": {},
   "source": [
    "4.2 Now use threshold = 0.3 in the my_logistic_report() function. what happens to accuracy, precision, recall and f1 score? what happens to false negatives? is this consistent with you answer to question 5.4? "
   ]
  },
  {
   "cell_type": "code",
   "execution_count": 136,
   "metadata": {},
   "outputs": [
    {
     "name": "stdout",
     "output_type": "stream",
     "text": [
      "-----------------------------------------\n",
      "Accuracy  = 0.9334\n",
      "Error_rate  = 0.0666\n",
      "Precision = 0.56\n",
      "Recall    = 0.61\n",
      "f1_score  = 0.58\n",
      "MCC       = 0.55\n",
      "-----------------------------------------\n"
     ]
    },
    {
     "data": {
      "text/html": [
       "<div>\n",
       "<style scoped>\n",
       "    .dataframe tbody tr th:only-of-type {\n",
       "        vertical-align: middle;\n",
       "    }\n",
       "\n",
       "    .dataframe tbody tr th {\n",
       "        vertical-align: top;\n",
       "    }\n",
       "\n",
       "    .dataframe thead th {\n",
       "        text-align: right;\n",
       "    }\n",
       "</style>\n",
       "<table border=\"1\" class=\"dataframe\">\n",
       "  <thead>\n",
       "    <tr style=\"text-align: right;\">\n",
       "      <th></th>\n",
       "      <th>Predict : negative</th>\n",
       "      <th>Predict :positive</th>\n",
       "    </tr>\n",
       "  </thead>\n",
       "  <tbody>\n",
       "    <tr>\n",
       "      <th>Actual : negative</th>\n",
       "      <td>4626</td>\n",
       "      <td>193</td>\n",
       "    </tr>\n",
       "    <tr>\n",
       "      <th>Actual : positive</th>\n",
       "      <td>154</td>\n",
       "      <td>241</td>\n",
       "    </tr>\n",
       "  </tbody>\n",
       "</table>\n",
       "</div>"
      ],
      "text/plain": [
       "                    Predict : negative  Predict :positive \n",
       "Actual : negative                 4626                 193\n",
       "Actual : positive                  154                 241"
      ]
     },
     "execution_count": 136,
     "metadata": {},
     "output_type": "execute_result"
    }
   ],
   "source": [
    "my_KNN_report(X_train, y_train, X_test,y_test, K=5, threshold=0.3, weights='uniform')"
   ]
  },
  {
   "cell_type": "markdown",
   "metadata": {},
   "source": [
    "The accuracy decreases and the false negatives increase. This is what we knew would happen when we lowered the threshold. Our recall rose which makes sense because we lowered the threshold which decrease false negatives. Our precision declined quite a bit, which also makes sense because we are lowering the threshold and making it easier to be considered \"positive\". "
   ]
  },
  {
   "cell_type": "markdown",
   "metadata": {},
   "source": [
    "5. Plot the ROC curve and report the AUC score. Is your model doing a better job than random prediction (no skill)?"
   ]
  },
  {
   "cell_type": "code",
   "execution_count": 137,
   "metadata": {},
   "outputs": [
    {
     "name": "stdout",
     "output_type": "stream",
     "text": [
      "No Skill: ROC AUC=0.500\n",
      "KNN: ROC AUC=0.886\n"
     ]
    },
    {
     "data": {
      "image/png": "[encoded data removed]",
      "text/plain": [
       "<Figure size 432x288 with 1 Axes>"
      ]
     },
     "metadata": {},
     "output_type": "display_data"
    }
   ],
   "source": [
    "from sklearn.metrics import accuracy_score, recall_score, precision_score, f1_score\n",
    "from sklearn.metrics import confusion_matrix, classification_report, roc_curve, roc_auc_score\n",
    "\n",
    "ns_probs = [0 for i in range(len(y_test))]\n",
    "lr_probs = KNN_classifier.predict_proba(X_test)[:,1]\n",
    "# calculating scores for no skill and KNN \n",
    "ns_auc = roc_auc_score(y_test, ns_probs)\n",
    "lr_auc = roc_auc_score(y_test, lr_probs)\n",
    "print('No Skill: ROC AUC=%.3f' % (ns_auc))\n",
    "print('KNN: ROC AUC=%.3f' % (lr_auc))\n",
    "\n",
    "# calculate roc curves\n",
    "ns_fpr, ns_tpr, _ = roc_curve(y_test, ns_probs)\n",
    "lr_fpr, lr_tpr, _ = roc_curve(y_test, lr_probs)\n",
    "# plot the roc curve for the model\n",
    "plt.plot(ns_fpr, ns_tpr, linestyle='--', label='No Skill')\n",
    "plt.plot(lr_fpr, lr_tpr, marker='.', label='KNN')\n",
    "# axis labels\n",
    "plt.xlabel('False Positive Rate')\n",
    "plt.ylabel('True Positive Rate')\n",
    "# show the legend\n",
    "plt.legend()\n",
    "# show the plot\n",
    "plt.show()"
   ]
  },
  {
   "cell_type": "markdown",
   "metadata": {},
   "source": [
    "Our AUC is .886, which is greater than .5 which means we are better than just guessing."
   ]
  },
  {
   "cell_type": "markdown",
   "metadata": {},
   "source": [
    "6. Cross validation:"
   ]
  },
  {
   "cell_type": "markdown",
   "metadata": {},
   "source": [
    "6.1 Estimate the error_rate_test by doing a 5 fold cross validation on the train set and name it as error_rate_CV. "
   ]
  },
  {
   "cell_type": "code",
   "execution_count": 138,
   "metadata": {},
   "outputs": [
    {
     "data": {
      "text/plain": [
       "0.0562"
      ]
     },
     "execution_count": 138,
     "metadata": {},
     "output_type": "execute_result"
    }
   ],
   "source": [
    "from sklearn.model_selection import cross_val_score\n",
    "import sklearn.metrics\n",
    "\n",
    "accuracy = cross_val_score(estimator = KNN_classifier, X = X_train, y = y_train, cv = 5 , scoring=\"accuracy\" )\n",
    "error_rate_CV=round((1-accuracy).mean(),4)\n",
    "error_rate_CV"
   ]
  },
  {
   "cell_type": "markdown",
   "metadata": {},
   "source": [
    "6.2 Plot the error_rate_CV vs K and find the optimal value for K in the KNN classification model."
   ]
  },
  {
   "cell_type": "markdown",
   "metadata": {},
   "source": [
    "7. As the manager of Capital Bikeshare, you are dealing with a trade off between unexpected overload cost and cost of idle bikes. If the cost of a single idle bike is smaller than the cost of a single unexpected overload, then which of the following probability thresholds would satisfy your objective? 0.3, 0.5 or 0.7? "
   ]
  },
  {
   "cell_type": "markdown",
   "metadata": {},
   "source": [
    "It costs more when there are unexpected overloads. Unexpected overloads are false non-overloads, or false negatives. We want to decrease these and to do that, we decrease the threshold. So we would pick the .3 threshold."
   ]
  }
 ],
 "metadata": {
  "interpreter": {
   "hash": "713550fe996ccd6bfca49754f8f301cea9aaf39cb14e388a1a9ffc2cf9eed65f"
  },
  "kernelspec": {
   "display_name": "Python 3 (ipykernel)",
   "language": "python",
   "name": "python3"
  },
  "language_info": {
   "codemirror_mode": {
    "name": "ipython",
    "version": 3
   },
   "file_extension": ".py",
   "mimetype": "text/x-python",
   "name": "python",
   "nbconvert_exporter": "python",
   "pygments_lexer": "ipython3",
   "version": "3.9.7"
  }
 },
 "nbformat": 4,
 "nbformat_minor": 4
}
